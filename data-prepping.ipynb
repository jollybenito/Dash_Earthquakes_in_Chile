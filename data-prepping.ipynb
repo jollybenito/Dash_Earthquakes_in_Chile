{
 "cells": [
  {
   "cell_type": "code",
   "execution_count": 1,
   "id": "9d593a39",
   "metadata": {},
   "outputs": [],
   "source": [
    "## import kagglehub\n",
    "# Download latest version\n",
    "## path = kagglehub.dataset_download(\"nicolasgonzalezmunoz/earthquakes-on-chile\")\n",
    "## print(\"Path to dataset files:\", path)"
   ]
  },
  {
   "cell_type": "code",
   "execution_count": 2,
   "id": "a7bca38d",
   "metadata": {},
   "outputs": [
    {
     "data": {
      "text/plain": [
       "'\\nimport pandas as pd\\nimport os\\n\\n# First split the data into multiple files of 500 rows cause geopandas is a bad\\n# library and cant do reverse geocoding. >:(\\n\\ndef split_csv_in_batches(input_csv_path, batch_size=500, output_dir=\"output_batches\"):\\n    # Splits a CSV file into multiple smaller CSV files, each containing a specified number of rows.\\n    if not os.path.exists(output_dir):\\n        os.makedirs(output_dir)\\n    # Read the CSV file in chunks\\n    chunk_iterator = pd.read_csv(input_csv_path, chunksize=batch_size)\\n\\n    file_count = 1\\n    for chunk in chunk_iterator:\\n        output_file_name = f\"batch_{file_count:04d}.csv\"\\n        output_file_path = os.path.join(output_dir, output_file_name)\\n        chunk.to_csv(output_file_path, index=False)\\n        print(f\"Created {output_file_path}\")\\n        file_count += 1\\n\\n# Example usage:\\nsplit_csv_in_batches(\"seismic_data.csv\", batch_size=500, output_dir=\"split_data\")\\n\\n\\n# The third party I used is https://www.geoapify.com/tools/reverse-geocoding-online/\\n'"
      ]
     },
     "execution_count": 2,
     "metadata": {},
     "output_type": "execute_result"
    }
   ],
   "source": [
    "\"\"\"\n",
    "import pandas as pd\n",
    "import os\n",
    "\n",
    "# First split the data into multiple files of 500 rows cause geopandas is a bad\n",
    "# library and cant do reverse geocoding. >:(\n",
    "\n",
    "def split_csv_in_batches(input_csv_path, batch_size=500, output_dir=\"output_batches\"):\n",
    "    # Splits a CSV file into multiple smaller CSV files, each containing a specified number of rows.\n",
    "    if not os.path.exists(output_dir):\n",
    "        os.makedirs(output_dir)\n",
    "    # Read the CSV file in chunks\n",
    "    chunk_iterator = pd.read_csv(input_csv_path, chunksize=batch_size)\n",
    "\n",
    "    file_count = 1\n",
    "    for chunk in chunk_iterator:\n",
    "        output_file_name = f\"batch_{file_count:04d}.csv\"\n",
    "        output_file_path = os.path.join(output_dir, output_file_name)\n",
    "        chunk.to_csv(output_file_path, index=False)\n",
    "        print(f\"Created {output_file_path}\")\n",
    "        file_count += 1\n",
    "\n",
    "# Example usage:\n",
    "split_csv_in_batches(\"seismic_data.csv\", batch_size=500, output_dir=\"split_data\")\n",
    "\n",
    "\n",
    "# The third party I used is https://www.geoapify.com/tools/reverse-geocoding-online/\n",
    "\"\"\""
   ]
  },
  {
   "cell_type": "code",
   "execution_count": 3,
   "id": "4ef3b300",
   "metadata": {},
   "outputs": [
    {
     "data": {
      "text/plain": [
       "'\\nimport pandas as pd\\nfrom glob import glob\\n\\nfolder_path = \\'reversed_data\\'  # Replace with your folder\\'s path\\nfile_pattern = \\'*.csv\\'  # Or \\'*.xlsx\\' for Excel files\\nall_files = glob(f\"{folder_path}/{file_pattern}\")\\ndfs = []\\nfor file in all_files:\\n    if file_pattern.endswith(\\'.csv\\'):\\n        df = pd.read_csv(file)\\n    # Add more conditions for other file types if needed\\n    dfs.append(df)\\nmerged_df = pd.concat(dfs, ignore_index=True)\\n# Keep just the necessary columns\\nmerged_df = merged_df[[\\'original_Date(UTC)\\', \\'original_Latitude\\', \\'original_Longitude\\',\\n           \\'original_Depth\\', \\'original_Magnitude\\', \\'city\\'\\n           ]]\\nmerged_df.to_csv(\"Temp1.csv\", index=False)\\n'"
      ]
     },
     "execution_count": 3,
     "metadata": {},
     "output_type": "execute_result"
    }
   ],
   "source": [
    "\"\"\"\n",
    "import pandas as pd\n",
    "from glob import glob\n",
    "\n",
    "folder_path = 'reversed_data'  # Replace with your folder's path\n",
    "file_pattern = '*.csv'  # Or '*.xlsx' for Excel files\n",
    "all_files = glob(f\"{folder_path}/{file_pattern}\")\n",
    "dfs = []\n",
    "for file in all_files:\n",
    "    if file_pattern.endswith('.csv'):\n",
    "        df = pd.read_csv(file)\n",
    "    # Add more conditions for other file types if needed\n",
    "    dfs.append(df)\n",
    "merged_df = pd.concat(dfs, ignore_index=True)\n",
    "# Keep just the necessary columns\n",
    "merged_df = merged_df[['original_Date(UTC)', 'original_Latitude', 'original_Longitude',\n",
    "           'original_Depth', 'original_Magnitude', 'city'\n",
    "           ]]\n",
    "merged_df.to_csv(\"Temp1.csv\", index=False)\n",
    "\"\"\""
   ]
  },
  {
   "cell_type": "code",
   "execution_count": 4,
   "id": "2bdb094d",
   "metadata": {},
   "outputs": [
    {
     "data": {
      "text/plain": [
       "'\\nimport pandas as pd\\nimport geopandas as gpd\\nfrom geodatasets import get_path\\nimport matplotlib.pyplot as plt\\nfrom datetime import timedelta\\nfrom shapely.geometry import Polygon\\n\\n# Read the data sources\\ndf = pd.read_csv(\"Temp1.csv\")\\ntectonic = pd.read_csv(\"tectonic_plates.csv\")\\n\\n# Rename the main variables to use in our main dataset\\ndf.columns = [\\'Date\\', \\'Latitude\\', \\'Longitude\\', \\'Depth\\', \\n              \\'Magnitude\\', \\'City\\']\\n\\n#Load a map of the earth\\nworld = gpd.read_file(get_path(\"naturalearth.land\"))\\n\\n# Turn the coordinates of the tectonic plates into Geopanda Points\\ntectonic[\\'Geometry\\'] = gpd.points_from_xy(tectonic.lon, tectonic.lat)\\n# Turn the coordinates of the earthquakes into Geopanda Points\\ndf[\\'Geometry\\'] = gpd.points_from_xy(df.Longitude, df.Latitude)\\n\\n# Create a loop to create polygons for each tectonic plate\\n# And also determines to which tectonic plate each earthquake belongs to\\ntectonic[\"Polygon_plate\"] = \"\"\\ndf[\\'Name_Plate\\'] = \"\"\\nfor i in tectonic.plate.unique():\\n    df_1 = tectonic[tectonic.plate == i]\\n    # Define the polygon boundary for each tectonic plate\\n    polygon = Polygon(zip(df_1.lon.tolist(), df_1.lat.tolist()))\\n    tectonic[tectonic.plate == i][\"Polygon_plate\"] = polygon\\n    for x in range(df.shape[0]):\\n        if df.loc[x, \\'Name_Plate\\'] == \"\":\\n            # Check if the polygon contains the points\\n            if polygon.contains(df[\\'Geometry\\'][x]):\\n                df.loc[x, \\'Name_Plate\\'] = i\\n                df.loc[x, \\'Polygon_plate\\'] = polygon\\n        else:\\n            pass\\n\\n# Turn the date column into datetime format\\ndf.Date = pd.to_datetime(df.Date)\\n# Sort by \\'Age\\' in ascending order\\ndf = df.sort_values(by=\\'Date\\')\\n# Extract year and month\\ndf[\\'Year\\'] = df[\\'Date\\'].dt.year\\ndf[\\'Month\\'] = df[\\'Date\\'].dt.month\\ndf[\\'Day\\'] = df[\\'Date\\'].dt.day\\ndf[\\'Hour\\'] = df[\\'Date\\'].dt.hour\\ndf[\\'Minute\\'] = df[\\'Date\\'].dt.minute\\n\\n# Fill NaT with timedelta(0) and get total minutes\\ndfs = []\\ndf[\"Hours between earthquakes\"] = \"\"\\nfor i in df.Name_Plate.unique():\\n    df_2 = df[df[\"Name_Plate\"]==i]\\n    df_2[\\'Hours between earthquakes\\'] = df_2[\\'Date\\'].diff().fillna(timedelta(0)).apply(lambda x: x.total_seconds() / 3600)\\n    # Add more conditions for other file types if needed\\n    dfs.append(df_2)\\nmerged_df = pd.concat(dfs, ignore_index=True)\\nmerged_df.to_csv(\"Temp2.csv\", index=False)\\n'"
      ]
     },
     "execution_count": 4,
     "metadata": {},
     "output_type": "execute_result"
    }
   ],
   "source": [
    "\"\"\"\n",
    "import pandas as pd\n",
    "import geopandas as gpd\n",
    "from geodatasets import get_path\n",
    "import matplotlib.pyplot as plt\n",
    "from datetime import timedelta\n",
    "from shapely.geometry import Polygon\n",
    "\n",
    "# Read the data sources\n",
    "df = pd.read_csv(\"Temp1.csv\")\n",
    "tectonic = pd.read_csv(\"tectonic_plates.csv\")\n",
    "\n",
    "# Rename the main variables to use in our main dataset\n",
    "df.columns = ['Date', 'Latitude', 'Longitude', 'Depth', \n",
    "              'Magnitude', 'City']\n",
    "\n",
    "#Load a map of the earth\n",
    "world = gpd.read_file(get_path(\"naturalearth.land\"))\n",
    "\n",
    "# Turn the coordinates of the tectonic plates into Geopanda Points\n",
    "tectonic['Geometry'] = gpd.points_from_xy(tectonic.lon, tectonic.lat)\n",
    "# Turn the coordinates of the earthquakes into Geopanda Points\n",
    "df['Geometry'] = gpd.points_from_xy(df.Longitude, df.Latitude)\n",
    "\n",
    "# Create a loop to create polygons for each tectonic plate\n",
    "# And also determines to which tectonic plate each earthquake belongs to\n",
    "tectonic[\"Polygon_plate\"] = \"\"\n",
    "df['Name_Plate'] = \"\"\n",
    "for i in tectonic.plate.unique():\n",
    "    df_1 = tectonic[tectonic.plate == i]\n",
    "    # Define the polygon boundary for each tectonic plate\n",
    "    polygon = Polygon(zip(df_1.lon.tolist(), df_1.lat.tolist()))\n",
    "    tectonic[tectonic.plate == i][\"Polygon_plate\"] = polygon\n",
    "    for x in range(df.shape[0]):\n",
    "        if df.loc[x, 'Name_Plate'] == \"\":\n",
    "            # Check if the polygon contains the points\n",
    "            if polygon.contains(df['Geometry'][x]):\n",
    "                df.loc[x, 'Name_Plate'] = i\n",
    "                df.loc[x, 'Polygon_plate'] = polygon\n",
    "        else:\n",
    "            pass\n",
    "\n",
    "# Turn the date column into datetime format\n",
    "df.Date = pd.to_datetime(df.Date)\n",
    "# Sort by 'Age' in ascending order\n",
    "df = df.sort_values(by='Date')\n",
    "# Extract year and month\n",
    "df['Year'] = df['Date'].dt.year\n",
    "df['Month'] = df['Date'].dt.month\n",
    "df['Day'] = df['Date'].dt.day\n",
    "df['Hour'] = df['Date'].dt.hour\n",
    "df['Minute'] = df['Date'].dt.minute\n",
    "\n",
    "# Fill NaT with timedelta(0) and get total minutes\n",
    "dfs = []\n",
    "df[\"Hours between earthquakes\"] = \"\"\n",
    "for i in df.Name_Plate.unique():\n",
    "    df_2 = df[df[\"Name_Plate\"]==i]\n",
    "    df_2['Hours between earthquakes'] = df_2['Date'].diff().fillna(timedelta(0)).apply(lambda x: x.total_seconds() / 3600)\n",
    "    # Add more conditions for other file types if needed\n",
    "    dfs.append(df_2)\n",
    "merged_df = pd.concat(dfs, ignore_index=True)\n",
    "merged_df.to_csv(\"Temp2.csv\", index=False)\n",
    "\"\"\""
   ]
  },
  {
   "cell_type": "code",
   "execution_count": 5,
   "id": "2cd6f8d3",
   "metadata": {},
   "outputs": [],
   "source": [
    "import pandas as pd\n",
    "import geopandas as gpd\n",
    "from geodatasets import get_path\n",
    "import matplotlib.pyplot as plt\n",
    "from datetime import timedelta\n",
    "from shapely.geometry import Polygon\n",
    "\n",
    "merged_df=pd.read_csv(\"Temp2.csv\")\n",
    "merged_df[\"Date\"] = pd.to_datetime(merged_df[\"Date\"])\n",
    "merged_df[\"Date\"] = merged_df[\"Date\"].dt.date\n",
    "merged_df = merged_df.dropna(subset=[\"City\"])\n",
    "merged_df = merged_df[['Date', 'City', 'Latitude', 'Longitude', \n",
    "                       'Magnitude', 'Geometry', 'Name_Plate', 'Polygon_plate',]]\n",
    "# Group by 'Date' and 'City', then join the 'Magnitude',  values\n",
    "#df_combined = merged_df.groupby(['Date', 'City'])['Magnitude'].apply(lambda x: ', '.join(str(x))).reset_index()\n",
    "# Example: sum of magnitudes\n",
    "df_combined1 = merged_df.groupby(['Date', 'Name_Plate'], as_index=False)['Magnitude'].mean()\n",
    "df_combined2 = merged_df.groupby(['Date', 'Name_Plate'], as_index=False)['Magnitude'].count()\n",
    "df_2 = pd.merge(df_combined2, df_combined1, how = \"left\", on = ['Date', 'Name_Plate'])\n",
    "df_2 = pd.merge(df_2, merged_df, how = \"left\", on = ['Date', 'Name_Plate'])\n",
    "df_2.columns = ['Date', 'Name_Plate', 'Count_Quakes', \n",
    "                'Magnitude_Mean', 'City', 'Latitude', 'Longitude', 'Magnitude',\n",
    "                'Geometry', 'Polygon_plate',]\n",
    "df_dictionary = df_2[['City', 'Latitude', 'Longitude', \n",
    "        'Geometry', 'Name_Plate', 'Polygon_plate']].drop_duplicates(subset='Name_Plate', keep='first')"
   ]
  },
  {
   "cell_type": "code",
   "execution_count": 6,
   "id": "1c88c067",
   "metadata": {},
   "outputs": [],
   "source": [
    "# Not shown here, but I did try to fit the model to\n",
    "# A random forest regressor, linear regression and \n",
    "# to an exponential distribution\n",
    "# For the random forests I got the following results:\n",
    "# Squared Error: 6456.824756448705\n",
    "# Squared Error: 15165.083872640633\n",
    "# Squared Error: 38848.87231248201\n",
    "# Squared Error: 282088.9955848992\n",
    "# Squared Error: 568939983.2155479\n",
    "\n",
    "# None of the models worked so I switched to time series:"
   ]
  },
  {
   "cell_type": "code",
   "execution_count": 7,
   "id": "3625062e",
   "metadata": {},
   "outputs": [],
   "source": [
    "import pandas as pd\n",
    "\n",
    "start = \"2012-01-01\"\n",
    "end = \"2025-12-31\"\n",
    "dfs = []\n",
    "for i in merged_df[\"Name_Plate\"].unique():\n",
    "    df = pd.DataFrame({\"Date\": pd.date_range(start=start, end=end)})\n",
    "    df[\"Name_Plate\"] = i\n",
    "    dfs.append(df)\n",
    "new_df = pd.concat(dfs, ignore_index=True)"
   ]
  },
  {
   "cell_type": "code",
   "execution_count": 8,
   "id": "a7b4d5f7",
   "metadata": {},
   "outputs": [],
   "source": [
    "df_2[\"Date\"] = pd.to_datetime(df_2[\"Date\"]).dt.date   # makes it `object` with date\n",
    "new_df[\"Date\"] = pd.to_datetime(new_df[\"Date\"]).dt.date\n",
    "new_df = new_df.merge(df_2[[\"Date\", \"Name_Plate\", \"Count_Quakes\", \"Magnitude_Mean\"]], how=\"left\", on=[\"Date\", \"Name_Plate\"])\n",
    "new_df = new_df.fillna(0)"
   ]
  },
  {
   "cell_type": "code",
   "execution_count": 9,
   "id": "ab1cad0e",
   "metadata": {},
   "outputs": [],
   "source": [
    "import numpy as np\n",
    "from sklearn.datasets import load_linnerud\n",
    "from sklearn.multioutput import MultiOutputRegressor\n",
    "from sklearn.linear_model import Ridge\n",
    "# Extract year and month\n",
    "df_2['Date'] = pd.to_datetime(df_2['Date'])\n",
    "df_2['Year'] = df_2['Date'].dt.year\n",
    "df_2['Month'] = df_2['Date'].dt.month\n",
    "df_2['Day'] = df_2['Date'].dt.day\n",
    "df_2['Hour'] = df_2['Date'].dt.hour\n",
    "df_2['Minute'] = df_2['Date'].dt.minute"
   ]
  },
  {
   "cell_type": "code",
   "execution_count": 10,
   "id": "f6713ffb",
   "metadata": {},
   "outputs": [
    {
     "data": {
      "image/png": "[encoded data removed]",
      "text/plain": [
       "<Figure size 640x480 with 1 Axes>"
      ]
     },
     "metadata": {},
     "output_type": "display_data"
    }
   ],
   "source": [
    "from sklearn.ensemble import RandomForestRegressor\n",
    "from sklearn.model_selection import train_test_split\n",
    "from sklearn.multioutput import MultiOutputRegressor\n",
    "\n",
    "# Create a random dataset\n",
    "X = df_2[['Latitude', 'Longitude', 'Year', 'Month', 'Day']]\n",
    "y = df_2[['Count_Quakes', 'Magnitude_Mean']]\n",
    "#y += 0.5 - rng.rand(*y.shape)\n",
    "\n",
    "X_train, X_test, y_train, y_test = train_test_split(\n",
    "    X, y, train_size=400, test_size=200, random_state=4\n",
    ")\n",
    "\n",
    "max_depth = 30\n",
    "regr_rf = RandomForestRegressor(n_estimators=100, max_depth=max_depth, random_state=2)\n",
    "regr_rf.fit(X_train, y_train)\n",
    "\n",
    "# Predict on new data\n",
    "y_rf = regr_rf.predict(X_test)\n",
    "\n",
    "# Plot the results\n",
    "plt.figure()\n",
    "s = 50\n",
    "a = 0.4\n",
    "plt.scatter(\n",
    "    y_test.iloc[:, 0],\n",
    "    y_test.iloc[:, 1],\n",
    "    edgecolor=\"k\",\n",
    "    c=\"navy\",\n",
    "    s=s,\n",
    "    marker=\"s\",\n",
    "    alpha=a,\n",
    "    label=\"Data\",\n",
    ")\n",
    "plt.scatter(\n",
    "    y_rf[:, 0],\n",
    "    y_rf[:, 1],\n",
    "    edgecolor=\"k\",\n",
    "    c=\"c\",\n",
    "    s=s,\n",
    "    marker=\"^\",\n",
    "    alpha=a,\n",
    "    label=\"RF score=%.2f\" % regr_rf.score(X_test, y_test),\n",
    ")\n",
    "plt.xlim([0, 7])\n",
    "plt.ylim([2, 9])\n",
    "plt.xlabel(\"target 1\")\n",
    "plt.ylabel(\"target 2\")\n",
    "plt.title(\"Comparing random forests and the multi-output meta estimator\")\n",
    "plt.legend()\n",
    "plt.show()"
   ]
  },
  {
   "cell_type": "code",
   "execution_count": 11,
   "id": "78aed849",
   "metadata": {},
   "outputs": [],
   "source": [
    "import pandas as pd\n",
    "from datetime import date\n",
    "\n",
    "start = date.today()\n",
    "# Add one week using timedelta\n",
    "end = start + timedelta(weeks=1)\n",
    "\n",
    "dfs = []\n",
    "for i in df_2[\"Name_Plate\"].unique():\n",
    "    df = pd.DataFrame({\"Date\": pd.date_range(start=start, end=end)})\n",
    "    df[['Name_Plate', 'City','Latitude', \n",
    "          'Longitude', 'Geometry', 'Polygon_plate']] = df_2[df_2.Name_Plate == i].reset_index(drop=True).loc[:7,['Name_Plate', 'City',\n",
    "       'Latitude', 'Longitude', 'Geometry', 'Polygon_plate']]\n",
    "    df['Year'] = df['Date'].dt.year\n",
    "    df['Month'] = df['Date'].dt.month\n",
    "    df['Day'] = df['Date'].dt.day\n",
    "    df['Hour'] = df['Date'].dt.hour\n",
    "    df['Minute'] = df['Date'].dt.minute     \n",
    "    dfs.append(df)\n",
    "merged_df = pd.concat(dfs, ignore_index=True)"
   ]
  },
  {
   "cell_type": "code",
   "execution_count": null,
   "id": "d3a2847f",
   "metadata": {},
   "outputs": [],
   "source": [
    "# Create a random dataset\n",
    "X_1 = merged_df[['Latitude', 'Longitude', 'Year', 'Month', 'Day']]\n",
    "# y = df_2[['Count_Quakes', 'Magnitude_Mean']]\n",
    "# Predict on new data\n",
    "y_1 = regr_rf.predict(X_1)\n",
    "merged_df[['Count_Quakes', 'Magnitude_Mean']] = y_1\n",
    "merged_df['IsPrediction']=\"royalblue\"\n",
    "df_2['IsPrediction']=\"red\"\n",
    "merged_df.to_csv(\"Temp3.csv\", index=False)"
   ]
  },
  {
   "cell_type": "code",
   "execution_count": null,
   "id": "9e5e2a61",
   "metadata": {},
   "outputs": [],
   "source": [
    "end_df = pd.concat([df_2[['Date', 'Name_Plate', 'City', 'Latitude', 'Longitude', 'Geometry',\n",
    "       'Polygon_plate', 'Year', 'Month', 'Day', 'Hour', 'Minute', 'Count_Quakes', 'Magnitude_Mean', 'IsPrediction']],merged_df])\n",
    "end_df.to_csv(\"Result.csv\", index=False)"
   ]
  },
  {
   "cell_type": "code",
   "execution_count": 15,
   "id": "00eb11e7",
   "metadata": {},
   "outputs": [
    {
     "data": {
      "text/plain": [
       "array([nan, 'royalblue'], dtype=object)"
      ]
     },
     "execution_count": 15,
     "metadata": {},
     "output_type": "execute_result"
    }
   ],
   "source": [
    "end_df.IsPrediction.unique()"
   ]
  },
  {
   "cell_type": "code",
   "execution_count": null,
   "id": "7c836128",
   "metadata": {},
   "outputs": [
    {
     "data": {
      "application/vnd.plotly.v1+json": {
       "config": {
        "plotlyServerURL": "https://plot.ly"
       },
       "data": [
        {
         "customdata": [
          [
           -70.06,
           -21.6,
           "Ciudad: Tocopilla,\n Number of Quakes: 1.0,\n Magnitude of Quakes: 5.3"
          ],
          [
           -69.25,
           -19.74,
           "Ciudad: Huara,\n Number of Quakes: 1.0,\n Magnitude of Quakes: 5.3"
          ],
          [
           -69.75,
           -25,
           "Ciudad: Taltal,\n Number of Quakes: 1.0,\n Magnitude of Quakes: 5.0"
          ],
          [
           -71.06,
           -33.05,
           "Ciudad: Olmué,\n Number of Quakes: 1.0,\n Magnitude of Quakes: 5.2"
          ],
          [
           -70.24,
           -18.11,
           "Ciudad: Coronel Gregorio Albarracín Lanchipa,\n Number of Quakes: 1.0,\n Magnitude of Quakes: 6.4"
          ],
          [
           -70.58,
           -27.88,
           "Ciudad: Copiapó,\n Number of Quakes: 1.0,\n Magnitude of Quakes: 5.5"
          ],
          [
           -69.42,
           -23.74,
           "Ciudad: Antofagasta,\n Number of Quakes: 1.0,\n Magnitude of Quakes: 5.0"
          ],
          [
           -69.33,
           -19.72,
           "Ciudad: Huara,\n Number of Quakes: 1.0,\n Magnitude of Quakes: 5.4"
          ],
          [
           -68.54,
           -21.83,
           "Ciudad: Calama,\n Number of Quakes: 1.0,\n Magnitude of Quakes: 5.7"
          ],
          [
           -70.65,
           -32.88,
           "Ciudad: Calle Larga,\n Number of Quakes: 1.0,\n Magnitude of Quakes: 5.7"
          ],
          [
           -69.03,
           -20.54,
           "Ciudad: Pica,\n Number of Quakes: 1.0,\n Magnitude of Quakes: 5.1"
          ],
          [
           -71.23,
           -29.24,
           "Ciudad: La Higuera,\n Number of Quakes: 1.0,\n Magnitude of Quakes: 5.7"
          ],
          [
           -69.49,
           -21.51,
           "Ciudad: Pozo Almonte,\n Number of Quakes: 1.0,\n Magnitude of Quakes: 5.3"
          ],
          [
           -69.67,
           -20.81,
           "Ciudad: Pozo Almonte,\n Number of Quakes: 1.0,\n Magnitude of Quakes: 5.1"
          ],
          [
           -69.31,
           -20.12,
           "Ciudad: Pozo Almonte,\n Number of Quakes: 1.0,\n Magnitude of Quakes: 5.5"
          ],
          [
           -69.52,
           -19.37,
           "Ciudad: Camiña,\n Number of Quakes: 1.0,\n Magnitude of Quakes: 5.7"
          ],
          [
           -68.86,
           -22.28,
           "Ciudad: Calama,\n Number of Quakes: 1.0,\n Magnitude of Quakes: 5.7"
          ],
          [
           -69.3,
           -19.62,
           "Ciudad: Huara,\n Number of Quakes: 1.0,\n Magnitude of Quakes: 5.2"
          ],
          [
           -71.28,
           -30.7,
           "Ciudad: Ovalle,\n Number of Quakes: 1.0,\n Magnitude of Quakes: 5.0"
          ],
          [
           -71.5,
           -30.37,
           "Ciudad: Coquimbo,\n Number of Quakes: 1.0,\n Magnitude of Quakes: 6.5"
          ],
          [
           -71.61,
           -30.54,
           "Ciudad: Ovalle,\n Number of Quakes: 1.0,\n Magnitude of Quakes: 4.2"
          ],
          [
           -69.3,
           -24.58,
           "Ciudad: Antofagasta,\n Number of Quakes: 1.0,\n Magnitude of Quakes: 5.5"
          ],
          [
           -70.62,
           -32.87,
           "Ciudad: Los Andes,\n Number of Quakes: 1.0,\n Magnitude of Quakes: 5.0"
          ],
          [
           -71.39,
           -32.96,
           "Ciudad: Limache,\n Number of Quakes: 1.0,\n Magnitude of Quakes: 4.9"
          ],
          [
           -69.73,
           -20.99,
           "Ciudad: Pozo Almonte,\n Number of Quakes: 1.0,\n Magnitude of Quakes: 5.2"
          ],
          [
           -69.6,
           -18.56,
           "Ciudad: Putre,\n Number of Quakes: 1.0,\n Magnitude of Quakes: 5.3"
          ],
          [
           -69.52,
           -21.38,
           "Ciudad: Pozo Almonte,\n Number of Quakes: 1.0,\n Magnitude of Quakes: 5.2"
          ],
          [
           -71.66,
           -34.77,
           "Ciudad: Lolol,\n Number of Quakes: 1.0,\n Magnitude of Quakes: 5.2"
          ],
          [
           -68.81,
           -22.35,
           "Ciudad: Calama,\n Number of Quakes: 1.0,\n Magnitude of Quakes: 5.7"
          ],
          [
           -68.78,
           -23.85,
           "Ciudad: Sierra Gorda,\n Number of Quakes: 1.0,\n Magnitude of Quakes: 5.3"
          ],
          [
           -69.33,
           -19.16,
           "Ciudad: Camiña,\n Number of Quakes: 1.0,\n Magnitude of Quakes: 4.2"
          ],
          [
           -69.45,
           -19.46,
           "Ciudad: Camiña,\n Number of Quakes: 1.0,\n Magnitude of Quakes: 4.9"
          ],
          [
           -69.25,
           -24.03,
           "Ciudad: Antofagasta,\n Number of Quakes: 1.0,\n Magnitude of Quakes: 5.4"
          ],
          [
           -69.17,
           -19.51,
           "Ciudad: Huara,\n Number of Quakes: 1.0,\n Magnitude of Quakes: 5.6"
          ],
          [
           -69.97,
           -19.75,
           "Ciudad: Huara,\n Number of Quakes: 3.0,\n Magnitude of Quakes: 4.5"
          ],
          [
           -70.1,
           -20.15,
           "Ciudad: Alto Hospicio,\n Number of Quakes: 3.0,\n Magnitude of Quakes: 4.5"
          ],
          [
           -70.08,
           -19.89,
           "Ciudad: Huara,\n Number of Quakes: 3.0,\n Magnitude of Quakes: 4.5"
          ],
          [
           -69.92,
           -20.34,
           "Ciudad: Pozo Almonte,\n Number of Quakes: 1.0,\n Magnitude of Quakes: 4.0"
          ],
          [
           -70.64,
           -31.48,
           "Ciudad: Illapel,\n Number of Quakes: 1.0,\n Magnitude of Quakes: 5.4"
          ],
          [
           -69.95,
           -20.35,
           "Ciudad: Pozo Almonte,\n Number of Quakes: 2.0,\n Magnitude of Quakes: 4.15"
          ],
          [
           -70.03,
           -20.28,
           "Ciudad: Alto Hospicio,\n Number of Quakes: 2.0,\n Magnitude of Quakes: 4.15"
          ],
          [
           -71.3,
           -32.67,
           "Ciudad: Nogales,\n Number of Quakes: 1.0,\n Magnitude of Quakes: 5.7"
          ],
          [
           -69.89,
           -20.36,
           "Ciudad: Pozo Almonte,\n Number of Quakes: 1.0,\n Magnitude of Quakes: 4.0"
          ],
          [
           -70.11,
           -19.99,
           "Ciudad: Huara,\n Number of Quakes: 1.0,\n Magnitude of Quakes: 4.3"
          ],
          [
           -68.92,
           -23.25,
           "Ciudad: Sierra Gorda,\n Number of Quakes: 1.0,\n Magnitude of Quakes: 4.4"
          ],
          [
           -68.62,
           -21.16,
           "Ciudad: Calama,\n Number of Quakes: 1.0,\n Magnitude of Quakes: 4.5"
          ],
          [
           -69.09,
           -22.53,
           "Ciudad: Calama,\n Number of Quakes: 1.0,\n Magnitude of Quakes: 5.2"
          ],
          [
           -69.15,
           -20.01,
           "Ciudad: Pozo Almonte,\n Number of Quakes: 2.0,\n Magnitude of Quakes: 4.25"
          ],
          [
           -69.36,
           -18.08,
           "Ciudad: Putre,\n Number of Quakes: 2.0,\n Magnitude of Quakes: 4.25"
          ],
          [
           -68.19,
           -20.23,
           "Ciudad: Municipio Llica,\n Number of Quakes: 1.0,\n Magnitude of Quakes: 5.1"
          ],
          [
           -68.79,
           -22.3,
           "Ciudad: Calama,\n Number of Quakes: 1.0,\n Magnitude of Quakes: 4.5"
          ],
          [
           -71.69,
           -34.71,
           "Ciudad: Lolol,\n Number of Quakes: 1.0,\n Magnitude of Quakes: 4.8"
          ],
          [
           -69.23,
           -20.17,
           "Ciudad: Pozo Almonte,\n Number of Quakes: 1.0,\n Magnitude of Quakes: 4.6"
          ],
          [
           -69.47,
           -18.94,
           "Ciudad: Camarones,\n Number of Quakes: 1.0,\n Magnitude of Quakes: 4.0"
          ],
          [
           -71.23,
           -29.63,
           "Ciudad: La Higuera,\n Number of Quakes: 1.0,\n Magnitude of Quakes: 4.3"
          ],
          [
           -66.86,
           -22.77,
           "Ciudad: Municipio de Mina Pirquitas,\n Number of Quakes: 1.0,\n Magnitude of Quakes: 5.8"
          ],
          [
           -68.85,
           -23.5,
           "Ciudad: Sierra Gorda,\n Number of Quakes: 2.0,\n Magnitude of Quakes: 5.5"
          ],
          [
           -68.86,
           -23.49,
           "Ciudad: Sierra Gorda,\n Number of Quakes: 2.0,\n Magnitude of Quakes: 5.5"
          ],
          [
           -71.15,
           -32.81,
           "Ciudad: Hijuelas,\n Number of Quakes: 1.0,\n Magnitude of Quakes: 4.0"
          ],
          [
           -71.31,
           -30.45,
           "Ciudad: Ovalle,\n Number of Quakes: 1.0,\n Magnitude of Quakes: 5.6"
          ],
          [
           -69.89,
           -20.33,
           "Ciudad: Pozo Almonte,\n Number of Quakes: 1.0,\n Magnitude of Quakes: 4.1"
          ],
          [
           -68.88,
           -23.41,
           "Ciudad: Sierra Gorda,\n Number of Quakes: 1.0,\n Magnitude of Quakes: 4.0"
          ],
          [
           -69.97,
           -21.31,
           "Ciudad: Iquique,\n Number of Quakes: 4.0,\n Magnitude of Quakes: 5.375"
          ],
          [
           -69.98,
           -21.31,
           "Ciudad: Iquique,\n Number of Quakes: 4.0,\n Magnitude of Quakes: 5.375"
          ],
          [
           -70,
           -21.3,
           "Ciudad: Iquique,\n Number of Quakes: 4.0,\n Magnitude of Quakes: 5.375"
          ],
          [
           -70,
           -21.3,
           "Ciudad: Iquique,\n Number of Quakes: 4.0,\n Magnitude of Quakes: 5.375"
          ],
          [
           -69.54,
           -22.63,
           "Ciudad: María Elena,\n Number of Quakes: 1.0,\n Magnitude of Quakes: 4.0"
          ],
          [
           -71.4,
           -28.96,
           "Ciudad: Freirina,\n Number of Quakes: 1.0,\n Magnitude of Quakes: 4.7"
          ],
          [
           -71.79,
           -35.2,
           "Ciudad: Pencahue,\n Number of Quakes: 1.0,\n Magnitude of Quakes: 4.6"
          ],
          [
           -70.56,
           -30.75,
           "Ciudad: Monte Patria,\n Number of Quakes: 1.0,\n Magnitude of Quakes: 5.1"
          ],
          [
           -69.4,
           -24.94,
           "Ciudad: Taltal,\n Number of Quakes: 1.0,\n Magnitude of Quakes: 5.5"
          ],
          [
           -71.46,
           -32.65,
           "Ciudad: Maitencillo,\n Number of Quakes: 1.0,\n Magnitude of Quakes: 4.0"
          ],
          [
           -69.56,
           -23.97,
           "Ciudad: Antofagasta,\n Number of Quakes: 1.0,\n Magnitude of Quakes: 5.0"
          ],
          [
           -71.12,
           -30.17,
           "Ciudad: Andacollo,\n Number of Quakes: 1.0,\n Magnitude of Quakes: 4.5"
          ],
          [
           -69.68,
           -20.34,
           "Ciudad: Pozo Almonte,\n Number of Quakes: 1.0,\n Magnitude of Quakes: 4.2"
          ],
          [
           -70.14,
           -20.47,
           "Ciudad: Iquique,\n Number of Quakes: 1.0,\n Magnitude of Quakes: 4.0"
          ],
          [
           -69.43,
           -19.32,
           "Ciudad: Camiña,\n Number of Quakes: 1.0,\n Magnitude of Quakes: 4.0"
          ],
          [
           -69.13,
           -19.7,
           "Ciudad: Huara,\n Number of Quakes: 1.0,\n Magnitude of Quakes: 4.2"
          ],
          [
           -71.34,
           -32.93,
           "Ciudad: Quillota,\n Number of Quakes: 1.0,\n Magnitude of Quakes: 5.0"
          ],
          [
           -70.67,
           -30.74,
           "Ciudad: Monte Patria,\n Number of Quakes: 2.0,\n Magnitude of Quakes: 5.25"
          ],
          [
           -69.19,
           -24.07,
           "Ciudad: Antofagasta,\n Number of Quakes: 2.0,\n Magnitude of Quakes: 5.25"
          ],
          [
           -70.11,
           -19.94,
           "Ciudad: Huara,\n Number of Quakes: 1.0,\n Magnitude of Quakes: 4.3"
          ],
          [
           -69.98,
           -20.27,
           "Ciudad: Alto Hospicio,\n Number of Quakes: 1.0,\n Magnitude of Quakes: 4.0"
          ],
          [
           -68.93,
           -23.28,
           "Ciudad: Sierra Gorda,\n Number of Quakes: 1.0,\n Magnitude of Quakes: 4.2"
          ],
          [
           -68.74,
           -20.24,
           "Ciudad: Pica,\n Number of Quakes: 1.0,\n Magnitude of Quakes: 5.5"
          ],
          [
           -69.88,
           -22.97,
           "Ciudad: Sierra Gorda,\n Number of Quakes: 1.0,\n Magnitude of Quakes: 4.4"
          ],
          [
           -71.23,
           -31.81,
           "Ciudad: Illapel,\n Number of Quakes: 1.0,\n Magnitude of Quakes: 4.7"
          ],
          [
           -69.46,
           -20.43,
           "Ciudad: Pica,\n Number of Quakes: 1.0,\n Magnitude of Quakes: 4.4"
          ],
          [
           -70.02,
           -20.16,
           "Ciudad: Alto Hospicio,\n Number of Quakes: 1.0,\n Magnitude of Quakes: 5.6"
          ],
          [
           -68.8,
           -20.34,
           "Ciudad: Pica,\n Number of Quakes: 1.0,\n Magnitude of Quakes: 4.5"
          ],
          [
           -69.14,
           -21.74,
           "Ciudad: María Elena,\n Number of Quakes: 1.0,\n Magnitude of Quakes: 4.7"
          ],
          [
           -69.25,
           -20.07,
           "Ciudad: Pozo Almonte,\n Number of Quakes: 1.0,\n Magnitude of Quakes: 4.2"
          ],
          [
           -69.21,
           -19.87,
           "Ciudad: Huara,\n Number of Quakes: 1.0,\n Magnitude of Quakes: 4.1"
          ],
          [
           -69.08,
           -20.19,
           "Ciudad: Pozo Almonte,\n Number of Quakes: 1.0,\n Magnitude of Quakes: 5.7"
          ],
          [
           -71.5,
           -32.74,
           "Ciudad: Las Ventanas,\n Number of Quakes: 2.0,\n Magnitude of Quakes: 5.2"
          ],
          [
           -71.54,
           -32.76,
           "Ciudad: Quintero,\n Number of Quakes: 2.0,\n Magnitude of Quakes: 5.2"
          ],
          [
           -70.13,
           -21.8,
           "Ciudad: Tocopilla,\n Number of Quakes: 1.0,\n Magnitude of Quakes: 4.5"
          ],
          [
           -70.1,
           -20.52,
           "Ciudad: Iquique,\n Number of Quakes: 1.0,\n Magnitude of Quakes: 4.0"
          ],
          [
           -69.34,
           -23.45,
           "Ciudad: Sierra Gorda,\n Number of Quakes: 1.0,\n Magnitude of Quakes: 4.3"
          ],
          [
           -71.34,
           -30.66,
           "Ciudad: Ovalle,\n Number of Quakes: 1.0,\n Magnitude of Quakes: 4.7"
          ],
          [
           -71.24,
           -31.97,
           "Ciudad: Los Vilos,\n Number of Quakes: 1.0,\n Magnitude of Quakes: 4.6"
          ],
          [
           -70.07,
           -18.76,
           "Ciudad: Arica,\n Number of Quakes: 1.0,\n Magnitude of Quakes: 4.8"
          ],
          [
           -69.04,
           -20.09,
           "Ciudad: Pozo Almonte,\n Number of Quakes: 1.0,\n Magnitude of Quakes: 4.4"
          ],
          [
           -67.16,
           -23.62,
           "Ciudad: Municipio de Catua,\n Number of Quakes: 1.0,\n Magnitude of Quakes: 6.3"
          ],
          [
           -71.55,
           -36.01,
           "Ciudad: Longaví,\n Number of Quakes: 1.0,\n Magnitude of Quakes: 4.1"
          ],
          [
           -68.78,
           -21.83,
           "Ciudad: Calama,\n Number of Quakes: 1.0,\n Magnitude of Quakes: 4.7"
          ],
          [
           -69.19,
           -23.09,
           "Ciudad: Sierra Gorda,\n Number of Quakes: 1.0,\n Magnitude of Quakes: 4.1"
          ],
          [
           -69.47,
           -19.65,
           "Ciudad: Huara,\n Number of Quakes: 1.0,\n Magnitude of Quakes: 5.5"
          ],
          [
           -68.3,
           -22.89,
           "Ciudad: San Pedro de Atacama,\n Number of Quakes: 2.0,\n Magnitude of Quakes: 4.7"
          ],
          [
           -71.07,
           -30.82,
           "Ciudad: Punitaqui,\n Number of Quakes: 2.0,\n Magnitude of Quakes: 4.7"
          ],
          [
           -69.95,
           -25,
           "Ciudad: Taltal,\n Number of Quakes: 1.0,\n Magnitude of Quakes: 4.4"
          ],
          [
           -69.02,
           -20.18,
           "Ciudad: Pozo Almonte,\n Number of Quakes: 1.0,\n Magnitude of Quakes: 4.2"
          ],
          [
           -69.2,
           -20.25,
           "Ciudad: Pica,\n Number of Quakes: 1.0,\n Magnitude of Quakes: 5.0"
          ],
          [
           -69.2,
           -19.39,
           "Ciudad: Huara,\n Number of Quakes: 1.0,\n Magnitude of Quakes: 4.7"
          ],
          [
           -69.51,
           -21.62,
           "Ciudad: María Elena,\n Number of Quakes: 1.0,\n Magnitude of Quakes: 4.6"
          ],
          [
           -73.83,
           -41.23,
           "Ciudad: Fresia,\n Number of Quakes: 1.0,\n Magnitude of Quakes: 4.9"
          ],
          [
           -69.95,
           -20.81,
           "Ciudad: Pozo Almonte,\n Number of Quakes: 1.0,\n Magnitude of Quakes: 4.0"
          ],
          [
           -70.6,
           -32.96,
           "Ciudad: Colina,\n Number of Quakes: 1.0,\n Magnitude of Quakes: 5.1"
          ],
          [
           -73.13,
           -40.77,
           "Ciudad: Río Negro,\n Number of Quakes: 1.0,\n Magnitude of Quakes: 4.0"
          ],
          [
           -69.23,
           -20.09,
           "Ciudad: Pozo Almonte,\n Number of Quakes: 1.0,\n Magnitude of Quakes: 4.9"
          ],
          [
           -68.76,
           -20.54,
           "Ciudad: Pica,\n Number of Quakes: 1.0,\n Magnitude of Quakes: 5.0"
          ],
          [
           -71.39,
           -30.31,
           "Ciudad: Coquimbo,\n Number of Quakes: 2.0,\n Magnitude of Quakes: 4.300000000000001"
          ],
          [
           -71.46,
           -30.94,
           "Ciudad: Punitaqui,\n Number of Quakes: 2.0,\n Magnitude of Quakes: 4.300000000000001"
          ],
          [
           -71.28,
           -29.78,
           "Ciudad: La Serena,\n Number of Quakes: 1.0,\n Magnitude of Quakes: 4.8"
          ],
          [
           -69.39,
           -19.18,
           "Ciudad: Camiña,\n Number of Quakes: 1.0,\n Magnitude of Quakes: 4.1"
          ],
          [
           -70.2,
           -22.61,
           "Ciudad: Mejillones,\n Number of Quakes: 1.0,\n Magnitude of Quakes: 5.2"
          ],
          [
           -72.76,
           -36.96,
           "Ciudad: Hualqui,\n Number of Quakes: 1.0,\n Magnitude of Quakes: 4.1"
          ],
          [
           -68.96,
           -20.47,
           "Ciudad: Pica,\n Number of Quakes: 1.0,\n Magnitude of Quakes: 4.7"
          ],
          [
           -69.91,
           -21.9,
           "Ciudad: Tocopilla,\n Number of Quakes: 1.0,\n Magnitude of Quakes: 4.1"
          ],
          [
           -68.87,
           -20.38,
           "Ciudad: Pica,\n Number of Quakes: 1.0,\n Magnitude of Quakes: 5.2"
          ],
          [
           -71.7,
           -35.74,
           "Ciudad: Villa Alegre,\n Number of Quakes: 1.0,\n Magnitude of Quakes: 4.7"
          ],
          [
           -68.89,
           -19.88,
           "Ciudad: Pica,\n Number of Quakes: 1.0,\n Magnitude of Quakes: 4.9"
          ],
          [
           -69.12,
           -19.14,
           "Ciudad: Colchane,\n Number of Quakes: 1.0,\n Magnitude of Quakes: 4.5"
          ],
          [
           -71.35,
           -31.07,
           "Ciudad: Punitaqui,\n Number of Quakes: 1.0,\n Magnitude of Quakes: 4.9"
          ],
          [
           -69.03,
           -20.4,
           "Ciudad: Pica,\n Number of Quakes: 1.0,\n Magnitude of Quakes: 5.2"
          ],
          [
           -70.33,
           -33.59,
           "Ciudad: San José de Maipo,\n Number of Quakes: 1.0,\n Magnitude of Quakes: 4.3"
          ],
          [
           -70.22,
           -22.39,
           "Ciudad: Tocopilla,\n Number of Quakes: 1.0,\n Magnitude of Quakes: 4.4"
          ],
          [
           -71.1,
           -33.68,
           "Ciudad: El Monte,\n Number of Quakes: 1.0,\n Magnitude of Quakes: 4.8"
          ],
          [
           -70.46,
           -23.41,
           "Ciudad: Antofagasta,\n Number of Quakes: 1.0,\n Magnitude of Quakes: 5.2"
          ],
          [
           -71.25,
           -29.8,
           "Ciudad: La Serena,\n Number of Quakes: 1.0,\n Magnitude of Quakes: 4.1"
          ],
          [
           -69.47,
           -18.12,
           "Ciudad: Putre,\n Number of Quakes: 1.0,\n Magnitude of Quakes: 5.0"
          ],
          [
           -71.81,
           -34.76,
           "Ciudad: Paredones,\n Number of Quakes: 1.0,\n Magnitude of Quakes: 5.2"
          ],
          [
           -69.4,
           -21.21,
           "Ciudad: Pozo Almonte,\n Number of Quakes: 1.0,\n Magnitude of Quakes: 4.2"
          ],
          [
           -70.63,
           -29.41,
           "Ciudad: La Higuera,\n Number of Quakes: 2.0,\n Magnitude of Quakes: 4.199999999999999"
          ],
          [
           -71.01,
           -29.38,
           "Ciudad: Punta Colorada,\n Number of Quakes: 2.0,\n Magnitude of Quakes: 4.199999999999999"
          ],
          [
           -69.29,
           -19.75,
           "Ciudad: Huara,\n Number of Quakes: 1.0,\n Magnitude of Quakes: 4.1"
          ],
          [
           -71.83,
           -34.2,
           "Ciudad: Pichilemu,\n Number of Quakes: 1.0,\n Magnitude of Quakes: 4.8"
          ],
          [
           -67,
           -23.5,
           "Ciudad: Municipio de Catua,\n Number of Quakes: 3.0,\n Magnitude of Quakes: 5.8"
          ],
          [
           -71.32,
           -30.21,
           "Ciudad: Coquimbo,\n Number of Quakes: 3.0,\n Magnitude of Quakes: 5.8"
          ],
          [
           -66.86,
           -23.17,
           "Ciudad: Coranzuli,\n Number of Quakes: 3.0,\n Magnitude of Quakes: 5.8"
          ],
          [
           -71.53,
           -30.28,
           "Ciudad: Coquimbo,\n Number of Quakes: 1.0,\n Magnitude of Quakes: 4.8"
          ],
          [
           -71.3,
           -30.96,
           "Ciudad: Punitaqui,\n Number of Quakes: 1.0,\n Magnitude of Quakes: 4.6"
          ],
          [
           -71.14,
           -35.08,
           "Ciudad: Curicó,\n Number of Quakes: 1.0,\n Magnitude of Quakes: 4.7"
          ],
          [
           -69.29,
           -18.87,
           "Ciudad: Camarones,\n Number of Quakes: 1.0,\n Magnitude of Quakes: 4.3"
          ],
          [
           -70.68,
           -29.16,
           "Ciudad: La Higuera,\n Number of Quakes: 1.0,\n Magnitude of Quakes: 4.2"
          ],
          [
           -72.99,
           -36.88,
           "Ciudad: Chiguayante,\n Number of Quakes: 1.0,\n Magnitude of Quakes: 5.1"
          ],
          [
           -71.03,
           -27.91,
           "Ciudad: Copiapó,\n Number of Quakes: 1.0,\n Magnitude of Quakes: 5.2"
          ],
          [
           -69.14,
           -20.36,
           "Ciudad: Pica,\n Number of Quakes: 1.0,\n Magnitude of Quakes: 5.2"
          ],
          [
           -71.11,
           -29.32,
           "Ciudad: La Higuera,\n Number of Quakes: 1.0,\n Magnitude of Quakes: 5.3"
          ],
          [
           -69.48,
           -19.69,
           "Ciudad: Huara,\n Number of Quakes: 1.0,\n Magnitude of Quakes: 4.9"
          ],
          [
           -70.89,
           -27.86,
           "Ciudad: Copiapó,\n Number of Quakes: 1.0,\n Magnitude of Quakes: 5.0"
          ],
          [
           -68.86,
           -21.97,
           "Ciudad: Calama,\n Number of Quakes: 1.0,\n Magnitude of Quakes: 4.9"
          ],
          [
           -70.22,
           -19.26,
           "Ciudad: Huara,\n Number of Quakes: 1.0,\n Magnitude of Quakes: 4.3"
          ],
          [
           -69.27,
           -18.42,
           "Ciudad: Putre,\n Number of Quakes: 1.0,\n Magnitude of Quakes: 6.3"
          ],
          [
           -68.7,
           -22.19,
           "Ciudad: Calama,\n Number of Quakes: 1.0,\n Magnitude of Quakes: 5.8"
          ],
          [
           -71.02,
           -33.74,
           "Ciudad: Isla de Maipo,\n Number of Quakes: 1.0,\n Magnitude of Quakes: 4.0"
          ],
          [
           -70.81,
           -28.65,
           "Ciudad: Vallenar,\n Number of Quakes: 1.0,\n Magnitude of Quakes: 4.8"
          ],
          [
           -72.16,
           -36.17,
           "Ciudad: Cauquenes,\n Number of Quakes: 1.0,\n Magnitude of Quakes: 4.6"
          ],
          [
           -69.26,
           -19.25,
           "Ciudad: Camiña,\n Number of Quakes: 1.0,\n Magnitude of Quakes: 4.4"
          ],
          [
           -68.7,
           -21.11,
           "Ciudad: Pica,\n Number of Quakes: 1.0,\n Magnitude of Quakes: 5.1"
          ],
          [
           -70.18,
           -19.37,
           "Ciudad: Huara,\n Number of Quakes: 1.0,\n Magnitude of Quakes: 4.0"
          ],
          [
           -70.47,
           -33.31,
           "Ciudad: Lo Barnechea,\n Number of Quakes: 1.0,\n Magnitude of Quakes: 4.0"
          ],
          [
           -71.28,
           -29.92,
           "Ciudad: La Serena,\n Number of Quakes: 1.0,\n Magnitude of Quakes: 4.5"
          ],
          [
           -71.24,
           -29.57,
           "Ciudad: La Higuera,\n Number of Quakes: 1.0,\n Magnitude of Quakes: 4.5"
          ],
          [
           -69.96,
           -19.91,
           "Ciudad: Huara,\n Number of Quakes: 1.0,\n Magnitude of Quakes: 4.1"
          ],
          [
           -71.8,
           -34.89,
           "Ciudad: Hualañé,\n Number of Quakes: 1.0,\n Magnitude of Quakes: 4.8"
          ],
          [
           -69.33,
           -18.52,
           "Ciudad: Putre,\n Number of Quakes: 1.0,\n Magnitude of Quakes: 4.7"
          ],
          [
           -68.87,
           -20.21,
           "Ciudad: Pica,\n Number of Quakes: 1.0,\n Magnitude of Quakes: 4.4"
          ],
          [
           -68.52,
           -22.06,
           "Ciudad: Calama,\n Number of Quakes: 1.0,\n Magnitude of Quakes: 5.7"
          ],
          [
           -70.1,
           -20.14,
           "Ciudad: Alto Hospicio,\n Number of Quakes: 1.0,\n Magnitude of Quakes: 4.1"
          ],
          [
           -70.31,
           -30.64,
           "Ciudad: Río Hurtado,\n Number of Quakes: 1.0,\n Magnitude of Quakes: 4.3"
          ],
          [
           -68.42,
           -21.78,
           "Ciudad: Calama,\n Number of Quakes: 1.0,\n Magnitude of Quakes: 5.3"
          ],
          [
           -69.05,
           -22.69,
           "Ciudad: Calama,\n Number of Quakes: 1.0,\n Magnitude of Quakes: 4.0"
          ],
          [
           -69.56,
           -19.47,
           "Ciudad: Camiña,\n Number of Quakes: 1.0,\n Magnitude of Quakes: 4.6"
          ],
          [
           -69.25,
           -20.91,
           "Ciudad: Pozo Almonte,\n Number of Quakes: 1.0,\n Magnitude of Quakes: 4.3"
          ],
          [
           -71.51,
           -30.91,
           "Ciudad: Punitaqui,\n Number of Quakes: 1.0,\n Magnitude of Quakes: 4.2"
          ],
          [
           -70.34,
           -33.44,
           "Ciudad: Lo Barnechea,\n Number of Quakes: 1.0,\n Magnitude of Quakes: 5.2"
          ],
          [
           -70.31,
           -33.05,
           "Ciudad: Los Andes,\n Number of Quakes: 1.0,\n Magnitude of Quakes: 5.1"
          ],
          [
           -71.1,
           -31.91,
           "Ciudad: Los Vilos,\n Number of Quakes: 1.0,\n Magnitude of Quakes: 4.0"
          ],
          [
           -71.2,
           -30.92,
           "Ciudad: Combarbalá,\n Number of Quakes: 1.0,\n Magnitude of Quakes: 4.4"
          ],
          [
           -71.83,
           -34.99,
           "Ciudad: Curepto,\n Number of Quakes: 1.0,\n Magnitude of Quakes: 5.0"
          ],
          [
           -68.73,
           -21.19,
           "Ciudad: Pica,\n Number of Quakes: 1.0,\n Magnitude of Quakes: 5.1"
          ],
          [
           -71.2,
           -31.96,
           "Ciudad: Los Vilos,\n Number of Quakes: 1.0,\n Magnitude of Quakes: 4.3"
          ],
          [
           -69.26,
           -20.59,
           "Ciudad: Pica,\n Number of Quakes: 1.0,\n Magnitude of Quakes: 4.7"
          ],
          [
           -70.79,
           -35.13,
           "Ciudad: Romeral,\n Number of Quakes: 1.0,\n Magnitude of Quakes: 4.6"
          ],
          [
           -69.32,
           -19.56,
           "Ciudad: Huara,\n Number of Quakes: 1.0,\n Magnitude of Quakes: 4.3"
          ],
          [
           -71.22,
           -29.48,
           "Ciudad: La Higuera,\n Number of Quakes: 1.0,\n Magnitude of Quakes: 5.1"
          ],
          [
           -69.34,
           -19.41,
           "Ciudad: Camiña,\n Number of Quakes: 1.0,\n Magnitude of Quakes: 4.4"
          ],
          [
           -69.13,
           -20.62,
           "Ciudad: Pica,\n Number of Quakes: 1.0,\n Magnitude of Quakes: 4.5"
          ],
          [
           -69.14,
           -20.41,
           "Ciudad: Pica,\n Number of Quakes: 1.0,\n Magnitude of Quakes: 4.9"
          ],
          [
           -71.24,
           -29.84,
           "Ciudad: La Serena,\n Number of Quakes: 2.0,\n Magnitude of Quakes: 4.75"
          ],
          [
           -71.25,
           -29.88,
           "Ciudad: La Serena,\n Number of Quakes: 2.0,\n Magnitude of Quakes: 4.75"
          ],
          [
           -69.05,
           -20.37,
           "Ciudad: Pica,\n Number of Quakes: 1.0,\n Magnitude of Quakes: 4.2"
          ],
          [
           -71.2,
           -29.8,
           "Ciudad: La Serena,\n Number of Quakes: 1.0,\n Magnitude of Quakes: 4.5"
          ],
          [
           -69.25,
           -19.79,
           "Ciudad: Huara,\n Number of Quakes: 1.0,\n Magnitude of Quakes: 5.6"
          ],
          [
           -70.48,
           -25.04,
           "Ciudad: Taltal,\n Number of Quakes: 1.0,\n Magnitude of Quakes: 4.6"
          ],
          [
           -71.52,
           -31.48,
           "Ciudad: Canela,\n Number of Quakes: 19.0,\n Magnitude of Quakes: 4.752631578947368"
          ],
          [
           -71.35,
           -30.92,
           "Ciudad: Punitaqui,\n Number of Quakes: 19.0,\n Magnitude of Quakes: 4.752631578947368"
          ],
          [
           -71.36,
           -30.98,
           "Ciudad: Punitaqui,\n Number of Quakes: 19.0,\n Magnitude of Quakes: 4.752631578947368"
          ],
          [
           -71.26,
           -30.92,
           "Ciudad: Punitaqui,\n Number of Quakes: 19.0,\n Magnitude of Quakes: 4.752631578947368"
          ],
          [
           -71.45,
           -31.4,
           "Ciudad: Canela,\n Number of Quakes: 19.0,\n Magnitude of Quakes: 4.752631578947368"
          ],
          [
           -71.58,
           -31.51,
           "Ciudad: Canela,\n Number of Quakes: 19.0,\n Magnitude of Quakes: 4.752631578947368"
          ],
          [
           -71.39,
           -30.68,
           "Ciudad: Ovalle,\n Number of Quakes: 19.0,\n Magnitude of Quakes: 4.752631578947368"
          ],
          [
           -71.53,
           -30.99,
           "Ciudad: Punitaqui,\n Number of Quakes: 19.0,\n Magnitude of Quakes: 4.752631578947368"
          ],
          [
           -71.41,
           -31.6,
           "Ciudad: Canela,\n Number of Quakes: 19.0,\n Magnitude of Quakes: 4.752631578947368"
          ],
          [
           -71.63,
           -30.54,
           "Ciudad: Ovalle,\n Number of Quakes: 19.0,\n Magnitude of Quakes: 4.752631578947368"
          ],
          [
           -71.46,
           -30.93,
           "Ciudad: Punitaqui,\n Number of Quakes: 19.0,\n Magnitude of Quakes: 4.752631578947368"
          ],
          [
           -71.56,
           -30.69,
           "Ciudad: Ovalle,\n Number of Quakes: 19.0,\n Magnitude of Quakes: 4.752631578947368"
          ],
          [
           -71.33,
           -30.88,
           "Ciudad: Punitaqui,\n Number of Quakes: 19.0,\n Magnitude of Quakes: 4.752631578947368"
          ],
          [
           -71.25,
           -31.24,
           "Ciudad: Canela,\n Number of Quakes: 19.0,\n Magnitude of Quakes: 4.752631578947368"
          ],
          [
           -70.48,
           -29.85,
           "Ciudad: Vicuña,\n Number of Quakes: 19.0,\n Magnitude of Quakes: 4.752631578947368"
          ],
          [
           -71.61,
           -30.68,
           "Ciudad: Ovalle,\n Number of Quakes: 19.0,\n Magnitude of Quakes: 4.752631578947368"
          ],
          [
           -71.38,
           -30.83,
           "Ciudad: Ovalle,\n Number of Quakes: 19.0,\n Magnitude of Quakes: 4.752631578947368"
          ],
          [
           -71.64,
           -30.94,
           "Ciudad: Ovalle,\n Number of Quakes: 19.0,\n Magnitude of Quakes: 4.752631578947368"
          ],
          [
           -71.38,
           -31.03,
           "Ciudad: Punitaqui,\n Number of Quakes: 19.0,\n Magnitude of Quakes: 4.752631578947368"
          ],
          [
           -71.53,
           -31.45,
           "Ciudad: Canela,\n Number of Quakes: 6.0,\n Magnitude of Quakes: 4.483333333333333"
          ],
          [
           -71.37,
           -31.15,
           "Ciudad: Punitaqui,\n Number of Quakes: 6.0,\n Magnitude of Quakes: 4.483333333333333"
          ],
          [
           -71.56,
           -31.38,
           "Ciudad: Canela,\n Number of Quakes: 6.0,\n Magnitude of Quakes: 4.483333333333333"
          ],
          [
           -71.46,
           -31.59,
           "Ciudad: Canela,\n Number of Quakes: 6.0,\n Magnitude of Quakes: 4.483333333333333"
          ],
          [
           -71.27,
           -30.87,
           "Ciudad: Punitaqui,\n Number of Quakes: 6.0,\n Magnitude of Quakes: 4.483333333333333"
          ],
          [
           -71.35,
           -30.85,
           "Ciudad: Punitaqui,\n Number of Quakes: 6.0,\n Magnitude of Quakes: 4.483333333333333"
          ],
          [
           -71.44,
           -30.79,
           "Ciudad: Ovalle,\n Number of Quakes: 6.0,\n Magnitude of Quakes: 4.816666666666666"
          ],
          [
           -71.39,
           -30.82,
           "Ciudad: Ovalle,\n Number of Quakes: 6.0,\n Magnitude of Quakes: 4.816666666666666"
          ],
          [
           -71.5,
           -31.79,
           "Ciudad: Los Vilos,\n Number of Quakes: 6.0,\n Magnitude of Quakes: 4.816666666666666"
          ],
          [
           -71.31,
           -28.85,
           "Ciudad: Freirina,\n Number of Quakes: 6.0,\n Magnitude of Quakes: 4.816666666666666"
          ],
          [
           -71.58,
           -31.13,
           "Ciudad: Ovalle,\n Number of Quakes: 6.0,\n Magnitude of Quakes: 4.816666666666666"
          ],
          [
           -71.3,
           -30.73,
           "Ciudad: Ovalle,\n Number of Quakes: 6.0,\n Magnitude of Quakes: 4.816666666666666"
          ],
          [
           -71.6,
           -30.84,
           "Ciudad: Ovalle,\n Number of Quakes: 3.0,\n Magnitude of Quakes: 4.8999999999999995"
          ],
          [
           -71.32,
           -30.79,
           "Ciudad: Punitaqui,\n Number of Quakes: 3.0,\n Magnitude of Quakes: 4.8999999999999995"
          ],
          [
           -71.61,
           -30.6,
           "Ciudad: Ovalle,\n Number of Quakes: 3.0,\n Magnitude of Quakes: 4.8999999999999995"
          ],
          [
           -71.41,
           -30.66,
           "Ciudad: Ovalle,\n Number of Quakes: 4.0,\n Magnitude of Quakes: 4.325"
          ],
          [
           -71.34,
           -30.73,
           "Ciudad: Ovalle,\n Number of Quakes: 4.0,\n Magnitude of Quakes: 4.325"
          ],
          [
           -71.47,
           -30.97,
           "Ciudad: Punitaqui,\n Number of Quakes: 4.0,\n Magnitude of Quakes: 4.325"
          ],
          [
           -71.46,
           -30.83,
           "Ciudad: Ovalle,\n Number of Quakes: 4.0,\n Magnitude of Quakes: 4.325"
          ],
          [
           -71.32,
           -33.32,
           "Ciudad: Casablanca,\n Number of Quakes: 1.0,\n Magnitude of Quakes: 4.2"
          ],
          [
           -71.13,
           -31.45,
           "Ciudad: Illapel,\n Number of Quakes: 3.0,\n Magnitude of Quakes: 5.266666666666667"
          ],
          [
           -71.6,
           -30.42,
           "Ciudad: Ovalle,\n Number of Quakes: 3.0,\n Magnitude of Quakes: 5.266666666666667"
          ],
          [
           -71.57,
           -31.02,
           "Ciudad: Ovalle,\n Number of Quakes: 3.0,\n Magnitude of Quakes: 5.266666666666667"
          ],
          [
           -71.44,
           -31.44,
           "Ciudad: Canela,\n Number of Quakes: 1.0,\n Magnitude of Quakes: 4.4"
          ],
          [
           -69.15,
           -20.21,
           "Ciudad: Pozo Almonte,\n Number of Quakes: 1.0,\n Magnitude of Quakes: 4.8"
          ],
          [
           -71.4,
           -30.7,
           "Ciudad: Ovalle,\n Number of Quakes: 3.0,\n Magnitude of Quakes: 4.6000000000000005"
          ],
          [
           -71.43,
           -30.71,
           "Ciudad: Ovalle,\n Number of Quakes: 3.0,\n Magnitude of Quakes: 4.6000000000000005"
          ],
          [
           -71.45,
           -30.88,
           "Ciudad: Ovalle,\n Number of Quakes: 3.0,\n Magnitude of Quakes: 4.6000000000000005"
          ],
          [
           -69.22,
           -20.91,
           "Ciudad: Pozo Almonte,\n Number of Quakes: 1.0,\n Magnitude of Quakes: 5.3"
          ],
          [
           -71.42,
           -30.79,
           "Ciudad: Ovalle,\n Number of Quakes: 7.0,\n Magnitude of Quakes: 4.5285714285714285"
          ],
          [
           -71.41,
           -30.77,
           "Ciudad: Ovalle,\n Number of Quakes: 7.0,\n Magnitude of Quakes: 4.5285714285714285"
          ],
          [
           -71.39,
           -30.79,
           "Ciudad: Ovalle,\n Number of Quakes: 7.0,\n Magnitude of Quakes: 4.5285714285714285"
          ],
          [
           -71.39,
           -30.72,
           "Ciudad: Ovalle,\n Number of Quakes: 7.0,\n Magnitude of Quakes: 4.5285714285714285"
          ],
          [
           -71.39,
           -30.76,
           "Ciudad: Ovalle,\n Number of Quakes: 7.0,\n Magnitude of Quakes: 4.5285714285714285"
          ],
          [
           -71.41,
           -30.82,
           "Ciudad: Ovalle,\n Number of Quakes: 7.0,\n Magnitude of Quakes: 4.5285714285714285"
          ],
          [
           -71.41,
           -31.36,
           "Ciudad: Canela,\n Number of Quakes: 7.0,\n Magnitude of Quakes: 4.5285714285714285"
          ],
          [
           -71.47,
           -30.73,
           "Ciudad: Ovalle,\n Number of Quakes: 2.0,\n Magnitude of Quakes: 4.5"
          ],
          [
           -71.44,
           -30.91,
           "Ciudad: Punitaqui,\n Number of Quakes: 2.0,\n Magnitude of Quakes: 4.5"
          ],
          [
           -71.36,
           -31.41,
           "Ciudad: Canela,\n Number of Quakes: 5.0,\n Magnitude of Quakes: 4.54"
          ],
          [
           -71.44,
           -31.18,
           "Ciudad: Canela,\n Number of Quakes: 5.0,\n Magnitude of Quakes: 4.54"
          ],
          [
           -67.12,
           -23.88,
           "Ciudad: Municipio de San Antonio de los Cobres,\n Number of Quakes: 5.0,\n Magnitude of Quakes: 4.54"
          ],
          [
           -71.32,
           -30.98,
           "Ciudad: Punitaqui,\n Number of Quakes: 5.0,\n Magnitude of Quakes: 4.54"
          ],
          [
           -71.44,
           -31.61,
           "Ciudad: Canela,\n Number of Quakes: 5.0,\n Magnitude of Quakes: 4.54"
          ],
          [
           -71.38,
           -31.79,
           "Ciudad: Los Vilos,\n Number of Quakes: 1.0,\n Magnitude of Quakes: 4.2"
          ],
          [
           -71.41,
           -30.75,
           "Ciudad: Ovalle,\n Number of Quakes: 1.0,\n Magnitude of Quakes: 4.6"
          ],
          [
           -71.43,
           -30.72,
           "Ciudad: Ovalle,\n Number of Quakes: 3.0,\n Magnitude of Quakes: 4.366666666666666"
          ],
          [
           -71.35,
           -31.76,
           "Ciudad: Canela,\n Number of Quakes: 3.0,\n Magnitude of Quakes: 4.366666666666666"
          ],
          [
           -71.31,
           -29.74,
           "Ciudad: La Serena,\n Number of Quakes: 3.0,\n Magnitude of Quakes: 4.366666666666666"
          ],
          [
           -71.73,
           -36.49,
           "Ciudad: Coihueco,\n Number of Quakes: 1.0,\n Magnitude of Quakes: 4.9"
          ],
          [
           -71.36,
           -30.53,
           "Ciudad: Ovalle,\n Number of Quakes: 5.0,\n Magnitude of Quakes: 4.3"
          ],
          [
           -71.45,
           -30.78,
           "Ciudad: Ovalle,\n Number of Quakes: 5.0,\n Magnitude of Quakes: 4.3"
          ],
          [
           -71.6,
           -30.58,
           "Ciudad: Ovalle,\n Number of Quakes: 5.0,\n Magnitude of Quakes: 4.3"
          ],
          [
           -71.33,
           -31.08,
           "Ciudad: Punitaqui,\n Number of Quakes: 5.0,\n Magnitude of Quakes: 4.3"
          ],
          [
           -71.35,
           -30.74,
           "Ciudad: Ovalle,\n Number of Quakes: 5.0,\n Magnitude of Quakes: 4.3"
          ],
          [
           -71.37,
           -30.37,
           "Ciudad: Coquimbo,\n Number of Quakes: 3.0,\n Magnitude of Quakes: 4.833333333333333"
          ],
          [
           -71.45,
           -30.34,
           "Ciudad: Coquimbo,\n Number of Quakes: 3.0,\n Magnitude of Quakes: 4.833333333333333"
          ],
          [
           -71.41,
           -30.78,
           "Ciudad: Ovalle,\n Number of Quakes: 3.0,\n Magnitude of Quakes: 4.833333333333333"
          ],
          [
           -71.63,
           -30.66,
           "Ciudad: Ovalle,\n Number of Quakes: 2.0,\n Magnitude of Quakes: 4.75"
          ],
          [
           -71.46,
           -30.34,
           "Ciudad: Coquimbo,\n Number of Quakes: 2.0,\n Magnitude of Quakes: 4.75"
          ],
          [
           -71.47,
           -30.35,
           "Ciudad: Coquimbo,\n Number of Quakes: 1.0,\n Magnitude of Quakes: 6.1"
          ],
          [
           -70.19,
           -25.21,
           "Ciudad: Taltal,\n Number of Quakes: 3.0,\n Magnitude of Quakes: 4.833333333333333"
          ],
          [
           -71.45,
           -31.52,
           "Ciudad: Canela,\n Number of Quakes: 3.0,\n Magnitude of Quakes: 4.833333333333333"
          ],
          [
           -71.46,
           -30.85,
           "Ciudad: Ovalle,\n Number of Quakes: 3.0,\n Magnitude of Quakes: 4.833333333333333"
          ],
          [
           -71.39,
           -30.78,
           "Ciudad: Ovalle,\n Number of Quakes: 3.0,\n Magnitude of Quakes: 4.6000000000000005"
          ],
          [
           -71.23,
           -30.3,
           "Ciudad: Coquimbo,\n Number of Quakes: 3.0,\n Magnitude of Quakes: 4.6000000000000005"
          ],
          [
           -71.42,
           -30.83,
           "Ciudad: Ovalle,\n Number of Quakes: 3.0,\n Magnitude of Quakes: 4.6000000000000005"
          ],
          [
           -71.45,
           -30.71,
           "Ciudad: Ovalle,\n Number of Quakes: 1.0,\n Magnitude of Quakes: 4.1"
          ],
          [
           -70,
           -16.33,
           "Ciudad: Ácora,\n Number of Quakes: 1.0,\n Magnitude of Quakes: 5.5"
          ],
          [
           -71.42,
           -30.82,
           "Ciudad: Ovalle,\n Number of Quakes: 3.0,\n Magnitude of Quakes: 4.266666666666667"
          ],
          [
           -71.49,
           -31.52,
           "Ciudad: Canela,\n Number of Quakes: 3.0,\n Magnitude of Quakes: 4.266666666666667"
          ],
          [
           -71.31,
           -31.01,
           "Ciudad: Punitaqui,\n Number of Quakes: 3.0,\n Magnitude of Quakes: 4.266666666666667"
          ],
          [
           -71.56,
           -30.52,
           "Ciudad: Ovalle,\n Number of Quakes: 1.0,\n Magnitude of Quakes: 4.2"
          ],
          [
           -71.44,
           -30.71,
           "Ciudad: Ovalle,\n Number of Quakes: 2.0,\n Magnitude of Quakes: 4.55"
          ],
          [
           -71.41,
           -30.69,
           "Ciudad: Ovalle,\n Number of Quakes: 2.0,\n Magnitude of Quakes: 4.55"
          ],
          [
           -71.43,
           -30.7,
           "Ciudad: Ovalle,\n Number of Quakes: 3.0,\n Magnitude of Quakes: 4.333333333333333"
          ],
          [
           -71.68,
           -30.43,
           "Ciudad: Ovalle,\n Number of Quakes: 3.0,\n Magnitude of Quakes: 4.333333333333333"
          ],
          [
           -71.37,
           -30.76,
           "Ciudad: Punitaqui,\n Number of Quakes: 3.0,\n Magnitude of Quakes: 4.333333333333333"
          ],
          [
           -71.46,
           -31.26,
           "Ciudad: Canela,\n Number of Quakes: 2.0,\n Magnitude of Quakes: 4.1"
          ],
          [
           -68.71,
           -22.57,
           "Ciudad: Calama,\n Number of Quakes: 2.0,\n Magnitude of Quakes: 4.1"
          ],
          [
           -68.97,
           -22.74,
           "Ciudad: Calama,\n Number of Quakes: 3.0,\n Magnitude of Quakes: 4.7"
          ],
          [
           -71.61,
           -30.57,
           "Ciudad: Ovalle,\n Number of Quakes: 3.0,\n Magnitude of Quakes: 4.7"
          ],
          [
           -71.63,
           -30.57,
           "Ciudad: Ovalle,\n Number of Quakes: 3.0,\n Magnitude of Quakes: 4.7"
          ],
          [
           -68.89,
           -20.07,
           "Ciudad: Pica,\n Number of Quakes: 1.0,\n Magnitude of Quakes: 4.8"
          ],
          [
           -71.53,
           -30.62,
           "Ciudad: Ovalle,\n Number of Quakes: 2.0,\n Magnitude of Quakes: 4.25"
          ],
          [
           -71.62,
           -30.57,
           "Ciudad: Ovalle,\n Number of Quakes: 2.0,\n Magnitude of Quakes: 4.25"
          ],
          [
           -69.31,
           -19.46,
           "Ciudad: Huara,\n Number of Quakes: 1.0,\n Magnitude of Quakes: 4.2"
          ],
          [
           -72.67,
           -35.97,
           "Ciudad: Pelluhue,\n Number of Quakes: 1.0,\n Magnitude of Quakes: 5.0"
          ],
          [
           -71.67,
           -34.8,
           "Ciudad: Lolol,\n Number of Quakes: 2.0,\n Magnitude of Quakes: 4.45"
          ],
          [
           -70.85,
           -33.47,
           "Ciudad: Pudahuel,\n Number of Quakes: 2.0,\n Magnitude of Quakes: 4.45"
          ],
          [
           -71.43,
           -30.71,
           "Ciudad: Ovalle,\n Number of Quakes: 1.0,\n Magnitude of Quakes: 4.5"
          ],
          [
           -71.44,
           -30.74,
           "Ciudad: Ovalle,\n Number of Quakes: 3.0,\n Magnitude of Quakes: 4.666666666666667"
          ],
          [
           -71.6,
           -30.4,
           "Ciudad: Ovalle,\n Number of Quakes: 3.0,\n Magnitude of Quakes: 4.666666666666667"
          ],
          [
           -71.4,
           -30.82,
           "Ciudad: Ovalle,\n Number of Quakes: 3.0,\n Magnitude of Quakes: 4.666666666666667"
          ],
          [
           -69.3,
           -20.37,
           "Ciudad: Pica,\n Number of Quakes: 1.0,\n Magnitude of Quakes: 4.8"
          ],
          [
           -71.38,
           -30.83,
           "Ciudad: Ovalle,\n Number of Quakes: 1.0,\n Magnitude of Quakes: 5.0"
          ],
          [
           -71.66,
           -30.32,
           "Ciudad: Coquimbo,\n Number of Quakes: 1.0,\n Magnitude of Quakes: 4.5"
          ],
          [
           -71.31,
           -30.04,
           "Ciudad: Coquimbo,\n Number of Quakes: 2.0,\n Magnitude of Quakes: 4.1"
          ],
          [
           -71.65,
           -30.52,
           "Ciudad: Ovalle,\n Number of Quakes: 2.0,\n Magnitude of Quakes: 4.1"
          ],
          [
           -68.97,
           -20.39,
           "Ciudad: Pica,\n Number of Quakes: 1.0,\n Magnitude of Quakes: 4.6"
          ],
          [
           -71.2,
           -29.72,
           "Ciudad: La Serena,\n Number of Quakes: 1.0,\n Magnitude of Quakes: 4.7"
          ],
          [
           -73.55,
           -41.93,
           "Ciudad: Ancud,\n Number of Quakes: 1.0,\n Magnitude of Quakes: 4.5"
          ],
          [
           -71.51,
           -30.32,
           "Ciudad: Coquimbo,\n Number of Quakes: 3.0,\n Magnitude of Quakes: 4.533333333333334"
          ],
          [
           -71.38,
           -30.85,
           "Ciudad: Punitaqui,\n Number of Quakes: 3.0,\n Magnitude of Quakes: 4.533333333333334"
          ],
          [
           -69.29,
           -23.25,
           "Ciudad: Sierra Gorda,\n Number of Quakes: 3.0,\n Magnitude of Quakes: 4.533333333333334"
          ],
          [
           -70.19,
           -28.78,
           "Ciudad: Alto del Carmen,\n Number of Quakes: 2.0,\n Magnitude of Quakes: 4.15"
          ],
          [
           -71.64,
           -30.62,
           "Ciudad: Ovalle,\n Number of Quakes: 2.0,\n Magnitude of Quakes: 4.15"
          ],
          [
           -69.62,
           -19.3,
           "Ciudad: Camiña,\n Number of Quakes: 1.0,\n Magnitude of Quakes: 4.0"
          ],
          [
           -68.53,
           -23.23,
           "Ciudad: San Pedro de Atacama,\n Number of Quakes: 1.0,\n Magnitude of Quakes: 5.9"
          ],
          [
           -73.42,
           -38.82,
           "Ciudad: Saavedra,\n Number of Quakes: 1.0,\n Magnitude of Quakes: 5.1"
          ],
          [
           -71.41,
           -30.8,
           "Ciudad: Ovalle,\n Number of Quakes: 1.0,\n Magnitude of Quakes: 4.0"
          ],
          [
           -71.39,
           -30.68,
           "Ciudad: Ovalle,\n Number of Quakes: 1.0,\n Magnitude of Quakes: 4.3"
          ],
          [
           -68.95,
           -19.99,
           "Ciudad: Pica,\n Number of Quakes: 1.0,\n Magnitude of Quakes: 4.6"
          ],
          [
           -71.43,
           -30.87,
           "Ciudad: Ovalle,\n Number of Quakes: 7.0,\n Magnitude of Quakes: 4.742857142857143"
          ],
          [
           -71.38,
           -30.82,
           "Ciudad: Ovalle,\n Number of Quakes: 7.0,\n Magnitude of Quakes: 4.742857142857143"
          ],
          [
           -71.36,
           -30.77,
           "Ciudad: Ovalle,\n Number of Quakes: 7.0,\n Magnitude of Quakes: 4.742857142857143"
          ],
          [
           -71.4,
           -30.78,
           "Ciudad: Ovalle,\n Number of Quakes: 7.0,\n Magnitude of Quakes: 4.742857142857143"
          ],
          [
           -71.63,
           -30.7,
           "Ciudad: Ovalle,\n Number of Quakes: 7.0,\n Magnitude of Quakes: 4.742857142857143"
          ],
          [
           -71.4,
           -30.83,
           "Ciudad: Ovalle,\n Number of Quakes: 7.0,\n Magnitude of Quakes: 4.742857142857143"
          ],
          [
           -71.39,
           -30.71,
           "Ciudad: Ovalle,\n Number of Quakes: 7.0,\n Magnitude of Quakes: 4.742857142857143"
          ],
          [
           -69.79,
           -17.47,
           "Ciudad: Palca,\n Number of Quakes: 1.0,\n Magnitude of Quakes: 5.5"
          ],
          [
           -69.03,
           -23.48,
           "Ciudad: Sierra Gorda,\n Number of Quakes: 1.0,\n Magnitude of Quakes: 5.4"
          ],
          [
           -71.42,
           -30.82,
           "Ciudad: Ovalle,\n Number of Quakes: 1.0,\n Magnitude of Quakes: 4.3"
          ],
          [
           -71.41,
           -30.74,
           "Ciudad: Ovalle,\n Number of Quakes: 1.0,\n Magnitude of Quakes: 4.3"
          ],
          [
           -71.38,
           -30.71,
           "Ciudad: Ovalle,\n Number of Quakes: 2.0,\n Magnitude of Quakes: 4.05"
          ],
          [
           -68.91,
           -22.56,
           "Ciudad: Calama,\n Number of Quakes: 2.0,\n Magnitude of Quakes: 4.05"
          ],
          [
           -69.94,
           -18.79,
           "Ciudad: Arica,\n Number of Quakes: 1.0,\n Magnitude of Quakes: 4.5"
          ],
          [
           -71.42,
           -31.6,
           "Ciudad: Canela,\n Number of Quakes: 1.0,\n Magnitude of Quakes: 4.0"
          ],
          [
           -71.36,
           -30.68,
           "Ciudad: Ovalle,\n Number of Quakes: 1.0,\n Magnitude of Quakes: 4.5"
          ],
          [
           -69.39,
           -19.34,
           "Ciudad: Camiña,\n Number of Quakes: 1.0,\n Magnitude of Quakes: 4.6"
          ],
          [
           -70.29,
           -32.97,
           "Ciudad: Los Andes,\n Number of Quakes: 2.0,\n Magnitude of Quakes: 4.35"
          ],
          [
           -71.63,
           -34.95,
           "Ciudad: Hualañé,\n Number of Quakes: 2.0,\n Magnitude of Quakes: 4.35"
          ],
          [
           -71.66,
           -30.63,
           "Ciudad: Ovalle,\n Number of Quakes: 2.0,\n Magnitude of Quakes: 4.4"
          ],
          [
           -71.67,
           -30.64,
           "Ciudad: Ovalle,\n Number of Quakes: 2.0,\n Magnitude of Quakes: 4.4"
          ],
          [
           -71.65,
           -30.68,
           "Ciudad: Ovalle,\n Number of Quakes: 2.0,\n Magnitude of Quakes: 4.75"
          ],
          [
           -69.05,
           -23.63,
           "Ciudad: Sierra Gorda,\n Number of Quakes: 2.0,\n Magnitude of Quakes: 4.75"
          ],
          [
           -69.19,
           -19.96,
           "Ciudad: Huara,\n Number of Quakes: 1.0,\n Magnitude of Quakes: 4.0"
          ],
          [
           -70.55,
           -24.78,
           "Ciudad: Taltal,\n Number of Quakes: 2.0,\n Magnitude of Quakes: 5.65"
          ],
          [
           -70.55,
           -24.74,
           "Ciudad: Taltal,\n Number of Quakes: 2.0,\n Magnitude of Quakes: 5.65"
          ],
          [
           -71.54,
           -30.34,
           "Ciudad: Coquimbo,\n Number of Quakes: 1.0,\n Magnitude of Quakes: 4.2"
          ],
          [
           -67.46,
           -24.31,
           "Ciudad: Municipio de Tolar Grande,\n Number of Quakes: 1.0,\n Magnitude of Quakes: 5.5"
          ],
          [
           -71.63,
           -30.41,
           "Ciudad: Ovalle,\n Number of Quakes: 3.0,\n Magnitude of Quakes: 4.8"
          ],
          [
           -71.36,
           -31.59,
           "Ciudad: Canela,\n Number of Quakes: 3.0,\n Magnitude of Quakes: 4.8"
          ],
          [
           -71.51,
           -30.29,
           "Ciudad: Coquimbo,\n Number of Quakes: 3.0,\n Magnitude of Quakes: 4.8"
          ],
          [
           -69.27,
           -19.67,
           "Ciudad: Huara,\n Number of Quakes: 1.0,\n Magnitude of Quakes: 4.4"
          ],
          [
           -69.25,
           -20.78,
           "Ciudad: Pozo Almonte,\n Number of Quakes: 1.0,\n Magnitude of Quakes: 4.0"
          ],
          [
           -68.81,
           -22.52,
           "Ciudad: Calama,\n Number of Quakes: 1.0,\n Magnitude of Quakes: 4.2"
          ],
          [
           -71.26,
           -31.13,
           "Ciudad: Combarbalá,\n Number of Quakes: 1.0,\n Magnitude of Quakes: 5.5"
          ],
          [
           -69.19,
           -20.66,
           "Ciudad: Pica,\n Number of Quakes: 1.0,\n Magnitude of Quakes: 4.2"
          ],
          [
           -69.24,
           -19.75,
           "Ciudad: Huara,\n Number of Quakes: 1.0,\n Magnitude of Quakes: 4.4"
          ],
          [
           -71.92,
           -35.08,
           "Ciudad: Curepto,\n Number of Quakes: 1.0,\n Magnitude of Quakes: 4.9"
          ],
          [
           -70.48,
           -25.54,
           "Ciudad: Taltal,\n Number of Quakes: 1.0,\n Magnitude of Quakes: 4.3"
          ],
          [
           -71.61,
           -30.63,
           "Ciudad: Ovalle,\n Number of Quakes: 1.0,\n Magnitude of Quakes: 4.1"
          ],
          [
           -70,
           -27.28,
           "Ciudad: Copiapó,\n Number of Quakes: 1.0,\n Magnitude of Quakes: 4.1"
          ],
          [
           -71.68,
           -30.38,
           "Ciudad: Ovalle,\n Number of Quakes: 2.0,\n Magnitude of Quakes: 4.4"
          ],
          [
           -71.66,
           -30.63,
           "Ciudad: Ovalle,\n Number of Quakes: 2.0,\n Magnitude of Quakes: 4.4"
          ],
          [
           -71.67,
           -30.62,
           "Ciudad: Ovalle,\n Number of Quakes: 1.0,\n Magnitude of Quakes: 4.2"
          ],
          [
           -71.25,
           -30.59,
           "Ciudad: Ovalle,\n Number of Quakes: 1.0,\n Magnitude of Quakes: 4.0"
          ],
          [
           -71.41,
           -31.54,
           "Ciudad: Canela,\n Number of Quakes: 1.0,\n Magnitude of Quakes: 4.2"
          ],
          [
           -71.25,
           -30.8,
           "Ciudad: Punitaqui,\n Number of Quakes: 1.0,\n Magnitude of Quakes: 4.6"
          ],
          [
           -69.22,
           -20.54,
           "Ciudad: Pica,\n Number of Quakes: 1.0,\n Magnitude of Quakes: 4.4"
          ],
          [
           -71.34,
           -31.06,
           "Ciudad: Punitaqui,\n Number of Quakes: 1.0,\n Magnitude of Quakes: 4.5"
          ],
          [
           -71.29,
           -30.59,
           "Ciudad: Ovalle,\n Number of Quakes: 1.0,\n Magnitude of Quakes: 4.5"
          ],
          [
           -68.8,
           -20.69,
           "Ciudad: Pica,\n Number of Quakes: 2.0,\n Magnitude of Quakes: 4.3"
          ],
          [
           -69.26,
           -20.71,
           "Ciudad: Pica,\n Number of Quakes: 2.0,\n Magnitude of Quakes: 4.3"
          ],
          [
           -71.16,
           -30.63,
           "Ciudad: Ovalle,\n Number of Quakes: 1.0,\n Magnitude of Quakes: 4.1"
          ],
          [
           -70.64,
           -31.63,
           "Ciudad: Salamanca,\n Number of Quakes: 1.0,\n Magnitude of Quakes: 4.2"
          ],
          [
           -71.62,
           -30.7,
           "Ciudad: Ovalle,\n Number of Quakes: 1.0,\n Magnitude of Quakes: 4.3"
          ],
          [
           -69.15,
           -20.01,
           "Ciudad: Pozo Almonte,\n Number of Quakes: 1.0,\n Magnitude of Quakes: 4.1"
          ],
          [
           -71.62,
           -30.63,
           "Ciudad: Ovalle,\n Number of Quakes: 1.0,\n Magnitude of Quakes: 4.9"
          ],
          [
           -71.66,
           -30.67,
           "Ciudad: Ovalle,\n Number of Quakes: 1.0,\n Magnitude of Quakes: 6.0"
          ],
          [
           -69.12,
           -19.83,
           "Ciudad: Huara,\n Number of Quakes: 1.0,\n Magnitude of Quakes: 4.6"
          ],
          [
           -71.61,
           -30.7,
           "Ciudad: Ovalle,\n Number of Quakes: 1.0,\n Magnitude of Quakes: 4.9"
          ],
          [
           -70.13,
           -19.28,
           "Ciudad: Huara,\n Number of Quakes: 1.0,\n Magnitude of Quakes: 4.8"
          ],
          [
           -72.56,
           -36.71,
           "Ciudad: Quillón,\n Number of Quakes: 1.0,\n Magnitude of Quakes: 4.0"
          ],
          [
           -73.99,
           -41.73,
           "Ciudad: Maullín,\n Number of Quakes: 1.0,\n Magnitude of Quakes: 4.0"
          ],
          [
           -68.89,
           -21.34,
           "Ciudad: María Elena,\n Number of Quakes: 1.0,\n Magnitude of Quakes: 5.0"
          ],
          [
           -71.22,
           -32.11,
           "Ciudad: Los Vilos,\n Number of Quakes: 1.0,\n Magnitude of Quakes: 4.1"
          ],
          [
           -69.01,
           -22.97,
           "Ciudad: Sierra Gorda,\n Number of Quakes: 2.0,\n Magnitude of Quakes: 4.65"
          ],
          [
           -71.7,
           -30.46,
           "Ciudad: Ovalle,\n Number of Quakes: 2.0,\n Magnitude of Quakes: 4.65"
          ],
          [
           -71.52,
           -30.39,
           "Ciudad: Ovalle,\n Number of Quakes: 1.0,\n Magnitude of Quakes: 4.6"
          ],
          [
           -71.45,
           -30.72,
           "Ciudad: Ovalle,\n Number of Quakes: 1.0,\n Magnitude of Quakes: 4.4"
          ],
          [
           -69.37,
           -19.19,
           "Ciudad: Camiña,\n Number of Quakes: 1.0,\n Magnitude of Quakes: 4.0"
          ],
          [
           -71.69,
           -30.66,
           "Ciudad: Ovalle,\n Number of Quakes: 1.0,\n Magnitude of Quakes: 4.8"
          ],
          [
           -69.62,
           -21.27,
           "Ciudad: Pozo Almonte,\n Number of Quakes: 1.0,\n Magnitude of Quakes: 4.2"
          ],
          [
           -71.65,
           -30.63,
           "Ciudad: Ovalle,\n Number of Quakes: 4.0,\n Magnitude of Quakes: 5.0"
          ],
          [
           -71.5,
           -30.65,
           "Ciudad: Ovalle,\n Number of Quakes: 4.0,\n Magnitude of Quakes: 5.0"
          ],
          [
           -71.68,
           -30.64,
           "Ciudad: Ovalle,\n Number of Quakes: 4.0,\n Magnitude of Quakes: 5.0"
          ],
          [
           -71.59,
           -30.62,
           "Ciudad: Ovalle,\n Number of Quakes: 4.0,\n Magnitude of Quakes: 5.0"
          ],
          [
           -71.31,
           -31.72,
           "Ciudad: Illapel,\n Number of Quakes: 1.0,\n Magnitude of Quakes: 4.3"
          ],
          [
           -69.44,
           -19.14,
           "Ciudad: Camiña,\n Number of Quakes: 1.0,\n Magnitude of Quakes: 4.4"
          ],
          [
           -69.47,
           -19.03,
           "Ciudad: Huara,\n Number of Quakes: 1.0,\n Magnitude of Quakes: 4.2"
          ],
          [
           -71.27,
           -30.27,
           "Ciudad: Coquimbo,\n Number of Quakes: 1.0,\n Magnitude of Quakes: 4.2"
          ],
          [
           -69.17,
           -20.31,
           "Ciudad: Pica,\n Number of Quakes: 1.0,\n Magnitude of Quakes: 4.5"
          ],
          [
           -71.69,
           -30.59,
           "Ciudad: Ovalle,\n Number of Quakes: 1.0,\n Magnitude of Quakes: 5.4"
          ],
          [
           -70.18,
           -18.96,
           "Ciudad: Camarones,\n Number of Quakes: 1.0,\n Magnitude of Quakes: 4.2"
          ],
          [
           -71.39,
           -33.21,
           "Ciudad: Casablanca,\n Number of Quakes: 1.0,\n Magnitude of Quakes: 4.0"
          ],
          [
           -71.36,
           -31.09,
           "Ciudad: Punitaqui,\n Number of Quakes: 2.0,\n Magnitude of Quakes: 4.35"
          ],
          [
           -71.05,
           -30.07,
           "Ciudad: La Serena,\n Number of Quakes: 2.0,\n Magnitude of Quakes: 4.35"
          ],
          [
           -69.05,
           -23.05,
           "Ciudad: Sierra Gorda,\n Number of Quakes: 1.0,\n Magnitude of Quakes: 5.3"
          ],
          [
           -71.6,
           -30.41,
           "Ciudad: Ovalle,\n Number of Quakes: 1.0,\n Magnitude of Quakes: 4.0"
          ],
          [
           -69.27,
           -19.14,
           "Ciudad: Colchane,\n Number of Quakes: 2.0,\n Magnitude of Quakes: 4.6"
          ],
          [
           -68.95,
           -20.3,
           "Ciudad: Pica,\n Number of Quakes: 2.0,\n Magnitude of Quakes: 4.6"
          ],
          [
           -69.72,
           -21.31,
           "Ciudad: Pozo Almonte,\n Number of Quakes: 1.0,\n Magnitude of Quakes: 4.1"
          ],
          [
           -69.69,
           -20.73,
           "Ciudad: Pozo Almonte,\n Number of Quakes: 1.0,\n Magnitude of Quakes: 4.4"
          ],
          [
           -71.36,
           -31.77,
           "Ciudad: Canela,\n Number of Quakes: 1.0,\n Magnitude of Quakes: 4.3"
          ],
          [
           -71.84,
           -34.79,
           "Ciudad: Paredones,\n Number of Quakes: 1.0,\n Magnitude of Quakes: 4.3"
          ],
          [
           -71.4,
           -30.72,
           "Ciudad: Ovalle,\n Number of Quakes: 2.0,\n Magnitude of Quakes: 4.75"
          ],
          [
           -71.31,
           -30.44,
           "Ciudad: Ovalle,\n Number of Quakes: 2.0,\n Magnitude of Quakes: 4.75"
          ],
          [
           -70.27,
           -25.84,
           "Ciudad: Taltal,\n Number of Quakes: 2.0,\n Magnitude of Quakes: 4.6"
          ],
          [
           -68.9,
           -23.08,
           "Ciudad: Sierra Gorda,\n Number of Quakes: 2.0,\n Magnitude of Quakes: 4.6"
          ],
          [
           -70.1,
           -21.07,
           "Ciudad: Iquique,\n Number of Quakes: 1.0,\n Magnitude of Quakes: 4.0"
          ],
          [
           -71.54,
           -30.31,
           "Ciudad: Coquimbo,\n Number of Quakes: 1.0,\n Magnitude of Quakes: 5.2"
          ],
          [
           -68.91,
           -20.9,
           "Ciudad: Pica,\n Number of Quakes: 1.0,\n Magnitude of Quakes: 4.5"
          ],
          [
           -71.59,
           -30.64,
           "Ciudad: Ovalle,\n Number of Quakes: 1.0,\n Magnitude of Quakes: 4.5"
          ],
          [
           -71.33,
           -30.65,
           "Ciudad: Ovalle,\n Number of Quakes: 2.0,\n Magnitude of Quakes: 4.300000000000001"
          ],
          [
           -71.26,
           -31.72,
           "Ciudad: Illapel,\n Number of Quakes: 2.0,\n Magnitude of Quakes: 4.300000000000001"
          ],
          [
           -71.43,
           -31.77,
           "Ciudad: Los Vilos,\n Number of Quakes: 2.0,\n Magnitude of Quakes: 4.7"
          ],
          [
           -71.64,
           -30.39,
           "Ciudad: Ovalle,\n Number of Quakes: 2.0,\n Magnitude of Quakes: 4.7"
          ],
          [
           -71.67,
           -30.42,
           "Ciudad: Ovalle,\n Number of Quakes: 1.0,\n Magnitude of Quakes: 4.2"
          ],
          [
           -71.14,
           -35.18,
           "Ciudad: Molina,\n Number of Quakes: 1.0,\n Magnitude of Quakes: 4.6"
          ],
          [
           -71.43,
           -30.69,
           "Ciudad: Ovalle,\n Number of Quakes: 1.0,\n Magnitude of Quakes: 4.8"
          ],
          [
           -71.45,
           -30.73,
           "Ciudad: Ovalle,\n Number of Quakes: 1.0,\n Magnitude of Quakes: 4.5"
          ],
          [
           -71.64,
           -30.43,
           "Ciudad: Ovalle,\n Number of Quakes: 1.0,\n Magnitude of Quakes: 4.5"
          ],
          [
           -68.75,
           -22.62,
           "Ciudad: Calama,\n Number of Quakes: 1.0,\n Magnitude of Quakes: 5.0"
          ],
          [
           -69.93,
           -20.32,
           "Ciudad: Pozo Almonte,\n Number of Quakes: 1.0,\n Magnitude of Quakes: 4.6"
          ],
          [
           -71.7,
           -30.63,
           "Ciudad: Ovalle,\n Number of Quakes: 1.0,\n Magnitude of Quakes: 4.6"
          ],
          [
           -71.27,
           -29.85,
           "Ciudad: La Serena,\n Number of Quakes: 1.0,\n Magnitude of Quakes: 4.1"
          ],
          [
           -70.16,
           -28.98,
           "Ciudad: Alto del Carmen,\n Number of Quakes: 1.0,\n Magnitude of Quakes: 4.7"
          ],
          [
           -71.32,
           -30.8,
           "Ciudad: Punitaqui,\n Number of Quakes: 1.0,\n Magnitude of Quakes: 4.6"
          ],
          [
           -71.49,
           -30.34,
           "Ciudad: Coquimbo,\n Number of Quakes: 1.0,\n Magnitude of Quakes: 4.2"
          ],
          [
           -66.87,
           -21,
           "Ciudad: Municipio Colcha K,\n Number of Quakes: 1.0,\n Magnitude of Quakes: 5.3"
          ],
          [
           -70.44,
           -33.86,
           "Ciudad: Mostazal,\n Number of Quakes: 1.0,\n Magnitude of Quakes: 5.3"
          ],
          [
           -70.04,
           -26.49,
           "Ciudad: Diego de Almagro,\n Number of Quakes: 1.0,\n Magnitude of Quakes: 5.3"
          ],
          [
           -71.35,
           -30.75,
           "Ciudad: Ovalle,\n Number of Quakes: 1.0,\n Magnitude of Quakes: 4.9"
          ],
          [
           -70.99,
           -29.54,
           "Ciudad: La Higuera,\n Number of Quakes: 1.0,\n Magnitude of Quakes: 4.5"
          ],
          [
           -68.57,
           -21.07,
           "Ciudad: Pica,\n Number of Quakes: 1.0,\n Magnitude of Quakes: 4.7"
          ],
          [
           -71.24,
           -30.4,
           "Ciudad: Ovalle,\n Number of Quakes: 1.0,\n Magnitude of Quakes: 4.3"
          ],
          [
           -71.53,
           -32.77,
           "Ciudad: Quintero,\n Number of Quakes: 1.0,\n Magnitude of Quakes: 4.6"
          ],
          [
           -69.47,
           -24.71,
           "Ciudad: Taltal,\n Number of Quakes: 1.0,\n Magnitude of Quakes: 5.0"
          ],
          [
           -71.13,
           -27.95,
           "Ciudad: Copiapó,\n Number of Quakes: 1.0,\n Magnitude of Quakes: 4.6"
          ],
          [
           -71.63,
           -30.68,
           "Ciudad: Ovalle,\n Number of Quakes: 1.0,\n Magnitude of Quakes: 4.3"
          ],
          [
           -71.64,
           -30.63,
           "Ciudad: Ovalle,\n Number of Quakes: 1.0,\n Magnitude of Quakes: 5.1"
          ],
          [
           -69.08,
           -19.67,
           "Ciudad: Huara,\n Number of Quakes: 1.0,\n Magnitude of Quakes: 4.5"
          ],
          [
           -68.66,
           -22.68,
           "Ciudad: Calama,\n Number of Quakes: 1.0,\n Magnitude of Quakes: 4.5"
          ],
          [
           -68.91,
           -21.11,
           "Ciudad: Pica,\n Number of Quakes: 1.0,\n Magnitude of Quakes: 4.1"
          ],
          [
           -70.12,
           -18.97,
           "Ciudad: Camarones,\n Number of Quakes: 1.0,\n Magnitude of Quakes: 4.1"
          ],
          [
           -71.49,
           -31.59,
           "Ciudad: Canela,\n Number of Quakes: 1.0,\n Magnitude of Quakes: 4.1"
          ],
          [
           -69.25,
           -19.48,
           "Ciudad: Huara,\n Number of Quakes: 1.0,\n Magnitude of Quakes: 5.3"
          ],
          [
           -69.49,
           -25.87,
           "Ciudad: Taltal,\n Number of Quakes: 1.0,\n Magnitude of Quakes: 4.1"
          ],
          [
           -71.41,
           -30.36,
           "Ciudad: Coquimbo,\n Number of Quakes: 1.0,\n Magnitude of Quakes: 4.3"
          ],
          [
           -68.92,
           -21.13,
           "Ciudad: Pica,\n Number of Quakes: 1.0,\n Magnitude of Quakes: 4.6"
          ],
          [
           -71.22,
           -30.65,
           "Ciudad: Ovalle,\n Number of Quakes: 1.0,\n Magnitude of Quakes: 4.9"
          ],
          [
           -69,
           -23.02,
           "Ciudad: Sierra Gorda,\n Number of Quakes: 3.0,\n Magnitude of Quakes: 4.7"
          ],
          [
           -71.44,
           -30.17,
           "Ciudad: Coquimbo,\n Number of Quakes: 3.0,\n Magnitude of Quakes: 4.7"
          ],
          [
           -71.63,
           -30.66,
           "Ciudad: Ovalle,\n Number of Quakes: 3.0,\n Magnitude of Quakes: 4.7"
          ],
          [
           -67.5,
           -24.19,
           "Ciudad: Municipio de Tolar Grande,\n Number of Quakes: 1.0,\n Magnitude of Quakes: 6.0"
          ],
          [
           -70.33,
           -23.76,
           "Ciudad: Antofagasta,\n Number of Quakes: 1.0,\n Magnitude of Quakes: 4.1"
          ],
          [
           -68.89,
           -20.47,
           "Ciudad: Pica,\n Number of Quakes: 1.0,\n Magnitude of Quakes: 4.3"
          ],
          [
           -69.35,
           -25.74,
           "Ciudad: Taltal,\n Number of Quakes: 1.0,\n Magnitude of Quakes: 5.8"
          ],
          [
           -71.5,
           -31.54,
           "Ciudad: Canela,\n Number of Quakes: 1.0,\n Magnitude of Quakes: 4.7"
          ],
          [
           -71.38,
           -31.77,
           "Ciudad: Canela,\n Number of Quakes: 1.0,\n Magnitude of Quakes: 5.1"
          ],
          [
           -71.62,
           -30.39,
           "Ciudad: Ovalle,\n Number of Quakes: 1.0,\n Magnitude of Quakes: 5.0"
          ],
          [
           -71.44,
           -30.8,
           "Ciudad: Ovalle,\n Number of Quakes: 1.0,\n Magnitude of Quakes: 4.9"
          ],
          [
           -68.79,
           -21.09,
           "Ciudad: Pica,\n Number of Quakes: 1.0,\n Magnitude of Quakes: 4.0"
          ],
          [
           -69.13,
           -20.71,
           "Ciudad: Pica,\n Number of Quakes: 1.0,\n Magnitude of Quakes: 5.0"
          ],
          [
           -71.47,
           -31.45,
           "Ciudad: Canela,\n Number of Quakes: 1.0,\n Magnitude of Quakes: 4.4"
          ],
          [
           -71.6,
           -30.43,
           "Ciudad: Ovalle,\n Number of Quakes: 1.0,\n Magnitude of Quakes: 4.0"
          ],
          [
           -73.6,
           -41.69,
           "Ciudad: Maullín,\n Number of Quakes: 1.0,\n Magnitude of Quakes: 4.5"
          ],
          [
           -69.31,
           -20.43,
           "Ciudad: Pica,\n Number of Quakes: 1.0,\n Magnitude of Quakes: 4.6"
          ],
          [
           -71.42,
           -30.57,
           "Ciudad: Ovalle,\n Number of Quakes: 1.0,\n Magnitude of Quakes: 4.5"
          ],
          [
           -68.87,
           -21.14,
           "Ciudad: Pica,\n Number of Quakes: 1.0,\n Magnitude of Quakes: 4.7"
          ],
          [
           -71.27,
           -30.69,
           "Ciudad: Ovalle,\n Number of Quakes: 1.0,\n Magnitude of Quakes: 5.1"
          ],
          [
           -73.38,
           -42.2,
           "Ciudad: Quemchi,\n Number of Quakes: 1.0,\n Magnitude of Quakes: 4.5"
          ],
          [
           -71.19,
           -30.64,
           "Ciudad: Ovalle,\n Number of Quakes: 1.0,\n Magnitude of Quakes: 4.1"
          ],
          [
           -71.44,
           -31.77,
           "Ciudad: Los Vilos,\n Number of Quakes: 1.0,\n Magnitude of Quakes: 4.2"
          ],
          [
           -69.98,
           -21.35,
           "Ciudad: Iquique,\n Number of Quakes: 1.0,\n Magnitude of Quakes: 4.3"
          ],
          [
           -71.7,
           -30.74,
           "Ciudad: Ovalle,\n Number of Quakes: 3.0,\n Magnitude of Quakes: 5.0"
          ],
          [
           -71.6,
           -30.43,
           "Ciudad: Ovalle,\n Number of Quakes: 3.0,\n Magnitude of Quakes: 5.0"
          ],
          [
           -71.71,
           -30.74,
           "Ciudad: Ovalle,\n Number of Quakes: 3.0,\n Magnitude of Quakes: 5.0"
          ],
          [
           -71.59,
           -30.65,
           "Ciudad: Ovalle,\n Number of Quakes: 1.0,\n Magnitude of Quakes: 4.4"
          ],
          [
           -68.58,
           -22.68,
           "Ciudad: Calama,\n Number of Quakes: 1.0,\n Magnitude of Quakes: 4.3"
          ],
          [
           -70.3,
           -33.41,
           "Ciudad: Lo Barnechea,\n Number of Quakes: 1.0,\n Magnitude of Quakes: 4.9"
          ],
          [
           -68.61,
           -22.39,
           "Ciudad: Calama,\n Number of Quakes: 3.0,\n Magnitude of Quakes: 5.066666666666666"
          ],
          [
           -71.44,
           -30.8,
           "Ciudad: Ovalle,\n Number of Quakes: 3.0,\n Magnitude of Quakes: 5.066666666666666"
          ],
          [
           -70.48,
           -26.11,
           "Ciudad: Chañaral,\n Number of Quakes: 3.0,\n Magnitude of Quakes: 5.066666666666666"
          ],
          [
           -69.93,
           -19.09,
           "Ciudad: Huara,\n Number of Quakes: 1.0,\n Magnitude of Quakes: 4.4"
          ],
          [
           -71.63,
           -30.41,
           "Ciudad: Ovalle,\n Number of Quakes: 1.0,\n Magnitude of Quakes: 4.4"
          ],
          [
           -71.45,
           -31.59,
           "Ciudad: Canela,\n Number of Quakes: 1.0,\n Magnitude of Quakes: 4.7"
          ],
          [
           -69.47,
           -21.24,
           "Ciudad: Pozo Almonte,\n Number of Quakes: 1.0,\n Magnitude of Quakes: 4.1"
          ],
          [
           -66.2,
           -22.43,
           "Ciudad: Municipio de Rinconada,\n Number of Quakes: 1.0,\n Magnitude of Quakes: 6.0"
          ],
          [
           -68.23,
           -24.12,
           "Ciudad: San Pedro de Atacama,\n Number of Quakes: 1.0,\n Magnitude of Quakes: 5.0"
          ],
          [
           -71.25,
           -32.08,
           "Ciudad: Los Vilos,\n Number of Quakes: 1.0,\n Magnitude of Quakes: 4.9"
          ],
          [
           -71.41,
           -30.75,
           "Ciudad: Ovalle,\n Number of Quakes: 1.0,\n Magnitude of Quakes: 4.5"
          ],
          [
           -69.17,
           -20.57,
           "Ciudad: Pica,\n Number of Quakes: 1.0,\n Magnitude of Quakes: 4.0"
          ],
          [
           -72.96,
           -40.36,
           "Ciudad: Río Bueno,\n Number of Quakes: 1.0,\n Magnitude of Quakes: 4.1"
          ],
          [
           -69.12,
           -20.65,
           "Ciudad: Pica,\n Number of Quakes: 2.0,\n Magnitude of Quakes: 4.75"
          ],
          [
           -69.27,
           -20.21,
           "Ciudad: Pozo Almonte,\n Number of Quakes: 2.0,\n Magnitude of Quakes: 4.75"
          ],
          [
           -71.5,
           -28.88,
           "Ciudad: Freirina,\n Number of Quakes: 1.0,\n Magnitude of Quakes: 4.1"
          ],
          [
           -68.79,
           -22.47,
           "Ciudad: Calama,\n Number of Quakes: 1.0,\n Magnitude of Quakes: 5.1"
          ],
          [
           -70.72,
           -27.53,
           "Ciudad: Copiapó,\n Number of Quakes: 1.0,\n Magnitude of Quakes: 4.0"
          ],
          [
           -68.92,
           -20.59,
           "Ciudad: Pica,\n Number of Quakes: 1.0,\n Magnitude of Quakes: 4.6"
          ],
          [
           -69.65,
           -19.29,
           "Ciudad: Camiña,\n Number of Quakes: 1.0,\n Magnitude of Quakes: 4.5"
          ],
          [
           -73.39,
           -38.15,
           "Ciudad: Tirúa,\n Number of Quakes: 1.0,\n Magnitude of Quakes: 4.9"
          ],
          [
           -69.7,
           -18.4,
           "Ciudad: Arica,\n Number of Quakes: 1.0,\n Magnitude of Quakes: 4.4"
          ],
          [
           -70.68,
           -29.61,
           "Ciudad: La Higuera,\n Number of Quakes: 1.0,\n Magnitude of Quakes: 4.1"
          ],
          [
           -69.89,
           -22.13,
           "Ciudad: Tocopilla,\n Number of Quakes: 1.0,\n Magnitude of Quakes: 4.3"
          ],
          [
           -67.97,
           -21.32,
           "Ciudad: Municipio Colcha K,\n Number of Quakes: 1.0,\n Magnitude of Quakes: 5.0"
          ],
          [
           -69.09,
           -20.05,
           "Ciudad: Pozo Almonte,\n Number of Quakes: 1.0,\n Magnitude of Quakes: 5.3"
          ],
          [
           -68.62,
           -21.8,
           "Ciudad: Calama,\n Number of Quakes: 1.0,\n Magnitude of Quakes: 5.0"
          ],
          [
           -69.06,
           -23.04,
           "Ciudad: Sierra Gorda,\n Number of Quakes: 1.0,\n Magnitude of Quakes: 4.5"
          ],
          [
           -69.54,
           -20.36,
           "Ciudad: Pozo Almonte,\n Number of Quakes: 1.0,\n Magnitude of Quakes: 4.4"
          ],
          [
           -71.37,
           -30.66,
           "Ciudad: Ovalle,\n Number of Quakes: 1.0,\n Magnitude of Quakes: 4.1"
          ],
          [
           -68.19,
           -23.58,
           "Ciudad: San Pedro de Atacama,\n Number of Quakes: 1.0,\n Magnitude of Quakes: 5.1"
          ],
          [
           -70.76,
           -30.17,
           "Ciudad: Vicuña,\n Number of Quakes: 1.0,\n Magnitude of Quakes: 4.2"
          ],
          [
           -69.25,
           -20.21,
           "Ciudad: Pozo Almonte,\n Number of Quakes: 1.0,\n Magnitude of Quakes: 4.1"
          ],
          [
           -71.36,
           -29.99,
           "Ciudad: Coquimbo,\n Number of Quakes: 2.0,\n Magnitude of Quakes: 4.6"
          ],
          [
           -68.53,
           -21.59,
           "Ciudad: Calama,\n Number of Quakes: 2.0,\n Magnitude of Quakes: 4.6"
          ],
          [
           -71.65,
           -30.36,
           "Ciudad: Ovalle,\n Number of Quakes: 1.0,\n Magnitude of Quakes: 4.9"
          ],
          [
           -68.84,
           -21.29,
           "Ciudad: Calama,\n Number of Quakes: 1.0,\n Magnitude of Quakes: 4.1"
          ],
          [
           -70.31,
           -29.29,
           "Ciudad: Alto del Carmen,\n Number of Quakes: 1.0,\n Magnitude of Quakes: 4.6"
          ],
          [
           -69.18,
           -20.25,
           "Ciudad: Pozo Almonte,\n Number of Quakes: 1.0,\n Magnitude of Quakes: 4.4"
          ],
          [
           -70.91,
           -30.58,
           "Ciudad: Monte Patria,\n Number of Quakes: 2.0,\n Magnitude of Quakes: 4.5"
          ],
          [
           -71.3,
           -31,
           "Ciudad: Punitaqui,\n Number of Quakes: 2.0,\n Magnitude of Quakes: 4.5"
          ],
          [
           -71.07,
           -29.43,
           "Ciudad: La Higuera,\n Number of Quakes: 1.0,\n Magnitude of Quakes: 4.2"
          ],
          [
           -70.66,
           -31.35,
           "Ciudad: Illapel,\n Number of Quakes: 1.0,\n Magnitude of Quakes: 4.3"
          ],
          [
           -70.47,
           -28.39,
           "Ciudad: Vallenar,\n Number of Quakes: 1.0,\n Magnitude of Quakes: 4.2"
          ],
          [
           -71.38,
           -30.69,
           "Ciudad: Ovalle,\n Number of Quakes: 1.0,\n Magnitude of Quakes: 5.0"
          ],
          [
           -68.42,
           -21.89,
           "Ciudad: Calama,\n Number of Quakes: 1.0,\n Magnitude of Quakes: 4.6"
          ],
          [
           -71.59,
           -30.64,
           "Ciudad: Ovalle,\n Number of Quakes: 1.0,\n Magnitude of Quakes: 4.0"
          ],
          [
           -71.56,
           -33.71,
           "Ciudad: Santo Domingo,\n Number of Quakes: 1.0,\n Magnitude of Quakes: 4.0"
          ],
          [
           -72.58,
           -36.46,
           "Ciudad: Treguaco,\n Number of Quakes: 1.0,\n Magnitude of Quakes: 4.3"
          ],
          [
           -71.38,
           -30.75,
           "Ciudad: Ovalle,\n Number of Quakes: 1.0,\n Magnitude of Quakes: 4.3"
          ],
          [
           -71.36,
           -30.83,
           "Ciudad: Punitaqui,\n Number of Quakes: 1.0,\n Magnitude of Quakes: 4.4"
          ],
          [
           -70.16,
           -27.72,
           "Ciudad: Tierra Amarilla,\n Number of Quakes: 1.0,\n Magnitude of Quakes: 4.2"
          ],
          [
           -68.45,
           -22.2,
           "Ciudad: Calama,\n Number of Quakes: 1.0,\n Magnitude of Quakes: 4.8"
          ],
          [
           -70.39,
           -25.18,
           "Ciudad: Taltal,\n Number of Quakes: 1.0,\n Magnitude of Quakes: 5.4"
          ],
          [
           -68.64,
           -22.43,
           "Ciudad: Calama,\n Number of Quakes: 1.0,\n Magnitude of Quakes: 5.1"
          ],
          [
           -68.51,
           -22.47,
           "Ciudad: Calama,\n Number of Quakes: 1.0,\n Magnitude of Quakes: 5.0"
          ],
          [
           -69.35,
           -19.34,
           "Ciudad: Camiña,\n Number of Quakes: 1.0,\n Magnitude of Quakes: 5.0"
          ],
          [
           -71,
           -35.06,
           "Ciudad: Romeral,\n Number of Quakes: 1.0,\n Magnitude of Quakes: 6.4"
          ],
          [
           -70.71,
           -28.12,
           "Ciudad: Vallenar,\n Number of Quakes: 1.0,\n Magnitude of Quakes: 4.1"
          ],
          [
           -70.03,
           -25.43,
           "Ciudad: Taltal,\n Number of Quakes: 1.0,\n Magnitude of Quakes: 4.9"
          ],
          [
           -69.42,
           -19.13,
           "Ciudad: Camiña,\n Number of Quakes: 1.0,\n Magnitude of Quakes: 4.6"
          ],
          [
           -71.35,
           -31.71,
           "Ciudad: Canela,\n Number of Quakes: 1.0,\n Magnitude of Quakes: 4.1"
          ],
          [
           -69.97,
           -21.15,
           "Ciudad: Iquique,\n Number of Quakes: 1.0,\n Magnitude of Quakes: 4.4"
          ],
          [
           -69.17,
           -20.78,
           "Ciudad: Pozo Almonte,\n Number of Quakes: 1.0,\n Magnitude of Quakes: 4.2"
          ],
          [
           -70.47,
           -28.39,
           "Ciudad: Vallenar,\n Number of Quakes: 1.0,\n Magnitude of Quakes: 4.3"
          ],
          [
           -68.66,
           -31.65,
           "Ciudad: La Rinconada,\n Number of Quakes: 1.0,\n Magnitude of Quakes: 6.6"
          ],
          [
           -68.73,
           -22.19,
           "Ciudad: Calama,\n Number of Quakes: 1.0,\n Magnitude of Quakes: 4.0"
          ],
          [
           -71.38,
           -29.95,
           "Ciudad: Coquimbo,\n Number of Quakes: 3.0,\n Magnitude of Quakes: 4.466666666666666"
          ],
          [
           -68.72,
           -22.54,
           "Ciudad: Calama,\n Number of Quakes: 3.0,\n Magnitude of Quakes: 4.466666666666666"
          ],
          [
           -68.68,
           -22.15,
           "Ciudad: Calama,\n Number of Quakes: 3.0,\n Magnitude of Quakes: 4.466666666666666"
          ],
          [
           -70.94,
           -31.97,
           "Ciudad: Salamanca,\n Number of Quakes: 1.0,\n Magnitude of Quakes: 4.5"
          ],
          [
           -68.7,
           -21.07,
           "Ciudad: Pica,\n Number of Quakes: 1.0,\n Magnitude of Quakes: 4.9"
          ],
          [
           -70.5,
           -28.74,
           "Ciudad: Alto del Carmen,\n Number of Quakes: 1.0,\n Magnitude of Quakes: 4.1"
          ],
          [
           -71.3,
           -34.12,
           "Ciudad: Las Cabras,\n Number of Quakes: 1.0,\n Magnitude of Quakes: 4.0"
          ],
          [
           -70.22,
           -28.74,
           "Ciudad: Alto del Carmen,\n Number of Quakes: 1.0,\n Magnitude of Quakes: 4.0"
          ],
          [
           -71.43,
           -31.37,
           "Ciudad: Canela,\n Number of Quakes: 1.0,\n Magnitude of Quakes: 4.1"
          ],
          [
           -71.34,
           -30.94,
           "Ciudad: Punitaqui,\n Number of Quakes: 2.0,\n Magnitude of Quakes: 4.8"
          ],
          [
           -71.31,
           -29.76,
           "Ciudad: La Serena,\n Number of Quakes: 2.0,\n Magnitude of Quakes: 4.8"
          ],
          [
           -71.65,
           -30.4,
           "Ciudad: Ovalle,\n Number of Quakes: 1.0,\n Magnitude of Quakes: 5.2"
          ],
          [
           -71.25,
           -31.74,
           "Ciudad: Illapel,\n Number of Quakes: 1.0,\n Magnitude of Quakes: 4.1"
          ],
          [
           -71.44,
           -30.8,
           "Ciudad: Ovalle,\n Number of Quakes: 1.0,\n Magnitude of Quakes: 4.9"
          ],
          [
           -70.62,
           -33.92,
           "Ciudad: Picarquín,\n Number of Quakes: 1.0,\n Magnitude of Quakes: 4.1"
          ],
          [
           -68.87,
           -19.97,
           "Ciudad: Pica,\n Number of Quakes: 1.0,\n Magnitude of Quakes: 5.3"
          ],
          [
           -74.39,
           -43.52,
           "Ciudad: Quellón,\n Number of Quakes: 1.0,\n Magnitude of Quakes: 7.6"
          ],
          [
           -68.83,
           -20.48,
           "Ciudad: Pica,\n Number of Quakes: 1.0,\n Magnitude of Quakes: 4.2"
          ],
          [
           -74.3,
           -43.5,
           "Ciudad: Quellón,\n Number of Quakes: 1.0,\n Magnitude of Quakes: 4.9"
          ],
          [
           -71.52,
           -33.69,
           "Ciudad: San Antonio,\n Number of Quakes: 1.0,\n Magnitude of Quakes: 4.2"
          ],
          [
           -71.17,
           -32.12,
           "Ciudad: Los Vilos,\n Number of Quakes: 1.0,\n Magnitude of Quakes: 4.2"
          ],
          [
           -74.56,
           -43.41,
           "Ciudad: Quellón,\n Number of Quakes: 1.0,\n Magnitude of Quakes: 5.7"
          ],
          [
           -71.53,
           -30.3,
           "Ciudad: Coquimbo,\n Number of Quakes: 1.0,\n Magnitude of Quakes: 5.1"
          ],
          [
           -67.92,
           -22.31,
           "Ciudad: Municipio San Pablo de Lipez,\n Number of Quakes: 1.0,\n Magnitude of Quakes: 6.1"
          ],
          [
           -70.11,
           -19.52,
           "Ciudad: Huara,\n Number of Quakes: 1.0,\n Magnitude of Quakes: 4.0"
          ],
          [
           -71.18,
           -29.69,
           "Ciudad: La Serena,\n Number of Quakes: 1.0,\n Magnitude of Quakes: 4.1"
          ],
          [
           -70.94,
           -31.34,
           "Ciudad: Illapel,\n Number of Quakes: 1.0,\n Magnitude of Quakes: 4.9"
          ],
          [
           -69.83,
           -22.79,
           "Ciudad: María Elena,\n Number of Quakes: 2.0,\n Magnitude of Quakes: 5.05"
          ],
          [
           -69.78,
           -22.8,
           "Ciudad: María Elena,\n Number of Quakes: 2.0,\n Magnitude of Quakes: 5.05"
          ],
          [
           -69.23,
           -18.08,
           "Ciudad: Putre,\n Number of Quakes: 1.0,\n Magnitude of Quakes: 4.9"
          ],
          [
           -70.53,
           -33.68,
           "Ciudad: Santa Rita Sur,\n Number of Quakes: 1.0,\n Magnitude of Quakes: 4.1"
          ],
          [
           -71.49,
           -30.4,
           "Ciudad: Coquimbo,\n Number of Quakes: 1.0,\n Magnitude of Quakes: 4.7"
          ],
          [
           -71.39,
           -30.71,
           "Ciudad: Ovalle,\n Number of Quakes: 1.0,\n Magnitude of Quakes: 4.0"
          ],
          [
           -73.61,
           -37.56,
           "Ciudad: Lebu,\n Number of Quakes: 1.0,\n Magnitude of Quakes: 4.3"
          ],
          [
           -68.75,
           -22.5,
           "Ciudad: Calama,\n Number of Quakes: 1.0,\n Magnitude of Quakes: 4.9"
          ],
          [
           -71.37,
           -30.85,
           "Ciudad: Punitaqui,\n Number of Quakes: 1.0,\n Magnitude of Quakes: 5.0"
          ],
          [
           -68.66,
           -21.23,
           "Ciudad: Calama,\n Number of Quakes: 1.0,\n Magnitude of Quakes: 4.0"
          ],
          [
           -68.99,
           -20.32,
           "Ciudad: Pica,\n Number of Quakes: 1.0,\n Magnitude of Quakes: 4.3"
          ],
          [
           -69.45,
           -25.73,
           "Ciudad: Taltal,\n Number of Quakes: 1.0,\n Magnitude of Quakes: 4.4"
          ],
          [
           -71.4,
           -30.96,
           "Ciudad: Punitaqui,\n Number of Quakes: 2.0,\n Magnitude of Quakes: 4.85"
          ],
          [
           -68.67,
           -22.48,
           "Ciudad: Calama,\n Number of Quakes: 2.0,\n Magnitude of Quakes: 4.85"
          ],
          [
           -70.01,
           -19.95,
           "Ciudad: Huara,\n Number of Quakes: 1.0,\n Magnitude of Quakes: 5.0"
          ],
          [
           -71.55,
           -30.48,
           "Ciudad: Ovalle,\n Number of Quakes: 2.0,\n Magnitude of Quakes: 4.1"
          ],
          [
           -70.36,
           -25.22,
           "Ciudad: Taltal,\n Number of Quakes: 2.0,\n Magnitude of Quakes: 4.1"
          ],
          [
           -69.14,
           -20.43,
           "Ciudad: Pica,\n Number of Quakes: 1.0,\n Magnitude of Quakes: 4.0"
          ],
          [
           -71.27,
           -30.11,
           "Ciudad: Coquimbo,\n Number of Quakes: 1.0,\n Magnitude of Quakes: 4.0"
          ],
          [
           -73.44,
           -37.31,
           "Ciudad: Arauco,\n Number of Quakes: 2.0,\n Magnitude of Quakes: 4.65"
          ],
          [
           -73.66,
           -37.34,
           "Ciudad: Arauco,\n Number of Quakes: 2.0,\n Magnitude of Quakes: 4.65"
          ],
          [
           -69.81,
           -33.15,
           "Ciudad: Distrito Potrerillos,\n Number of Quakes: 1.0,\n Magnitude of Quakes: 5.0"
          ],
          [
           -68.72,
           -21.2,
           "Ciudad: Calama,\n Number of Quakes: 1.0,\n Magnitude of Quakes: 4.6"
          ],
          [
           -69.01,
           -20.94,
           "Ciudad: Pozo Almonte,\n Number of Quakes: 1.0,\n Magnitude of Quakes: 4.7"
          ],
          [
           -71.3,
           -30.05,
           "Ciudad: Coquimbo,\n Number of Quakes: 1.0,\n Magnitude of Quakes: 4.6"
          ],
          [
           -70.4,
           -23.32,
           "Ciudad: Antofagasta,\n Number of Quakes: 1.0,\n Magnitude of Quakes: 4.4"
          ],
          [
           -67.26,
           -23.91,
           "Ciudad: Municipio de San Antonio de los Cobres,\n Number of Quakes: 2.0,\n Magnitude of Quakes: 5.4"
          ],
          [
           -68.74,
           -22.11,
           "Ciudad: Calama,\n Number of Quakes: 2.0,\n Magnitude of Quakes: 5.4"
          ],
          [
           -73.66,
           -37.59,
           "Ciudad: Lebu,\n Number of Quakes: 1.0,\n Magnitude of Quakes: 4.8"
          ],
          [
           -73.63,
           -37.59,
           "Ciudad: Lebu,\n Number of Quakes: 1.0,\n Magnitude of Quakes: 4.0"
          ],
          [
           -71.61,
           -30.83,
           "Ciudad: Ovalle,\n Number of Quakes: 1.0,\n Magnitude of Quakes: 4.4"
          ],
          [
           -69.15,
           -19.46,
           "Ciudad: Huara,\n Number of Quakes: 1.0,\n Magnitude of Quakes: 5.4"
          ],
          [
           -71.3,
           -28.95,
           "Ciudad: Freirina,\n Number of Quakes: 1.0,\n Magnitude of Quakes: 4.8"
          ],
          [
           -69.87,
           -18.18,
           "Ciudad: Arica,\n Number of Quakes: 1.0,\n Magnitude of Quakes: 4.3"
          ],
          [
           -71.32,
           -33.58,
           "Ciudad: María Pinto,\n Number of Quakes: 1.0,\n Magnitude of Quakes: 4.1"
          ],
          [
           -68.39,
           -21.52,
           "Ciudad: Ollagüe,\n Number of Quakes: 1.0,\n Magnitude of Quakes: 4.5"
          ],
          [
           -67.76,
           -22.32,
           "Ciudad: Municipio San Pablo de Lipez,\n Number of Quakes: 1.0,\n Magnitude of Quakes: 5.1"
          ],
          [
           -70.88,
           -28.8,
           "Ciudad: Vallenar,\n Number of Quakes: 1.0,\n Magnitude of Quakes: 4.4"
          ],
          [
           -71.26,
           -31.12,
           "Ciudad: Combarbalá,\n Number of Quakes: 2.0,\n Magnitude of Quakes: 4.55"
          ],
          [
           -68.48,
           -21.62,
           "Ciudad: Calama,\n Number of Quakes: 2.0,\n Magnitude of Quakes: 4.55"
          ],
          [
           -69.02,
           -20.83,
           "Ciudad: Pozo Almonte,\n Number of Quakes: 1.0,\n Magnitude of Quakes: 4.0"
          ],
          [
           -69,
           -19.85,
           "Ciudad: Pica,\n Number of Quakes: 1.0,\n Magnitude of Quakes: 5.0"
          ],
          [
           -69.13,
           -20.41,
           "Ciudad: Pica,\n Number of Quakes: 1.0,\n Magnitude of Quakes: 4.4"
          ],
          [
           -71.35,
           -30.74,
           "Ciudad: Ovalle,\n Number of Quakes: 2.0,\n Magnitude of Quakes: 4.6"
          ],
          [
           -71.4,
           -30.77,
           "Ciudad: Ovalle,\n Number of Quakes: 2.0,\n Magnitude of Quakes: 4.6"
          ],
          [
           -70.98,
           -30.64,
           "Ciudad: Monte Patria,\n Number of Quakes: 1.0,\n Magnitude of Quakes: 4.4"
          ],
          [
           -69.56,
           -25.78,
           "Ciudad: Taltal,\n Number of Quakes: 1.0,\n Magnitude of Quakes: 5.2"
          ],
          [
           -70.05,
           -27.64,
           "Ciudad: Tierra Amarilla,\n Number of Quakes: 1.0,\n Magnitude of Quakes: 5.3"
          ],
          [
           -71.42,
           -30.97,
           "Ciudad: Punitaqui,\n Number of Quakes: 1.0,\n Magnitude of Quakes: 5.3"
          ],
          [
           -69.21,
           -19.8,
           "Ciudad: Huara,\n Number of Quakes: 1.0,\n Magnitude of Quakes: 4.4"
          ],
          [
           -70.99,
           -32.04,
           "Ciudad: Los Vilos,\n Number of Quakes: 1.0,\n Magnitude of Quakes: 4.2"
          ],
          [
           -68.05,
           -23.24,
           "Ciudad: San Pedro de Atacama,\n Number of Quakes: 1.0,\n Magnitude of Quakes: 6.2"
          ],
          [
           -70.12,
           -19.18,
           "Ciudad: Huara,\n Number of Quakes: 1.0,\n Magnitude of Quakes: 4.4"
          ],
          [
           -69.79,
           -22.38,
           "Ciudad: María Elena,\n Number of Quakes: 1.0,\n Magnitude of Quakes: 4.8"
          ],
          [
           -69.98,
           -19.19,
           "Ciudad: Huara,\n Number of Quakes: 1.0,\n Magnitude of Quakes: 4.5"
          ],
          [
           -68.41,
           -21.82,
           "Ciudad: Calama,\n Number of Quakes: 2.0,\n Magnitude of Quakes: 4.6"
          ],
          [
           -71.22,
           -31.86,
           "Ciudad: Los Vilos,\n Number of Quakes: 2.0,\n Magnitude of Quakes: 4.6"
          ],
          [
           -68.82,
           -22.33,
           "Ciudad: Calama,\n Number of Quakes: 1.0,\n Magnitude of Quakes: 4.2"
          ],
          [
           -69.12,
           -20.44,
           "Ciudad: Pica,\n Number of Quakes: 3.0,\n Magnitude of Quakes: 4.7"
          ],
          [
           -69.3,
           -19.69,
           "Ciudad: Huara,\n Number of Quakes: 3.0,\n Magnitude of Quakes: 4.7"
          ],
          [
           -69.04,
           -20.95,
           "Ciudad: Pozo Almonte,\n Number of Quakes: 3.0,\n Magnitude of Quakes: 4.7"
          ],
          [
           -71.63,
           -33.16,
           "Ciudad: Valparaíso,\n Number of Quakes: 1.0,\n Magnitude of Quakes: 4.0"
          ],
          [
           -71.66,
           -33.17,
           "Ciudad: Casablanca,\n Number of Quakes: 1.0,\n Magnitude of Quakes: 5.8"
          ],
          [
           -70.33,
           -29.31,
           "Ciudad: Alto del Carmen,\n Number of Quakes: 1.0,\n Magnitude of Quakes: 4.1"
          ],
          [
           -68.89,
           -21.34,
           "Ciudad: María Elena,\n Number of Quakes: 1.0,\n Magnitude of Quakes: 4.4"
          ],
          [
           -69.56,
           -27.41,
           "Ciudad: Copiapó,\n Number of Quakes: 1.0,\n Magnitude of Quakes: 4.2"
          ],
          [
           -68.73,
           -20.84,
           "Ciudad: Pica,\n Number of Quakes: 1.0,\n Magnitude of Quakes: 5.9"
          ],
          [
           -71.62,
           -33.13,
           "Ciudad: Valparaíso,\n Number of Quakes: 1.0,\n Magnitude of Quakes: 4.0"
          ],
          [
           -70.12,
           -18.89,
           "Ciudad: Camarones,\n Number of Quakes: 1.0,\n Magnitude of Quakes: 4.2"
          ],
          [
           -70.02,
           -22.02,
           "Ciudad: Tocopilla,\n Number of Quakes: 1.0,\n Magnitude of Quakes: 4.3"
          ],
          [
           -71.64,
           -30.63,
           "Ciudad: Ovalle,\n Number of Quakes: 1.0,\n Magnitude of Quakes: 4.4"
          ],
          [
           -68.57,
           -21.14,
           "Ciudad: Calama,\n Number of Quakes: 1.0,\n Magnitude of Quakes: 4.9"
          ],
          [
           -71.39,
           -30.72,
           "Ciudad: Ovalle,\n Number of Quakes: 1.0,\n Magnitude of Quakes: 4.6"
          ],
          [
           -71.8,
           -37.34,
           "Ciudad: Quilleco,\n Number of Quakes: 1.0,\n Magnitude of Quakes: 5.8"
          ],
          [
           -71.21,
           -30.65,
           "Ciudad: Ovalle,\n Number of Quakes: 1.0,\n Magnitude of Quakes: 4.1"
          ],
          [
           -68.53,
           -22.7,
           "Ciudad: Calama,\n Number of Quakes: 1.0,\n Magnitude of Quakes: 4.9"
          ],
          [
           -68.77,
           -21.87,
           "Ciudad: Calama,\n Number of Quakes: 1.0,\n Magnitude of Quakes: 5.2"
          ],
          [
           -70.09,
           -19.54,
           "Ciudad: Huara,\n Number of Quakes: 1.0,\n Magnitude of Quakes: 4.5"
          ],
          [
           -71.07,
           -27.84,
           "Ciudad: Copiapó,\n Number of Quakes: 1.0,\n Magnitude of Quakes: 4.7"
          ],
          [
           -68.75,
           -22.93,
           "Ciudad: Calama,\n Number of Quakes: 1.0,\n Magnitude of Quakes: 5.5"
          ],
          [
           -70.11,
           -22.09,
           "Ciudad: Tocopilla,\n Number of Quakes: 1.0,\n Magnitude of Quakes: 5.0"
          ],
          [
           -68.9,
           -22.57,
           "Ciudad: Calama,\n Number of Quakes: 1.0,\n Magnitude of Quakes: 4.2"
          ],
          [
           -69.12,
           -20.85,
           "Ciudad: Pozo Almonte,\n Number of Quakes: 1.0,\n Magnitude of Quakes: 4.0"
          ],
          [
           -68.88,
           -21.16,
           "Ciudad: Pica,\n Number of Quakes: 1.0,\n Magnitude of Quakes: 4.0"
          ],
          [
           -70.98,
           -30.95,
           "Ciudad: Monte Patria,\n Number of Quakes: 1.0,\n Magnitude of Quakes: 4.6"
          ],
          [
           -68.85,
           -22.75,
           "Ciudad: Calama,\n Number of Quakes: 1.0,\n Magnitude of Quakes: 4.6"
          ],
          [
           -70.53,
           -27.5,
           "Ciudad: Copiapó,\n Number of Quakes: 1.0,\n Magnitude of Quakes: 4.0"
          ],
          [
           -71.82,
           -39.41,
           "Ciudad: Pucón,\n Number of Quakes: 1.0,\n Magnitude of Quakes: 5.0"
          ],
          [
           -68.8,
           -22.37,
           "Ciudad: Calama,\n Number of Quakes: 1.0,\n Magnitude of Quakes: 4.6"
          ],
          [
           -72.15,
           -37.33,
           "Ciudad: Los Ángeles,\n Number of Quakes: 1.0,\n Magnitude of Quakes: 4.1"
          ],
          [
           -70.17,
           -19.23,
           "Ciudad: Huara,\n Number of Quakes: 1.0,\n Magnitude of Quakes: 4.1"
          ],
          [
           -68.64,
           -21.89,
           "Ciudad: Calama,\n Number of Quakes: 1.0,\n Magnitude of Quakes: 5.5"
          ],
          [
           -69.58,
           -19.4,
           "Ciudad: Camiña,\n Number of Quakes: 1.0,\n Magnitude of Quakes: 5.0"
          ],
          [
           -71.77,
           -34.82,
           "Ciudad: Lolol,\n Number of Quakes: 1.0,\n Magnitude of Quakes: 4.5"
          ],
          [
           -70.63,
           -35.2,
           "Ciudad: Romeral,\n Number of Quakes: 1.0,\n Magnitude of Quakes: 4.1"
          ],
          [
           -68.64,
           -21.38,
           "Ciudad: Calama,\n Number of Quakes: 1.0,\n Magnitude of Quakes: 4.8"
          ],
          [
           -71.28,
           -33.9,
           "Ciudad: Melipilla,\n Number of Quakes: 1.0,\n Magnitude of Quakes: 4.0"
          ],
          [
           -71.35,
           -30.27,
           "Ciudad: Coquimbo,\n Number of Quakes: 1.0,\n Magnitude of Quakes: 4.0"
          ],
          [
           -69.2,
           -23.84,
           "Ciudad: Antofagasta,\n Number of Quakes: 1.0,\n Magnitude of Quakes: 5.4"
          ],
          [
           -69.15,
           -21.18,
           "Ciudad: Pozo Almonte,\n Number of Quakes: 1.0,\n Magnitude of Quakes: 5.4"
          ],
          [
           -68.58,
           -21.91,
           "Ciudad: Calama,\n Number of Quakes: 1.0,\n Magnitude of Quakes: 4.8"
          ],
          [
           -69.15,
           -22.74,
           "Ciudad: Sierra Gorda,\n Number of Quakes: 1.0,\n Magnitude of Quakes: 4.4"
          ],
          [
           -69.52,
           -23.99,
           "Ciudad: Antofagasta,\n Number of Quakes: 2.0,\n Magnitude of Quakes: 4.45"
          ],
          [
           -71.31,
           -31.22,
           "Ciudad: Canela,\n Number of Quakes: 2.0,\n Magnitude of Quakes: 4.45"
          ],
          [
           -70.61,
           -33.2,
           "Ciudad: Colina,\n Number of Quakes: 1.0,\n Magnitude of Quakes: 5.5"
          ],
          [
           -71.21,
           -28.48,
           "Ciudad: Huasco,\n Number of Quakes: 1.0,\n Magnitude of Quakes: 5.4"
          ],
          [
           -72.34,
           -39.56,
           "Ciudad: Panguipulli,\n Number of Quakes: 1.0,\n Magnitude of Quakes: 4.1"
          ],
          [
           -71.86,
           -35.12,
           "Ciudad: Curepto,\n Number of Quakes: 1.0,\n Magnitude of Quakes: 4.8"
          ],
          [
           -68.93,
           -20.79,
           "Ciudad: Pica,\n Number of Quakes: 1.0,\n Magnitude of Quakes: 4.0"
          ],
          [
           -68.88,
           -22.55,
           "Ciudad: Calama,\n Number of Quakes: 2.0,\n Magnitude of Quakes: 4.550000000000001"
          ],
          [
           -71.49,
           -30.38,
           "Ciudad: Coquimbo,\n Number of Quakes: 2.0,\n Magnitude of Quakes: 4.550000000000001"
          ],
          [
           -69.04,
           -20.31,
           "Ciudad: Pica,\n Number of Quakes: 1.0,\n Magnitude of Quakes: 4.6"
          ],
          [
           -70.66,
           -25.53,
           "Ciudad: Taltal,\n Number of Quakes: 1.0,\n Magnitude of Quakes: 4.2"
          ],
          [
           -70.34,
           -33.14,
           "Ciudad: Lo Barnechea,\n Number of Quakes: 1.0,\n Magnitude of Quakes: 4.7"
          ],
          [
           -70.11,
           -19.97,
           "Ciudad: Huara,\n Number of Quakes: 1.0,\n Magnitude of Quakes: 4.0"
          ],
          [
           -71.2,
           -28.5,
           "Ciudad: Huasco,\n Number of Quakes: 1.0,\n Magnitude of Quakes: 4.1"
          ],
          [
           -73.35,
           -37.47,
           "Ciudad: Curanilahue,\n Number of Quakes: 1.0,\n Magnitude of Quakes: 5.0"
          ],
          [
           -70.08,
           -19.29,
           "Ciudad: Huara,\n Number of Quakes: 1.0,\n Magnitude of Quakes: 5.2"
          ],
          [
           -71.35,
           -30.77,
           "Ciudad: Ovalle,\n Number of Quakes: 1.0,\n Magnitude of Quakes: 4.2"
          ],
          [
           -69.11,
           -20.84,
           "Ciudad: Pozo Almonte,\n Number of Quakes: 1.0,\n Magnitude of Quakes: 4.0"
          ],
          [
           -66.82,
           -22.46,
           "Ciudad: Municipio de Cusi Cusi,\n Number of Quakes: 1.0,\n Magnitude of Quakes: 5.3"
          ],
          [
           -69.31,
           -28.02,
           "Ciudad: Tierra Amarilla,\n Number of Quakes: 1.0,\n Magnitude of Quakes: 4.0"
          ],
          [
           -69.25,
           -20.24,
           "Ciudad: Pozo Almonte,\n Number of Quakes: 1.0,\n Magnitude of Quakes: 4.1"
          ],
          [
           -71.64,
           -35.72,
           "Ciudad: Villa Alegre,\n Number of Quakes: 1.0,\n Magnitude of Quakes: 4.2"
          ],
          [
           -69.07,
           -19.88,
           "Ciudad: Huara,\n Number of Quakes: 1.0,\n Magnitude of Quakes: 4.1"
          ],
          [
           -69.93,
           -18.05,
           "Ciudad: Tacna,\n Number of Quakes: 1.0,\n Magnitude of Quakes: 4.7"
          ],
          [
           -71.5,
           -33.78,
           "Ciudad: San Pedro,\n Number of Quakes: 1.0,\n Magnitude of Quakes: 4.9"
          ],
          [
           -71.83,
           -35.18,
           "Ciudad: Curepto,\n Number of Quakes: 1.0,\n Magnitude of Quakes: 4.6"
          ],
          [
           -71.18,
           -28.37,
           "Ciudad: Huasco,\n Number of Quakes: 1.0,\n Magnitude of Quakes: 4.6"
          ],
          [
           -66.95,
           -21.35,
           "Ciudad: Municipio Colcha K,\n Number of Quakes: 1.0,\n Magnitude of Quakes: 5.2"
          ],
          [
           -71.27,
           -29.43,
           "Ciudad: La Higuera,\n Number of Quakes: 1.0,\n Magnitude of Quakes: 4.1"
          ],
          [
           -70.75,
           -28.4,
           "Ciudad: Vallenar,\n Number of Quakes: 1.0,\n Magnitude of Quakes: 4.3"
          ],
          [
           -68.73,
           -22.21,
           "Ciudad: Calama,\n Number of Quakes: 1.0,\n Magnitude of Quakes: 4.6"
          ],
          [
           -71.34,
           -30.72,
           "Ciudad: Ovalle,\n Number of Quakes: 1.0,\n Magnitude of Quakes: 4.3"
          ],
          [
           -68.54,
           -22.37,
           "Ciudad: Calama,\n Number of Quakes: 1.0,\n Magnitude of Quakes: 5.8"
          ],
          [
           -68.89,
           -20.39,
           "Ciudad: Pica,\n Number of Quakes: 1.0,\n Magnitude of Quakes: 4.0"
          ],
          [
           -68.74,
           -21.23,
           "Ciudad: Calama,\n Number of Quakes: 1.0,\n Magnitude of Quakes: 4.5"
          ],
          [
           -70.09,
           -27.84,
           "Ciudad: Tierra Amarilla,\n Number of Quakes: 2.0,\n Magnitude of Quakes: 4.4"
          ],
          [
           -71.24,
           -30.01,
           "Ciudad: Coquimbo,\n Number of Quakes: 2.0,\n Magnitude of Quakes: 4.4"
          ],
          [
           -69.74,
           -18.49,
           "Ciudad: Arica,\n Number of Quakes: 3.0,\n Magnitude of Quakes: 5.233333333333333"
          ],
          [
           -69.78,
           -18.62,
           "Ciudad: Arica,\n Number of Quakes: 3.0,\n Magnitude of Quakes: 5.233333333333333"
          ],
          [
           -69.77,
           -18.57,
           "Ciudad: Arica,\n Number of Quakes: 3.0,\n Magnitude of Quakes: 5.233333333333333"
          ],
          [
           -70.21,
           -27.72,
           "Ciudad: Tierra Amarilla,\n Number of Quakes: 1.0,\n Magnitude of Quakes: 4.0"
          ],
          [
           -69.18,
           -19.67,
           "Ciudad: Huara,\n Number of Quakes: 1.0,\n Magnitude of Quakes: 4.3"
          ],
          [
           -69.14,
           -20.29,
           "Ciudad: Pica,\n Number of Quakes: 1.0,\n Magnitude of Quakes: 4.0"
          ],
          [
           -68.75,
           -21.07,
           "Ciudad: Pica,\n Number of Quakes: 1.0,\n Magnitude of Quakes: 4.2"
          ],
          [
           -68.94,
           -22.76,
           "Ciudad: Calama,\n Number of Quakes: 1.0,\n Magnitude of Quakes: 4.9"
          ],
          [
           -71.04,
           -32.59,
           "Ciudad: Cabildo,\n Number of Quakes: 1.0,\n Magnitude of Quakes: 4.0"
          ],
          [
           -67.72,
           -22.63,
           "Ciudad: Municipio San Pablo de Lipez,\n Number of Quakes: 1.0,\n Magnitude of Quakes: 5.4"
          ],
          [
           -69.69,
           -20.76,
           "Ciudad: Pozo Almonte,\n Number of Quakes: 1.0,\n Magnitude of Quakes: 4.0"
          ],
          [
           -71.65,
           -30.6,
           "Ciudad: Ovalle,\n Number of Quakes: 1.0,\n Magnitude of Quakes: 4.2"
          ],
          [
           -69.3,
           -19.67,
           "Ciudad: Huara,\n Number of Quakes: 1.0,\n Magnitude of Quakes: 4.1"
          ],
          [
           -69.93,
           -23.16,
           "Ciudad: Sierra Gorda,\n Number of Quakes: 2.0,\n Magnitude of Quakes: 4.35"
          ],
          [
           -71.26,
           -30.93,
           "Ciudad: Punitaqui,\n Number of Quakes: 2.0,\n Magnitude of Quakes: 4.35"
          ],
          [
           -69.13,
           -20,
           "Ciudad: Pozo Almonte,\n Number of Quakes: 1.0,\n Magnitude of Quakes: 4.1"
          ],
          [
           -70.79,
           -34.68,
           "Ciudad: San Fernando,\n Number of Quakes: 1.0,\n Magnitude of Quakes: 4.4"
          ],
          [
           -68.66,
           -22.14,
           "Ciudad: Calama,\n Number of Quakes: 2.0,\n Magnitude of Quakes: 4.6"
          ],
          [
           -71.29,
           -29.46,
           "Ciudad: La Higuera,\n Number of Quakes: 2.0,\n Magnitude of Quakes: 4.6"
          ],
          [
           -70.45,
           -33.2,
           "Ciudad: Lo Barnechea,\n Number of Quakes: 1.0,\n Magnitude of Quakes: 4.0"
          ],
          [
           -69.29,
           -24,
           "Ciudad: Antofagasta,\n Number of Quakes: 1.0,\n Magnitude of Quakes: 4.3"
          ],
          [
           -69.21,
           -20.2,
           "Ciudad: Pozo Almonte,\n Number of Quakes: 1.0,\n Magnitude of Quakes: 4.3"
          ],
          [
           -69.13,
           -20.75,
           "Ciudad: Pozo Almonte,\n Number of Quakes: 1.0,\n Magnitude of Quakes: 5.0"
          ],
          [
           -68.68,
           -21.97,
           "Ciudad: Calama,\n Number of Quakes: 1.0,\n Magnitude of Quakes: 4.5"
          ],
          [
           -68.92,
           -20.5,
           "Ciudad: Pica,\n Number of Quakes: 1.0,\n Magnitude of Quakes: 4.3"
          ],
          [
           -68.42,
           -21.25,
           "Ciudad: Ollagüe,\n Number of Quakes: 1.0,\n Magnitude of Quakes: 4.3"
          ],
          [
           -71.37,
           -29.92,
           "Ciudad: Coquimbo,\n Number of Quakes: 1.0,\n Magnitude of Quakes: 3.5"
          ],
          [
           -70.01,
           -33.54,
           "Ciudad: San José de Maipo,\n Number of Quakes: 1.0,\n Magnitude of Quakes: 4.4"
          ],
          [
           -70.19,
           -28.41,
           "Ciudad: Vallenar,\n Number of Quakes: 1.0,\n Magnitude of Quakes: 4.2"
          ],
          [
           -71.36,
           -32.28,
           "Ciudad: La Ligua,\n Number of Quakes: 1.0,\n Magnitude of Quakes: 4.5"
          ],
          [
           -72.59,
           -40.34,
           "Ciudad: Río Bueno,\n Number of Quakes: 1.0,\n Magnitude of Quakes: 4.0"
          ],
          [
           -70.06,
           -19.16,
           "Ciudad: Huara,\n Number of Quakes: 1.0,\n Magnitude of Quakes: 4.4"
          ],
          [
           -70.08,
           -18.01,
           "Ciudad: Pocollay,\n Number of Quakes: 1.0,\n Magnitude of Quakes: 4.5"
          ],
          [
           -69.15,
           -20.24,
           "Ciudad: Pozo Almonte,\n Number of Quakes: 1.0,\n Magnitude of Quakes: 4.5"
          ],
          [
           -70.43,
           -26.05,
           "Ciudad: Chañaral,\n Number of Quakes: 1.0,\n Magnitude of Quakes: 4.7"
          ],
          [
           -70.2,
           -32.77,
           "Ciudad: San Esteban,\n Number of Quakes: 1.0,\n Magnitude of Quakes: 4.2"
          ],
          [
           -69.35,
           -23.98,
           "Ciudad: Antofagasta,\n Number of Quakes: 1.0,\n Magnitude of Quakes: 4.6"
          ],
          [
           -70.17,
           -24.91,
           "Ciudad: Taltal,\n Number of Quakes: 1.0,\n Magnitude of Quakes: 5.5"
          ],
          [
           -69.36,
           -19.28,
           "Ciudad: Camiña,\n Number of Quakes: 1.0,\n Magnitude of Quakes: 5.1"
          ],
          [
           -69.57,
           -18.22,
           "Ciudad: Putre,\n Number of Quakes: 1.0,\n Magnitude of Quakes: 4.7"
          ],
          [
           -68.78,
           -21.46,
           "Ciudad: Calama,\n Number of Quakes: 1.0,\n Magnitude of Quakes: 4.6"
          ],
          [
           -68.57,
           -21.72,
           "Ciudad: Calama,\n Number of Quakes: 1.0,\n Magnitude of Quakes: 4.5"
          ],
          [
           -69.61,
           -18.88,
           "Ciudad: Camarones,\n Number of Quakes: 1.0,\n Magnitude of Quakes: 6.2"
          ],
          [
           -68.92,
           -22.54,
           "Ciudad: Calama,\n Number of Quakes: 1.0,\n Magnitude of Quakes: 4.0"
          ],
          [
           -69.11,
           -20.31,
           "Ciudad: Pica,\n Number of Quakes: 1.0,\n Magnitude of Quakes: 5.3"
          ],
          [
           -69.12,
           -18.25,
           "Ciudad: Putre,\n Number of Quakes: 2.0,\n Magnitude of Quakes: 4.75"
          ],
          [
           -69.19,
           -18.32,
           "Ciudad: Putre,\n Number of Quakes: 2.0,\n Magnitude of Quakes: 4.75"
          ],
          [
           -71.32,
           -30.99,
           "Ciudad: Punitaqui,\n Number of Quakes: 1.0,\n Magnitude of Quakes: 4.1"
          ],
          [
           -71.13,
           -29.19,
           "Ciudad: Vallenar,\n Number of Quakes: 1.0,\n Magnitude of Quakes: 4.2"
          ],
          [
           -69.39,
           -28.2,
           "Ciudad: Tierra Amarilla,\n Number of Quakes: 1.0,\n Magnitude of Quakes: 5.1"
          ],
          [
           -70.86,
           -17.29,
           "Ciudad: Moquegua,\n Number of Quakes: 1.0,\n Magnitude of Quakes: 5.0"
          ],
          [
           -71.7,
           -34.79,
           "Ciudad: Lolol,\n Number of Quakes: 2.0,\n Magnitude of Quakes: 4.4"
          ],
          [
           -70.31,
           -32.47,
           "Ciudad: Putaendo,\n Number of Quakes: 2.0,\n Magnitude of Quakes: 4.4"
          ],
          [
           -71.51,
           -30.29,
           "Ciudad: Coquimbo,\n Number of Quakes: 1.0,\n Magnitude of Quakes: 4.2"
          ],
          [
           -69.35,
           -18.95,
           "Ciudad: Camarones,\n Number of Quakes: 1.0,\n Magnitude of Quakes: 4.9"
          ],
          [
           -69.18,
           -20.22,
           "Ciudad: Pozo Almonte,\n Number of Quakes: 1.0,\n Magnitude of Quakes: 4.0"
          ],
          [
           -71.46,
           -31.59,
           "Ciudad: Canela,\n Number of Quakes: 1.0,\n Magnitude of Quakes: 4.0"
          ],
          [
           -73.03,
           -37.72,
           "Ciudad: Cañete,\n Number of Quakes: 1.0,\n Magnitude of Quakes: 4.5"
          ],
          [
           -70.52,
           -34.38,
           "Ciudad: Requínoa,\n Number of Quakes: 1.0,\n Magnitude of Quakes: 4.3"
          ],
          [
           -68.65,
           -20.45,
           "Ciudad: Municipio Llica,\n Number of Quakes: 1.0,\n Magnitude of Quakes: 5.1"
          ],
          [
           -71.36,
           -31.04,
           "Ciudad: Punitaqui,\n Number of Quakes: 1.0,\n Magnitude of Quakes: 4.3"
          ],
          [
           -71.5,
           -29.02,
           "Ciudad: Freirina,\n Number of Quakes: 1.0,\n Magnitude of Quakes: 4.4"
          ],
          [
           -70.13,
           -33.51,
           "Ciudad: San José de Maipo,\n Number of Quakes: 1.0,\n Magnitude of Quakes: 4.2"
          ],
          [
           -69.13,
           -22.94,
           "Ciudad: Sierra Gorda,\n Number of Quakes: 1.0,\n Magnitude of Quakes: 4.8"
          ],
          [
           -70.09,
           -19.96,
           "Ciudad: Huara,\n Number of Quakes: 1.0,\n Magnitude of Quakes: 4.0"
          ],
          [
           -70.23,
           -27.19,
           "Ciudad: Copiapó,\n Number of Quakes: 1.0,\n Magnitude of Quakes: 4.4"
          ],
          [
           -69.15,
           -18.79,
           "Ciudad: Putre,\n Number of Quakes: 1.0,\n Magnitude of Quakes: 4.8"
          ],
          [
           -69.19,
           -23.36,
           "Ciudad: Sierra Gorda,\n Number of Quakes: 1.0,\n Magnitude of Quakes: 4.4"
          ],
          [
           -71.29,
           -28.88,
           "Ciudad: Freirina,\n Number of Quakes: 2.0,\n Magnitude of Quakes: 4.0"
          ],
          [
           -69.57,
           -21.56,
           "Ciudad: Pozo Almonte,\n Number of Quakes: 2.0,\n Magnitude of Quakes: 4.0"
          ],
          [
           -69.92,
           -27.49,
           "Ciudad: Copiapó,\n Number of Quakes: 1.0,\n Magnitude of Quakes: 4.4"
          ],
          [
           -68.72,
           -21.41,
           "Ciudad: Calama,\n Number of Quakes: 1.0,\n Magnitude of Quakes: 4.6"
          ],
          [
           -69.06,
           -25.69,
           "Ciudad: Diego de Almagro,\n Number of Quakes: 1.0,\n Magnitude of Quakes: 4.7"
          ],
          [
           -69.49,
           -24.73,
           "Ciudad: Taltal,\n Number of Quakes: 1.0,\n Magnitude of Quakes: 4.6"
          ],
          [
           -70.01,
           -21.52,
           "Ciudad: Tocopilla,\n Number of Quakes: 1.0,\n Magnitude of Quakes: 4.0"
          ],
          [
           -68.9,
           -20.65,
           "Ciudad: Pica,\n Number of Quakes: 1.0,\n Magnitude of Quakes: 4.1"
          ],
          [
           -71.69,
           -30.68,
           "Ciudad: Ovalle,\n Number of Quakes: 1.0,\n Magnitude of Quakes: 4.4"
          ],
          [
           -71.38,
           -30.36,
           "Ciudad: Coquimbo,\n Number of Quakes: 1.0,\n Magnitude of Quakes: 4.0"
          ],
          [
           -70.65,
           -28.16,
           "Ciudad: Vallenar,\n Number of Quakes: 1.0,\n Magnitude of Quakes: 4.3"
          ],
          [
           -73.93,
           -42.62,
           "Ciudad: Chonchi,\n Number of Quakes: 1.0,\n Magnitude of Quakes: 5.0"
          ],
          [
           -71.54,
           -31,
           "Ciudad: Punitaqui,\n Number of Quakes: 1.0,\n Magnitude of Quakes: 6.2"
          ],
          [
           -70.21,
           -28.36,
           "Ciudad: Vallenar,\n Number of Quakes: 1.0,\n Magnitude of Quakes: 4.0"
          ],
          [
           -68.81,
           -21.46,
           "Ciudad: Calama,\n Number of Quakes: 1.0,\n Magnitude of Quakes: 5.0"
          ],
          [
           -69.4,
           -20.17,
           "Ciudad: Pozo Almonte,\n Number of Quakes: 1.0,\n Magnitude of Quakes: 4.1"
          ],
          [
           -71.11,
           -32.75,
           "Ciudad: Nogales,\n Number of Quakes: 1.0,\n Magnitude of Quakes: 4.1"
          ],
          [
           -69.27,
           -27.25,
           "Ciudad: Tierra Amarilla,\n Number of Quakes: 1.0,\n Magnitude of Quakes: 4.4"
          ],
          [
           -68.48,
           -21.78,
           "Ciudad: Calama,\n Number of Quakes: 1.0,\n Magnitude of Quakes: 4.6"
          ],
          [
           -69.17,
           -20.14,
           "Ciudad: Pozo Almonte,\n Number of Quakes: 1.0,\n Magnitude of Quakes: 4.7"
          ],
          [
           -70.11,
           -33.26,
           "Ciudad: San José de Maipo,\n Number of Quakes: 1.0,\n Magnitude of Quakes: 5.1"
          ],
          [
           -71.38,
           -32.2,
           "Ciudad: La Ligua,\n Number of Quakes: 1.0,\n Magnitude of Quakes: 4.8"
          ],
          [
           -69.21,
           -19.43,
           "Ciudad: Huara,\n Number of Quakes: 2.0,\n Magnitude of Quakes: 4.5"
          ],
          [
           -68.73,
           -21.29,
           "Ciudad: Calama,\n Number of Quakes: 2.0,\n Magnitude of Quakes: 4.5"
          ],
          [
           -73.75,
           -41.38,
           "Ciudad: Los Muermos,\n Number of Quakes: 1.0,\n Magnitude of Quakes: 4.1"
          ],
          [
           -69.18,
           -20.72,
           "Ciudad: Pozo Almonte,\n Number of Quakes: 1.0,\n Magnitude of Quakes: 4.0"
          ],
          [
           -71.36,
           -31.3,
           "Ciudad: Canela,\n Number of Quakes: 1.0,\n Magnitude of Quakes: 4.4"
          ],
          [
           -69.04,
           -20.17,
           "Ciudad: Pozo Almonte,\n Number of Quakes: 1.0,\n Magnitude of Quakes: 4.9"
          ],
          [
           -71.65,
           -34.96,
           "Ciudad: Hualañé,\n Number of Quakes: 1.0,\n Magnitude of Quakes: 4.2"
          ],
          [
           -68.77,
           -21.92,
           "Ciudad: Calama,\n Number of Quakes: 2.0,\n Magnitude of Quakes: 4.5"
          ],
          [
           -69.25,
           -23.51,
           "Ciudad: Sierra Gorda,\n Number of Quakes: 2.0,\n Magnitude of Quakes: 4.5"
          ],
          [
           -69.11,
           -20.87,
           "Ciudad: Pozo Almonte,\n Number of Quakes: 2.0,\n Magnitude of Quakes: 4.199999999999999"
          ],
          [
           -69.06,
           -20.81,
           "Ciudad: Pozo Almonte,\n Number of Quakes: 2.0,\n Magnitude of Quakes: 4.199999999999999"
          ],
          [
           -69.2,
           -20.78,
           "Ciudad: Pozo Almonte,\n Number of Quakes: 1.0,\n Magnitude of Quakes: 4.9"
          ],
          [
           -69.42,
           -19.93,
           "Ciudad: Huara,\n Number of Quakes: 1.0,\n Magnitude of Quakes: 4.4"
          ],
          [
           -69.05,
           -20.04,
           "Ciudad: Pozo Almonte,\n Number of Quakes: 1.0,\n Magnitude of Quakes: 4.1"
          ],
          [
           -71.3,
           -29.59,
           "Ciudad: La Higuera,\n Number of Quakes: 1.0,\n Magnitude of Quakes: 4.3"
          ],
          [
           -71.4,
           -30.71,
           "Ciudad: Ovalle,\n Number of Quakes: 1.0,\n Magnitude of Quakes: 4.1"
          ],
          [
           -69.86,
           -21.3,
           "Ciudad: Pozo Almonte,\n Number of Quakes: 1.0,\n Magnitude of Quakes: 4.0"
          ],
          [
           -71.49,
           -30.38,
           "Ciudad: Coquimbo,\n Number of Quakes: 2.0,\n Magnitude of Quakes: 5.199999999999999"
          ],
          [
           -67.47,
           -24.25,
           "Ciudad: Municipio de Tolar Grande,\n Number of Quakes: 2.0,\n Magnitude of Quakes: 5.199999999999999"
          ],
          [
           -69.01,
           -20.96,
           "Ciudad: Pozo Almonte,\n Number of Quakes: 1.0,\n Magnitude of Quakes: 4.1"
          ],
          [
           -69.82,
           -18.61,
           "Ciudad: Arica,\n Number of Quakes: 1.0,\n Magnitude of Quakes: 4.5"
          ],
          [
           -69.01,
           -21.16,
           "Ciudad: Pozo Almonte,\n Number of Quakes: 1.0,\n Magnitude of Quakes: 4.0"
          ],
          [
           -71.29,
           -31.16,
           "Ciudad: Combarbalá,\n Number of Quakes: 1.0,\n Magnitude of Quakes: 4.4"
          ],
          [
           -71.15,
           -28.86,
           "Ciudad: Freirina,\n Number of Quakes: 2.0,\n Magnitude of Quakes: 4.300000000000001"
          ],
          [
           -71.45,
           -31.24,
           "Ciudad: Canela,\n Number of Quakes: 2.0,\n Magnitude of Quakes: 4.300000000000001"
          ],
          [
           -68.91,
           -23.22,
           "Ciudad: Sierra Gorda,\n Number of Quakes: 1.0,\n Magnitude of Quakes: 5.1"
          ],
          [
           -72.74,
           -37.75,
           "Ciudad: Angol,\n Number of Quakes: 1.0,\n Magnitude of Quakes: 4.3"
          ],
          [
           -69.09,
           -20.84,
           "Ciudad: Pozo Almonte,\n Number of Quakes: 1.0,\n Magnitude of Quakes: 4.0"
          ],
          [
           -73,
           -37.55,
           "Ciudad: Nacimiento,\n Number of Quakes: 1.0,\n Magnitude of Quakes: 4.4"
          ],
          [
           -71.67,
           -30.63,
           "Ciudad: Ovalle,\n Number of Quakes: 1.0,\n Magnitude of Quakes: 4.0"
          ],
          [
           -70.19,
           -22.71,
           "Ciudad: Mejillones,\n Number of Quakes: 1.0,\n Magnitude of Quakes: 4.1"
          ],
          [
           -69.61,
           -19.92,
           "Ciudad: Huara,\n Number of Quakes: 1.0,\n Magnitude of Quakes: 4.1"
          ],
          [
           -71.39,
           -30.83,
           "Ciudad: Ovalle,\n Number of Quakes: 1.0,\n Magnitude of Quakes: 4.1"
          ],
          [
           -71.28,
           -30.92,
           "Ciudad: Punitaqui,\n Number of Quakes: 1.0,\n Magnitude of Quakes: 4.1"
          ],
          [
           -70.27,
           -27.61,
           "Ciudad: Tierra Amarilla,\n Number of Quakes: 1.0,\n Magnitude of Quakes: 4.0"
          ],
          [
           -68.67,
           -22.25,
           "Ciudad: Calama,\n Number of Quakes: 1.0,\n Magnitude of Quakes: 4.9"
          ],
          [
           -71.45,
           -31.43,
           "Ciudad: Canela,\n Number of Quakes: 1.0,\n Magnitude of Quakes: 3.7"
          ],
          [
           -69.04,
           -20.4,
           "Ciudad: Pica,\n Number of Quakes: 1.0,\n Magnitude of Quakes: 4.4"
          ],
          [
           -69.48,
           -19.64,
           "Ciudad: Huara,\n Number of Quakes: 1.0,\n Magnitude of Quakes: 5.3"
          ],
          [
           -71.7,
           -34.59,
           "Ciudad: Pumanque,\n Number of Quakes: 1.0,\n Magnitude of Quakes: 4.1"
          ],
          [
           -71.3,
           -29.72,
           "Ciudad: La Serena,\n Number of Quakes: 1.0,\n Magnitude of Quakes: 4.2"
          ],
          [
           -69.3,
           -19.62,
           "Ciudad: Huara,\n Number of Quakes: 1.0,\n Magnitude of Quakes: 4.6"
          ],
          [
           -66.5,
           -22.56,
           "Ciudad: Municipio de Mina Pirquitas,\n Number of Quakes: 1.0,\n Magnitude of Quakes: 4.0"
          ],
          [
           -71.39,
           -30.71,
           "Ciudad: Ovalle,\n Number of Quakes: 2.0,\n Magnitude of Quakes: 4.1"
          ],
          [
           -69.55,
           -23.41,
           "Ciudad: Sierra Gorda,\n Number of Quakes: 2.0,\n Magnitude of Quakes: 4.1"
          ],
          [
           -68.79,
           -21.29,
           "Ciudad: Calama,\n Number of Quakes: 2.0,\n Magnitude of Quakes: 4.6"
          ],
          [
           -69.66,
           -17.27,
           "Ciudad: Capazo,\n Number of Quakes: 2.0,\n Magnitude of Quakes: 4.6"
          ],
          [
           -70.19,
           -27.55,
           "Ciudad: Tierra Amarilla,\n Number of Quakes: 1.0,\n Magnitude of Quakes: 3.4"
          ],
          [
           -70.79,
           -11.07,
           "Ciudad: Iñapari,\n Number of Quakes: 1.0,\n Magnitude of Quakes: 7.1"
          ],
          [
           -71.3,
           -29.7,
           "Ciudad: La Serena,\n Number of Quakes: 1.0,\n Magnitude of Quakes: 5.1"
          ],
          [
           -68.95,
           -20.72,
           "Ciudad: Pica,\n Number of Quakes: 1.0,\n Magnitude of Quakes: 4.1"
          ],
          [
           -71.23,
           -32.4,
           "Ciudad: La Ligua,\n Number of Quakes: 1.0,\n Magnitude of Quakes: 5.0"
          ],
          [
           -70.49,
           -32.23,
           "Ciudad: Petorca,\n Number of Quakes: 1.0,\n Magnitude of Quakes: 5.2"
          ],
          [
           -70.65,
           -31.81,
           "Ciudad: Salamanca,\n Number of Quakes: 1.0,\n Magnitude of Quakes: 4.0"
          ],
          [
           -71.61,
           -30.39,
           "Ciudad: Ovalle,\n Number of Quakes: 1.0,\n Magnitude of Quakes: 4.0"
          ],
          [
           -69.13,
           -20.64,
           "Ciudad: Pica,\n Number of Quakes: 1.0,\n Magnitude of Quakes: 4.1"
          ],
          [
           -69.27,
           -19.41,
           "Ciudad: Huara,\n Number of Quakes: 1.0,\n Magnitude of Quakes: 4.0"
          ],
          [
           -71.22,
           -29.36,
           "Ciudad: La Higuera,\n Number of Quakes: 1.0,\n Magnitude of Quakes: 3.1"
          ],
          [
           -71.76,
           -39.79,
           "Ciudad: Panguipulli,\n Number of Quakes: 1.0,\n Magnitude of Quakes: 4.7"
          ],
          [
           -70.59,
           -34.38,
           "Ciudad: Requínoa,\n Number of Quakes: 1.0,\n Magnitude of Quakes: 5.0"
          ],
          [
           -70.17,
           -28.91,
           "Ciudad: Alto del Carmen,\n Number of Quakes: 1.0,\n Magnitude of Quakes: 6.1"
          ],
          [
           -69.44,
           -19.42,
           "Ciudad: Camiña,\n Number of Quakes: 1.0,\n Magnitude of Quakes: 3.6"
          ],
          [
           -70.02,
           -20.13,
           "Ciudad: Alto Hospicio,\n Number of Quakes: 1.0,\n Magnitude of Quakes: 3.7"
          ],
          [
           -71.48,
           -31.43,
           "Ciudad: Canela,\n Number of Quakes: 1.0,\n Magnitude of Quakes: 3.3"
          ],
          [
           -69.44,
           -20.82,
           "Ciudad: Pozo Almonte,\n Number of Quakes: 1.0,\n Magnitude of Quakes: 3.8"
          ],
          [
           -69.34,
           -19.26,
           "Ciudad: Camiña,\n Number of Quakes: 2.0,\n Magnitude of Quakes: 4.8"
          ],
          [
           -71.74,
           -16.25,
           "Ciudad: Yura,\n Number of Quakes: 2.0,\n Magnitude of Quakes: 4.8"
          ],
          [
           -69.94,
           -18.83,
           "Ciudad: Camarones,\n Number of Quakes: 3.0,\n Magnitude of Quakes: 3.8666666666666663"
          ],
          [
           -69.93,
           -20.4,
           "Ciudad: Pozo Almonte,\n Number of Quakes: 3.0,\n Magnitude of Quakes: 3.8666666666666663"
          ],
          [
           -69.98,
           -20.39,
           "Ciudad: Pozo Almonte,\n Number of Quakes: 3.0,\n Magnitude of Quakes: 3.8666666666666663"
          ],
          [
           -70.84,
           -27.37,
           "Ciudad: Caldera,\n Number of Quakes: 1.0,\n Magnitude of Quakes: 3.6"
          ],
          [
           -68.89,
           -22.77,
           "Ciudad: Calama,\n Number of Quakes: 1.0,\n Magnitude of Quakes: 4.2"
          ],
          [
           -71.33,
           -30.85,
           "Ciudad: Punitaqui,\n Number of Quakes: 1.0,\n Magnitude of Quakes: 4.1"
          ],
          [
           -72.99,
           -39.8,
           "Ciudad: Valdivia,\n Number of Quakes: 1.0,\n Magnitude of Quakes: 4.4"
          ],
          [
           -70.49,
           -26.07,
           "Ciudad: Chañaral,\n Number of Quakes: 1.0,\n Magnitude of Quakes: 5.3"
          ],
          [
           -69.56,
           -19.76,
           "Ciudad: Huara,\n Number of Quakes: 1.0,\n Magnitude of Quakes: 3.5"
          ],
          [
           -70.04,
           -24.36,
           "Ciudad: Antofagasta,\n Number of Quakes: 1.0,\n Magnitude of Quakes: 5.6"
          ],
          [
           -71.25,
           -30.11,
           "Ciudad: Coquimbo,\n Number of Quakes: 2.0,\n Magnitude of Quakes: 3.85"
          ],
          [
           -70.64,
           -29.64,
           "Ciudad: La Higuera,\n Number of Quakes: 2.0,\n Magnitude of Quakes: 3.85"
          ],
          [
           -71.34,
           -30.3,
           "Ciudad: Coquimbo,\n Number of Quakes: 1.0,\n Magnitude of Quakes: 4.2"
          ],
          [
           -69.53,
           -19,
           "Ciudad: Camarones,\n Number of Quakes: 1.0,\n Magnitude of Quakes: 4.3"
          ],
          [
           -69.3,
           -20.28,
           "Ciudad: Pica,\n Number of Quakes: 1.0,\n Magnitude of Quakes: 4.1"
          ],
          [
           -66.67,
           -22.9,
           "Ciudad: Municipio de Mina Pirquitas,\n Number of Quakes: 1.0,\n Magnitude of Quakes: 4.4"
          ],
          [
           -71.83,
           -34.73,
           "Ciudad: Paredones,\n Number of Quakes: 1.0,\n Magnitude of Quakes: 4.6"
          ],
          [
           -71.5,
           -31.56,
           "Ciudad: Canela,\n Number of Quakes: 1.0,\n Magnitude of Quakes: 3.6"
          ],
          [
           -69.26,
           -27.78,
           "Ciudad: Tierra Amarilla,\n Number of Quakes: 1.0,\n Magnitude of Quakes: 4.3"
          ],
          [
           -72.85,
           -42.09,
           "Ciudad: Hualaihué,\n Number of Quakes: 1.0,\n Magnitude of Quakes: 4.1"
          ],
          [
           -69.81,
           -23.39,
           "Ciudad: Sierra Gorda,\n Number of Quakes: 1.0,\n Magnitude of Quakes: 4.4"
          ],
          [
           -68.62,
           -22.62,
           "Ciudad: Calama,\n Number of Quakes: 1.0,\n Magnitude of Quakes: 4.8"
          ],
          [
           -71.45,
           -31.58,
           "Ciudad: Canela,\n Number of Quakes: 1.0,\n Magnitude of Quakes: 3.5"
          ],
          [
           -69.09,
           -20.55,
           "Ciudad: Pica,\n Number of Quakes: 1.0,\n Magnitude of Quakes: 4.1"
          ],
          [
           -72.06,
           -35.15,
           "Ciudad: Curepto,\n Number of Quakes: 1.0,\n Magnitude of Quakes: 3.7"
          ],
          [
           -70.35,
           -27.65,
           "Ciudad: Tierra Amarilla,\n Number of Quakes: 1.0,\n Magnitude of Quakes: 3.7"
          ],
          [
           -69.41,
           -19.65,
           "Ciudad: Huara,\n Number of Quakes: 1.0,\n Magnitude of Quakes: 6.3"
          ],
          [
           -68.75,
           -22.29,
           "Ciudad: Calama,\n Number of Quakes: 1.0,\n Magnitude of Quakes: 4.9"
          ],
          [
           -70.03,
           -18.23,
           "Ciudad: Tacna,\n Number of Quakes: 1.0,\n Magnitude of Quakes: 3.9"
          ],
          [
           -69.39,
           -19.73,
           "Ciudad: Huara,\n Number of Quakes: 1.0,\n Magnitude of Quakes: 4.8"
          ],
          [
           -69.05,
           -24.07,
           "Ciudad: Antofagasta,\n Number of Quakes: 1.0,\n Magnitude of Quakes: 4.7"
          ],
          [
           -68.96,
           -21.11,
           "Ciudad: Pozo Almonte,\n Number of Quakes: 1.0,\n Magnitude of Quakes: 4.5"
          ],
          [
           -71.23,
           -30.16,
           "Ciudad: Coquimbo,\n Number of Quakes: 1.0,\n Magnitude of Quakes: 4.0"
          ],
          [
           -71.44,
           -31.6,
           "Ciudad: Canela,\n Number of Quakes: 1.0,\n Magnitude of Quakes: 4.9"
          ],
          [
           -69.22,
           -19.42,
           "Ciudad: Huara,\n Number of Quakes: 1.0,\n Magnitude of Quakes: 4.4"
          ],
          [
           -69.97,
           -20.38,
           "Ciudad: Pozo Almonte,\n Number of Quakes: 1.0,\n Magnitude of Quakes: 2.8"
          ],
          [
           -71.44,
           -30.72,
           "Ciudad: Ovalle,\n Number of Quakes: 1.0,\n Magnitude of Quakes: 4.0"
          ],
          [
           -69.89,
           -19.03,
           "Ciudad: Huara,\n Number of Quakes: 1.0,\n Magnitude of Quakes: 3.6"
          ],
          [
           -71.5,
           -33.69,
           "Ciudad: San Antonio,\n Number of Quakes: 1.0,\n Magnitude of Quakes: 5.3"
          ],
          [
           -71.53,
           -30.32,
           "Ciudad: Coquimbo,\n Number of Quakes: 1.0,\n Magnitude of Quakes: 4.2"
          ],
          [
           -71.78,
           -34.77,
           "Ciudad: Lolol,\n Number of Quakes: 1.0,\n Magnitude of Quakes: 3.6"
          ],
          [
           -71.41,
           -30.72,
           "Ciudad: Ovalle,\n Number of Quakes: 1.0,\n Magnitude of Quakes: 4.6"
          ],
          [
           -70.36,
           -29.01,
           "Ciudad: Alto del Carmen,\n Number of Quakes: 1.0,\n Magnitude of Quakes: 4.8"
          ],
          [
           -70.36,
           -33.31,
           "Ciudad: Lo Barnechea,\n Number of Quakes: 1.0,\n Magnitude of Quakes: 4.2"
          ],
          [
           -69.95,
           -20.99,
           "Ciudad: Iquique,\n Number of Quakes: 1.0,\n Magnitude of Quakes: 5.1"
          ],
          [
           -71.13,
           -34.98,
           "Ciudad: Romeral,\n Number of Quakes: 1.0,\n Magnitude of Quakes: 4.6"
          ],
          [
           -69.29,
           -27.67,
           "Ciudad: Tierra Amarilla,\n Number of Quakes: 2.0,\n Magnitude of Quakes: 4.449999999999999"
          ],
          [
           -69.26,
           -23.2,
           "Ciudad: Sierra Gorda,\n Number of Quakes: 2.0,\n Magnitude of Quakes: 4.449999999999999"
          ],
          [
           -71.63,
           -30.65,
           "Ciudad: Ovalle,\n Number of Quakes: 2.0,\n Magnitude of Quakes: 4.85"
          ],
          [
           -69.36,
           -23.44,
           "Ciudad: Sierra Gorda,\n Number of Quakes: 2.0,\n Magnitude of Quakes: 4.85"
          ],
          [
           -69.04,
           -21.69,
           "Ciudad: María Elena,\n Number of Quakes: 2.0,\n Magnitude of Quakes: 3.9"
          ],
          [
           -71.27,
           -29.6,
           "Ciudad: Caleta Hornos,\n Number of Quakes: 2.0,\n Magnitude of Quakes: 3.9"
          ],
          [
           -69.35,
           -19.96,
           "Ciudad: Huara,\n Number of Quakes: 1.0,\n Magnitude of Quakes: 4.2"
          ],
          [
           -68.94,
           -21.05,
           "Ciudad: Pica,\n Number of Quakes: 1.0,\n Magnitude of Quakes: 4.6"
          ],
          [
           -73.4,
           -37.8,
           "Ciudad: Cañete,\n Number of Quakes: 1.0,\n Magnitude of Quakes: 4.2"
          ],
          [
           -70.25,
           -27.48,
           "Ciudad: Tierra Amarilla,\n Number of Quakes: 2.0,\n Magnitude of Quakes: 4.35"
          ],
          [
           -69.38,
           -27.58,
           "Ciudad: Tierra Amarilla,\n Number of Quakes: 2.0,\n Magnitude of Quakes: 4.35"
          ],
          [
           -68.9,
           -22.09,
           "Ciudad: Calama,\n Number of Quakes: 1.0,\n Magnitude of Quakes: 4.7"
          ],
          [
           -69.21,
           -19.91,
           "Ciudad: Huara,\n Number of Quakes: 1.0,\n Magnitude of Quakes: 4.0"
          ],
          [
           -71.14,
           -30.05,
           "Ciudad: Coquimbo,\n Number of Quakes: 1.0,\n Magnitude of Quakes: 4.1"
          ],
          [
           -69.29,
           -19.62,
           "Ciudad: Huara,\n Number of Quakes: 1.0,\n Magnitude of Quakes: 3.7"
          ],
          [
           -69.12,
           -23.13,
           "Ciudad: Sierra Gorda,\n Number of Quakes: 2.0,\n Magnitude of Quakes: 4.3"
          ],
          [
           -68.72,
           -22.19,
           "Ciudad: Calama,\n Number of Quakes: 2.0,\n Magnitude of Quakes: 4.3"
          ],
          [
           -69.67,
           -19.6,
           "Ciudad: Camiña,\n Number of Quakes: 1.0,\n Magnitude of Quakes: 5.0"
          ],
          [
           -69.13,
           -19.61,
           "Ciudad: Huara,\n Number of Quakes: 1.0,\n Magnitude of Quakes: 4.9"
          ],
          [
           -69.79,
           -20.59,
           "Ciudad: Pozo Almonte,\n Number of Quakes: 1.0,\n Magnitude of Quakes: 4.3"
          ],
          [
           -70.16,
           -27.05,
           "Ciudad: Copiapó,\n Number of Quakes: 1.0,\n Magnitude of Quakes: 3.9"
          ],
          [
           -73.21,
           -41.6,
           "Ciudad: Calbuco,\n Number of Quakes: 1.0,\n Magnitude of Quakes: 3.6"
          ],
          [
           -70.23,
           -33.32,
           "Ciudad: Lo Barnechea,\n Number of Quakes: 1.0,\n Magnitude of Quakes: 4.1"
          ],
          [
           -70.77,
           -29.76,
           "Ciudad: Vicuña,\n Number of Quakes: 2.0,\n Magnitude of Quakes: 3.95"
          ],
          [
           -71.3,
           -30.77,
           "Ciudad: Punitaqui,\n Number of Quakes: 2.0,\n Magnitude of Quakes: 3.95"
          ],
          [
           -73.05,
           -40.57,
           "Ciudad: Osorno,\n Number of Quakes: 1.0,\n Magnitude of Quakes: 4.0"
          ],
          [
           -71.36,
           -30.28,
           "Ciudad: Coquimbo,\n Number of Quakes: 6.0,\n Magnitude of Quakes: 4.416666666666667"
          ],
          [
           -71.29,
           -30.27,
           "Ciudad: Coquimbo,\n Number of Quakes: 6.0,\n Magnitude of Quakes: 4.416666666666667"
          ],
          [
           -71.23,
           -30.16,
           "Ciudad: Coquimbo,\n Number of Quakes: 6.0,\n Magnitude of Quakes: 4.416666666666667"
          ],
          [
           -71.24,
           -30.26,
           "Ciudad: Coquimbo,\n Number of Quakes: 6.0,\n Magnitude of Quakes: 4.416666666666667"
          ],
          [
           -71.24,
           -30.14,
           "Ciudad: Coquimbo,\n Number of Quakes: 6.0,\n Magnitude of Quakes: 4.416666666666667"
          ],
          [
           -71.24,
           -30.06,
           "Ciudad: Coquimbo,\n Number of Quakes: 6.0,\n Magnitude of Quakes: 4.416666666666667"
          ],
          [
           -70.36,
           -33.87,
           "Ciudad: San José de Maipo,\n Number of Quakes: 1.0,\n Magnitude of Quakes: 4.6"
          ],
          [
           -71.22,
           -30.15,
           "Ciudad: Coquimbo,\n Number of Quakes: 1.0,\n Magnitude of Quakes: 3.9"
          ],
          [
           -71.24,
           -30.22,
           "Ciudad: Coquimbo,\n Number of Quakes: 6.0,\n Magnitude of Quakes: 4.133333333333334"
          ],
          [
           -71.25,
           -30.15,
           "Ciudad: Coquimbo,\n Number of Quakes: 6.0,\n Magnitude of Quakes: 4.133333333333334"
          ],
          [
           -71.24,
           -30.14,
           "Ciudad: Coquimbo,\n Number of Quakes: 6.0,\n Magnitude of Quakes: 4.133333333333334"
          ],
          [
           -71.22,
           -30.23,
           "Ciudad: Coquimbo,\n Number of Quakes: 6.0,\n Magnitude of Quakes: 4.133333333333334"
          ],
          [
           -71.18,
           -30.21,
           "Ciudad: Andacollo,\n Number of Quakes: 6.0,\n Magnitude of Quakes: 4.133333333333334"
          ],
          [
           -71.24,
           -30.23,
           "Ciudad: Coquimbo,\n Number of Quakes: 6.0,\n Magnitude of Quakes: 4.133333333333334"
          ],
          [
           -71.81,
           -35,
           "Ciudad: Curepto,\n Number of Quakes: 1.0,\n Magnitude of Quakes: 4.1"
          ],
          [
           -71.3,
           -30.12,
           "Ciudad: Coquimbo,\n Number of Quakes: 2.0,\n Magnitude of Quakes: 4.5"
          ],
          [
           -71.22,
           -30.17,
           "Ciudad: Coquimbo,\n Number of Quakes: 2.0,\n Magnitude of Quakes: 4.5"
          ],
          [
           -70.3,
           -33.55,
           "Ciudad: San José de Maipo,\n Number of Quakes: 1.0,\n Magnitude of Quakes: 4.3"
          ],
          [
           -70.12,
           -19.17,
           "Ciudad: Huara,\n Number of Quakes: 1.0,\n Magnitude of Quakes: 4.2"
          ],
          [
           -71.29,
           -30.09,
           "Ciudad: Coquimbo,\n Number of Quakes: 1.0,\n Magnitude of Quakes: 3.8"
          ],
          [
           -71.28,
           -30.17,
           "Ciudad: Coquimbo,\n Number of Quakes: 1.0,\n Magnitude of Quakes: 3.9"
          ],
          [
           -71.3,
           -31.72,
           "Ciudad: Illapel,\n Number of Quakes: 2.0,\n Magnitude of Quakes: 4.2"
          ],
          [
           -71.03,
           -30.75,
           "Ciudad: Monte Patria,\n Number of Quakes: 2.0,\n Magnitude of Quakes: 4.2"
          ],
          [
           -70.62,
           -25.87,
           "Ciudad: Taltal,\n Number of Quakes: 1.0,\n Magnitude of Quakes: 5.5"
          ],
          [
           -69,
           -20.46,
           "Ciudad: Pica,\n Number of Quakes: 1.0,\n Magnitude of Quakes: 4.0"
          ],
          [
           -70.48,
           -28.49,
           "Ciudad: Vallenar,\n Number of Quakes: 1.0,\n Magnitude of Quakes: 4.0"
          ],
          [
           -69.36,
           -23,
           "Ciudad: Sierra Gorda,\n Number of Quakes: 2.0,\n Magnitude of Quakes: 4.15"
          ],
          [
           -71.25,
           -30.25,
           "Ciudad: Coquimbo,\n Number of Quakes: 2.0,\n Magnitude of Quakes: 4.15"
          ],
          [
           -71.26,
           -30.13,
           "Ciudad: Coquimbo,\n Number of Quakes: 1.0,\n Magnitude of Quakes: 4.3"
          ],
          [
           -72.78,
           -37.24,
           "Ciudad: Santa Juana,\n Number of Quakes: 1.0,\n Magnitude of Quakes: 4.3"
          ],
          [
           -68.72,
           -22.83,
           "Ciudad: Calama,\n Number of Quakes: 1.0,\n Magnitude of Quakes: 4.6"
          ],
          [
           -70.58,
           -28.07,
           "Ciudad: Copiapó,\n Number of Quakes: 1.0,\n Magnitude of Quakes: 4.2"
          ],
          [
           -69.93,
           -20.27,
           "Ciudad: Pozo Almonte,\n Number of Quakes: 1.0,\n Magnitude of Quakes: 3.3"
          ],
          [
           -71.21,
           -30.04,
           "Ciudad: Coquimbo,\n Number of Quakes: 4.0,\n Magnitude of Quakes: 3.9"
          ],
          [
           -71.19,
           -30,
           "Ciudad: Coquimbo,\n Number of Quakes: 4.0,\n Magnitude of Quakes: 3.9"
          ],
          [
           -70.17,
           -29,
           "Ciudad: Alto del Carmen,\n Number of Quakes: 4.0,\n Magnitude of Quakes: 3.9"
          ],
          [
           -71.52,
           -30.59,
           "Ciudad: Ovalle,\n Number of Quakes: 4.0,\n Magnitude of Quakes: 3.9"
          ],
          [
           -71.28,
           -31.36,
           "Ciudad: Canela,\n Number of Quakes: 2.0,\n Magnitude of Quakes: 4.3"
          ],
          [
           -70.89,
           -30.78,
           "Ciudad: El Palqui,\n Number of Quakes: 2.0,\n Magnitude of Quakes: 4.3"
          ],
          [
           -69.53,
           -19.67,
           "Ciudad: Huara,\n Number of Quakes: 1.0,\n Magnitude of Quakes: 3.7"
          ],
          [
           -71.29,
           -30.24,
           "Ciudad: Coquimbo,\n Number of Quakes: 2.0,\n Magnitude of Quakes: 3.8"
          ],
          [
           -71.36,
           -30.99,
           "Ciudad: Punitaqui,\n Number of Quakes: 2.0,\n Magnitude of Quakes: 3.8"
          ],
          [
           -71.26,
           -30.23,
           "Ciudad: Coquimbo,\n Number of Quakes: 1.0,\n Magnitude of Quakes: 4.7"
          ],
          [
           -71.28,
           -30.18,
           "Ciudad: Coquimbo,\n Number of Quakes: 1.0,\n Magnitude of Quakes: 3.6"
          ],
          [
           -69.38,
           -20.63,
           "Ciudad: Pica,\n Number of Quakes: 1.0,\n Magnitude of Quakes: 3.9"
          ],
          [
           -70.39,
           -14.7,
           "Ciudad: Asillo,\n Number of Quakes: 1.0,\n Magnitude of Quakes: 7.0"
          ],
          [
           -71.7,
           -30.63,
           "Ciudad: Ovalle,\n Number of Quakes: 1.0,\n Magnitude of Quakes: 5.3"
          ],
          [
           -71.67,
           -33.14,
           "Ciudad: Valparaíso,\n Number of Quakes: 2.0,\n Magnitude of Quakes: 3.75"
          ],
          [
           -72.19,
           -36.07,
           "Ciudad: Cauquenes,\n Number of Quakes: 2.0,\n Magnitude of Quakes: 3.75"
          ],
          [
           -69.64,
           -18.87,
           "Ciudad: Camarones,\n Number of Quakes: 1.0,\n Magnitude of Quakes: 4.8"
          ],
          [
           -71.23,
           -30.18,
           "Ciudad: Coquimbo,\n Number of Quakes: 2.0,\n Magnitude of Quakes: 4.2"
          ],
          [
           -71.26,
           -30.23,
           "Ciudad: Coquimbo,\n Number of Quakes: 2.0,\n Magnitude of Quakes: 4.2"
          ],
          [
           -69.12,
           -19.94,
           "Ciudad: Huara,\n Number of Quakes: 1.0,\n Magnitude of Quakes: 4.2"
          ],
          [
           -71.32,
           -30.24,
           "Ciudad: Coquimbo,\n Number of Quakes: 1.0,\n Magnitude of Quakes: 4.9"
          ],
          [
           -70.44,
           -25.78,
           "Ciudad: Taltal,\n Number of Quakes: 1.0,\n Magnitude of Quakes: 4.8"
          ],
          [
           -68.73,
           -21.28,
           "Ciudad: Calama,\n Number of Quakes: 1.0,\n Magnitude of Quakes: 4.5"
          ],
          [
           -70.58,
           -34.34,
           "Ciudad: Requínoa,\n Number of Quakes: 1.0,\n Magnitude of Quakes: 4.4"
          ],
          [
           -70.4,
           -28.64,
           "Ciudad: Vallenar,\n Number of Quakes: 3.0,\n Magnitude of Quakes: 4.066666666666666"
          ],
          [
           -71.41,
           -30.71,
           "Ciudad: Ovalle,\n Number of Quakes: 3.0,\n Magnitude of Quakes: 4.066666666666666"
          ],
          [
           -71.41,
           -30.71,
           "Ciudad: Ovalle,\n Number of Quakes: 3.0,\n Magnitude of Quakes: 4.066666666666666"
          ],
          [
           -69.15,
           -20.27,
           "Ciudad: Pica,\n Number of Quakes: 1.0,\n Magnitude of Quakes: 4.1"
          ],
          [
           -71.27,
           -30.66,
           "Ciudad: Ovalle,\n Number of Quakes: 2.0,\n Magnitude of Quakes: 3.4000000000000004"
          ],
          [
           -70.05,
           -27.99,
           "Ciudad: Tierra Amarilla,\n Number of Quakes: 2.0,\n Magnitude of Quakes: 3.4000000000000004"
          ],
          [
           -65.91,
           -17.85,
           "Ciudad: Municipio Anzaldo,\n Number of Quakes: 1.0,\n Magnitude of Quakes: 6.3"
          ],
          [
           -71.15,
           -29.59,
           "Ciudad: La Higuera,\n Number of Quakes: 1.0,\n Magnitude of Quakes: 3.7"
          ],
          [
           -68.51,
           -20.37,
           "Ciudad: Municipio Llica,\n Number of Quakes: 1.0,\n Magnitude of Quakes: 4.9"
          ],
          [
           -71.17,
           -30.22,
           "Ciudad: Andacollo,\n Number of Quakes: 1.0,\n Magnitude of Quakes: 4.2"
          ],
          [
           -71.29,
           -30.07,
           "Ciudad: Coquimbo,\n Number of Quakes: 1.0,\n Magnitude of Quakes: 4.1"
          ],
          [
           -72.7,
           -36.19,
           "Ciudad: Cobquecura,\n Number of Quakes: 1.0,\n Magnitude of Quakes: 4.4"
          ],
          [
           -68.61,
           -22.71,
           "Ciudad: Calama,\n Number of Quakes: 1.0,\n Magnitude of Quakes: 4.4"
          ],
          [
           -68.75,
           -22.9,
           "Ciudad: Calama,\n Number of Quakes: 1.0,\n Magnitude of Quakes: 4.3"
          ],
          [
           -68.86,
           -22.79,
           "Ciudad: Calama,\n Number of Quakes: 1.0,\n Magnitude of Quakes: 4.4"
          ],
          [
           -70.28,
           -19.27,
           "Ciudad: Huara,\n Number of Quakes: 3.0,\n Magnitude of Quakes: 4.2"
          ],
          [
           -69.59,
           -18.44,
           "Ciudad: Putre,\n Number of Quakes: 3.0,\n Magnitude of Quakes: 4.2"
          ],
          [
           -69.48,
           -19.9,
           "Ciudad: Huara,\n Number of Quakes: 3.0,\n Magnitude of Quakes: 4.2"
          ],
          [
           -70.12,
           -24.6,
           "Ciudad: Antofagasta,\n Number of Quakes: 1.0,\n Magnitude of Quakes: 5.5"
          ],
          [
           -71.35,
           -31.54,
           "Ciudad: Canela,\n Number of Quakes: 1.0,\n Magnitude of Quakes: 3.5"
          ],
          [
           -70.17,
           -24,
           "Ciudad: Antofagasta,\n Number of Quakes: 1.0,\n Magnitude of Quakes: 4.4"
          ],
          [
           -67.57,
           -18.16,
           "Ciudad: Municipio Toledo,\n Number of Quakes: 1.0,\n Magnitude of Quakes: 4.8"
          ],
          [
           -71.29,
           -30.24,
           "Ciudad: Coquimbo,\n Number of Quakes: 1.0,\n Magnitude of Quakes: 4.5"
          ],
          [
           -69.98,
           -20.84,
           "Ciudad: Pozo Almonte,\n Number of Quakes: 1.0,\n Magnitude of Quakes: 3.8"
          ],
          [
           -70.39,
           -32.89,
           "Ciudad: Los Andes,\n Number of Quakes: 1.0,\n Magnitude of Quakes: 4.1"
          ],
          [
           -70.9,
           -29.75,
           "Ciudad: La Serena,\n Number of Quakes: 1.0,\n Magnitude of Quakes: 3.8"
          ],
          [
           -71.2,
           -30.25,
           "Ciudad: Coquimbo,\n Number of Quakes: 1.0,\n Magnitude of Quakes: 4.7"
          ],
          [
           -71.27,
           -30.07,
           "Ciudad: Coquimbo,\n Number of Quakes: 2.0,\n Magnitude of Quakes: 4.25"
          ],
          [
           -70.69,
           -27.32,
           "Ciudad: Copiapó,\n Number of Quakes: 2.0,\n Magnitude of Quakes: 4.25"
          ],
          [
           -70.12,
           -28.43,
           "Ciudad: Vallenar,\n Number of Quakes: 1.0,\n Magnitude of Quakes: 3.7"
          ],
          [
           -71.54,
           -32.14,
           "Ciudad: Pichidangui,\n Number of Quakes: 1.0,\n Magnitude of Quakes: 4.6"
          ],
          [
           -71.26,
           -32.35,
           "Ciudad: La Ligua,\n Number of Quakes: 1.0,\n Magnitude of Quakes: 3.7"
          ],
          [
           -69.42,
           -19.64,
           "Ciudad: Huara,\n Number of Quakes: 1.0,\n Magnitude of Quakes: 3.7"
          ],
          [
           -70.11,
           -24.58,
           "Ciudad: Antofagasta,\n Number of Quakes: 1.0,\n Magnitude of Quakes: 4.9"
          ],
          [
           -70.12,
           -20.13,
           "Ciudad: Iquique,\n Number of Quakes: 1.0,\n Magnitude of Quakes: 3.3"
          ],
          [
           -69.13,
           -20.34,
           "Ciudad: Pica,\n Number of Quakes: 1.0,\n Magnitude of Quakes: 5.0"
          ],
          [
           -69.02,
           -22.91,
           "Ciudad: Sierra Gorda,\n Number of Quakes: 1.0,\n Magnitude of Quakes: 4.2"
          ],
          [
           -71.11,
           -29.59,
           "Ciudad: La Higuera,\n Number of Quakes: 2.0,\n Magnitude of Quakes: 3.85"
          ],
          [
           -71.29,
           -30.86,
           "Ciudad: Punitaqui,\n Number of Quakes: 2.0,\n Magnitude of Quakes: 3.85"
          ],
          [
           -71.85,
           -35.78,
           "Ciudad: San Javier,\n Number of Quakes: 1.0,\n Magnitude of Quakes: 5.2"
          ],
          [
           -71.27,
           -30.2,
           "Ciudad: Coquimbo,\n Number of Quakes: 1.0,\n Magnitude of Quakes: 3.9"
          ],
          [
           -70.13,
           -18.38,
           "Ciudad: Arica,\n Number of Quakes: 1.0,\n Magnitude of Quakes: 3.9"
          ],
          [
           -69.78,
           -21.49,
           "Ciudad: María Elena,\n Number of Quakes: 2.0,\n Magnitude of Quakes: 5.15"
          ],
          [
           -68.52,
           -21.49,
           "Ciudad: Calama,\n Number of Quakes: 2.0,\n Magnitude of Quakes: 5.15"
          ],
          [
           -71.38,
           -30.66,
           "Ciudad: Ovalle,\n Number of Quakes: 1.0,\n Magnitude of Quakes: 3.4"
          ],
          [
           -71.3,
           -29.66,
           "Ciudad: La Higuera,\n Number of Quakes: 2.0,\n Magnitude of Quakes: 3.8"
          ],
          [
           -71.3,
           -29.66,
           "Ciudad: La Higuera,\n Number of Quakes: 2.0,\n Magnitude of Quakes: 3.8"
          ],
          [
           -71.34,
           -30.27,
           "Ciudad: Coquimbo,\n Number of Quakes: 1.0,\n Magnitude of Quakes: 4.0"
          ],
          [
           -71.51,
           -30.84,
           "Ciudad: Ovalle,\n Number of Quakes: 1.0,\n Magnitude of Quakes: 4.4"
          ],
          [
           -72.18,
           -35.33,
           "Ciudad: Constitución,\n Number of Quakes: 1.0,\n Magnitude of Quakes: 3.8"
          ],
          [
           -71.39,
           -30.71,
           "Ciudad: Ovalle,\n Number of Quakes: 2.0,\n Magnitude of Quakes: 4.25"
          ],
          [
           -69.15,
           -22.79,
           "Ciudad: Sierra Gorda,\n Number of Quakes: 2.0,\n Magnitude of Quakes: 4.25"
          ],
          [
           -70.02,
           -21.19,
           "Ciudad: Iquique,\n Number of Quakes: 1.0,\n Magnitude of Quakes: 4.5"
          ],
          [
           -71.73,
           -34.82,
           "Ciudad: Lolol,\n Number of Quakes: 1.0,\n Magnitude of Quakes: 4.0"
          ],
          [
           -71.35,
           -30.74,
           "Ciudad: Ovalle,\n Number of Quakes: 1.0,\n Magnitude of Quakes: 3.6"
          ],
          [
           -69.95,
           -22.02,
           "Ciudad: Tocopilla,\n Number of Quakes: 1.0,\n Magnitude of Quakes: 4.0"
          ],
          [
           -70.31,
           -17.88,
           "Ciudad: Alto de la Alianza,\n Number of Quakes: 1.0,\n Magnitude of Quakes: 5.2"
          ],
          [
           -71.96,
           -34.47,
           "Ciudad: Pichilemu,\n Number of Quakes: 1.0,\n Magnitude of Quakes: 4.0"
          ],
          [
           -69.37,
           -20.19,
           "Ciudad: Pozo Almonte,\n Number of Quakes: 1.0,\n Magnitude of Quakes: 4.0"
          ],
          [
           -70.34,
           -33.3,
           "Ciudad: Lo Barnechea,\n Number of Quakes: 1.0,\n Magnitude of Quakes: 4.0"
          ],
          [
           -71.17,
           -30.26,
           "Ciudad: Andacollo,\n Number of Quakes: 1.0,\n Magnitude of Quakes: 4.0"
          ],
          [
           -71.24,
           -30.5,
           "Ciudad: Ovalle,\n Number of Quakes: 1.0,\n Magnitude of Quakes: 4.6"
          ],
          [
           -72.94,
           -40.48,
           "Ciudad: San Pablo,\n Number of Quakes: 2.0,\n Magnitude of Quakes: 4.449999999999999"
          ],
          [
           -72.18,
           -38.42,
           "Ciudad: Victoria,\n Number of Quakes: 2.0,\n Magnitude of Quakes: 4.449999999999999"
          ],
          [
           -71.81,
           -34.8,
           "Ciudad: Paredones,\n Number of Quakes: 1.0,\n Magnitude of Quakes: 4.2"
          ],
          [
           -69.14,
           -20.03,
           "Ciudad: Pozo Almonte,\n Number of Quakes: 1.0,\n Magnitude of Quakes: 3.7"
          ],
          [
           -66.95,
           -27.91,
           "Ciudad: Municipio de Londres,\n Number of Quakes: 1.0,\n Magnitude of Quakes: 5.8"
          ],
          [
           -71.44,
           -30.4,
           "Ciudad: Coquimbo,\n Number of Quakes: 1.0,\n Magnitude of Quakes: 3.5"
          ],
          [
           -70.57,
           -28.73,
           "Ciudad: Vallenar,\n Number of Quakes: 1.0,\n Magnitude of Quakes: 4.6"
          ],
          [
           -68.87,
           -23.46,
           "Ciudad: Sierra Gorda,\n Number of Quakes: 1.0,\n Magnitude of Quakes: 5.0"
          ],
          [
           -71.31,
           -29.69,
           "Ciudad: La Serena,\n Number of Quakes: 2.0,\n Magnitude of Quakes: 4.2"
          ],
          [
           -70.91,
           -27.12,
           "Ciudad: Caldera,\n Number of Quakes: 2.0,\n Magnitude of Quakes: 4.2"
          ],
          [
           -69.36,
           -23.67,
           "Ciudad: Antofagasta,\n Number of Quakes: 1.0,\n Magnitude of Quakes: 4.5"
          ],
          [
           -71.4,
           -32.74,
           "Ciudad: Puchuncaví,\n Number of Quakes: 1.0,\n Magnitude of Quakes: 5.1"
          ],
          [
           -69.22,
           -19.86,
           "Ciudad: Huara,\n Number of Quakes: 1.0,\n Magnitude of Quakes: 4.3"
          ],
          [
           -71.33,
           -30.3,
           "Ciudad: Coquimbo,\n Number of Quakes: 1.0,\n Magnitude of Quakes: 3.1"
          ],
          [
           -69.39,
           -19.55,
           "Ciudad: Huara,\n Number of Quakes: 1.0,\n Magnitude of Quakes: 3.5"
          ],
          [
           -72.39,
           -39.37,
           "Ciudad: Villarrica,\n Number of Quakes: 1.0,\n Magnitude of Quakes: 4.4"
          ],
          [
           -71.26,
           -31.98,
           "Ciudad: Los Vilos,\n Number of Quakes: 1.0,\n Magnitude of Quakes: 4.4"
          ],
          [
           -68.67,
           -22.33,
           "Ciudad: Calama,\n Number of Quakes: 1.0,\n Magnitude of Quakes: 4.6"
          ],
          [
           -71.05,
           -28.81,
           "Ciudad: Freirina,\n Number of Quakes: 1.0,\n Magnitude of Quakes: 4.8"
          ],
          [
           -70.72,
           -32.98,
           "Ciudad: Colina,\n Number of Quakes: 1.0,\n Magnitude of Quakes: 4.4"
          ],
          [
           -71.31,
           -31,
           "Ciudad: Punitaqui,\n Number of Quakes: 1.0,\n Magnitude of Quakes: 3.6"
          ],
          [
           -71.53,
           -32.77,
           "Ciudad: Quintero,\n Number of Quakes: 1.0,\n Magnitude of Quakes: 3.5"
          ],
          [
           -66.87,
           -24.25,
           "Ciudad: Municipio de San Antonio de los Cobres,\n Number of Quakes: 1.0,\n Magnitude of Quakes: 5.3"
          ],
          [
           -69.43,
           -19.23,
           "Ciudad: Camiña,\n Number of Quakes: 1.0,\n Magnitude of Quakes: 3.5"
          ],
          [
           -71.31,
           -29.19,
           "Ciudad: La Higuera,\n Number of Quakes: 1.0,\n Magnitude of Quakes: 3.9"
          ],
          [
           -71.26,
           -29.27,
           "Ciudad: La Higuera,\n Number of Quakes: 1.0,\n Magnitude of Quakes: 3.6"
          ],
          [
           -69.44,
           -19.38,
           "Ciudad: Camiña,\n Number of Quakes: 1.0,\n Magnitude of Quakes: 3.3"
          ],
          [
           -71.6,
           -30.59,
           "Ciudad: Ovalle,\n Number of Quakes: 1.0,\n Magnitude of Quakes: 4.5"
          ],
          [
           -73.18,
           -38.67,
           "Ciudad: Carahue,\n Number of Quakes: 1.0,\n Magnitude of Quakes: 4.4"
          ],
          [
           -71.29,
           -29.43,
           "Ciudad: La Higuera,\n Number of Quakes: 1.0,\n Magnitude of Quakes: 4.0"
          ],
          [
           -70.84,
           -29.36,
           "Ciudad: La Higuera,\n Number of Quakes: 1.0,\n Magnitude of Quakes: 5.1"
          ],
          [
           -71.32,
           -30.21,
           "Ciudad: Coquimbo,\n Number of Quakes: 1.0,\n Magnitude of Quakes: 4.3"
          ],
          [
           -71.51,
           -31.55,
           "Ciudad: Canela,\n Number of Quakes: 1.0,\n Magnitude of Quakes: 4.4"
          ],
          [
           -72.64,
           -38.93,
           "Ciudad: Freire,\n Number of Quakes: 1.0,\n Magnitude of Quakes: 4.0"
          ],
          [
           -69.41,
           -19.31,
           "Ciudad: Camiña,\n Number of Quakes: 1.0,\n Magnitude of Quakes: 4.2"
          ],
          [
           -71.17,
           -29.68,
           "Ciudad: La Serena,\n Number of Quakes: 1.0,\n Magnitude of Quakes: 3.5"
          ],
          [
           -71.64,
           -30.27,
           "Ciudad: Coquimbo,\n Number of Quakes: 1.0,\n Magnitude of Quakes: 3.8"
          ],
          [
           -71.33,
           -30.9,
           "Ciudad: Punitaqui,\n Number of Quakes: 1.0,\n Magnitude of Quakes: 3.7"
          ],
          [
           -69.88,
           -18.59,
           "Ciudad: Arica,\n Number of Quakes: 1.0,\n Magnitude of Quakes: 4.0"
          ],
          [
           -69.73,
           -19.69,
           "Ciudad: Huara,\n Number of Quakes: 1.0,\n Magnitude of Quakes: 3.3"
          ],
          [
           -71.08,
           -32.15,
           "Ciudad: Petorca,\n Number of Quakes: 1.0,\n Magnitude of Quakes: 3.2"
          ],
          [
           -71.33,
           -30.72,
           "Ciudad: Ovalle,\n Number of Quakes: 2.0,\n Magnitude of Quakes: 3.95"
          ],
          [
           -70.21,
           -27.63,
           "Ciudad: Tierra Amarilla,\n Number of Quakes: 2.0,\n Magnitude of Quakes: 3.95"
          ],
          [
           -70.56,
           -33.13,
           "Ciudad: Colina,\n Number of Quakes: 1.0,\n Magnitude of Quakes: 4.5"
          ],
          [
           -69.72,
           -20.79,
           "Ciudad: Pozo Almonte,\n Number of Quakes: 1.0,\n Magnitude of Quakes: 3.7"
          ],
          [
           -67.59,
           -20.84,
           "Ciudad: Municipio Colcha K,\n Number of Quakes: 1.0,\n Magnitude of Quakes: 5.0"
          ],
          [
           -69.95,
           -28.79,
           "Ciudad: Alto del Carmen,\n Number of Quakes: 1.0,\n Magnitude of Quakes: 3.5"
          ],
          [
           -71.26,
           -30.07,
           "Ciudad: Coquimbo,\n Number of Quakes: 1.0,\n Magnitude of Quakes: 3.5"
          ],
          [
           -71.47,
           -31.63,
           "Ciudad: Canela,\n Number of Quakes: 1.0,\n Magnitude of Quakes: 3.9"
          ],
          [
           -70.06,
           -19.37,
           "Ciudad: Huara,\n Number of Quakes: 2.0,\n Magnitude of Quakes: 3.7"
          ],
          [
           -69.76,
           -20.07,
           "Ciudad: Huara,\n Number of Quakes: 2.0,\n Magnitude of Quakes: 3.7"
          ],
          [
           -71.17,
           -32.21,
           "Ciudad: Petorca,\n Number of Quakes: 1.0,\n Magnitude of Quakes: 3.1"
          ],
          [
           -71.25,
           -30.21,
           "Ciudad: Coquimbo,\n Number of Quakes: 2.0,\n Magnitude of Quakes: 3.75"
          ],
          [
           -70.94,
           -28.41,
           "Ciudad: Freirina,\n Number of Quakes: 2.0,\n Magnitude of Quakes: 3.75"
          ],
          [
           -68.91,
           -20.5,
           "Ciudad: Pica,\n Number of Quakes: 1.0,\n Magnitude of Quakes: 4.1"
          ],
          [
           -71.18,
           -30.33,
           "Ciudad: Ovalle,\n Number of Quakes: 1.0,\n Magnitude of Quakes: 4.0"
          ],
          [
           -70.96,
           -32.14,
           "Ciudad: Petorca,\n Number of Quakes: 1.0,\n Magnitude of Quakes: 5.1"
          ],
          [
           -71.39,
           -31.77,
           "Ciudad: Canela,\n Number of Quakes: 1.0,\n Magnitude of Quakes: 4.7"
          ],
          [
           -71.48,
           -30.39,
           "Ciudad: Coquimbo,\n Number of Quakes: 1.0,\n Magnitude of Quakes: 3.7"
          ],
          [
           -69.22,
           -20.71,
           "Ciudad: Pozo Almonte,\n Number of Quakes: 2.0,\n Magnitude of Quakes: 4.550000000000001"
          ],
          [
           -69.73,
           -19.23,
           "Ciudad: Huara,\n Number of Quakes: 2.0,\n Magnitude of Quakes: 4.550000000000001"
          ],
          [
           -69.48,
           -18.62,
           "Ciudad: Putre,\n Number of Quakes: 2.0,\n Magnitude of Quakes: 4.1"
          ],
          [
           -70.11,
           -20.74,
           "Ciudad: Iquique,\n Number of Quakes: 2.0,\n Magnitude of Quakes: 4.1"
          ],
          [
           -71.42,
           -31.94,
           "Ciudad: Los Vilos,\n Number of Quakes: 1.0,\n Magnitude of Quakes: 2.9"
          ],
          [
           -68.88,
           -20.1,
           "Ciudad: Pica,\n Number of Quakes: 1.0,\n Magnitude of Quakes: 4.2"
          ],
          [
           -68.84,
           -20.58,
           "Ciudad: Pica,\n Number of Quakes: 1.0,\n Magnitude of Quakes: 4.4"
          ],
          [
           -69.62,
           -23.37,
           "Ciudad: Sierra Gorda,\n Number of Quakes: 2.0,\n Magnitude of Quakes: 4.25"
          ],
          [
           -71.13,
           -31.93,
           "Ciudad: Los Vilos,\n Number of Quakes: 2.0,\n Magnitude of Quakes: 4.25"
          ],
          [
           -69.62,
           -19.46,
           "Ciudad: Camiña,\n Number of Quakes: 1.0,\n Magnitude of Quakes: 3.5"
          ],
          [
           -71.38,
           -28.9,
           "Ciudad: Freirina,\n Number of Quakes: 1.0,\n Magnitude of Quakes: 4.1"
          ],
          [
           -71.3,
           -30.16,
           "Ciudad: Coquimbo,\n Number of Quakes: 1.0,\n Magnitude of Quakes: 3.5"
          ],
          [
           -71.39,
           -31.11,
           "Ciudad: Punitaqui,\n Number of Quakes: 1.0,\n Magnitude of Quakes: 5.3"
          ],
          [
           -74.18,
           -43.24,
           "Ciudad: Quellón,\n Number of Quakes: 1.0,\n Magnitude of Quakes: 4.8"
          ],
          [
           -69.23,
           -23.13,
           "Ciudad: Sierra Gorda,\n Number of Quakes: 1.0,\n Magnitude of Quakes: 5.2"
          ],
          [
           -71.23,
           -30.21,
           "Ciudad: Coquimbo,\n Number of Quakes: 1.0,\n Magnitude of Quakes: 4.1"
          ],
          [
           -70.26,
           -27.48,
           "Ciudad: Tierra Amarilla,\n Number of Quakes: 1.0,\n Magnitude of Quakes: 4.3"
          ],
          [
           -70.13,
           -19.24,
           "Ciudad: Huara,\n Number of Quakes: 1.0,\n Magnitude of Quakes: 3.5"
          ],
          [
           -69.29,
           -19.77,
           "Ciudad: Huara,\n Number of Quakes: 1.0,\n Magnitude of Quakes: 4.1"
          ],
          [
           -70.03,
           -20.32,
           "Ciudad: Pozo Almonte,\n Number of Quakes: 1.0,\n Magnitude of Quakes: 4.4"
          ],
          [
           -71.3,
           -30.2,
           "Ciudad: Coquimbo,\n Number of Quakes: 1.0,\n Magnitude of Quakes: 4.0"
          ],
          [
           -71.39,
           -30.72,
           "Ciudad: Ovalle,\n Number of Quakes: 1.0,\n Magnitude of Quakes: 4.1"
          ],
          [
           -70.13,
           -18.11,
           "Ciudad: Tacna,\n Number of Quakes: 1.0,\n Magnitude of Quakes: 4.5"
          ],
          [
           -68.64,
           -22.13,
           "Ciudad: Calama,\n Number of Quakes: 1.0,\n Magnitude of Quakes: 4.6"
          ],
          [
           -69.62,
           -19.77,
           "Ciudad: Huara,\n Number of Quakes: 1.0,\n Magnitude of Quakes: 3.5"
          ],
          [
           -70.87,
           -27.35,
           "Ciudad: Caldera,\n Number of Quakes: 1.0,\n Magnitude of Quakes: 3.2"
          ],
          [
           -70.41,
           -32.85,
           "Ciudad: San Esteban,\n Number of Quakes: 1.0,\n Magnitude of Quakes: 4.4"
          ],
          [
           -69.54,
           -19.06,
           "Ciudad: Huara,\n Number of Quakes: 1.0,\n Magnitude of Quakes: 4.4"
          ],
          [
           -70.22,
           -19.14,
           "Ciudad: Camarones,\n Number of Quakes: 1.0,\n Magnitude of Quakes: 4.5"
          ],
          [
           -71.54,
           -31.51,
           "Ciudad: Canela,\n Number of Quakes: 1.0,\n Magnitude of Quakes: 3.4"
          ],
          [
           -71.22,
           -28.58,
           "Ciudad: Huasco,\n Number of Quakes: 1.0,\n Magnitude of Quakes: 4.5"
          ],
          [
           -68.61,
           -22.11,
           "Ciudad: Calama,\n Number of Quakes: 2.0,\n Magnitude of Quakes: 4.05"
          ],
          [
           -71.26,
           -29.62,
           "Ciudad: La Higuera,\n Number of Quakes: 2.0,\n Magnitude of Quakes: 4.05"
          ],
          [
           -66.75,
           -27.82,
           "Ciudad: Municipio de Belén,\n Number of Quakes: 1.0,\n Magnitude of Quakes: 5.3"
          ],
          [
           -71.31,
           -29.88,
           "Ciudad: La Serena,\n Number of Quakes: 1.0,\n Magnitude of Quakes: 5.4"
          ],
          [
           -72.29,
           -40.83,
           "Ciudad: Puyehue,\n Number of Quakes: 1.0,\n Magnitude of Quakes: 6.0"
          ],
          [
           -69.07,
           -21.11,
           "Ciudad: Pozo Almonte,\n Number of Quakes: 1.0,\n Magnitude of Quakes: 4.6"
          ],
          [
           -69.11,
           -23.17,
           "Ciudad: Sierra Gorda,\n Number of Quakes: 1.0,\n Magnitude of Quakes: 4.8"
          ],
          [
           -69.35,
           -19.14,
           "Ciudad: Camiña,\n Number of Quakes: 1.0,\n Magnitude of Quakes: 4.1"
          ],
          [
           -69.04,
           -21.14,
           "Ciudad: Pozo Almonte,\n Number of Quakes: 1.0,\n Magnitude of Quakes: 4.3"
          ],
          [
           -68.82,
           -22.19,
           "Ciudad: Calama,\n Number of Quakes: 1.0,\n Magnitude of Quakes: 5.6"
          ],
          [
           -68.61,
           -21.9,
           "Ciudad: Calama,\n Number of Quakes: 1.0,\n Magnitude of Quakes: 5.7"
          ],
          [
           -69.75,
           -18.1,
           "Ciudad: General Lagos,\n Number of Quakes: 1.0,\n Magnitude of Quakes: 4.6"
          ],
          [
           -70.97,
           -27.35,
           "Ciudad: Caldera,\n Number of Quakes: 1.0,\n Magnitude of Quakes: 3.7"
          ],
          [
           -68.99,
           -23.7,
           "Ciudad: Sierra Gorda,\n Number of Quakes: 1.0,\n Magnitude of Quakes: 4.3"
          ],
          [
           -72.46,
           -39.57,
           "Ciudad: Panguipulli,\n Number of Quakes: 1.0,\n Magnitude of Quakes: 4.1"
          ],
          [
           -69.25,
           -19.04,
           "Ciudad: Camarones,\n Number of Quakes: 2.0,\n Magnitude of Quakes: 3.95"
          ],
          [
           -69.49,
           -18.12,
           "Ciudad: Putre,\n Number of Quakes: 2.0,\n Magnitude of Quakes: 3.95"
          ],
          [
           -69.32,
           -19.63,
           "Ciudad: Huara,\n Number of Quakes: 1.0,\n Magnitude of Quakes: 3.7"
          ],
          [
           -69.38,
           -19.55,
           "Ciudad: Huara,\n Number of Quakes: 3.0,\n Magnitude of Quakes: 4.366666666666667"
          ],
          [
           -69.33,
           -18.97,
           "Ciudad: Camarones,\n Number of Quakes: 3.0,\n Magnitude of Quakes: 4.366666666666667"
          ],
          [
           -68.87,
           -21.25,
           "Ciudad: Pica,\n Number of Quakes: 3.0,\n Magnitude of Quakes: 4.366666666666667"
          ],
          [
           -71.28,
           -30.65,
           "Ciudad: Ovalle,\n Number of Quakes: 1.0,\n Magnitude of Quakes: 3.5"
          ],
          [
           -69.31,
           -19.02,
           "Ciudad: Camarones,\n Number of Quakes: 2.0,\n Magnitude of Quakes: 4.0"
          ],
          [
           -70.15,
           -19.2,
           "Ciudad: Huara,\n Number of Quakes: 2.0,\n Magnitude of Quakes: 4.0"
          ],
          [
           -71.39,
           -32.36,
           "Ciudad: Petorca,\n Number of Quakes: 1.0,\n Magnitude of Quakes: 4.6"
          ],
          [
           -71.54,
           -31.74,
           "Ciudad: Los Vilos,\n Number of Quakes: 1.0,\n Magnitude of Quakes: 3.9"
          ],
          [
           -68.89,
           -21.11,
           "Ciudad: Pica,\n Number of Quakes: 1.0,\n Magnitude of Quakes: 4.3"
          ],
          [
           -70.62,
           -25.87,
           "Ciudad: Taltal,\n Number of Quakes: 3.0,\n Magnitude of Quakes: 4.833333333333333"
          ],
          [
           -71.34,
           -31.81,
           "Ciudad: Los Vilos,\n Number of Quakes: 3.0,\n Magnitude of Quakes: 4.833333333333333"
          ],
          [
           -71.33,
           -31.82,
           "Ciudad: Los Vilos,\n Number of Quakes: 3.0,\n Magnitude of Quakes: 4.833333333333333"
          ],
          [
           -69.2,
           -20.18,
           "Ciudad: Pozo Almonte,\n Number of Quakes: 1.0,\n Magnitude of Quakes: 4.0"
          ],
          [
           -71.3,
           -31.78,
           "Ciudad: Los Vilos,\n Number of Quakes: 1.0,\n Magnitude of Quakes: 4.0"
          ],
          [
           -71.29,
           -31.81,
           "Ciudad: Los Vilos,\n Number of Quakes: 1.0,\n Magnitude of Quakes: 4.0"
          ],
          [
           -69.05,
           -20.48,
           "Ciudad: Pica,\n Number of Quakes: 1.0,\n Magnitude of Quakes: 4.4"
          ],
          [
           -71.32,
           -31.78,
           "Ciudad: Illapel,\n Number of Quakes: 1.0,\n Magnitude of Quakes: 3.7"
          ],
          [
           -69.88,
           -21.27,
           "Ciudad: Pozo Almonte,\n Number of Quakes: 1.0,\n Magnitude of Quakes: 3.8"
          ],
          [
           -71.33,
           -31.8,
           "Ciudad: Los Vilos,\n Number of Quakes: 2.0,\n Magnitude of Quakes: 3.7"
          ],
          [
           -71.33,
           -31.83,
           "Ciudad: Los Vilos,\n Number of Quakes: 2.0,\n Magnitude of Quakes: 3.7"
          ],
          [
           -69.39,
           -19.31,
           "Ciudad: Camiña,\n Number of Quakes: 1.0,\n Magnitude of Quakes: 3.8"
          ],
          [
           -71.88,
           -34.22,
           "Ciudad: Pichilemu,\n Number of Quakes: 1.0,\n Magnitude of Quakes: 3.9"
          ],
          [
           -71.31,
           -31.81,
           "Ciudad: Los Vilos,\n Number of Quakes: 1.0,\n Magnitude of Quakes: 4.2"
          ],
          [
           -71.29,
           -30.15,
           "Ciudad: Coquimbo,\n Number of Quakes: 1.0,\n Magnitude of Quakes: 3.7"
          ],
          [
           -74.34,
           -43.18,
           "Ciudad: Quellón,\n Number of Quakes: 1.0,\n Magnitude of Quakes: 3.8"
          ],
          [
           -71.36,
           -31.77,
           "Ciudad: Canela,\n Number of Quakes: 1.0,\n Magnitude of Quakes: 3.9"
          ],
          [
           -70.12,
           -19.47,
           "Ciudad: Huara,\n Number of Quakes: 1.0,\n Magnitude of Quakes: 3.2"
          ],
          [
           -71.22,
           -29.84,
           "Ciudad: La Serena,\n Number of Quakes: 2.0,\n Magnitude of Quakes: 4.4"
          ],
          [
           -70.56,
           -27.76,
           "Ciudad: Copiapó,\n Number of Quakes: 2.0,\n Magnitude of Quakes: 4.4"
          ],
          [
           -70.17,
           -32.72,
           "Ciudad: San Esteban,\n Number of Quakes: 1.0,\n Magnitude of Quakes: 5.3"
          ],
          [
           -71.45,
           -31.79,
           "Ciudad: Los Vilos,\n Number of Quakes: 1.0,\n Magnitude of Quakes: 4.4"
          ],
          [
           -71.27,
           -30.79,
           "Ciudad: Punitaqui,\n Number of Quakes: 2.0,\n Magnitude of Quakes: 3.65"
          ],
          [
           -71.27,
           -31.05,
           "Ciudad: Punitaqui,\n Number of Quakes: 2.0,\n Magnitude of Quakes: 3.65"
          ],
          [
           -70.93,
           -28.59,
           "Ciudad: Vallenar,\n Number of Quakes: 2.0,\n Magnitude of Quakes: 3.6"
          ],
          [
           -70.94,
           -28.24,
           "Ciudad: Huasco,\n Number of Quakes: 2.0,\n Magnitude of Quakes: 3.6"
          ],
          [
           -68.93,
           -21.34,
           "Ciudad: María Elena,\n Number of Quakes: 1.0,\n Magnitude of Quakes: 5.1"
          ],
          [
           -72.63,
           -36.11,
           "Ciudad: Cobquecura,\n Number of Quakes: 1.0,\n Magnitude of Quakes: 3.7"
          ],
          [
           -70.05,
           -33,
           "Ciudad: Los Andes,\n Number of Quakes: 1.0,\n Magnitude of Quakes: 3.3"
          ],
          [
           -69.19,
           -22.54,
           "Ciudad: María Elena,\n Number of Quakes: 1.0,\n Magnitude of Quakes: 4.1"
          ],
          [
           -71.28,
           -29.8,
           "Ciudad: La Serena,\n Number of Quakes: 1.0,\n Magnitude of Quakes: 4.5"
          ],
          [
           -68.98,
           -22.3,
           "Ciudad: Calama,\n Number of Quakes: 1.0,\n Magnitude of Quakes: 4.1"
          ],
          [
           -70.53,
           -32.09,
           "Ciudad: Salamanca,\n Number of Quakes: 1.0,\n Magnitude of Quakes: 4.9"
          ],
          [
           -71.29,
           -31.83,
           "Ciudad: Los Vilos,\n Number of Quakes: 1.0,\n Magnitude of Quakes: 4.2"
          ],
          [
           -69.33,
           -27.04,
           "Ciudad: Copiapó,\n Number of Quakes: 1.0,\n Magnitude of Quakes: 4.1"
          ],
          [
           -69.16,
           -20.25,
           "Ciudad: Pozo Almonte,\n Number of Quakes: 1.0,\n Magnitude of Quakes: 5.2"
          ],
          [
           -71.26,
           -30.02,
           "Ciudad: Coquimbo,\n Number of Quakes: 1.0,\n Magnitude of Quakes: 4.5"
          ],
          [
           -69.82,
           -19.49,
           "Ciudad: Huara,\n Number of Quakes: 1.0,\n Magnitude of Quakes: 3.7"
          ],
          [
           -69.24,
           -18.7,
           "Ciudad: Putre,\n Number of Quakes: 1.0,\n Magnitude of Quakes: 4.6"
          ],
          [
           -69.48,
           -19.13,
           "Ciudad: Huara,\n Number of Quakes: 3.0,\n Magnitude of Quakes: 3.6666666666666665"
          ],
          [
           -69.36,
           -19.26,
           "Ciudad: Camiña,\n Number of Quakes: 3.0,\n Magnitude of Quakes: 3.6666666666666665"
          ],
          [
           -70.17,
           -19.84,
           "Ciudad: Huara,\n Number of Quakes: 3.0,\n Magnitude of Quakes: 3.6666666666666665"
          ],
          [
           -69.71,
           -23.1,
           "Ciudad: Sierra Gorda,\n Number of Quakes: 1.0,\n Magnitude of Quakes: 4.4"
          ],
          [
           -70.22,
           -33.07,
           "Ciudad: Los Andes,\n Number of Quakes: 1.0,\n Magnitude of Quakes: 4.5"
          ],
          [
           -71.24,
           -29.75,
           "Ciudad: La Serena,\n Number of Quakes: 1.0,\n Magnitude of Quakes: 3.8"
          ],
          [
           -71.14,
           -35.04,
           "Ciudad: Curicó,\n Number of Quakes: 1.0,\n Magnitude of Quakes: 4.1"
          ],
          [
           -68.93,
           -20.43,
           "Ciudad: Pica,\n Number of Quakes: 1.0,\n Magnitude of Quakes: 5.2"
          ],
          [
           -70.06,
           -19.64,
           "Ciudad: Huara,\n Number of Quakes: 1.0,\n Magnitude of Quakes: 4.3"
          ],
          [
           -71.08,
           -35.07,
           "Ciudad: Romeral,\n Number of Quakes: 1.0,\n Magnitude of Quakes: 4.3"
          ],
          [
           -72.5,
           -40.06,
           "Ciudad: Futrono,\n Number of Quakes: 1.0,\n Magnitude of Quakes: 4.2"
          ],
          [
           -71.36,
           -30.84,
           "Ciudad: Punitaqui,\n Number of Quakes: 1.0,\n Magnitude of Quakes: 4.9"
          ],
          [
           -70.61,
           -26.24,
           "Ciudad: Chañaral,\n Number of Quakes: 1.0,\n Magnitude of Quakes: 5.0"
          ],
          [
           -68.48,
           -21.73,
           "Ciudad: Calama,\n Number of Quakes: 1.0,\n Magnitude of Quakes: 5.1"
          ],
          [
           -71.28,
           -29.47,
           "Ciudad: La Higuera,\n Number of Quakes: 1.0,\n Magnitude of Quakes: 3.2"
          ],
          [
           -69.3,
           -19.36,
           "Ciudad: Camiña,\n Number of Quakes: 1.0,\n Magnitude of Quakes: 4.3"
          ],
          [
           -71.41,
           -30.73,
           "Ciudad: Ovalle,\n Number of Quakes: 1.0,\n Magnitude of Quakes: 3.6"
          ],
          [
           -71.09,
           -17.46,
           "Ciudad: Moquegua,\n Number of Quakes: 1.0,\n Magnitude of Quakes: 5.2"
          ],
          [
           -71.38,
           -31.74,
           "Ciudad: Canela,\n Number of Quakes: 1.0,\n Magnitude of Quakes: 4.0"
          ],
          [
           -69.62,
           -21.56,
           "Ciudad: María Elena,\n Number of Quakes: 1.0,\n Magnitude of Quakes: 3.5"
          ],
          [
           -72.27,
           -39.39,
           "Ciudad: Villarrica,\n Number of Quakes: 1.0,\n Magnitude of Quakes: 4.1"
          ],
          [
           -71.33,
           -30.97,
           "Ciudad: Punitaqui,\n Number of Quakes: 1.0,\n Magnitude of Quakes: 3.9"
          ],
          [
           -70.64,
           -29.34,
           "Ciudad: La Higuera,\n Number of Quakes: 1.0,\n Magnitude of Quakes: 4.1"
          ],
          [
           -70.69,
           -26.46,
           "Ciudad: Chañaral,\n Number of Quakes: 1.0,\n Magnitude of Quakes: 3.6"
          ],
          [
           -68.7,
           -20.84,
           "Ciudad: Pica,\n Number of Quakes: 1.0,\n Magnitude of Quakes: 5.2"
          ],
          [
           -70.67,
           -29.32,
           "Ciudad: La Higuera,\n Number of Quakes: 1.0,\n Magnitude of Quakes: 3.3"
          ],
          [
           -71.55,
           -30.39,
           "Ciudad: Coquimbo,\n Number of Quakes: 1.0,\n Magnitude of Quakes: 3.9"
          ],
          [
           -69.09,
           -22.71,
           "Ciudad: Sierra Gorda,\n Number of Quakes: 1.0,\n Magnitude of Quakes: 4.5"
          ],
          [
           -71.17,
           -30.18,
           "Ciudad: Andacollo,\n Number of Quakes: 2.0,\n Magnitude of Quakes: 3.75"
          ],
          [
           -71.27,
           -30.1,
           "Ciudad: Coquimbo,\n Number of Quakes: 2.0,\n Magnitude of Quakes: 3.75"
          ],
          [
           -68.73,
           -21.91,
           "Ciudad: Calama,\n Number of Quakes: 1.0,\n Magnitude of Quakes: 5.4"
          ],
          [
           -69.9,
           -22.59,
           "Ciudad: María Elena,\n Number of Quakes: 1.0,\n Magnitude of Quakes: 3.8"
          ],
          [
           -69.32,
           -20.75,
           "Ciudad: Pozo Almonte,\n Number of Quakes: 1.0,\n Magnitude of Quakes: 4.7"
          ],
          [
           -72.58,
           -35.54,
           "Ciudad: Constitución,\n Number of Quakes: 1.0,\n Magnitude of Quakes: 3.9"
          ],
          [
           -71.63,
           -30.44,
           "Ciudad: Ovalle,\n Number of Quakes: 1.0,\n Magnitude of Quakes: 5.0"
          ],
          [
           -69.44,
           -22.96,
           "Ciudad: Sierra Gorda,\n Number of Quakes: 2.0,\n Magnitude of Quakes: 4.1"
          ],
          [
           -71.46,
           -31.3,
           "Ciudad: Canela,\n Number of Quakes: 2.0,\n Magnitude of Quakes: 4.1"
          ],
          [
           -71.34,
           -30.99,
           "Ciudad: Punitaqui,\n Number of Quakes: 1.0,\n Magnitude of Quakes: 4.8"
          ],
          [
           -71.06,
           -29.52,
           "Ciudad: La Higuera,\n Number of Quakes: 1.0,\n Magnitude of Quakes: 5.0"
          ],
          [
           -69.94,
           -20.35,
           "Ciudad: Pozo Almonte,\n Number of Quakes: 1.0,\n Magnitude of Quakes: 2.8"
          ],
          [
           -69.35,
           -25.84,
           "Ciudad: Taltal,\n Number of Quakes: 1.0,\n Magnitude of Quakes: 4.4"
          ],
          [
           -69.33,
           -20.38,
           "Ciudad: Pica,\n Number of Quakes: 2.0,\n Magnitude of Quakes: 4.449999999999999"
          ],
          [
           -70.41,
           -18.2,
           "Ciudad: La Yarada-Los Palos,\n Number of Quakes: 2.0,\n Magnitude of Quakes: 4.449999999999999"
          ],
          [
           -69.15,
           -20.33,
           "Ciudad: Pica,\n Number of Quakes: 1.0,\n Magnitude of Quakes: 3.9"
          ],
          [
           -69.81,
           -23.86,
           "Ciudad: Antofagasta,\n Number of Quakes: 1.0,\n Magnitude of Quakes: 4.9"
          ],
          [
           -69.88,
           -21.29,
           "Ciudad: Pozo Almonte,\n Number of Quakes: 1.0,\n Magnitude of Quakes: 4.6"
          ],
          [
           -71.52,
           -31.57,
           "Ciudad: Canela,\n Number of Quakes: 1.0,\n Magnitude of Quakes: 3.9"
          ],
          [
           -68.11,
           -22.15,
           "Ciudad: Calama,\n Number of Quakes: 1.0,\n Magnitude of Quakes: 5.0"
          ],
          [
           -71.63,
           -30.45,
           "Ciudad: Ovalle,\n Number of Quakes: 1.0,\n Magnitude of Quakes: 4.4"
          ],
          [
           -69.44,
           -19.96,
           "Ciudad: Huara,\n Number of Quakes: 1.0,\n Magnitude of Quakes: 5.4"
          ],
          [
           -69.14,
           -20.55,
           "Ciudad: Pica,\n Number of Quakes: 1.0,\n Magnitude of Quakes: 4.3"
          ],
          [
           -71.28,
           -30.07,
           "Ciudad: Coquimbo,\n Number of Quakes: 1.0,\n Magnitude of Quakes: 3.6"
          ],
          [
           -70.04,
           -19.06,
           "Ciudad: Camarones,\n Number of Quakes: 1.0,\n Magnitude of Quakes: 3.9"
          ],
          [
           -71.32,
           -33.39,
           "Ciudad: Casablanca,\n Number of Quakes: 1.0,\n Magnitude of Quakes: 4.1"
          ],
          [
           -74.14,
           -42.92,
           "Ciudad: Quellón,\n Number of Quakes: 1.0,\n Magnitude of Quakes: 4.2"
          ],
          [
           -70.04,
           -18.86,
           "Ciudad: Arica,\n Number of Quakes: 1.0,\n Magnitude of Quakes: 4.6"
          ],
          [
           -71.5,
           -32.62,
           "Ciudad: Maitencillo,\n Number of Quakes: 1.0,\n Magnitude of Quakes: 3.1"
          ],
          [
           -71.57,
           -30.63,
           "Ciudad: Ovalle,\n Number of Quakes: 1.0,\n Magnitude of Quakes: 4.9"
          ],
          [
           -69.14,
           -18.49,
           "Ciudad: Putre,\n Number of Quakes: 1.0,\n Magnitude of Quakes: 3.1"
          ],
          [
           -71.68,
           -30.61,
           "Ciudad: Ovalle,\n Number of Quakes: 1.0,\n Magnitude of Quakes: 3.9"
          ],
          [
           -71.47,
           -31.63,
           "Ciudad: Canela,\n Number of Quakes: 1.0,\n Magnitude of Quakes: 3.6"
          ],
          [
           -69.57,
           -26.26,
           "Ciudad: Diego de Almagro,\n Number of Quakes: 1.0,\n Magnitude of Quakes: 3.3"
          ],
          [
           -69.47,
           -21.42,
           "Ciudad: Pozo Almonte,\n Number of Quakes: 1.0,\n Magnitude of Quakes: 4.6"
          ],
          [
           -70.27,
           -22.73,
           "Ciudad: Mejillones,\n Number of Quakes: 1.0,\n Magnitude of Quakes: 4.2"
          ],
          [
           -70.54,
           -26.19,
           "Ciudad: Chañaral,\n Number of Quakes: 1.0,\n Magnitude of Quakes: 4.9"
          ],
          [
           -70.13,
           -22.07,
           "Ciudad: Tocopilla,\n Number of Quakes: 1.0,\n Magnitude of Quakes: 3.8"
          ],
          [
           -70.09,
           -20.15,
           "Ciudad: Alto Hospicio,\n Number of Quakes: 1.0,\n Magnitude of Quakes: 4.4"
          ],
          [
           -71.39,
           -31.82,
           "Ciudad: Los Vilos,\n Number of Quakes: 1.0,\n Magnitude of Quakes: 3.9"
          ],
          [
           -71.54,
           -31.54,
           "Ciudad: Canela,\n Number of Quakes: 1.0,\n Magnitude of Quakes: 4.5"
          ],
          [
           -69.51,
           -18.23,
           "Ciudad: Putre,\n Number of Quakes: 1.0,\n Magnitude of Quakes: 4.8"
          ],
          [
           -70.11,
           -19.26,
           "Ciudad: Huara,\n Number of Quakes: 1.0,\n Magnitude of Quakes: 4.0"
          ],
          [
           -70.07,
           -19.3,
           "Ciudad: Huara,\n Number of Quakes: 1.0,\n Magnitude of Quakes: 4.3"
          ],
          [
           -69.35,
           -25.81,
           "Ciudad: Taltal,\n Number of Quakes: 1.0,\n Magnitude of Quakes: 5.2"
          ],
          [
           -69.19,
           -20.2,
           "Ciudad: Pozo Almonte,\n Number of Quakes: 1.0,\n Magnitude of Quakes: 4.5"
          ],
          [
           -69.32,
           -19.64,
           "Ciudad: Huara,\n Number of Quakes: 1.0,\n Magnitude of Quakes: 3.3"
          ],
          [
           -71.14,
           -29.09,
           "Ciudad: Freirina,\n Number of Quakes: 1.0,\n Magnitude of Quakes: 3.4"
          ],
          [
           -71.38,
           -30.98,
           "Ciudad: Punitaqui,\n Number of Quakes: 1.0,\n Magnitude of Quakes: 3.1"
          ],
          [
           -71.5,
           -30.38,
           "Ciudad: Coquimbo,\n Number of Quakes: 1.0,\n Magnitude of Quakes: 4.4"
          ],
          [
           -71.42,
           -31.06,
           "Ciudad: Punitaqui,\n Number of Quakes: 1.0,\n Magnitude of Quakes: 4.1"
          ],
          [
           -69.77,
           -18.6,
           "Ciudad: Arica,\n Number of Quakes: 1.0,\n Magnitude of Quakes: 4.0"
          ],
          [
           -70.07,
           -19.89,
           "Ciudad: Huara,\n Number of Quakes: 1.0,\n Magnitude of Quakes: 3.7"
          ],
          [
           -70.65,
           -35.16,
           "Ciudad: Romeral,\n Number of Quakes: 1.0,\n Magnitude of Quakes: 3.2"
          ],
          [
           -71.28,
           -31.74,
           "Ciudad: Illapel,\n Number of Quakes: 1.0,\n Magnitude of Quakes: 3.7"
          ],
          [
           -68.22,
           -22.67,
           "Ciudad: San Pedro de Atacama,\n Number of Quakes: 2.0,\n Magnitude of Quakes: 5.35"
          ],
          [
           -67.16,
           -24,
           "Ciudad: Municipio de San Antonio de los Cobres,\n Number of Quakes: 2.0,\n Magnitude of Quakes: 5.35"
          ],
          [
           -71.31,
           -30.66,
           "Ciudad: Ovalle,\n Number of Quakes: 1.0,\n Magnitude of Quakes: 4.3"
          ],
          [
           -70.88,
           -15.76,
           "Ciudad: Santa Lucía,\n Number of Quakes: 2.0,\n Magnitude of Quakes: 4.25"
          ],
          [
           -70.22,
           -19.23,
           "Ciudad: Huara,\n Number of Quakes: 2.0,\n Magnitude of Quakes: 4.25"
          ],
          [
           -71.34,
           -31.78,
           "Ciudad: Los Vilos,\n Number of Quakes: 1.0,\n Magnitude of Quakes: 3.6"
          ],
          [
           -69.21,
           -20.53,
           "Ciudad: Pica,\n Number of Quakes: 1.0,\n Magnitude of Quakes: 4.6"
          ],
          [
           -71.23,
           -34.05,
           "Ciudad: Alhué,\n Number of Quakes: 1.0,\n Magnitude of Quakes: 4.6"
          ],
          [
           -71.68,
           -30.65,
           "Ciudad: Ovalle,\n Number of Quakes: 1.0,\n Magnitude of Quakes: 4.7"
          ],
          [
           -71.11,
           -29.58,
           "Ciudad: La Higuera,\n Number of Quakes: 2.0,\n Magnitude of Quakes: 4.45"
          ],
          [
           -71.41,
           -30.72,
           "Ciudad: Ovalle,\n Number of Quakes: 2.0,\n Magnitude of Quakes: 4.45"
          ],
          [
           -69.87,
           -20.39,
           "Ciudad: Pozo Almonte,\n Number of Quakes: 1.0,\n Magnitude of Quakes: 3.0"
          ],
          [
           -68.92,
           -23.16,
           "Ciudad: Sierra Gorda,\n Number of Quakes: 1.0,\n Magnitude of Quakes: 5.0"
          ],
          [
           -69.14,
           -19.13,
           "Ciudad: Colchane,\n Number of Quakes: 1.0,\n Magnitude of Quakes: 4.5"
          ],
          [
           -68.22,
           -22.76,
           "Ciudad: San Pedro de Atacama,\n Number of Quakes: 1.0,\n Magnitude of Quakes: 5.4"
          ],
          [
           -69.2,
           -20.21,
           "Ciudad: Pozo Almonte,\n Number of Quakes: 1.0,\n Magnitude of Quakes: 4.5"
          ],
          [
           -70.12,
           -33.76,
           "Ciudad: San José de Maipo,\n Number of Quakes: 1.0,\n Magnitude of Quakes: 3.0"
          ],
          [
           -70.95,
           -27.75,
           "Ciudad: Copiapó,\n Number of Quakes: 1.0,\n Magnitude of Quakes: 4.0"
          ],
          [
           -70.05,
           -19.91,
           "Ciudad: Huara,\n Number of Quakes: 1.0,\n Magnitude of Quakes: 4.9"
          ],
          [
           -69.14,
           -20.52,
           "Ciudad: Pica,\n Number of Quakes: 1.0,\n Magnitude of Quakes: 4.0"
          ],
          [
           -70.75,
           -33.55,
           "Ciudad: Santiago,\n Number of Quakes: 1.0,\n Magnitude of Quakes: 4.8"
          ],
          [
           -69.69,
           -19.55,
           "Ciudad: Camiña,\n Number of Quakes: 1.0,\n Magnitude of Quakes: 4.0"
          ],
          [
           -70.01,
           -33.5,
           "Ciudad: San José de Maipo,\n Number of Quakes: 2.0,\n Magnitude of Quakes: 4.25"
          ],
          [
           -71.22,
           -33.07,
           "Ciudad: Limache,\n Number of Quakes: 2.0,\n Magnitude of Quakes: 4.25"
          ],
          [
           -69.45,
           -19.65,
           "Ciudad: Huara,\n Number of Quakes: 1.0,\n Magnitude of Quakes: 3.9"
          ],
          [
           -69.22,
           -20.47,
           "Ciudad: Pica,\n Number of Quakes: 1.0,\n Magnitude of Quakes: 4.3"
          ],
          [
           -70.21,
           -19.26,
           "Ciudad: Huara,\n Number of Quakes: 1.0,\n Magnitude of Quakes: 3.6"
          ],
          [
           -69.28,
           -27.58,
           "Ciudad: Tierra Amarilla,\n Number of Quakes: 1.0,\n Magnitude of Quakes: 5.2"
          ],
          [
           -71.14,
           -29.23,
           "Ciudad: Vallenar,\n Number of Quakes: 1.0,\n Magnitude of Quakes: 4.5"
          ],
          [
           -71.22,
           -15.82,
           "Ciudad: Pillone,\n Number of Quakes: 1.0,\n Magnitude of Quakes: 6.2"
          ],
          [
           -68.53,
           -23.25,
           "Ciudad: San Pedro de Atacama,\n Number of Quakes: 1.0,\n Magnitude of Quakes: 6.9"
          ],
          [
           -71.45,
           -32.58,
           "Ciudad: Zapallar,\n Number of Quakes: 1.0,\n Magnitude of Quakes: 2.9"
          ],
          [
           -71.65,
           -30.45,
           "Ciudad: Ovalle,\n Number of Quakes: 1.0,\n Magnitude of Quakes: 4.6"
          ],
          [
           -71.44,
           -31.02,
           "Ciudad: Punitaqui,\n Number of Quakes: 1.0,\n Magnitude of Quakes: 3.7"
          ],
          [
           -71.4,
           -29.29,
           "Ciudad: La Higuera,\n Number of Quakes: 1.0,\n Magnitude of Quakes: 3.8"
          ],
          [
           -71.45,
           -30.29,
           "Ciudad: Coquimbo,\n Number of Quakes: 2.0,\n Magnitude of Quakes: 3.95"
          ],
          [
           -71.14,
           -29.44,
           "Ciudad: La Higuera,\n Number of Quakes: 2.0,\n Magnitude of Quakes: 3.95"
          ],
          [
           -69.1,
           -20.52,
           "Ciudad: Pica,\n Number of Quakes: 1.0,\n Magnitude of Quakes: 3.7"
          ],
          [
           -70.36,
           -27.73,
           "Ciudad: Copiapó,\n Number of Quakes: 1.0,\n Magnitude of Quakes: 3.7"
          ],
          [
           -68.59,
           -23.21,
           "Ciudad: San Pedro de Atacama,\n Number of Quakes: 1.0,\n Magnitude of Quakes: 4.8"
          ],
          [
           -73.13,
           -36.66,
           "Ciudad: Talcahuano,\n Number of Quakes: 1.0,\n Magnitude of Quakes: 4.7"
          ],
          [
           -70.46,
           -27.1,
           "Ciudad: Copiapó,\n Number of Quakes: 2.0,\n Magnitude of Quakes: 3.65"
          ],
          [
           -68.57,
           -23.25,
           "Ciudad: San Pedro de Atacama,\n Number of Quakes: 2.0,\n Magnitude of Quakes: 3.65"
          ],
          [
           -70.08,
           -20.37,
           "Ciudad: Pozo Almonte,\n Number of Quakes: 2.0,\n Magnitude of Quakes: 3.3499999999999996"
          ],
          [
           -70.14,
           -19.28,
           "Ciudad: Huara,\n Number of Quakes: 2.0,\n Magnitude of Quakes: 3.3499999999999996"
          ],
          [
           -72.47,
           -36.71,
           "Ciudad: Quillón,\n Number of Quakes: 1.0,\n Magnitude of Quakes: 4.7"
          ],
          [
           -71.56,
           -30.84,
           "Ciudad: Ovalle,\n Number of Quakes: 1.0,\n Magnitude of Quakes: 3.7"
          ],
          [
           -69.63,
           -18.93,
           "Ciudad: Camarones,\n Number of Quakes: 1.0,\n Magnitude of Quakes: 3.9"
          ],
          [
           -71.15,
           -29.49,
           "Ciudad: La Higuera,\n Number of Quakes: 2.0,\n Magnitude of Quakes: 3.65"
          ],
          [
           -69.4,
           -27.48,
           "Ciudad: Tierra Amarilla,\n Number of Quakes: 2.0,\n Magnitude of Quakes: 3.65"
          ],
          [
           -71.4,
           -30.07,
           "Ciudad: Coquimbo,\n Number of Quakes: 1.0,\n Magnitude of Quakes: 3.4"
          ],
          [
           -70.2,
           -33.34,
           "Ciudad: Lo Barnechea,\n Number of Quakes: 1.0,\n Magnitude of Quakes: 4.0"
          ],
          [
           -71.39,
           -30.82,
           "Ciudad: Ovalle,\n Number of Quakes: 1.0,\n Magnitude of Quakes: 4.5"
          ],
          [
           -70.58,
           -28.43,
           "Ciudad: Vallenar,\n Number of Quakes: 1.0,\n Magnitude of Quakes: 4.3"
          ],
          [
           -69.5,
           -19.08,
           "Ciudad: Huara,\n Number of Quakes: 1.0,\n Magnitude of Quakes: 4.3"
          ],
          [
           -69.31,
           -20.97,
           "Ciudad: Pozo Almonte,\n Number of Quakes: 1.0,\n Magnitude of Quakes: 4.1"
          ],
          [
           -70.2,
           -24.85,
           "Ciudad: Taltal,\n Number of Quakes: 1.0,\n Magnitude of Quakes: 4.5"
          ],
          [
           -71.33,
           -31.31,
           "Ciudad: Canela,\n Number of Quakes: 1.0,\n Magnitude of Quakes: 3.5"
          ],
          [
           -70.17,
           -22.73,
           "Ciudad: Mejillones,\n Number of Quakes: 1.0,\n Magnitude of Quakes: 4.1"
          ],
          [
           -70.08,
           -20.24,
           "Ciudad: Alto Hospicio,\n Number of Quakes: 1.0,\n Magnitude of Quakes: 5.7"
          ],
          [
           -71.42,
           -30.82,
           "Ciudad: Ovalle,\n Number of Quakes: 1.0,\n Magnitude of Quakes: 3.5"
          ],
          [
           -69.99,
           -19.32,
           "Ciudad: Huara,\n Number of Quakes: 1.0,\n Magnitude of Quakes: 3.1"
          ],
          [
           -70.06,
           -20.26,
           "Ciudad: Alto Hospicio,\n Number of Quakes: 1.0,\n Magnitude of Quakes: 4.7"
          ],
          [
           -70.28,
           -24.63,
           "Ciudad: Antofagasta,\n Number of Quakes: 1.0,\n Magnitude of Quakes: 4.5"
          ],
          [
           -69.46,
           -19.05,
           "Ciudad: Huara,\n Number of Quakes: 1.0,\n Magnitude of Quakes: 4.5"
          ],
          [
           -71.25,
           -29.29,
           "Ciudad: La Higuera,\n Number of Quakes: 2.0,\n Magnitude of Quakes: 3.95"
          ],
          [
           -68.59,
           -22.16,
           "Ciudad: Calama,\n Number of Quakes: 2.0,\n Magnitude of Quakes: 3.95"
          ],
          [
           -69.28,
           -20,
           "Ciudad: Pozo Almonte,\n Number of Quakes: 1.0,\n Magnitude of Quakes: 3.7"
          ],
          [
           -71.39,
           -28.96,
           "Ciudad: Freirina,\n Number of Quakes: 1.0,\n Magnitude of Quakes: 3.7"
          ],
          [
           -71.71,
           -34.79,
           "Ciudad: Lolol,\n Number of Quakes: 1.0,\n Magnitude of Quakes: 4.3"
          ],
          [
           -71.14,
           -33.69,
           "Ciudad: Melipilla,\n Number of Quakes: 1.0,\n Magnitude of Quakes: 3.5"
          ],
          [
           -71.58,
           -30.31,
           "Ciudad: Coquimbo,\n Number of Quakes: 1.0,\n Magnitude of Quakes: 4.0"
          ],
          [
           -69.87,
           -19.75,
           "Ciudad: Huara,\n Number of Quakes: 1.0,\n Magnitude of Quakes: 3.9"
          ],
          [
           -69.22,
           -19.57,
           "Ciudad: Huara,\n Number of Quakes: 3.0,\n Magnitude of Quakes: 4.6000000000000005"
          ],
          [
           -69.25,
           -20.49,
           "Ciudad: Pica,\n Number of Quakes: 3.0,\n Magnitude of Quakes: 4.6000000000000005"
          ],
          [
           -69.04,
           -20.51,
           "Ciudad: Pica,\n Number of Quakes: 3.0,\n Magnitude of Quakes: 4.6000000000000005"
          ],
          [
           -70.19,
           -32.97,
           "Ciudad: Los Andes,\n Number of Quakes: 1.0,\n Magnitude of Quakes: 4.6"
          ],
          [
           -71.27,
           -30.76,
           "Ciudad: Punitaqui,\n Number of Quakes: 1.0,\n Magnitude of Quakes: 3.6"
          ],
          [
           -70.24,
           -19.4,
           "Ciudad: Huara,\n Number of Quakes: 1.0,\n Magnitude of Quakes: 3.3"
          ],
          [
           -71.45,
           -32.85,
           "Ciudad: Quintero,\n Number of Quakes: 1.0,\n Magnitude of Quakes: 4.0"
          ],
          [
           -71.44,
           -30.36,
           "Ciudad: Coquimbo,\n Number of Quakes: 1.0,\n Magnitude of Quakes: 4.0"
          ],
          [
           -71.52,
           -32.68,
           "Ciudad: Ventanas,\n Number of Quakes: 1.0,\n Magnitude of Quakes: 3.7"
          ],
          [
           -71.35,
           -31,
           "Ciudad: Punitaqui,\n Number of Quakes: 1.0,\n Magnitude of Quakes: 3.9"
          ],
          [
           -69.17,
           -19.95,
           "Ciudad: Huara,\n Number of Quakes: 1.0,\n Magnitude of Quakes: 4.4"
          ],
          [
           -70.07,
           -33.2,
           "Ciudad: San José de Maipo,\n Number of Quakes: 2.0,\n Magnitude of Quakes: 4.05"
          ],
          [
           -70.06,
           -33.22,
           "Ciudad: Distrito Potrerillos,\n Number of Quakes: 2.0,\n Magnitude of Quakes: 4.05"
          ],
          [
           -70.24,
           -19.2,
           "Ciudad: Camarones,\n Number of Quakes: 1.0,\n Magnitude of Quakes: 5.2"
          ],
          [
           -70.03,
           -33.19,
           "Ciudad: Distrito Potrerillos,\n Number of Quakes: 1.0,\n Magnitude of Quakes: 3.5"
          ],
          [
           -70.02,
           -33.19,
           "Ciudad: Distrito Potrerillos,\n Number of Quakes: 1.0,\n Magnitude of Quakes: 3.8"
          ],
          [
           -69.22,
           -19.57,
           "Ciudad: Huara,\n Number of Quakes: 1.0,\n Magnitude of Quakes: 3.7"
          ],
          [
           -73.08,
           -36.66,
           "Ciudad: Talcahuano,\n Number of Quakes: 1.0,\n Magnitude of Quakes: 3.6"
          ],
          [
           -71.2,
           -29.22,
           "Ciudad: La Higuera,\n Number of Quakes: 1.0,\n Magnitude of Quakes: 3.5"
          ],
          [
           -69.48,
           -26.17,
           "Ciudad: Diego de Almagro,\n Number of Quakes: 1.0,\n Magnitude of Quakes: 4.7"
          ],
          [
           -69.83,
           -20.01,
           "Ciudad: Huara,\n Number of Quakes: 1.0,\n Magnitude of Quakes: 4.6"
          ],
          [
           -71.3,
           -29.21,
           "Ciudad: La Higuera,\n Number of Quakes: 3.0,\n Magnitude of Quakes: 4.1000000000000005"
          ],
          [
           -71.08,
           -27.98,
           "Ciudad: Copiapó,\n Number of Quakes: 3.0,\n Magnitude of Quakes: 4.1000000000000005"
          ],
          [
           -71.07,
           -28,
           "Ciudad: Huasco,\n Number of Quakes: 3.0,\n Magnitude of Quakes: 4.1000000000000005"
          ],
          [
           -71.05,
           -28.06,
           "Ciudad: Huasco,\n Number of Quakes: 2.0,\n Magnitude of Quakes: 3.9"
          ],
          [
           -71.39,
           -30.32,
           "Ciudad: Coquimbo,\n Number of Quakes: 2.0,\n Magnitude of Quakes: 3.9"
          ],
          [
           -71.42,
           -30.42,
           "Ciudad: Coquimbo,\n Number of Quakes: 1.0,\n Magnitude of Quakes: 3.3"
          ],
          [
           -69.91,
           -21.36,
           "Ciudad: Pozo Almonte,\n Number of Quakes: 5.0,\n Magnitude of Quakes: 4.26"
          ],
          [
           -69.86,
           -21.39,
           "Ciudad: Pozo Almonte,\n Number of Quakes: 5.0,\n Magnitude of Quakes: 4.26"
          ],
          [
           -69.89,
           -21.39,
           "Ciudad: Pozo Almonte,\n Number of Quakes: 5.0,\n Magnitude of Quakes: 4.26"
          ],
          [
           -69.84,
           -21.37,
           "Ciudad: Pozo Almonte,\n Number of Quakes: 5.0,\n Magnitude of Quakes: 4.26"
          ],
          [
           -69.85,
           -21.35,
           "Ciudad: Pozo Almonte,\n Number of Quakes: 5.0,\n Magnitude of Quakes: 4.26"
          ],
          [
           -71.16,
           -31.32,
           "Ciudad: Canela,\n Number of Quakes: 1.0,\n Magnitude of Quakes: 3.7"
          ],
          [
           -71.31,
           -29.04,
           "Ciudad: Freirina,\n Number of Quakes: 1.0,\n Magnitude of Quakes: 4.5"
          ],
          [
           -69.81,
           -21.38,
           "Ciudad: Pozo Almonte,\n Number of Quakes: 1.0,\n Magnitude of Quakes: 3.8"
          ],
          [
           -71.52,
           -30.35,
           "Ciudad: Coquimbo,\n Number of Quakes: 1.0,\n Magnitude of Quakes: 5.1"
          ],
          [
           -70.05,
           -20.38,
           "Ciudad: Pozo Almonte,\n Number of Quakes: 2.0,\n Magnitude of Quakes: 4.45"
          ],
          [
           -68.73,
           -21,
           "Ciudad: Pica,\n Number of Quakes: 2.0,\n Magnitude of Quakes: 4.45"
          ],
          [
           -71.26,
           -28.55,
           "Ciudad: Huasco,\n Number of Quakes: 1.0,\n Magnitude of Quakes: 4.1"
          ],
          [
           -68.41,
           -21.91,
           "Ciudad: Calama,\n Number of Quakes: 2.0,\n Magnitude of Quakes: 4.7"
          ],
          [
           -71.56,
           -30.7,
           "Ciudad: Ovalle,\n Number of Quakes: 2.0,\n Magnitude of Quakes: 4.7"
          ],
          [
           -69.97,
           -20.38,
           "Ciudad: Pozo Almonte,\n Number of Quakes: 1.0,\n Magnitude of Quakes: 3.2"
          ],
          [
           -71.32,
           -30.68,
           "Ciudad: Ovalle,\n Number of Quakes: 1.0,\n Magnitude of Quakes: 3.7"
          ],
          [
           -71.1,
           -28.83,
           "Ciudad: Freirina,\n Number of Quakes: 1.0,\n Magnitude of Quakes: 3.4"
          ],
          [
           -71.25,
           -29.27,
           "Ciudad: La Higuera,\n Number of Quakes: 1.0,\n Magnitude of Quakes: 3.8"
          ],
          [
           -70.82,
           -33.7,
           "Ciudad: Talagante,\n Number of Quakes: 1.0,\n Magnitude of Quakes: 4.4"
          ],
          [
           -73.98,
           -41.72,
           "Ciudad: Maullín,\n Number of Quakes: 1.0,\n Magnitude of Quakes: 3.5"
          ],
          [
           -69.32,
           -19.46,
           "Ciudad: Huara,\n Number of Quakes: 1.0,\n Magnitude of Quakes: 3.7"
          ],
          [
           -70.08,
           -20.77,
           "Ciudad: Pozo Almonte,\n Number of Quakes: 2.0,\n Magnitude of Quakes: 3.8"
          ],
          [
           -69.78,
           -21.4,
           "Ciudad: Pozo Almonte,\n Number of Quakes: 2.0,\n Magnitude of Quakes: 3.8"
          ],
          [
           -70.82,
           -32.23,
           "Ciudad: Petorca,\n Number of Quakes: 1.0,\n Magnitude of Quakes: 4.2"
          ],
          [
           -71.14,
           -29,
           "Ciudad: Freirina,\n Number of Quakes: 1.0,\n Magnitude of Quakes: 4.8"
          ],
          [
           -69.42,
           -19.06,
           "Ciudad: Huara,\n Number of Quakes: 1.0,\n Magnitude of Quakes: 4.3"
          ],
          [
           -69.08,
           -20.77,
           "Ciudad: Pozo Almonte,\n Number of Quakes: 1.0,\n Magnitude of Quakes: 4.3"
          ],
          [
           -70.66,
           -26.7,
           "Ciudad: Caldera,\n Number of Quakes: 1.0,\n Magnitude of Quakes: 3.8"
          ],
          [
           -70.14,
           -19.28,
           "Ciudad: Huara,\n Number of Quakes: 1.0,\n Magnitude of Quakes: 3.8"
          ],
          [
           -69.29,
           -23.16,
           "Ciudad: Sierra Gorda,\n Number of Quakes: 1.0,\n Magnitude of Quakes: 4.0"
          ],
          [
           -69.97,
           -21.94,
           "Ciudad: Tocopilla,\n Number of Quakes: 1.0,\n Magnitude of Quakes: 4.0"
          ],
          [
           -69.33,
           -23.04,
           "Ciudad: Sierra Gorda,\n Number of Quakes: 1.0,\n Magnitude of Quakes: 4.5"
          ],
          [
           -70.19,
           -33.01,
           "Ciudad: Los Andes,\n Number of Quakes: 1.0,\n Magnitude of Quakes: 4.3"
          ],
          [
           -71.23,
           -30.36,
           "Ciudad: Ovalle,\n Number of Quakes: 1.0,\n Magnitude of Quakes: 3.5"
          ],
          [
           -71.25,
           -31.74,
           "Ciudad: Illapel,\n Number of Quakes: 2.0,\n Magnitude of Quakes: 3.85"
          ],
          [
           -71.39,
           -30.89,
           "Ciudad: Ovalle,\n Number of Quakes: 2.0,\n Magnitude of Quakes: 3.85"
          ],
          [
           -71.34,
           -30.71,
           "Ciudad: Ovalle,\n Number of Quakes: 3.0,\n Magnitude of Quakes: 3.733333333333333"
          ],
          [
           -71.1,
           -29.01,
           "Ciudad: Freirina,\n Number of Quakes: 3.0,\n Magnitude of Quakes: 3.733333333333333"
          ],
          [
           -70.84,
           -27.35,
           "Ciudad: Caldera,\n Number of Quakes: 3.0,\n Magnitude of Quakes: 3.733333333333333"
          ],
          [
           -73.65,
           -37.33,
           "Ciudad: Arauco,\n Number of Quakes: 1.0,\n Magnitude of Quakes: 4.2"
          ],
          [
           -71.45,
           -30.74,
           "Ciudad: Ovalle,\n Number of Quakes: 1.0,\n Magnitude of Quakes: 4.1"
          ],
          [
           -69.98,
           -19.51,
           "Ciudad: Huara,\n Number of Quakes: 1.0,\n Magnitude of Quakes: 4.2"
          ],
          [
           -71.45,
           -30.72,
           "Ciudad: Ovalle,\n Number of Quakes: 1.0,\n Magnitude of Quakes: 3.7"
          ],
          [
           -69.84,
           -21.36,
           "Ciudad: Pozo Almonte,\n Number of Quakes: 1.0,\n Magnitude of Quakes: 4.1"
          ],
          [
           -68.61,
           -23.23,
           "Ciudad: San Pedro de Atacama,\n Number of Quakes: 1.0,\n Magnitude of Quakes: 4.6"
          ],
          [
           -68.46,
           -23.33,
           "Ciudad: San Pedro de Atacama,\n Number of Quakes: 2.0,\n Magnitude of Quakes: 4.300000000000001"
          ],
          [
           -70.53,
           -31.11,
           "Ciudad: Monte Patria,\n Number of Quakes: 2.0,\n Magnitude of Quakes: 4.300000000000001"
          ],
          [
           -69.85,
           -21.36,
           "Ciudad: Pozo Almonte,\n Number of Quakes: 1.0,\n Magnitude of Quakes: 4.0"
          ],
          [
           -71.68,
           -34.91,
           "Ciudad: Lolol,\n Number of Quakes: 2.0,\n Magnitude of Quakes: 4.65"
          ],
          [
           -71.68,
           -34.92,
           "Ciudad: Lolol,\n Number of Quakes: 2.0,\n Magnitude of Quakes: 4.65"
          ],
          [
           -71.2,
           -29.33,
           "Ciudad: La Higuera,\n Number of Quakes: 2.0,\n Magnitude of Quakes: 5.1"
          ],
          [
           -71.19,
           -29.32,
           "Ciudad: La Higuera,\n Number of Quakes: 2.0,\n Magnitude of Quakes: 5.1"
          ],
          [
           -69.87,
           -17.7,
           "Ciudad: Palca,\n Number of Quakes: 1.0,\n Magnitude of Quakes: 4.8"
          ],
          [
           -71.18,
           -29.33,
           "Ciudad: La Higuera,\n Number of Quakes: 1.0,\n Magnitude of Quakes: 3.5"
          ],
          [
           -70.13,
           -19.29,
           "Ciudad: Huara,\n Number of Quakes: 1.0,\n Magnitude of Quakes: 3.5"
          ],
          [
           -69.81,
           -18.61,
           "Ciudad: Arica,\n Number of Quakes: 1.0,\n Magnitude of Quakes: 4.4"
          ],
          [
           -70.21,
           -22.96,
           "Ciudad: Mejillones,\n Number of Quakes: 1.0,\n Magnitude of Quakes: 4.2"
          ],
          [
           -70.3,
           -25.47,
           "Ciudad: Taltal,\n Number of Quakes: 1.0,\n Magnitude of Quakes: 4.5"
          ],
          [
           -73.3,
           -40.57,
           "Ciudad: Osorno,\n Number of Quakes: 1.0,\n Magnitude of Quakes: 3.9"
          ],
          [
           -69.57,
           -22.34,
           "Ciudad: María Elena,\n Number of Quakes: 1.0,\n Magnitude of Quakes: 3.9"
          ],
          [
           -70.61,
           -27.58,
           "Ciudad: Copiapó,\n Number of Quakes: 1.0,\n Magnitude of Quakes: 3.7"
          ],
          [
           -71.4,
           -30.71,
           "Ciudad: Ovalle,\n Number of Quakes: 1.0,\n Magnitude of Quakes: 4.2"
          ],
          [
           -71.44,
           -31.77,
           "Ciudad: Los Vilos,\n Number of Quakes: 1.0,\n Magnitude of Quakes: 4.7"
          ],
          [
           -69.22,
           -20.39,
           "Ciudad: Pica,\n Number of Quakes: 1.0,\n Magnitude of Quakes: 4.9"
          ],
          [
           -71.42,
           -32.44,
           "Ciudad: Papudo,\n Number of Quakes: 1.0,\n Magnitude of Quakes: 4.2"
          ],
          [
           -72.41,
           -40.07,
           "Ciudad: Futrono,\n Number of Quakes: 1.0,\n Magnitude of Quakes: 3.1"
          ],
          [
           -69.07,
           -20.32,
           "Ciudad: Pica,\n Number of Quakes: 1.0,\n Magnitude of Quakes: 4.3"
          ],
          [
           -71.13,
           -29.84,
           "Ciudad: La Serena,\n Number of Quakes: 1.0,\n Magnitude of Quakes: 3.9"
          ],
          [
           -69.95,
           -18.18,
           "Ciudad: Tacna,\n Number of Quakes: 1.0,\n Magnitude of Quakes: 4.6"
          ],
          [
           -71.26,
           -30.92,
           "Ciudad: Punitaqui,\n Number of Quakes: 1.0,\n Magnitude of Quakes: 5.6"
          ],
          [
           -70.66,
           -27.32,
           "Ciudad: Copiapó,\n Number of Quakes: 1.0,\n Magnitude of Quakes: 3.4"
          ],
          [
           -70.38,
           -33.68,
           "Ciudad: San José de Maipo,\n Number of Quakes: 1.0,\n Magnitude of Quakes: 4.3"
          ],
          [
           -71.62,
           -35.61,
           "Ciudad: San Javier,\n Number of Quakes: 1.0,\n Magnitude of Quakes: 5.0"
          ],
          [
           -69.19,
           -20.13,
           "Ciudad: Pozo Almonte,\n Number of Quakes: 1.0,\n Magnitude of Quakes: 4.0"
          ],
          [
           -67.49,
           -24.26,
           "Ciudad: Municipio de Tolar Grande,\n Number of Quakes: 1.0,\n Magnitude of Quakes: 6.4"
          ],
          [
           -69.5,
           -24.27,
           "Ciudad: Antofagasta,\n Number of Quakes: 1.0,\n Magnitude of Quakes: 5.5"
          ],
          [
           -69.66,
           -20.45,
           "Ciudad: Pozo Almonte,\n Number of Quakes: 1.0,\n Magnitude of Quakes: 3.3"
          ],
          [
           -68.8,
           -21.42,
           "Ciudad: Calama,\n Number of Quakes: 1.0,\n Magnitude of Quakes: 4.2"
          ],
          [
           -69.07,
           -20.36,
           "Ciudad: Pica,\n Number of Quakes: 1.0,\n Magnitude of Quakes: 6.1"
          ],
          [
           -71.11,
           -32.87,
           "Ciudad: Hijuelas,\n Number of Quakes: 1.0,\n Magnitude of Quakes: 4.3"
          ],
          [
           -71.47,
           -32.09,
           "Ciudad: Los Vilos,\n Number of Quakes: 1.0,\n Magnitude of Quakes: 5.0"
          ],
          [
           -68.86,
           -21.12,
           "Ciudad: Pica,\n Number of Quakes: 1.0,\n Magnitude of Quakes: 4.6"
          ],
          [
           -69.17,
           -20.59,
           "Ciudad: Pica,\n Number of Quakes: 1.0,\n Magnitude of Quakes: 4.4"
          ],
          [
           -70.16,
           -19.2,
           "Ciudad: Huara,\n Number of Quakes: 1.0,\n Magnitude of Quakes: 4.7"
          ],
          [
           -71.73,
           -16.83,
           "Ciudad: Mollendo,\n Number of Quakes: 1.0,\n Magnitude of Quakes: 5.8"
          ],
          [
           -71.51,
           -31.29,
           "Ciudad: Canela,\n Number of Quakes: 2.0,\n Magnitude of Quakes: 4.05"
          ],
          [
           -71.42,
           -30.74,
           "Ciudad: Ovalle,\n Number of Quakes: 2.0,\n Magnitude of Quakes: 4.05"
          ],
          [
           -71.25,
           -33.05,
           "Ciudad: Limache,\n Number of Quakes: 1.0,\n Magnitude of Quakes: 3.8"
          ],
          [
           -69.27,
           -19.61,
           "Ciudad: Huara,\n Number of Quakes: 1.0,\n Magnitude of Quakes: 3.7"
          ],
          [
           -68.81,
           -22.66,
           "Ciudad: Calama,\n Number of Quakes: 1.0,\n Magnitude of Quakes: 4.9"
          ],
          [
           -70.69,
           -33.16,
           "Ciudad: Colina,\n Number of Quakes: 1.0,\n Magnitude of Quakes: 4.2"
          ],
          [
           -68.8,
           -22,
           "Ciudad: Calama,\n Number of Quakes: 1.0,\n Magnitude of Quakes: 4.1"
          ],
          [
           -70.53,
           -32.5,
           "Ciudad: Putaendo,\n Number of Quakes: 1.0,\n Magnitude of Quakes: 4.2"
          ],
          [
           -71.41,
           -32.18,
           "Ciudad: Los Vilos,\n Number of Quakes: 1.0,\n Magnitude of Quakes: 4.4"
          ],
          [
           -68.68,
           -22.39,
           "Ciudad: Calama,\n Number of Quakes: 1.0,\n Magnitude of Quakes: 4.4"
          ],
          [
           -70.2,
           -22.19,
           "Ciudad: Tocopilla,\n Number of Quakes: 1.0,\n Magnitude of Quakes: 3.7"
          ],
          [
           -69.52,
           -19.12,
           "Ciudad: Huara,\n Number of Quakes: 1.0,\n Magnitude of Quakes: 5.1"
          ],
          [
           -70.78,
           -34.37,
           "Ciudad: Rengo,\n Number of Quakes: 1.0,\n Magnitude of Quakes: 4.6"
          ],
          [
           -72,
           -39.4,
           "Ciudad: Villarrica,\n Number of Quakes: 1.0,\n Magnitude of Quakes: 5.2"
          ],
          [
           -68.78,
           -23.48,
           "Ciudad: Sierra Gorda,\n Number of Quakes: 1.0,\n Magnitude of Quakes: 4.4"
          ],
          [
           -68.89,
           -23.48,
           "Ciudad: Sierra Gorda,\n Number of Quakes: 1.0,\n Magnitude of Quakes: 4.3"
          ],
          [
           -71.3,
           -30.87,
           "Ciudad: Punitaqui,\n Number of Quakes: 1.0,\n Magnitude of Quakes: 4.2"
          ],
          [
           -69.47,
           -19.72,
           "Ciudad: Huara,\n Number of Quakes: 1.0,\n Magnitude of Quakes: 4.4"
          ],
          [
           -70.56,
           -31.68,
           "Ciudad: Salamanca,\n Number of Quakes: 1.0,\n Magnitude of Quakes: 4.8"
          ],
          [
           -69.25,
           -19.55,
           "Ciudad: Huara,\n Number of Quakes: 1.0,\n Magnitude of Quakes: 5.1"
          ],
          [
           -71.43,
           -31.84,
           "Ciudad: Los Vilos,\n Number of Quakes: 1.0,\n Magnitude of Quakes: 4.0"
          ],
          [
           -69.38,
           -21.01,
           "Ciudad: Pozo Almonte,\n Number of Quakes: 1.0,\n Magnitude of Quakes: 4.1"
          ],
          [
           -67.06,
           -23.97,
           "Ciudad: Municipio de San Antonio de los Cobres,\n Number of Quakes: 2.0,\n Magnitude of Quakes: 5.550000000000001"
          ],
          [
           -68.59,
           -22.45,
           "Ciudad: Calama,\n Number of Quakes: 2.0,\n Magnitude of Quakes: 5.550000000000001"
          ],
          [
           -68.69,
           -21.76,
           "Ciudad: Calama,\n Number of Quakes: 1.0,\n Magnitude of Quakes: 4.6"
          ],
          [
           -71.25,
           -29.3,
           "Ciudad: La Higuera,\n Number of Quakes: 1.0,\n Magnitude of Quakes: 3.8"
          ],
          [
           -71.36,
           -29.97,
           "Ciudad: Coquimbo,\n Number of Quakes: 1.0,\n Magnitude of Quakes: 3.4"
          ],
          [
           -69.35,
           -19.65,
           "Ciudad: Huara,\n Number of Quakes: 1.0,\n Magnitude of Quakes: 3.8"
          ],
          [
           -71.39,
           -31.02,
           "Ciudad: Punitaqui,\n Number of Quakes: 1.0,\n Magnitude of Quakes: 5.1"
          ],
          [
           -71.41,
           -31.82,
           "Ciudad: Los Vilos,\n Number of Quakes: 2.0,\n Magnitude of Quakes: 3.95"
          ],
          [
           -71.19,
           -29.45,
           "Ciudad: La Higuera,\n Number of Quakes: 2.0,\n Magnitude of Quakes: 3.95"
          ],
          [
           -71.37,
           -31.02,
           "Ciudad: Punitaqui,\n Number of Quakes: 1.0,\n Magnitude of Quakes: 3.4"
          ],
          [
           -69.47,
           -25.45,
           "Ciudad: Taltal,\n Number of Quakes: 1.0,\n Magnitude of Quakes: 4.3"
          ],
          [
           -70.24,
           -22.17,
           "Ciudad: Tocopilla,\n Number of Quakes: 1.0,\n Magnitude of Quakes: 2.8"
          ],
          [
           -71.34,
           -30.67,
           "Ciudad: Ovalle,\n Number of Quakes: 1.0,\n Magnitude of Quakes: 3.7"
          ],
          [
           -69.74,
           -19.94,
           "Ciudad: Huara,\n Number of Quakes: 1.0,\n Magnitude of Quakes: 3.8"
          ],
          [
           -69.78,
           -18.24,
           "Ciudad: Arica,\n Number of Quakes: 1.0,\n Magnitude of Quakes: 4.5"
          ],
          [
           -71,
           -29.44,
           "Ciudad: La Higuera,\n Number of Quakes: 1.0,\n Magnitude of Quakes: 4.4"
          ],
          [
           -71.3,
           -29.71,
           "Ciudad: La Serena,\n Number of Quakes: 1.0,\n Magnitude of Quakes: 4.1"
          ],
          [
           -71.29,
           -29.27,
           "Ciudad: La Higuera,\n Number of Quakes: 1.0,\n Magnitude of Quakes: 3.2"
          ],
          [
           -70.12,
           -20.11,
           "Ciudad: Iquique,\n Number of Quakes: 1.0,\n Magnitude of Quakes: 3.7"
          ],
          [
           -71.55,
           -32.74,
           "Ciudad: Ventanas,\n Number of Quakes: 1.0,\n Magnitude of Quakes: 3.4"
          ],
          [
           -69.89,
           -18.59,
           "Ciudad: Arica,\n Number of Quakes: 1.0,\n Magnitude of Quakes: 4.6"
          ],
          [
           -72.28,
           -37.47,
           "Ciudad: Los Ángeles,\n Number of Quakes: 1.0,\n Magnitude of Quakes: 3.7"
          ],
          [
           -71.25,
           -31.77,
           "Ciudad: Illapel,\n Number of Quakes: 1.0,\n Magnitude of Quakes: 5.2"
          ],
          [
           -71.33,
           -29.93,
           "Ciudad: Coquimbo,\n Number of Quakes: 1.0,\n Magnitude of Quakes: 4.2"
          ],
          [
           -71.53,
           -33.54,
           "Ciudad: Cartagena,\n Number of Quakes: 1.0,\n Magnitude of Quakes: 4.2"
          ],
          [
           -71.4,
           -30.71,
           "Ciudad: Ovalle,\n Number of Quakes: 2.0,\n Magnitude of Quakes: 4.4"
          ],
          [
           -71.43,
           -30.71,
           "Ciudad: Ovalle,\n Number of Quakes: 2.0,\n Magnitude of Quakes: 4.4"
          ],
          [
           -69.78,
           -21.4,
           "Ciudad: Pozo Almonte,\n Number of Quakes: 1.0,\n Magnitude of Quakes: 3.9"
          ],
          [
           -71.16,
           -31.5,
           "Ciudad: Illapel,\n Number of Quakes: 2.0,\n Magnitude of Quakes: 3.85"
          ],
          [
           -71.13,
           -29.39,
           "Ciudad: La Higuera,\n Number of Quakes: 2.0,\n Magnitude of Quakes: 3.85"
          ],
          [
           -71.95,
           -39.79,
           "Ciudad: Panguipulli,\n Number of Quakes: 2.0,\n Magnitude of Quakes: 3.45"
          ],
          [
           -71.94,
           -39.78,
           "Ciudad: Panguipulli,\n Number of Quakes: 2.0,\n Magnitude of Quakes: 3.45"
          ],
          [
           -69.38,
           -19.76,
           "Ciudad: Huara,\n Number of Quakes: 1.0,\n Magnitude of Quakes: 4.3"
          ],
          [
           -71.5,
           -31.31,
           "Ciudad: Canela,\n Number of Quakes: 3.0,\n Magnitude of Quakes: 3.266666666666667"
          ],
          [
           -71.31,
           -30.67,
           "Ciudad: Ovalle,\n Number of Quakes: 3.0,\n Magnitude of Quakes: 3.266666666666667"
          ],
          [
           -71.31,
           -31.46,
           "Ciudad: Canela,\n Number of Quakes: 3.0,\n Magnitude of Quakes: 3.266666666666667"
          ],
          [
           -70.22,
           -33.24,
           "Ciudad: Lo Barnechea,\n Number of Quakes: 1.0,\n Magnitude of Quakes: 4.7"
          ],
          [
           -72.28,
           -37.47,
           "Ciudad: Los Ángeles,\n Number of Quakes: 1.0,\n Magnitude of Quakes: 4.6"
          ],
          [
           -69.39,
           -22.79,
           "Ciudad: Sierra Gorda,\n Number of Quakes: 2.0,\n Magnitude of Quakes: 3.75"
          ],
          [
           -71.06,
           -29.33,
           "Ciudad: Vallenar,\n Number of Quakes: 2.0,\n Magnitude of Quakes: 3.75"
          ],
          [
           -68.95,
           -20.11,
           "Ciudad: Pica,\n Number of Quakes: 1.0,\n Magnitude of Quakes: 4.0"
          ],
          [
           -72.38,
           -35.35,
           "Ciudad: Constitución,\n Number of Quakes: 1.0,\n Magnitude of Quakes: 4.4"
          ],
          [
           -71.19,
           -31.41,
           "Ciudad: Canela,\n Number of Quakes: 1.0,\n Magnitude of Quakes: 3.3"
          ],
          [
           -71.14,
           -35.08,
           "Ciudad: Curicó,\n Number of Quakes: 1.0,\n Magnitude of Quakes: 4.4"
          ],
          [
           -71.94,
           -39.81,
           "Ciudad: Panguipulli,\n Number of Quakes: 1.0,\n Magnitude of Quakes: 2.9"
          ],
          [
           -69.25,
           -19.01,
           "Ciudad: Camarones,\n Number of Quakes: 1.0,\n Magnitude of Quakes: 3.9"
          ],
          [
           -69.27,
           -22.79,
           "Ciudad: Sierra Gorda,\n Number of Quakes: 1.0,\n Magnitude of Quakes: 4.0"
          ],
          [
           -71.42,
           -30.73,
           "Ciudad: Ovalle,\n Number of Quakes: 1.0,\n Magnitude of Quakes: 3.8"
          ],
          [
           -69.74,
           -22.9,
           "Ciudad: Sierra Gorda,\n Number of Quakes: 1.0,\n Magnitude of Quakes: 4.3"
          ],
          [
           -71.8,
           -34.8,
           "Ciudad: Paredones,\n Number of Quakes: 1.0,\n Magnitude of Quakes: 5.0"
          ],
          [
           -69.92,
           -22.94,
           "Ciudad: Sierra Gorda,\n Number of Quakes: 1.0,\n Magnitude of Quakes: 4.4"
          ],
          [
           -69.66,
           -20.49,
           "Ciudad: Pozo Almonte,\n Number of Quakes: 1.0,\n Magnitude of Quakes: 3.5"
          ],
          [
           -71.58,
           -30.44,
           "Ciudad: Ovalle,\n Number of Quakes: 3.0,\n Magnitude of Quakes: 4.133333333333334"
          ],
          [
           -70.54,
           -28.63,
           "Ciudad: Vallenar,\n Number of Quakes: 3.0,\n Magnitude of Quakes: 4.133333333333334"
          ],
          [
           -71.25,
           -29.31,
           "Ciudad: La Higuera,\n Number of Quakes: 3.0,\n Magnitude of Quakes: 4.133333333333334"
          ],
          [
           -69.17,
           -23.32,
           "Ciudad: Sierra Gorda,\n Number of Quakes: 1.0,\n Magnitude of Quakes: 4.0"
          ],
          [
           -69.91,
           -19.85,
           "Ciudad: Huara,\n Number of Quakes: 1.0,\n Magnitude of Quakes: 4.6"
          ],
          [
           -69.02,
           -19.73,
           "Ciudad: Huara,\n Number of Quakes: 1.0,\n Magnitude of Quakes: 4.9"
          ],
          [
           -71.28,
           -29.3,
           "Ciudad: La Higuera,\n Number of Quakes: 1.0,\n Magnitude of Quakes: 4.1"
          ],
          [
           -71.31,
           -31.82,
           "Ciudad: Los Vilos,\n Number of Quakes: 1.0,\n Magnitude of Quakes: 4.3"
          ],
          [
           -70.29,
           -33.81,
           "Ciudad: San José de Maipo,\n Number of Quakes: 1.0,\n Magnitude of Quakes: 4.5"
          ],
          [
           -73.14,
           -39.51,
           "Ciudad: Mariquina,\n Number of Quakes: 1.0,\n Magnitude of Quakes: 4.8"
          ],
          [
           -70.19,
           -19.3,
           "Ciudad: Huara,\n Number of Quakes: 1.0,\n Magnitude of Quakes: 3.7"
          ],
          [
           -71.3,
           -30.58,
           "Ciudad: Ovalle,\n Number of Quakes: 1.0,\n Magnitude of Quakes: 3.6"
          ],
          [
           -69.88,
           -20.07,
           "Ciudad: Pozo Almonte,\n Number of Quakes: 1.0,\n Magnitude of Quakes: 3.6"
          ],
          [
           -69.44,
           -19.52,
           "Ciudad: Camiña,\n Number of Quakes: 1.0,\n Magnitude of Quakes: 4.5"
          ],
          [
           -71.4,
           -30.82,
           "Ciudad: Ovalle,\n Number of Quakes: 1.0,\n Magnitude of Quakes: 4.3"
          ],
          [
           -70.68,
           -17.74,
           "Ciudad: Inclán,\n Number of Quakes: 1.0,\n Magnitude of Quakes: 4.9"
          ],
          [
           -69.06,
           -19.79,
           "Ciudad: Huara,\n Number of Quakes: 1.0,\n Magnitude of Quakes: 3.9"
          ],
          [
           -69.28,
           -19.65,
           "Ciudad: Huara,\n Number of Quakes: 1.0,\n Magnitude of Quakes: 3.7"
          ],
          [
           -70.09,
           -19.68,
           "Ciudad: Huara,\n Number of Quakes: 1.0,\n Magnitude of Quakes: 3.6"
          ],
          [
           -70.89,
           -34.1,
           "Ciudad: Rancagua,\n Number of Quakes: 1.0,\n Magnitude of Quakes: 2.7"
          ],
          [
           -71.25,
           -30.34,
           "Ciudad: Ovalle,\n Number of Quakes: 1.0,\n Magnitude of Quakes: 3.3"
          ],
          [
           -69.31,
           -20.04,
           "Ciudad: Pozo Almonte,\n Number of Quakes: 1.0,\n Magnitude of Quakes: 4.0"
          ],
          [
           -68.77,
           -23.23,
           "Ciudad: Sierra Gorda,\n Number of Quakes: 1.0,\n Magnitude of Quakes: 4.8"
          ],
          [
           -71.16,
           -37.29,
           "Ciudad: Comisión de Fomento de Guañacos,\n Number of Quakes: 1.0,\n Magnitude of Quakes: 5.6"
          ],
          [
           -69.42,
           -19.45,
           "Ciudad: Camiña,\n Number of Quakes: 1.0,\n Magnitude of Quakes: 3.7"
          ],
          [
           -70.19,
           -20.65,
           "Ciudad: Ñajo,\n Number of Quakes: 1.0,\n Magnitude of Quakes: 3.7"
          ],
          [
           -68.72,
           -22.85,
           "Ciudad: Calama,\n Number of Quakes: 1.0,\n Magnitude of Quakes: 4.2"
          ],
          [
           -73.74,
           -41.81,
           "Ciudad: Ancud,\n Number of Quakes: 2.0,\n Magnitude of Quakes: 3.2"
          ],
          [
           -73.92,
           -41.78,
           "Ciudad: Ancud,\n Number of Quakes: 2.0,\n Magnitude of Quakes: 3.2"
          ],
          [
           -68.69,
           -21.94,
           "Ciudad: Calama,\n Number of Quakes: 1.0,\n Magnitude of Quakes: 4.7"
          ],
          [
           -71.47,
           -28.87,
           "Ciudad: Freirina,\n Number of Quakes: 1.0,\n Magnitude of Quakes: 3.5"
          ],
          [
           -71.32,
           -30.11,
           "Ciudad: Coquimbo,\n Number of Quakes: 1.0,\n Magnitude of Quakes: 3.7"
          ],
          [
           -69.12,
           -20.15,
           "Ciudad: Pozo Almonte,\n Number of Quakes: 1.0,\n Magnitude of Quakes: 3.8"
          ],
          [
           -69.31,
           -20.02,
           "Ciudad: Pozo Almonte,\n Number of Quakes: 1.0,\n Magnitude of Quakes: 3.5"
          ],
          [
           -71.3,
           -30.19,
           "Ciudad: Coquimbo,\n Number of Quakes: 1.0,\n Magnitude of Quakes: 3.4"
          ],
          [
           -73.44,
           -37.25,
           "Ciudad: Arauco,\n Number of Quakes: 1.0,\n Magnitude of Quakes: 3.6"
          ],
          [
           -69.45,
           -27.46,
           "Ciudad: Tierra Amarilla,\n Number of Quakes: 1.0,\n Magnitude of Quakes: 4.3"
          ],
          [
           -71.84,
           -34.91,
           "Ciudad: Hualañé,\n Number of Quakes: 1.0,\n Magnitude of Quakes: 3.8"
          ],
          [
           -68.67,
           -22.23,
           "Ciudad: Calama,\n Number of Quakes: 1.0,\n Magnitude of Quakes: 5.1"
          ],
          [
           -71.36,
           -33.29,
           "Ciudad: Casablanca,\n Number of Quakes: 1.0,\n Magnitude of Quakes: 4.7"
          ],
          [
           -70.38,
           -28.7,
           "Ciudad: Alto del Carmen,\n Number of Quakes: 1.0,\n Magnitude of Quakes: 4.1"
          ],
          [
           -69.24,
           -20.24,
           "Ciudad: Pozo Almonte,\n Number of Quakes: 1.0,\n Magnitude of Quakes: 4.0"
          ],
          [
           -70.36,
           -33.9,
           "Ciudad: San José de Maipo,\n Number of Quakes: 1.0,\n Magnitude of Quakes: 4.7"
          ],
          [
           -69.15,
           -20,
           "Ciudad: Pozo Almonte,\n Number of Quakes: 1.0,\n Magnitude of Quakes: 3.8"
          ],
          [
           -69.46,
           -19.19,
           "Ciudad: Camiña,\n Number of Quakes: 1.0,\n Magnitude of Quakes: 4.1"
          ],
          [
           -70.73,
           -27.04,
           "Ciudad: Caldera,\n Number of Quakes: 2.0,\n Magnitude of Quakes: 4.25"
          ],
          [
           -71.4,
           -30.7,
           "Ciudad: Ovalle,\n Number of Quakes: 2.0,\n Magnitude of Quakes: 4.25"
          ],
          [
           -71.48,
           -32.56,
           "Ciudad: Zapallar,\n Number of Quakes: 1.0,\n Magnitude of Quakes: 2.7"
          ],
          [
           -66.93,
           -21.53,
           "Ciudad: Municipio San Pablo de Lipez,\n Number of Quakes: 2.0,\n Magnitude of Quakes: 4.55"
          ],
          [
           -69.32,
           -27.61,
           "Ciudad: Tierra Amarilla,\n Number of Quakes: 2.0,\n Magnitude of Quakes: 4.55"
          ],
          [
           -70.62,
           -35.15,
           "Ciudad: Romeral,\n Number of Quakes: 1.0,\n Magnitude of Quakes: 3.0"
          ],
          [
           -71.7,
           -30.68,
           "Ciudad: Ovalle,\n Number of Quakes: 1.0,\n Magnitude of Quakes: 4.2"
          ],
          [
           -70.72,
           -29.99,
           "Ciudad: Vicuña,\n Number of Quakes: 1.0,\n Magnitude of Quakes: 4.9"
          ],
          [
           -71.66,
           -34.95,
           "Ciudad: Hualañé,\n Number of Quakes: 1.0,\n Magnitude of Quakes: 4.3"
          ],
          [
           -69.33,
           -20.22,
           "Ciudad: Pozo Almonte,\n Number of Quakes: 1.0,\n Magnitude of Quakes: 3.2"
          ],
          [
           -70.33,
           -28.18,
           "Ciudad: Vallenar,\n Number of Quakes: 1.0,\n Magnitude of Quakes: 3.9"
          ],
          [
           -72.72,
           -40.13,
           "Ciudad: Paillaco,\n Number of Quakes: 1.0,\n Magnitude of Quakes: 3.9"
          ],
          [
           -71.44,
           -33.91,
           "Ciudad: San Pedro,\n Number of Quakes: 1.0,\n Magnitude of Quakes: 3.5"
          ],
          [
           -71.67,
           -33.34,
           "Ciudad: Algarrobo,\n Number of Quakes: 1.0,\n Magnitude of Quakes: 4.4"
          ],
          [
           -72.43,
           -40.07,
           "Ciudad: Futrono,\n Number of Quakes: 1.0,\n Magnitude of Quakes: 3.4"
          ],
          [
           -69.98,
           -28.66,
           "Ciudad: Alto del Carmen,\n Number of Quakes: 1.0,\n Magnitude of Quakes: 4.2"
          ],
          [
           -71.19,
           -32.1,
           "Ciudad: Los Vilos,\n Number of Quakes: 1.0,\n Magnitude of Quakes: 5.3"
          ],
          [
           -71.25,
           -30.26,
           "Ciudad: Coquimbo,\n Number of Quakes: 1.0,\n Magnitude of Quakes: 4.2"
          ],
          [
           -71.61,
           -30.82,
           "Ciudad: Ovalle,\n Number of Quakes: 1.0,\n Magnitude of Quakes: 4.4"
          ],
          [
           -69.16,
           -20.01,
           "Ciudad: Pozo Almonte,\n Number of Quakes: 1.0,\n Magnitude of Quakes: 4.5"
          ],
          [
           -70.1,
           -22.08,
           "Ciudad: Tocopilla,\n Number of Quakes: 1.0,\n Magnitude of Quakes: 3.8"
          ],
          [
           -71.35,
           -31.01,
           "Ciudad: Punitaqui,\n Number of Quakes: 1.0,\n Magnitude of Quakes: 3.9"
          ],
          [
           -69.98,
           -22.27,
           "Ciudad: Tocopilla,\n Number of Quakes: 1.0,\n Magnitude of Quakes: 3.9"
          ],
          [
           -70.06,
           -33.62,
           "Ciudad: San José de Maipo,\n Number of Quakes: 1.0,\n Magnitude of Quakes: 2.6"
          ],
          [
           -71.41,
           -35.25,
           "Ciudad: Río Claro,\n Number of Quakes: 2.0,\n Magnitude of Quakes: 4.05"
          ],
          [
           -71.5,
           -32.31,
           "Ciudad: La Ligua,\n Number of Quakes: 2.0,\n Magnitude of Quakes: 4.05"
          ],
          [
           -69.22,
           -20.25,
           "Ciudad: Pica,\n Number of Quakes: 1.0,\n Magnitude of Quakes: 4.3"
          ],
          [
           -68.7,
           -21.14,
           "Ciudad: Pica,\n Number of Quakes: 1.0,\n Magnitude of Quakes: 4.7"
          ],
          [
           -69.38,
           -19.74,
           "Ciudad: Huara,\n Number of Quakes: 1.0,\n Magnitude of Quakes: 3.9"
          ],
          [
           -71.84,
           -34.76,
           "Ciudad: Paredones,\n Number of Quakes: 1.0,\n Magnitude of Quakes: 4.9"
          ],
          [
           -68.73,
           -20.34,
           "Ciudad: Pica,\n Number of Quakes: 1.0,\n Magnitude of Quakes: 5.0"
          ],
          [
           -69.83,
           -29.02,
           "Ciudad: Alto del Carmen,\n Number of Quakes: 1.0,\n Magnitude of Quakes: 4.0"
          ],
          [
           -69.89,
           -21.38,
           "Ciudad: Pozo Almonte,\n Number of Quakes: 1.0,\n Magnitude of Quakes: 4.2"
          ],
          [
           -70.27,
           -25.82,
           "Ciudad: Taltal,\n Number of Quakes: 1.0,\n Magnitude of Quakes: 4.4"
          ],
          [
           -71.25,
           -29.6,
           "Ciudad: La Higuera,\n Number of Quakes: 1.0,\n Magnitude of Quakes: 3.6"
          ],
          [
           -71.37,
           -28.79,
           "Ciudad: Freirina,\n Number of Quakes: 2.0,\n Magnitude of Quakes: 4.5"
          ],
          [
           -69.09,
           -25.75,
           "Ciudad: Taltal,\n Number of Quakes: 2.0,\n Magnitude of Quakes: 4.5"
          ],
          [
           -71.14,
           -29.24,
           "Ciudad: Vallenar,\n Number of Quakes: 1.0,\n Magnitude of Quakes: 4.0"
          ],
          [
           -69.6,
           -18.96,
           "Ciudad: Camarones,\n Number of Quakes: 1.0,\n Magnitude of Quakes: 4.2"
          ],
          [
           -69.61,
           -19.19,
           "Ciudad: Huara,\n Number of Quakes: 1.0,\n Magnitude of Quakes: 3.6"
          ],
          [
           -68.71,
           -21.71,
           "Ciudad: Calama,\n Number of Quakes: 1.0,\n Magnitude of Quakes: 5.0"
          ],
          [
           -71.17,
           -32.05,
           "Ciudad: Los Vilos,\n Number of Quakes: 1.0,\n Magnitude of Quakes: 3.6"
          ],
          [
           -69.9,
           -19.87,
           "Ciudad: Huara,\n Number of Quakes: 1.0,\n Magnitude of Quakes: 3.1"
          ],
          [
           -69.4,
           -19.58,
           "Ciudad: Huara,\n Number of Quakes: 1.0,\n Magnitude of Quakes: 3.4"
          ],
          [
           -69.14,
           -20.49,
           "Ciudad: Pica,\n Number of Quakes: 1.0,\n Magnitude of Quakes: 4.0"
          ],
          [
           -71.05,
           -28.87,
           "Ciudad: Vallenar,\n Number of Quakes: 1.0,\n Magnitude of Quakes: 4.1"
          ],
          [
           -69.09,
           -20.38,
           "Ciudad: Pica,\n Number of Quakes: 1.0,\n Magnitude of Quakes: 4.0"
          ],
          [
           -69.73,
           -21.06,
           "Ciudad: Pozo Almonte,\n Number of Quakes: 1.0,\n Magnitude of Quakes: 4.4"
          ],
          [
           -70.42,
           -25.36,
           "Ciudad: Taltal,\n Number of Quakes: 1.0,\n Magnitude of Quakes: 4.4"
          ],
          [
           -71.28,
           -30,
           "Ciudad: Coquimbo,\n Number of Quakes: 1.0,\n Magnitude of Quakes: 3.0"
          ],
          [
           -69.53,
           -18.45,
           "Ciudad: Putre,\n Number of Quakes: 1.0,\n Magnitude of Quakes: 4.7"
          ],
          [
           -70.96,
           -27.2,
           "Ciudad: Caldera,\n Number of Quakes: 1.0,\n Magnitude of Quakes: 4.0"
          ],
          [
           -68.44,
           -21.85,
           "Ciudad: Calama,\n Number of Quakes: 1.0,\n Magnitude of Quakes: 5.2"
          ],
          [
           -71.49,
           -30.29,
           "Ciudad: Tongoy,\n Number of Quakes: 1.0,\n Magnitude of Quakes: 4.3"
          ],
          [
           -69.9,
           -19.86,
           "Ciudad: Huara,\n Number of Quakes: 1.0,\n Magnitude of Quakes: 4.0"
          ],
          [
           -68.86,
           -21.35,
           "Ciudad: Calama,\n Number of Quakes: 1.0,\n Magnitude of Quakes: 4.8"
          ],
          [
           -69.88,
           -23.73,
           "Ciudad: Antofagasta,\n Number of Quakes: 1.0,\n Magnitude of Quakes: 5.2"
          ],
          [
           -72.43,
           -40.07,
           "Ciudad: Futrono,\n Number of Quakes: 1.0,\n Magnitude of Quakes: 2.8"
          ],
          [
           -70.32,
           -18.27,
           "Ciudad: La Yarada-Los Palos,\n Number of Quakes: 1.0,\n Magnitude of Quakes: 4.5"
          ],
          [
           -71.51,
           -31.64,
           "Ciudad: Canela,\n Number of Quakes: 1.0,\n Magnitude of Quakes: 3.0"
          ],
          [
           -69.01,
           -20.91,
           "Ciudad: Pozo Almonte,\n Number of Quakes: 1.0,\n Magnitude of Quakes: 4.8"
          ],
          [
           -69.04,
           -20.29,
           "Ciudad: Pozo Almonte,\n Number of Quakes: 1.0,\n Magnitude of Quakes: 4.0"
          ],
          [
           -70.36,
           -28.46,
           "Ciudad: Vallenar,\n Number of Quakes: 1.0,\n Magnitude of Quakes: 3.8"
          ],
          [
           -69.38,
           -19.39,
           "Ciudad: Camiña,\n Number of Quakes: 1.0,\n Magnitude of Quakes: 3.9"
          ],
          [
           -69.34,
           -27.44,
           "Ciudad: Tierra Amarilla,\n Number of Quakes: 1.0,\n Magnitude of Quakes: 5.3"
          ],
          [
           -71.61,
           -36.29,
           "Ciudad: Parral,\n Number of Quakes: 1.0,\n Magnitude of Quakes: 4.4"
          ],
          [
           -71.19,
           -29.33,
           "Ciudad: La Higuera,\n Number of Quakes: 1.0,\n Magnitude of Quakes: 3.0"
          ],
          [
           -69.8,
           -21.37,
           "Ciudad: Pozo Almonte,\n Number of Quakes: 1.0,\n Magnitude of Quakes: 4.1"
          ],
          [
           -71.3,
           -30.57,
           "Ciudad: Ovalle,\n Number of Quakes: 1.0,\n Magnitude of Quakes: 4.5"
          ],
          [
           -70.74,
           -28.15,
           "Ciudad: Vallenar,\n Number of Quakes: 1.0,\n Magnitude of Quakes: 4.4"
          ],
          [
           -69.27,
           -20.16,
           "Ciudad: Pozo Almonte,\n Number of Quakes: 2.0,\n Magnitude of Quakes: 3.35"
          ],
          [
           -69.37,
           -19.51,
           "Ciudad: Camiña,\n Number of Quakes: 2.0,\n Magnitude of Quakes: 3.35"
          ],
          [
           -71.18,
           -29.86,
           "Ciudad: La Serena,\n Number of Quakes: 1.0,\n Magnitude of Quakes: 3.8"
          ],
          [
           -71.14,
           -32.35,
           "Ciudad: La Ligua,\n Number of Quakes: 2.0,\n Magnitude of Quakes: 3.9"
          ],
          [
           -70.17,
           -33.07,
           "Ciudad: Los Andes,\n Number of Quakes: 2.0,\n Magnitude of Quakes: 3.9"
          ],
          [
           -69.66,
           -27.65,
           "Ciudad: Tierra Amarilla,\n Number of Quakes: 1.0,\n Magnitude of Quakes: 4.3"
          ],
          [
           -71.69,
           -30.73,
           "Ciudad: Ovalle,\n Number of Quakes: 1.0,\n Magnitude of Quakes: 4.4"
          ],
          [
           -70,
           -18.23,
           "Ciudad: Tacna,\n Number of Quakes: 1.0,\n Magnitude of Quakes: 4.4"
          ],
          [
           -71.35,
           -29.22,
           "Ciudad: La Higuera,\n Number of Quakes: 1.0,\n Magnitude of Quakes: 3.3"
          ],
          [
           -67.46,
           -23.83,
           "Ciudad: San Pedro de Atacama,\n Number of Quakes: 1.0,\n Magnitude of Quakes: 6.4"
          ],
          [
           -69.3,
           -19.17,
           "Ciudad: Camiña,\n Number of Quakes: 1.0,\n Magnitude of Quakes: 3.7"
          ],
          [
           -69.23,
           -20.06,
           "Ciudad: Pozo Almonte,\n Number of Quakes: 1.0,\n Magnitude of Quakes: 4.2"
          ],
          [
           -70.07,
           -19.33,
           "Ciudad: Huara,\n Number of Quakes: 1.0,\n Magnitude of Quakes: 3.8"
          ],
          [
           -70.73,
           -26.69,
           "Ciudad: Caldera,\n Number of Quakes: 1.0,\n Magnitude of Quakes: 3.9"
          ],
          [
           -71.3,
           -30.04,
           "Ciudad: Coquimbo,\n Number of Quakes: 1.0,\n Magnitude of Quakes: 4.2"
          ],
          [
           -71.31,
           -29.41,
           "Ciudad: La Higuera,\n Number of Quakes: 2.0,\n Magnitude of Quakes: 3.75"
          ],
          [
           -71.27,
           -29.43,
           "Ciudad: La Higuera,\n Number of Quakes: 2.0,\n Magnitude of Quakes: 3.75"
          ],
          [
           -70.24,
           -19.33,
           "Ciudad: Huara,\n Number of Quakes: 1.0,\n Magnitude of Quakes: 4.5"
          ],
          [
           -71.23,
           -31.88,
           "Ciudad: Los Vilos,\n Number of Quakes: 1.0,\n Magnitude of Quakes: 3.4"
          ],
          [
           -69.94,
           -20.43,
           "Ciudad: Pozo Almonte,\n Number of Quakes: 1.0,\n Magnitude of Quakes: 3.9"
          ],
          [
           -71.08,
           -29.38,
           "Ciudad: La Higuera,\n Number of Quakes: 1.0,\n Magnitude of Quakes: 3.9"
          ],
          [
           -68.89,
           -21.11,
           "Ciudad: Pica,\n Number of Quakes: 1.0,\n Magnitude of Quakes: 4.9"
          ],
          [
           -70.55,
           -27.29,
           "Ciudad: Copiapó,\n Number of Quakes: 1.0,\n Magnitude of Quakes: 3.8"
          ],
          [
           -70.12,
           -20.09,
           "Ciudad: Iquique,\n Number of Quakes: 1.0,\n Magnitude of Quakes: 3.6"
          ],
          [
           -69.16,
           -22.15,
           "Ciudad: María Elena,\n Number of Quakes: 1.0,\n Magnitude of Quakes: 4.2"
          ],
          [
           -72.73,
           -37.01,
           "Ciudad: Yumbel,\n Number of Quakes: 1.0,\n Magnitude of Quakes: 4.7"
          ],
          [
           -69.29,
           -19.5,
           "Ciudad: Huara,\n Number of Quakes: 1.0,\n Magnitude of Quakes: 2.8"
          ],
          [
           -71.26,
           -29.57,
           "Ciudad: La Higuera,\n Number of Quakes: 1.0,\n Magnitude of Quakes: 3.7"
          ],
          [
           -70.66,
           -32.82,
           "Ciudad: Los Andes,\n Number of Quakes: 1.0,\n Magnitude of Quakes: 4.8"
          ],
          [
           -71.28,
           -30.27,
           "Ciudad: Coquimbo,\n Number of Quakes: 1.0,\n Magnitude of Quakes: 3.9"
          ],
          [
           -70.11,
           -32.66,
           "Ciudad: Distrito Las Cuevas,\n Number of Quakes: 1.0,\n Magnitude of Quakes: 5.8"
          ],
          [
           -71.22,
           -30.31,
           "Ciudad: Andacollo,\n Number of Quakes: 1.0,\n Magnitude of Quakes: 5.2"
          ],
          [
           -69.66,
           -19.2,
           "Ciudad: Huara,\n Number of Quakes: 1.0,\n Magnitude of Quakes: 4.1"
          ],
          [
           -71.14,
           -28.7,
           "Ciudad: Freirina,\n Number of Quakes: 1.0,\n Magnitude of Quakes: 4.7"
          ],
          [
           -69.72,
           -25.47,
           "Ciudad: Taltal,\n Number of Quakes: 1.0,\n Magnitude of Quakes: 4.2"
          ],
          [
           -71.36,
           -35.51,
           "Ciudad: San Clemente,\n Number of Quakes: 1.0,\n Magnitude of Quakes: 4.1"
          ],
          [
           -71.02,
           -29.2,
           "Ciudad: Vallenar,\n Number of Quakes: 1.0,\n Magnitude of Quakes: 4.8"
          ],
          [
           -69.42,
           -19.64,
           "Ciudad: Huara,\n Number of Quakes: 1.0,\n Magnitude of Quakes: 3.8"
          ],
          [
           -72.41,
           -38.45,
           "Ciudad: Perquenco,\n Number of Quakes: 1.0,\n Magnitude of Quakes: 4.1"
          ],
          [
           -71.24,
           -32.84,
           "Ciudad: Quillota,\n Number of Quakes: 1.0,\n Magnitude of Quakes: 4.7"
          ],
          [
           -71.25,
           -29.57,
           "Ciudad: La Higuera,\n Number of Quakes: 1.0,\n Magnitude of Quakes: 3.9"
          ],
          [
           -70.43,
           -23.95,
           "Ciudad: Antofagasta,\n Number of Quakes: 1.0,\n Magnitude of Quakes: 4.8"
          ],
          [
           -69.11,
           -23.23,
           "Ciudad: Sierra Gorda,\n Number of Quakes: 1.0,\n Magnitude of Quakes: 3.6"
          ],
          [
           -69.18,
           -20.52,
           "Ciudad: Pica,\n Number of Quakes: 1.0,\n Magnitude of Quakes: 4.9"
          ],
          [
           -71.5,
           -31.94,
           "Ciudad: Los Vilos,\n Number of Quakes: 1.0,\n Magnitude of Quakes: 4.3"
          ],
          [
           -68.55,
           -22.45,
           "Ciudad: Calama,\n Number of Quakes: 1.0,\n Magnitude of Quakes: 4.5"
          ],
          [
           -71.04,
           -27.86,
           "Ciudad: Copiapó,\n Number of Quakes: 1.0,\n Magnitude of Quakes: 4.8"
          ],
          [
           -72.73,
           -36.92,
           "Ciudad: Florida,\n Number of Quakes: 1.0,\n Magnitude of Quakes: 2.9"
          ],
          [
           -69.45,
           -22.48,
           "Ciudad: María Elena,\n Number of Quakes: 1.0,\n Magnitude of Quakes: 4.0"
          ],
          [
           -69.18,
           -19.25,
           "Ciudad: Colchane,\n Number of Quakes: 1.0,\n Magnitude of Quakes: 4.9"
          ],
          [
           -69.01,
           -25.32,
           "Ciudad: Antofagasta,\n Number of Quakes: 1.0,\n Magnitude of Quakes: 5.3"
          ],
          [
           -72.23,
           -35.17,
           "Ciudad: Constitución,\n Number of Quakes: 1.0,\n Magnitude of Quakes: 3.6"
          ],
          [
           -71.27,
           -29.59,
           "Ciudad: La Higuera,\n Number of Quakes: 1.0,\n Magnitude of Quakes: 3.7"
          ],
          [
           -71.24,
           -29.57,
           "Ciudad: La Higuera,\n Number of Quakes: 1.0,\n Magnitude of Quakes: 3.4"
          ],
          [
           -71.28,
           -28.61,
           "Ciudad: Freirina,\n Number of Quakes: 3.0,\n Magnitude of Quakes: 4.233333333333333"
          ],
          [
           -71.17,
           -29.65,
           "Ciudad: La Serena,\n Number of Quakes: 3.0,\n Magnitude of Quakes: 4.233333333333333"
          ],
          [
           -71.28,
           -29.63,
           "Ciudad: Caleta Hornos,\n Number of Quakes: 3.0,\n Magnitude of Quakes: 4.233333333333333"
          ],
          [
           -69.18,
           -20.77,
           "Ciudad: Pozo Almonte,\n Number of Quakes: 1.0,\n Magnitude of Quakes: 4.2"
          ],
          [
           -70.34,
           -25.59,
           "Ciudad: Taltal,\n Number of Quakes: 1.0,\n Magnitude of Quakes: 3.0"
          ],
          [
           -70.63,
           -28.97,
           "Ciudad: Vallenar,\n Number of Quakes: 1.0,\n Magnitude of Quakes: 4.2"
          ],
          [
           -69.24,
           -19.53,
           "Ciudad: Huara,\n Number of Quakes: 1.0,\n Magnitude of Quakes: 3.0"
          ],
          [
           -71.36,
           -30.71,
           "Ciudad: Ovalle,\n Number of Quakes: 1.0,\n Magnitude of Quakes: 4.4"
          ],
          [
           -70.39,
           -25.49,
           "Ciudad: Taltal,\n Number of Quakes: 1.0,\n Magnitude of Quakes: 4.4"
          ],
          [
           -71.41,
           -30.74,
           "Ciudad: Ovalle,\n Number of Quakes: 1.0,\n Magnitude of Quakes: 3.6"
          ],
          [
           -71.31,
           -30.16,
           "Ciudad: Coquimbo,\n Number of Quakes: 2.0,\n Magnitude of Quakes: 3.7"
          ],
          [
           -71.24,
           -29.52,
           "Ciudad: La Higuera,\n Number of Quakes: 2.0,\n Magnitude of Quakes: 3.7"
          ],
          [
           -69.2,
           -19.61,
           "Ciudad: Huara,\n Number of Quakes: 1.0,\n Magnitude of Quakes: 4.8"
          ],
          [
           -69.87,
           -19.36,
           "Ciudad: Huara,\n Number of Quakes: 1.0,\n Magnitude of Quakes: 3.8"
          ],
          [
           -71.4,
           -30.8,
           "Ciudad: Ovalle,\n Number of Quakes: 1.0,\n Magnitude of Quakes: 4.9"
          ],
          [
           -69.79,
           -21.31,
           "Ciudad: Pozo Almonte,\n Number of Quakes: 1.0,\n Magnitude of Quakes: 4.3"
          ],
          [
           -69.45,
           -23.05,
           "Ciudad: Sierra Gorda,\n Number of Quakes: 1.0,\n Magnitude of Quakes: 4.0"
          ],
          [
           -69.29,
           -22.99,
           "Ciudad: Sierra Gorda,\n Number of Quakes: 2.0,\n Magnitude of Quakes: 4.1"
          ],
          [
           -70.43,
           -27.48,
           "Ciudad: Copiapó,\n Number of Quakes: 2.0,\n Magnitude of Quakes: 4.1"
          ],
          [
           -71.59,
           -31.06,
           "Ciudad: Ovalle,\n Number of Quakes: 1.0,\n Magnitude of Quakes: 4.4"
          ],
          [
           -69.25,
           -19.8,
           "Ciudad: Huara,\n Number of Quakes: 2.0,\n Magnitude of Quakes: 4.05"
          ],
          [
           -69.37,
           -19.66,
           "Ciudad: Huara,\n Number of Quakes: 2.0,\n Magnitude of Quakes: 4.05"
          ],
          [
           -69.05,
           -22.8,
           "Ciudad: Sierra Gorda,\n Number of Quakes: 1.0,\n Magnitude of Quakes: 4.0"
          ],
          [
           -68.51,
           -22.77,
           "Ciudad: Calama,\n Number of Quakes: 1.0,\n Magnitude of Quakes: 4.6"
          ],
          [
           -71.5,
           -31.55,
           "Ciudad: Canela,\n Number of Quakes: 1.0,\n Magnitude of Quakes: 4.2"
          ],
          [
           -71.52,
           -35.88,
           "Ciudad: Linares,\n Number of Quakes: 2.0,\n Magnitude of Quakes: 4.0"
          ],
          [
           -71.73,
           -36.76,
           "Ciudad: Coihueco,\n Number of Quakes: 2.0,\n Magnitude of Quakes: 4.0"
          ],
          [
           -69.21,
           -19.64,
           "Ciudad: Huara,\n Number of Quakes: 1.0,\n Magnitude of Quakes: 4.9"
          ],
          [
           -70.13,
           -18.86,
           "Ciudad: Arica,\n Number of Quakes: 1.0,\n Magnitude of Quakes: 4.2"
          ],
          [
           -68.51,
           -22.8,
           "Ciudad: Calama,\n Number of Quakes: 1.0,\n Magnitude of Quakes: 4.3"
          ],
          [
           -69.76,
           -19.2,
           "Ciudad: Huara,\n Number of Quakes: 2.0,\n Magnitude of Quakes: 5.15"
          ],
          [
           -69.54,
           -18.77,
           "Ciudad: Camarones,\n Number of Quakes: 2.0,\n Magnitude of Quakes: 5.15"
          ],
          [
           -70.39,
           -33.55,
           "Ciudad: San José de Maipo,\n Number of Quakes: 1.0,\n Magnitude of Quakes: 3.0"
          ],
          [
           -69.94,
           -25.98,
           "Ciudad: Chañaral,\n Number of Quakes: 1.0,\n Magnitude of Quakes: 4.2"
          ],
          [
           -71.39,
           -30.6,
           "Ciudad: Ovalle,\n Number of Quakes: 2.0,\n Magnitude of Quakes: 4.1"
          ],
          [
           -68.73,
           -22.43,
           "Ciudad: Calama,\n Number of Quakes: 2.0,\n Magnitude of Quakes: 4.1"
          ],
          [
           -69.08,
           -20.42,
           "Ciudad: Pica,\n Number of Quakes: 1.0,\n Magnitude of Quakes: 3.6"
          ],
          [
           -71.16,
           -29.34,
           "Ciudad: La Higuera,\n Number of Quakes: 1.0,\n Magnitude of Quakes: 3.4"
          ],
          [
           -71.34,
           -32.8,
           "Ciudad: Puchuncaví,\n Number of Quakes: 1.0,\n Magnitude of Quakes: 3.3"
          ],
          [
           -68.7,
           -22.17,
           "Ciudad: Calama,\n Number of Quakes: 1.0,\n Magnitude of Quakes: 5.3"
          ],
          [
           -70.58,
           -25.8,
           "Ciudad: Taltal,\n Number of Quakes: 1.0,\n Magnitude of Quakes: 4.6"
          ],
          [
           -69.13,
           -20.6,
           "Ciudad: Pica,\n Number of Quakes: 2.0,\n Magnitude of Quakes: 4.2"
          ],
          [
           -69.27,
           -19.53,
           "Ciudad: Huara,\n Number of Quakes: 2.0,\n Magnitude of Quakes: 4.2"
          ],
          [
           -71.18,
           -29.57,
           "Ciudad: La Higuera,\n Number of Quakes: 1.0,\n Magnitude of Quakes: 3.9"
          ],
          [
           -70.06,
           -19.23,
           "Ciudad: Huara,\n Number of Quakes: 1.0,\n Magnitude of Quakes: 3.9"
          ],
          [
           -72.01,
           -34.4,
           "Ciudad: Pichilemu,\n Number of Quakes: 1.0,\n Magnitude of Quakes: 2.8"
          ],
          [
           -66.43,
           -22.67,
           "Ciudad: Municipio de Mina Pirquitas,\n Number of Quakes: 1.0,\n Magnitude of Quakes: 6.1"
          ],
          [
           -71.13,
           -32.1,
           "Ciudad: Los Vilos,\n Number of Quakes: 1.0,\n Magnitude of Quakes: 3.4"
          ],
          [
           -69.27,
           -19.49,
           "Ciudad: Huara,\n Number of Quakes: 1.0,\n Magnitude of Quakes: 2.9"
          ],
          [
           -69.15,
           -20.49,
           "Ciudad: Pica,\n Number of Quakes: 2.0,\n Magnitude of Quakes: 4.2"
          ],
          [
           -69.23,
           -20.66,
           "Ciudad: Pica,\n Number of Quakes: 2.0,\n Magnitude of Quakes: 4.2"
          ],
          [
           -70.35,
           -28.7,
           "Ciudad: Alto del Carmen,\n Number of Quakes: 1.0,\n Magnitude of Quakes: 5.2"
          ],
          [
           -71.8,
           -34.82,
           "Ciudad: Paredones,\n Number of Quakes: 1.0,\n Magnitude of Quakes: 4.3"
          ],
          [
           -71.25,
           -31.96,
           "Ciudad: Los Vilos,\n Number of Quakes: 1.0,\n Magnitude of Quakes: 3.8"
          ],
          [
           -71.17,
           -29.83,
           "Ciudad: La Serena,\n Number of Quakes: 2.0,\n Magnitude of Quakes: 4.0"
          ],
          [
           -68.93,
           -23.32,
           "Ciudad: Sierra Gorda,\n Number of Quakes: 2.0,\n Magnitude of Quakes: 4.0"
          ],
          [
           -68.97,
           -20.57,
           "Ciudad: Pica,\n Number of Quakes: 1.0,\n Magnitude of Quakes: 3.8"
          ],
          [
           -66.53,
           -22.47,
           "Ciudad: Municipio de Mina Pirquitas,\n Number of Quakes: 2.0,\n Magnitude of Quakes: 4.85"
          ],
          [
           -70.75,
           -28.33,
           "Ciudad: Vallenar,\n Number of Quakes: 2.0,\n Magnitude of Quakes: 4.85"
          ],
          [
           -73.16,
           -40.79,
           "Ciudad: Río Negro,\n Number of Quakes: 1.0,\n Magnitude of Quakes: 4.0"
          ],
          [
           -69.63,
           -22.89,
           "Ciudad: Sierra Gorda,\n Number of Quakes: 1.0,\n Magnitude of Quakes: 3.3"
          ],
          [
           -71.4,
           -30.7,
           "Ciudad: Ovalle,\n Number of Quakes: 1.0,\n Magnitude of Quakes: 3.9"
          ],
          [
           -69.38,
           -21.09,
           "Ciudad: Pozo Almonte,\n Number of Quakes: 3.0,\n Magnitude of Quakes: 4.266666666666667"
          ],
          [
           -69.6,
           -21.43,
           "Ciudad: Pozo Almonte,\n Number of Quakes: 3.0,\n Magnitude of Quakes: 4.266666666666667"
          ],
          [
           -70.31,
           -18.62,
           "Ciudad: Arica,\n Number of Quakes: 3.0,\n Magnitude of Quakes: 4.266666666666667"
          ],
          [
           -71.28,
           -31.83,
           "Ciudad: Los Vilos,\n Number of Quakes: 1.0,\n Magnitude of Quakes: 3.9"
          ],
          [
           -69.88,
           -21.06,
           "Ciudad: Iquique,\n Number of Quakes: 1.0,\n Magnitude of Quakes: 4.5"
          ],
          [
           -71.18,
           -29.52,
           "Ciudad: La Higuera,\n Number of Quakes: 1.0,\n Magnitude of Quakes: 3.7"
          ],
          [
           -72.81,
           -36.86,
           "Ciudad: Florida,\n Number of Quakes: 1.0,\n Magnitude of Quakes: 3.1"
          ],
          [
           -71.29,
           -29.2,
           "Ciudad: La Higuera,\n Number of Quakes: 1.0,\n Magnitude of Quakes: 3.9"
          ],
          [
           -69.37,
           -19.45,
           "Ciudad: Camiña,\n Number of Quakes: 1.0,\n Magnitude of Quakes: 4.3"
          ],
          [
           -70.72,
           -27.67,
           "Ciudad: Copiapó,\n Number of Quakes: 2.0,\n Magnitude of Quakes: 4.0"
          ],
          [
           -71.36,
           -30.37,
           "Ciudad: Coquimbo,\n Number of Quakes: 2.0,\n Magnitude of Quakes: 4.0"
          ],
          [
           -70.04,
           -33.49,
           "Ciudad: San José de Maipo,\n Number of Quakes: 1.0,\n Magnitude of Quakes: 3.7"
          ],
          [
           -70.02,
           -25.69,
           "Ciudad: Taltal,\n Number of Quakes: 1.0,\n Magnitude of Quakes: 4.7"
          ],
          [
           -71.25,
           -30.19,
           "Ciudad: Coquimbo,\n Number of Quakes: 1.0,\n Magnitude of Quakes: 4.2"
          ],
          [
           -68.63,
           -21.11,
           "Ciudad: Pica,\n Number of Quakes: 2.0,\n Magnitude of Quakes: 4.45"
          ],
          [
           -70.06,
           -19.16,
           "Ciudad: Huara,\n Number of Quakes: 2.0,\n Magnitude of Quakes: 4.45"
          ],
          [
           -69.04,
           -19.39,
           "Ciudad: Colchane,\n Number of Quakes: 1.0,\n Magnitude of Quakes: 4.4"
          ],
          [
           -71.43,
           -32.16,
           "Ciudad: Los Vilos,\n Number of Quakes: 1.0,\n Magnitude of Quakes: 4.9"
          ],
          [
           -69.45,
           -23,
           "Ciudad: Sierra Gorda,\n Number of Quakes: 1.0,\n Magnitude of Quakes: 3.9"
          ],
          [
           -70.63,
           -27.23,
           "Ciudad: Copiapó,\n Number of Quakes: 3.0,\n Magnitude of Quakes: 4.2"
          ],
          [
           -70.62,
           -27.23,
           "Ciudad: Copiapó,\n Number of Quakes: 3.0,\n Magnitude of Quakes: 4.2"
          ],
          [
           -69.91,
           -22.74,
           "Ciudad: María Elena,\n Number of Quakes: 3.0,\n Magnitude of Quakes: 4.2"
          ],
          [
           -71.41,
           -32.19,
           "Ciudad: La Ligua,\n Number of Quakes: 1.0,\n Magnitude of Quakes: 3.9"
          ],
          [
           -69.36,
           -20.07,
           "Ciudad: Pozo Almonte,\n Number of Quakes: 1.0,\n Magnitude of Quakes: 3.7"
          ],
          [
           -67.24,
           -24.67,
           "Ciudad: Municipio de Tolar Grande,\n Number of Quakes: 1.0,\n Magnitude of Quakes: 4.6"
          ],
          [
           -71.09,
           -32.1,
           "Ciudad: Los Vilos,\n Number of Quakes: 1.0,\n Magnitude of Quakes: 4.5"
          ],
          [
           -68.42,
           -22.88,
           "Ciudad: San Pedro de Atacama,\n Number of Quakes: 1.0,\n Magnitude of Quakes: 5.6"
          ],
          [
           -71.34,
           -35.22,
           "Ciudad: Río Claro,\n Number of Quakes: 1.0,\n Magnitude of Quakes: 5.2"
          ],
          [
           -71.49,
           -31.22,
           "Ciudad: Canela,\n Number of Quakes: 1.0,\n Magnitude of Quakes: 3.4"
          ],
          [
           -69.14,
           -19.87,
           "Ciudad: Huara,\n Number of Quakes: 1.0,\n Magnitude of Quakes: 4.5"
          ],
          [
           -71.31,
           -30.79,
           "Ciudad: Punitaqui,\n Number of Quakes: 1.0,\n Magnitude of Quakes: 4.2"
          ],
          [
           -69.72,
           -26.15,
           "Ciudad: Diego de Almagro,\n Number of Quakes: 1.0,\n Magnitude of Quakes: 3.9"
          ],
          [
           -69.94,
           -18.97,
           "Ciudad: Camarones,\n Number of Quakes: 1.0,\n Magnitude of Quakes: 3.4"
          ],
          [
           -71.14,
           -32.12,
           "Ciudad: Los Vilos,\n Number of Quakes: 1.0,\n Magnitude of Quakes: 3.7"
          ],
          [
           -72.86,
           -36.54,
           "Ciudad: Tomé,\n Number of Quakes: 1.0,\n Magnitude of Quakes: 4.4"
          ],
          [
           -67.31,
           -23.38,
           "Ciudad: San Pedro de Atacama,\n Number of Quakes: 1.0,\n Magnitude of Quakes: 6.9"
          ],
          [
           -71.35,
           -32.82,
           "Ciudad: Puchuncaví,\n Number of Quakes: 1.0,\n Magnitude of Quakes: 3.4"
          ],
          [
           -69.2,
           -20.03,
           "Ciudad: Pozo Almonte,\n Number of Quakes: 1.0,\n Magnitude of Quakes: 4.0"
          ],
          [
           -70.34,
           -25.89,
           "Ciudad: Taltal,\n Number of Quakes: 1.0,\n Magnitude of Quakes: 4.1"
          ],
          [
           -71.38,
           -36.86,
           "Ciudad: Coihueco,\n Number of Quakes: 1.0,\n Magnitude of Quakes: 4.0"
          ],
          [
           -69.76,
           -18.83,
           "Ciudad: Camarones,\n Number of Quakes: 2.0,\n Magnitude of Quakes: 3.65"
          ],
          [
           -69.2,
           -20.52,
           "Ciudad: Pica,\n Number of Quakes: 2.0,\n Magnitude of Quakes: 3.65"
          ],
          [
           -70.15,
           -18.79,
           "Ciudad: Arica,\n Number of Quakes: 1.0,\n Magnitude of Quakes: 3.7"
          ],
          [
           -69.62,
           -17.64,
           "Ciudad: General Lagos,\n Number of Quakes: 1.0,\n Magnitude of Quakes: 5.4"
          ],
          [
           -70.75,
           -28.15,
           "Ciudad: Vallenar,\n Number of Quakes: 1.0,\n Magnitude of Quakes: 5.1"
          ],
          [
           -69.74,
           -21.88,
           "Ciudad: María Elena,\n Number of Quakes: 1.0,\n Magnitude of Quakes: 4.8"
          ],
          [
           -70.6,
           -14.7,
           "Ciudad: Orurillo,\n Number of Quakes: 1.0,\n Magnitude of Quakes: 7.0"
          ],
          [
           -69.29,
           -20.09,
           "Ciudad: Pozo Almonte,\n Number of Quakes: 1.0,\n Magnitude of Quakes: 3.8"
          ],
          [
           -70.4,
           -26.44,
           "Ciudad: Chañaral,\n Number of Quakes: 1.0,\n Magnitude of Quakes: 5.3"
          ],
          [
           -70.17,
           -22.25,
           "Ciudad: Tocopilla,\n Number of Quakes: 1.0,\n Magnitude of Quakes: 4.4"
          ],
          [
           -68.94,
           -20.45,
           "Ciudad: Pica,\n Number of Quakes: 1.0,\n Magnitude of Quakes: 4.2"
          ],
          [
           -69.22,
           -20.08,
           "Ciudad: Pozo Almonte,\n Number of Quakes: 1.0,\n Magnitude of Quakes: 3.9"
          ],
          [
           -69.92,
           -21.82,
           "Ciudad: Tocopilla,\n Number of Quakes: 1.0,\n Magnitude of Quakes: 4.7"
          ],
          [
           -69.31,
           -19.17,
           "Ciudad: Camiña,\n Number of Quakes: 2.0,\n Magnitude of Quakes: 4.35"
          ],
          [
           -70.06,
           -21.16,
           "Ciudad: Iquique,\n Number of Quakes: 2.0,\n Magnitude of Quakes: 4.35"
          ],
          [
           -68.46,
           -23.16,
           "Ciudad: San Pedro de Atacama,\n Number of Quakes: 1.0,\n Magnitude of Quakes: 5.4"
          ],
          [
           -71.23,
           -30.72,
           "Ciudad: Ovalle,\n Number of Quakes: 1.0,\n Magnitude of Quakes: 3.8"
          ],
          [
           -71.12,
           -32.09,
           "Ciudad: Los Vilos,\n Number of Quakes: 1.0,\n Magnitude of Quakes: 3.5"
          ],
          [
           -69.69,
           -24.04,
           "Ciudad: Antofagasta,\n Number of Quakes: 1.0,\n Magnitude of Quakes: 5.4"
          ],
          [
           -69.13,
           -20.22,
           "Ciudad: Pozo Almonte,\n Number of Quakes: 2.0,\n Magnitude of Quakes: 4.55"
          ],
          [
           -68.37,
           -21.14,
           "Ciudad: Ollagüe,\n Number of Quakes: 2.0,\n Magnitude of Quakes: 4.55"
          ],
          [
           -71.39,
           -30.99,
           "Ciudad: Punitaqui,\n Number of Quakes: 1.0,\n Magnitude of Quakes: 3.4"
          ],
          [
           -69.02,
           -19.62,
           "Ciudad: Huara,\n Number of Quakes: 1.0,\n Magnitude of Quakes: 4.1"
          ],
          [
           -69.07,
           -20.4,
           "Ciudad: Pica,\n Number of Quakes: 1.0,\n Magnitude of Quakes: 3.8"
          ],
          [
           -71.12,
           -34.98,
           "Ciudad: Romeral,\n Number of Quakes: 1.0,\n Magnitude of Quakes: 3.9"
          ],
          [
           -70.51,
           -27.78,
           "Ciudad: Copiapó,\n Number of Quakes: 1.0,\n Magnitude of Quakes: 3.2"
          ],
          [
           -73.01,
           -36.77,
           "Ciudad: Concepción,\n Number of Quakes: 1.0,\n Magnitude of Quakes: 3.2"
          ],
          [
           -68.75,
           -20.29,
           "Ciudad: Pica,\n Number of Quakes: 1.0,\n Magnitude of Quakes: 4.6"
          ],
          [
           -70.13,
           -32.59,
           "Ciudad: Distrito Las Cuevas,\n Number of Quakes: 1.0,\n Magnitude of Quakes: 3.4"
          ],
          [
           -69.38,
           -19.76,
           "Ciudad: Huara,\n Number of Quakes: 1.0,\n Magnitude of Quakes: 4.1"
          ],
          [
           -69.31,
           -23.12,
           "Ciudad: Sierra Gorda,\n Number of Quakes: 1.0,\n Magnitude of Quakes: 3.9"
          ],
          [
           -68.83,
           -22.65,
           "Ciudad: Calama,\n Number of Quakes: 1.0,\n Magnitude of Quakes: 4.2"
          ],
          [
           -71.27,
           -30.2,
           "Ciudad: Coquimbo,\n Number of Quakes: 1.0,\n Magnitude of Quakes: 3.5"
          ],
          [
           -70.24,
           -19.35,
           "Ciudad: Huara,\n Number of Quakes: 1.0,\n Magnitude of Quakes: 4.8"
          ],
          [
           -70.08,
           -19.97,
           "Ciudad: Huara,\n Number of Quakes: 1.0,\n Magnitude of Quakes: 3.0"
          ],
          [
           -69.13,
           -22.63,
           "Ciudad: Calama,\n Number of Quakes: 1.0,\n Magnitude of Quakes: 4.0"
          ],
          [
           -71.26,
           -16.73,
           "Ciudad: Puquina,\n Number of Quakes: 1.0,\n Magnitude of Quakes: 5.5"
          ],
          [
           -70.56,
           -28.74,
           "Ciudad: Alto del Carmen,\n Number of Quakes: 2.0,\n Magnitude of Quakes: 4.1"
          ],
          [
           -70.24,
           -27.29,
           "Ciudad: Copiapó,\n Number of Quakes: 2.0,\n Magnitude of Quakes: 4.1"
          ],
          [
           -71.29,
           -30.99,
           "Ciudad: Punitaqui,\n Number of Quakes: 1.0,\n Magnitude of Quakes: 4.1"
          ],
          [
           -71.67,
           -30.87,
           "Ciudad: Ovalle,\n Number of Quakes: 1.0,\n Magnitude of Quakes: 4.0"
          ],
          [
           -72.15,
           -37.5,
           "Ciudad: Los Ángeles,\n Number of Quakes: 1.0,\n Magnitude of Quakes: 4.5"
          ],
          [
           -69.47,
           -19.47,
           "Ciudad: Camiña,\n Number of Quakes: 1.0,\n Magnitude of Quakes: 4.5"
          ],
          [
           -71.33,
           -30.95,
           "Ciudad: Punitaqui,\n Number of Quakes: 1.0,\n Magnitude of Quakes: 3.0"
          ],
          [
           -68.92,
           -20.09,
           "Ciudad: Pica,\n Number of Quakes: 1.0,\n Magnitude of Quakes: 4.5"
          ],
          [
           -71.42,
           -31.77,
           "Ciudad: Los Vilos,\n Number of Quakes: 1.0,\n Magnitude of Quakes: 3.2"
          ],
          [
           -69.83,
           -18.44,
           "Ciudad: Arica,\n Number of Quakes: 1.0,\n Magnitude of Quakes: 4.4"
          ],
          [
           -70.03,
           -19.16,
           "Ciudad: Huara,\n Number of Quakes: 1.0,\n Magnitude of Quakes: 4.2"
          ],
          [
           -69.34,
           -19.41,
           "Ciudad: Camiña,\n Number of Quakes: 1.0,\n Magnitude of Quakes: 5.1"
          ],
          [
           -71.32,
           -30.14,
           "Ciudad: Coquimbo,\n Number of Quakes: 1.0,\n Magnitude of Quakes: 3.2"
          ],
          [
           -71.21,
           -29.45,
           "Ciudad: La Higuera,\n Number of Quakes: 1.0,\n Magnitude of Quakes: 4.2"
          ],
          [
           -69.81,
           -21.4,
           "Ciudad: Pozo Almonte,\n Number of Quakes: 1.0,\n Magnitude of Quakes: 4.0"
          ],
          [
           -70.64,
           -25.77,
           "Ciudad: Taltal,\n Number of Quakes: 1.0,\n Magnitude of Quakes: 4.6"
          ],
          [
           -70.17,
           -22.97,
           "Ciudad: Mejillones,\n Number of Quakes: 1.0,\n Magnitude of Quakes: 4.4"
          ],
          [
           -71.33,
           -30.73,
           "Ciudad: Ovalle,\n Number of Quakes: 1.0,\n Magnitude of Quakes: 4.6"
          ],
          [
           -70.57,
           -34.37,
           "Ciudad: Requínoa,\n Number of Quakes: 1.0,\n Magnitude of Quakes: 5.5"
          ],
          [
           -71.35,
           -28.79,
           "Ciudad: Freirina,\n Number of Quakes: 1.0,\n Magnitude of Quakes: 4.8"
          ],
          [
           -69.46,
           -19.16,
           "Ciudad: Huara,\n Number of Quakes: 1.0,\n Magnitude of Quakes: 4.2"
          ],
          [
           -72.03,
           -35.34,
           "Ciudad: Curepto,\n Number of Quakes: 1.0,\n Magnitude of Quakes: 4.2"
          ],
          [
           -71.7,
           -34.78,
           "Ciudad: Lolol,\n Number of Quakes: 1.0,\n Magnitude of Quakes: 4.2"
          ],
          [
           -71.21,
           -28.67,
           "Ciudad: Freirina,\n Number of Quakes: 1.0,\n Magnitude of Quakes: 4.0"
          ],
          [
           -70.47,
           -32.61,
           "Ciudad: San Esteban,\n Number of Quakes: 1.0,\n Magnitude of Quakes: 3.9"
          ],
          [
           -68.75,
           -22.01,
           "Ciudad: Calama,\n Number of Quakes: 1.0,\n Magnitude of Quakes: 5.6"
          ],
          [
           -71.01,
           -28.77,
           "Ciudad: Freirina,\n Number of Quakes: 1.0,\n Magnitude of Quakes: 4.7"
          ],
          [
           -69.78,
           -18.88,
           "Ciudad: Camarones,\n Number of Quakes: 1.0,\n Magnitude of Quakes: 4.4"
          ],
          [
           -71.88,
           -35.12,
           "Ciudad: Curepto,\n Number of Quakes: 1.0,\n Magnitude of Quakes: 4.7"
          ],
          [
           -70.8,
           -33.57,
           "Ciudad: Padre Hurtado,\n Number of Quakes: 1.0,\n Magnitude of Quakes: 4.5"
          ],
          [
           -71.85,
           -36.24,
           "Ciudad: Ñiquén,\n Number of Quakes: 1.0,\n Magnitude of Quakes: 4.7"
          ],
          [
           -71.25,
           -30.47,
           "Ciudad: Ovalle,\n Number of Quakes: 2.0,\n Magnitude of Quakes: 3.45"
          ],
          [
           -71.4,
           -30.56,
           "Ciudad: Ovalle,\n Number of Quakes: 2.0,\n Magnitude of Quakes: 3.45"
          ],
          [
           -69.3,
           -19.57,
           "Ciudad: Huara,\n Number of Quakes: 1.0,\n Magnitude of Quakes: 3.5"
          ],
          [
           -68.89,
           -22.69,
           "Ciudad: Calama,\n Number of Quakes: 2.0,\n Magnitude of Quakes: 4.699999999999999"
          ],
          [
           -68.96,
           -22.98,
           "Ciudad: Sierra Gorda,\n Number of Quakes: 2.0,\n Magnitude of Quakes: 4.699999999999999"
          ],
          [
           -70.94,
           -32.07,
           "Ciudad: Salamanca,\n Number of Quakes: 1.0,\n Magnitude of Quakes: 3.8"
          ],
          [
           -68.69,
           -22.31,
           "Ciudad: Calama,\n Number of Quakes: 1.0,\n Magnitude of Quakes: 4.5"
          ],
          [
           -71.24,
           -30.62,
           "Ciudad: Ovalle,\n Number of Quakes: 1.0,\n Magnitude of Quakes: 4.7"
          ],
          [
           -71.3,
           -30.65,
           "Ciudad: Ovalle,\n Number of Quakes: 1.0,\n Magnitude of Quakes: 4.3"
          ],
          [
           -70.06,
           -19.96,
           "Ciudad: Huara,\n Number of Quakes: 2.0,\n Magnitude of Quakes: 4.05"
          ],
          [
           -70.11,
           -19.25,
           "Ciudad: Huara,\n Number of Quakes: 2.0,\n Magnitude of Quakes: 4.05"
          ],
          [
           -70.12,
           -27.61,
           "Ciudad: Tierra Amarilla,\n Number of Quakes: 1.0,\n Magnitude of Quakes: 3.5"
          ],
          [
           -69.84,
           -18.42,
           "Ciudad: Arica,\n Number of Quakes: 1.0,\n Magnitude of Quakes: 4.4"
          ],
          [
           -69.81,
           -22.08,
           "Ciudad: Tocopilla,\n Number of Quakes: 1.0,\n Magnitude of Quakes: 4.0"
          ],
          [
           -68.74,
           -22.25,
           "Ciudad: Calama,\n Number of Quakes: 1.0,\n Magnitude of Quakes: 4.4"
          ],
          [
           -69.02,
           -23.62,
           "Ciudad: Sierra Gorda,\n Number of Quakes: 1.0,\n Magnitude of Quakes: 4.3"
          ],
          [
           -68.89,
           -21.94,
           "Ciudad: Calama,\n Number of Quakes: 1.0,\n Magnitude of Quakes: 4.5"
          ],
          [
           -69.36,
           -19.48,
           "Ciudad: Camiña,\n Number of Quakes: 1.0,\n Magnitude of Quakes: 3.8"
          ],
          [
           -70.05,
           -19.48,
           "Ciudad: Huara,\n Number of Quakes: 1.0,\n Magnitude of Quakes: 4.6"
          ],
          [
           -69.87,
           -19.2,
           "Ciudad: Huara,\n Number of Quakes: 1.0,\n Magnitude of Quakes: 4.0"
          ],
          [
           -70.37,
           -25.72,
           "Ciudad: Taltal,\n Number of Quakes: 1.0,\n Magnitude of Quakes: 4.2"
          ],
          [
           -69.54,
           -19.68,
           "Ciudad: Huara,\n Number of Quakes: 1.0,\n Magnitude of Quakes: 3.8"
          ],
          [
           -68.8,
           -22.22,
           "Ciudad: Calama,\n Number of Quakes: 1.0,\n Magnitude of Quakes: 5.0"
          ],
          [
           -69.3,
           -20.32,
           "Ciudad: Pica,\n Number of Quakes: 1.0,\n Magnitude of Quakes: 4.3"
          ],
          [
           -70.92,
           -33.03,
           "Ciudad: Tiltil,\n Number of Quakes: 1.0,\n Magnitude of Quakes: 4.3"
          ],
          [
           -71.31,
           -30.78,
           "Ciudad: Punitaqui,\n Number of Quakes: 1.0,\n Magnitude of Quakes: 4.5"
          ],
          [
           -70.14,
           -19.75,
           "Ciudad: Huara,\n Number of Quakes: 1.0,\n Magnitude of Quakes: 3.8"
          ],
          [
           -71.25,
           -32.71,
           "Ciudad: El Melón,\n Number of Quakes: 1.0,\n Magnitude of Quakes: 4.8"
          ],
          [
           -69.35,
           -18.51,
           "Ciudad: Putre,\n Number of Quakes: 1.0,\n Magnitude of Quakes: 5.1"
          ],
          [
           -71.38,
           -30.7,
           "Ciudad: Ovalle,\n Number of Quakes: 1.0,\n Magnitude of Quakes: 5.5"
          ],
          [
           -69.25,
           -20.63,
           "Ciudad: Pica,\n Number of Quakes: 1.0,\n Magnitude of Quakes: 4.5"
          ],
          [
           -71.59,
           -30.59,
           "Ciudad: Ovalle,\n Number of Quakes: 1.0,\n Magnitude of Quakes: 4.4"
          ],
          [
           -68.92,
           -21.98,
           "Ciudad: Calama,\n Number of Quakes: 2.0,\n Magnitude of Quakes: 4.6"
          ],
          [
           -71.02,
           -29.58,
           "Ciudad: La Serena,\n Number of Quakes: 2.0,\n Magnitude of Quakes: 4.6"
          ],
          [
           -71.26,
           -29.32,
           "Ciudad: La Higuera,\n Number of Quakes: 1.0,\n Magnitude of Quakes: 3.7"
          ],
          [
           -69.43,
           -19.49,
           "Ciudad: Camiña,\n Number of Quakes: 1.0,\n Magnitude of Quakes: 3.8"
          ],
          [
           -71.46,
           -30.7,
           "Ciudad: Ovalle,\n Number of Quakes: 1.0,\n Magnitude of Quakes: 3.8"
          ],
          [
           -71.08,
           -27.82,
           "Ciudad: Copiapó,\n Number of Quakes: 1.0,\n Magnitude of Quakes: 4.3"
          ],
          [
           -71.33,
           -29.31,
           "Ciudad: La Higuera,\n Number of Quakes: 1.0,\n Magnitude of Quakes: 3.1"
          ],
          [
           -71.3,
           -29.67,
           "Ciudad: La Higuera,\n Number of Quakes: 1.0,\n Magnitude of Quakes: 3.3"
          ],
          [
           -71.24,
           -30.61,
           "Ciudad: Ovalle,\n Number of Quakes: 1.0,\n Magnitude of Quakes: 3.9"
          ],
          [
           -73.62,
           -37.58,
           "Ciudad: Lebu,\n Number of Quakes: 1.0,\n Magnitude of Quakes: 3.0"
          ],
          [
           -71.34,
           -29.94,
           "Ciudad: Coquimbo,\n Number of Quakes: 2.0,\n Magnitude of Quakes: 3.75"
          ],
          [
           -71.41,
           -30.73,
           "Ciudad: Ovalle,\n Number of Quakes: 2.0,\n Magnitude of Quakes: 3.75"
          ],
          [
           -69.87,
           -18.39,
           "Ciudad: Arica,\n Number of Quakes: 1.0,\n Magnitude of Quakes: 4.1"
          ],
          [
           -70.83,
           -27.12,
           "Ciudad: Caldera,\n Number of Quakes: 1.0,\n Magnitude of Quakes: 2.6"
          ],
          [
           -71.11,
           -33.26,
           "Ciudad: Curacaví,\n Number of Quakes: 1.0,\n Magnitude of Quakes: 4.4"
          ],
          [
           -73.57,
           -37.56,
           "Ciudad: Lebu,\n Number of Quakes: 1.0,\n Magnitude of Quakes: 3.2"
          ],
          [
           -71.38,
           -30.71,
           "Ciudad: Ovalle,\n Number of Quakes: 1.0,\n Magnitude of Quakes: 3.6"
          ],
          [
           -71.14,
           -32.09,
           "Ciudad: Los Vilos,\n Number of Quakes: 1.0,\n Magnitude of Quakes: 3.9"
          ],
          [
           -71.33,
           -33.58,
           "Ciudad: Cartagena,\n Number of Quakes: 2.0,\n Magnitude of Quakes: 4.55"
          ],
          [
           -71.37,
           -35.37,
           "Ciudad: Pelarco,\n Number of Quakes: 2.0,\n Magnitude of Quakes: 4.55"
          ],
          [
           -71.41,
           -30.71,
           "Ciudad: Ovalle,\n Number of Quakes: 2.0,\n Magnitude of Quakes: 4.050000000000001"
          ],
          [
           -69.55,
           -25.54,
           "Ciudad: Taltal,\n Number of Quakes: 2.0,\n Magnitude of Quakes: 4.050000000000001"
          ],
          [
           -71.11,
           -32.63,
           "Ciudad: Nogales,\n Number of Quakes: 1.0,\n Magnitude of Quakes: 3.9"
          ],
          [
           -69.15,
           -22.45,
           "Ciudad: María Elena,\n Number of Quakes: 1.0,\n Magnitude of Quakes: 4.6"
          ],
          [
           -70.58,
           -29.4,
           "Ciudad: La Higuera,\n Number of Quakes: 1.0,\n Magnitude of Quakes: 3.6"
          ],
          [
           -68.85,
           -20.62,
           "Ciudad: Pica,\n Number of Quakes: 1.0,\n Magnitude of Quakes: 4.4"
          ],
          [
           -71.17,
           -31.52,
           "Ciudad: Illapel,\n Number of Quakes: 1.0,\n Magnitude of Quakes: 4.1"
          ],
          [
           -72.99,
           -36.77,
           "Ciudad: Penco,\n Number of Quakes: 1.0,\n Magnitude of Quakes: 2.8"
          ],
          [
           -70.71,
           -32.28,
           "Ciudad: Cabildo,\n Number of Quakes: 1.0,\n Magnitude of Quakes: 4.2"
          ],
          [
           -71.36,
           -29.22,
           "Ciudad: La Higuera,\n Number of Quakes: 1.0,\n Magnitude of Quakes: 4.4"
          ],
          [
           -72.77,
           -39.96,
           "Ciudad: Los Lagos,\n Number of Quakes: 1.0,\n Magnitude of Quakes: 3.2"
          ],
          [
           -69.37,
           -19.29,
           "Ciudad: Camiña,\n Number of Quakes: 1.0,\n Magnitude of Quakes: 4.4"
          ],
          [
           -71.52,
           -35.54,
           "Ciudad: San Clemente,\n Number of Quakes: 1.0,\n Magnitude of Quakes: 4.3"
          ],
          [
           -69.8,
           -19.13,
           "Ciudad: Huara,\n Number of Quakes: 2.0,\n Magnitude of Quakes: 4.0"
          ],
          [
           -69.23,
           -19.61,
           "Ciudad: Huara,\n Number of Quakes: 2.0,\n Magnitude of Quakes: 4.0"
          ],
          [
           -68.27,
           -22.98,
           "Ciudad: San Pedro de Atacama,\n Number of Quakes: 2.0,\n Magnitude of Quakes: 5.1"
          ],
          [
           -71.35,
           -31.61,
           "Ciudad: Illapel,\n Number of Quakes: 2.0,\n Magnitude of Quakes: 5.1"
          ],
          [
           -71.18,
           -30.07,
           "Ciudad: Coquimbo,\n Number of Quakes: 1.0,\n Magnitude of Quakes: 3.7"
          ],
          [
           -71.31,
           -29.09,
           "Ciudad: Freirina,\n Number of Quakes: 1.0,\n Magnitude of Quakes: 4.1"
          ],
          [
           -68.64,
           -22.31,
           "Ciudad: Calama,\n Number of Quakes: 1.0,\n Magnitude of Quakes: 5.0"
          ],
          [
           -71.25,
           -29.23,
           "Ciudad: La Higuera,\n Number of Quakes: 1.0,\n Magnitude of Quakes: 3.9"
          ],
          [
           -71.28,
           -30.16,
           "Ciudad: Coquimbo,\n Number of Quakes: 1.0,\n Magnitude of Quakes: 4.1"
          ],
          [
           -69.26,
           -22.53,
           "Ciudad: María Elena,\n Number of Quakes: 1.0,\n Magnitude of Quakes: 4.4"
          ],
          [
           -69.76,
           -19.08,
           "Ciudad: Huara,\n Number of Quakes: 1.0,\n Magnitude of Quakes: 4.7"
          ],
          [
           -71.12,
           -29.49,
           "Ciudad: La Higuera,\n Number of Quakes: 2.0,\n Magnitude of Quakes: 4.3"
          ],
          [
           -71.22,
           -30.66,
           "Ciudad: Ovalle,\n Number of Quakes: 2.0,\n Magnitude of Quakes: 4.3"
          ],
          [
           -70.24,
           -27.64,
           "Ciudad: Tierra Amarilla,\n Number of Quakes: 1.0,\n Magnitude of Quakes: 4.5"
          ],
          [
           -68.89,
           -23.02,
           "Ciudad: Sierra Gorda,\n Number of Quakes: 1.0,\n Magnitude of Quakes: 5.4"
          ],
          [
           -68.96,
           -22.99,
           "Ciudad: Sierra Gorda,\n Number of Quakes: 1.0,\n Magnitude of Quakes: 5.2"
          ],
          [
           -71.64,
           -30.44,
           "Ciudad: Ovalle,\n Number of Quakes: 1.0,\n Magnitude of Quakes: 3.9"
          ],
          [
           -69.08,
           -19.18,
           "Ciudad: Colchane,\n Number of Quakes: 1.0,\n Magnitude of Quakes: 5.1"
          ],
          [
           -68.95,
           -23,
           "Ciudad: Sierra Gorda,\n Number of Quakes: 2.0,\n Magnitude of Quakes: 4.25"
          ],
          [
           -71.42,
           -30.78,
           "Ciudad: Ovalle,\n Number of Quakes: 2.0,\n Magnitude of Quakes: 4.25"
          ],
          [
           -71.24,
           -32.7,
           "Ciudad: El Melón,\n Number of Quakes: 1.0,\n Magnitude of Quakes: 4.2"
          ],
          [
           -68.57,
           -22.91,
           "Ciudad: Calama,\n Number of Quakes: 2.0,\n Magnitude of Quakes: 4.35"
          ],
          [
           -70.91,
           -28.29,
           "Ciudad: Huasco,\n Number of Quakes: 2.0,\n Magnitude of Quakes: 4.35"
          ],
          [
           -71.59,
           -34.23,
           "Ciudad: La Estrella,\n Number of Quakes: 1.0,\n Magnitude of Quakes: 4.0"
          ],
          [
           -71.35,
           -33.04,
           "Ciudad: Villa Alemana,\n Number of Quakes: 1.0,\n Magnitude of Quakes: 4.2"
          ],
          [
           -71.24,
           -29.27,
           "Ciudad: La Higuera,\n Number of Quakes: 1.0,\n Magnitude of Quakes: 3.7"
          ],
          [
           -69.44,
           -20.04,
           "Ciudad: Pozo Almonte,\n Number of Quakes: 1.0,\n Magnitude of Quakes: 3.9"
          ],
          [
           -71.25,
           -29,
           "Ciudad: Freirina,\n Number of Quakes: 2.0,\n Magnitude of Quakes: 4.05"
          ],
          [
           -71.23,
           -30.64,
           "Ciudad: Ovalle,\n Number of Quakes: 2.0,\n Magnitude of Quakes: 4.05"
          ],
          [
           -71.54,
           -31.25,
           "Ciudad: Canela,\n Number of Quakes: 1.0,\n Magnitude of Quakes: 3.4"
          ],
          [
           -71.17,
           -31.16,
           "Ciudad: Combarbalá,\n Number of Quakes: 1.0,\n Magnitude of Quakes: 3.0"
          ],
          [
           -71.53,
           -30.59,
           "Ciudad: Ovalle,\n Number of Quakes: 1.0,\n Magnitude of Quakes: 3.4"
          ],
          [
           -69.08,
           -20.46,
           "Ciudad: Pica,\n Number of Quakes: 1.0,\n Magnitude of Quakes: 3.7"
          ],
          [
           -70.18,
           -27.94,
           "Ciudad: Copiapó,\n Number of Quakes: 1.0,\n Magnitude of Quakes: 3.9"
          ],
          [
           -71.42,
           -30.73,
           "Ciudad: Ovalle,\n Number of Quakes: 1.0,\n Magnitude of Quakes: 3.3"
          ],
          [
           -71.54,
           -31.07,
           "Ciudad: Ovalle,\n Number of Quakes: 1.0,\n Magnitude of Quakes: 4.1"
          ],
          [
           -69.15,
           -19.67,
           "Ciudad: Huara,\n Number of Quakes: 1.0,\n Magnitude of Quakes: 4.4"
          ],
          [
           -71.32,
           -28.91,
           "Ciudad: Freirina,\n Number of Quakes: 1.0,\n Magnitude of Quakes: 4.1"
          ],
          [
           -72.69,
           -36.35,
           "Ciudad: Treguaco,\n Number of Quakes: 1.0,\n Magnitude of Quakes: 3.9"
          ],
          [
           -69.42,
           -19.05,
           "Ciudad: Huara,\n Number of Quakes: 2.0,\n Magnitude of Quakes: 4.35"
          ],
          [
           -69.89,
           -18.91,
           "Ciudad: Camarones,\n Number of Quakes: 2.0,\n Magnitude of Quakes: 4.35"
          ],
          [
           -69.71,
           -18.86,
           "Ciudad: Camarones,\n Number of Quakes: 2.0,\n Magnitude of Quakes: 4.449999999999999"
          ],
          [
           -69.91,
           -20.87,
           "Ciudad: Pozo Almonte,\n Number of Quakes: 2.0,\n Magnitude of Quakes: 4.449999999999999"
          ],
          [
           -71.21,
           -30.58,
           "Ciudad: Ovalle,\n Number of Quakes: 1.0,\n Magnitude of Quakes: 4.2"
          ],
          [
           -71.25,
           -29.69,
           "Ciudad: La Serena,\n Number of Quakes: 1.0,\n Magnitude of Quakes: 5.5"
          ],
          [
           -72.44,
           -40.09,
           "Ciudad: Futrono,\n Number of Quakes: 1.0,\n Magnitude of Quakes: 3.2"
          ],
          [
           -69.43,
           -19.23,
           "Ciudad: Camiña,\n Number of Quakes: 1.0,\n Magnitude of Quakes: 3.6"
          ],
          [
           -71.32,
           -30.68,
           "Ciudad: Ovalle,\n Number of Quakes: 1.0,\n Magnitude of Quakes: 3.8"
          ],
          [
           -70.61,
           -31.15,
           "Ciudad: Monte Patria,\n Number of Quakes: 1.0,\n Magnitude of Quakes: 4.2"
          ],
          [
           -70.08,
           -19.07,
           "Ciudad: Camarones,\n Number of Quakes: 1.0,\n Magnitude of Quakes: 3.9"
          ],
          [
           -70.79,
           -27.39,
           "Ciudad: Caldera,\n Number of Quakes: 1.0,\n Magnitude of Quakes: 2.9"
          ],
          [
           -71.65,
           -30.42,
           "Ciudad: Ovalle,\n Number of Quakes: 1.0,\n Magnitude of Quakes: 4.1"
          ],
          [
           -68.84,
           -22.51,
           "Ciudad: Calama,\n Number of Quakes: 2.0,\n Magnitude of Quakes: 4.4"
          ],
          [
           -70.2,
           -26.88,
           "Ciudad: Chañaral,\n Number of Quakes: 2.0,\n Magnitude of Quakes: 4.4"
          ],
          [
           -71.28,
           -30.1,
           "Ciudad: Coquimbo,\n Number of Quakes: 1.0,\n Magnitude of Quakes: 4.1"
          ],
          [
           -71.83,
           -34.8,
           "Ciudad: Paredones,\n Number of Quakes: 1.0,\n Magnitude of Quakes: 3.9"
          ],
          [
           -69.1,
           -20.18,
           "Ciudad: Pozo Almonte,\n Number of Quakes: 1.0,\n Magnitude of Quakes: 3.8"
          ],
          [
           -71.41,
           -30.73,
           "Ciudad: Ovalle,\n Number of Quakes: 1.0,\n Magnitude of Quakes: 4.0"
          ],
          [
           -69.78,
           -19.53,
           "Ciudad: Huara,\n Number of Quakes: 1.0,\n Magnitude of Quakes: 4.2"
          ],
          [
           -73.8,
           -41.35,
           "Ciudad: Los Muermos,\n Number of Quakes: 1.0,\n Magnitude of Quakes: 4.6"
          ],
          [
           -70.47,
           -17.72,
           "Ciudad: Inclán,\n Number of Quakes: 1.0,\n Magnitude of Quakes: 5.0"
          ],
          [
           -70.51,
           -28.3,
           "Ciudad: Vallenar,\n Number of Quakes: 1.0,\n Magnitude of Quakes: 4.0"
          ],
          [
           -71.33,
           -33.61,
           "Ciudad: Melipilla,\n Number of Quakes: 1.0,\n Magnitude of Quakes: 5.5"
          ],
          [
           -66.72,
           -23.51,
           "Ciudad: Municipio de Susques,\n Number of Quakes: 2.0,\n Magnitude of Quakes: 5.8"
          ],
          [
           -66.69,
           -23.51,
           "Ciudad: Municipio de Susques,\n Number of Quakes: 2.0,\n Magnitude of Quakes: 5.8"
          ],
          [
           -71.24,
           -30.1,
           "Ciudad: Coquimbo,\n Number of Quakes: 1.0,\n Magnitude of Quakes: 4.0"
          ],
          [
           -68.84,
           -22.9,
           "Ciudad: Calama,\n Number of Quakes: 1.0,\n Magnitude of Quakes: 4.5"
          ],
          [
           -68.72,
           -21.04,
           "Ciudad: Pica,\n Number of Quakes: 1.0,\n Magnitude of Quakes: 5.5"
          ],
          [
           -72.74,
           -36.53,
           "Ciudad: Coelemu,\n Number of Quakes: 1.0,\n Magnitude of Quakes: 4.8"
          ],
          [
           -70.19,
           -24.83,
           "Ciudad: Taltal,\n Number of Quakes: 1.0,\n Magnitude of Quakes: 5.5"
          ],
          [
           -69.67,
           -20.76,
           "Ciudad: Pozo Almonte,\n Number of Quakes: 1.0,\n Magnitude of Quakes: 3.8"
          ],
          [
           -71.45,
           -32.37,
           "Ciudad: La Ligua,\n Number of Quakes: 2.0,\n Magnitude of Quakes: 4.25"
          ],
          [
           -70.84,
           -32.62,
           "Ciudad: Cabildo,\n Number of Quakes: 2.0,\n Magnitude of Quakes: 4.25"
          ],
          [
           -69.14,
           -20.77,
           "Ciudad: Pozo Almonte,\n Number of Quakes: 1.0,\n Magnitude of Quakes: 4.3"
          ],
          [
           -71.44,
           -30.91,
           "Ciudad: Punitaqui,\n Number of Quakes: 2.0,\n Magnitude of Quakes: 4.05"
          ],
          [
           -71.47,
           -29.04,
           "Ciudad: Freirina,\n Number of Quakes: 2.0,\n Magnitude of Quakes: 4.05"
          ],
          [
           -71,
           -28.68,
           "Ciudad: Vallenar,\n Number of Quakes: 1.0,\n Magnitude of Quakes: 3.6"
          ],
          [
           -71.26,
           -30.64,
           "Ciudad: Ovalle,\n Number of Quakes: 2.0,\n Magnitude of Quakes: 4.1"
          ],
          [
           -70.16,
           -27.16,
           "Ciudad: Copiapó,\n Number of Quakes: 2.0,\n Magnitude of Quakes: 4.1"
          ],
          [
           -71.39,
           -30.7,
           "Ciudad: Ovalle,\n Number of Quakes: 1.0,\n Magnitude of Quakes: 3.7"
          ],
          [
           -71.45,
           -35.61,
           "Ciudad: Yerbas Buenas,\n Number of Quakes: 1.0,\n Magnitude of Quakes: 5.1"
          ],
          [
           -72.35,
           -37.14,
           "Ciudad: Cabrero,\n Number of Quakes: 1.0,\n Magnitude of Quakes: 3.9"
          ],
          [
           -69.92,
           -23.34,
           "Ciudad: Sierra Gorda,\n Number of Quakes: 1.0,\n Magnitude of Quakes: 4.6"
          ],
          [
           -71.06,
           -32.44,
           "Ciudad: Cabildo,\n Number of Quakes: 1.0,\n Magnitude of Quakes: 3.6"
          ],
          [
           -72.63,
           -39.6,
           "Ciudad: Mariquina,\n Number of Quakes: 1.0,\n Magnitude of Quakes: 4.2"
          ],
          [
           -71.4,
           -32.13,
           "Ciudad: Los Vilos,\n Number of Quakes: 1.0,\n Magnitude of Quakes: 3.8"
          ],
          [
           -68.72,
           -22.4,
           "Ciudad: Calama,\n Number of Quakes: 1.0,\n Magnitude of Quakes: 4.4"
          ],
          [
           -70.04,
           -22.2,
           "Ciudad: Tocopilla,\n Number of Quakes: 1.0,\n Magnitude of Quakes: 4.2"
          ],
          [
           -69.81,
           -22.16,
           "Ciudad: Tocopilla,\n Number of Quakes: 1.0,\n Magnitude of Quakes: 3.5"
          ],
          [
           -71.29,
           -32.44,
           "Ciudad: La Ligua,\n Number of Quakes: 1.0,\n Magnitude of Quakes: 3.2"
          ],
          [
           -69.07,
           -20.33,
           "Ciudad: Pica,\n Number of Quakes: 1.0,\n Magnitude of Quakes: 4.6"
          ],
          [
           -72.57,
           -36.57,
           "Ciudad: Portezuelo,\n Number of Quakes: 1.0,\n Magnitude of Quakes: 4.2"
          ],
          [
           -71.25,
           -29.47,
           "Ciudad: La Higuera,\n Number of Quakes: 2.0,\n Magnitude of Quakes: 4.05"
          ],
          [
           -70.26,
           -22.5,
           "Ciudad: Tocopilla,\n Number of Quakes: 2.0,\n Magnitude of Quakes: 4.05"
          ],
          [
           -68.89,
           -20.72,
           "Ciudad: Pica,\n Number of Quakes: 1.0,\n Magnitude of Quakes: 5.2"
          ],
          [
           -71.23,
           -29.3,
           "Ciudad: La Higuera,\n Number of Quakes: 1.0,\n Magnitude of Quakes: 3.1"
          ],
          [
           -70.78,
           -28.42,
           "Ciudad: Vallenar,\n Number of Quakes: 1.0,\n Magnitude of Quakes: 4.3"
          ],
          [
           -69.95,
           -21.42,
           "Ciudad: Iquique,\n Number of Quakes: 1.0,\n Magnitude of Quakes: 4.3"
          ],
          [
           -69.96,
           -21.3,
           "Ciudad: Iquique,\n Number of Quakes: 1.0,\n Magnitude of Quakes: 4.3"
          ],
          [
           -71.44,
           -30.73,
           "Ciudad: Ovalle,\n Number of Quakes: 2.0,\n Magnitude of Quakes: 4.5"
          ],
          [
           -69.54,
           -21.57,
           "Ciudad: Pozo Almonte,\n Number of Quakes: 2.0,\n Magnitude of Quakes: 4.5"
          ],
          [
           -71.87,
           -34.51,
           "Ciudad: Pichilemu,\n Number of Quakes: 1.0,\n Magnitude of Quakes: 5.1"
          ],
          [
           -71.05,
           -34.83,
           "Ciudad: Teno,\n Number of Quakes: 1.0,\n Magnitude of Quakes: 4.9"
          ],
          [
           -69.05,
           -20.4,
           "Ciudad: Pica,\n Number of Quakes: 1.0,\n Magnitude of Quakes: 4.3"
          ],
          [
           -69.39,
           -19.44,
           "Ciudad: Camiña,\n Number of Quakes: 1.0,\n Magnitude of Quakes: 4.5"
          ],
          [
           -71.64,
           -30.63,
           "Ciudad: Ovalle,\n Number of Quakes: 1.0,\n Magnitude of Quakes: 4.2"
          ],
          [
           -71.31,
           -35.09,
           "Ciudad: Molina,\n Number of Quakes: 1.0,\n Magnitude of Quakes: 3.7"
          ],
          [
           -67.98,
           -23.97,
           "Ciudad: San Pedro de Atacama,\n Number of Quakes: 1.0,\n Magnitude of Quakes: 5.7"
          ],
          [
           -71.41,
           -32.07,
           "Ciudad: Los Vilos,\n Number of Quakes: 1.0,\n Magnitude of Quakes: 4.0"
          ],
          [
           -70.27,
           -33.23,
           "Ciudad: Lo Barnechea,\n Number of Quakes: 1.0,\n Magnitude of Quakes: 5.6"
          ],
          [
           -71.26,
           -30.21,
           "Ciudad: Coquimbo,\n Number of Quakes: 1.0,\n Magnitude of Quakes: 4.1"
          ],
          [
           -71.49,
           -32.62,
           "Ciudad: Maitencillo,\n Number of Quakes: 1.0,\n Magnitude of Quakes: 4.1"
          ],
          [
           -71.8,
           -34.91,
           "Ciudad: Hualañé,\n Number of Quakes: 1.0,\n Magnitude of Quakes: 3.9"
          ],
          [
           -71.13,
           -33.67,
           "Ciudad: Melipilla,\n Number of Quakes: 1.0,\n Magnitude of Quakes: 4.2"
          ],
          [
           -70.78,
           -32.44,
           "Ciudad: Cabildo,\n Number of Quakes: 1.0,\n Magnitude of Quakes: 4.2"
          ],
          [
           -71.62,
           -30.61,
           "Ciudad: Ovalle,\n Number of Quakes: 1.0,\n Magnitude of Quakes: 5.0"
          ],
          [
           -70.35,
           -34.08,
           "Ciudad: Machalí,\n Number of Quakes: 1.0,\n Magnitude of Quakes: 3.9"
          ],
          [
           -71.46,
           -35.62,
           "Ciudad: Yerbas Buenas,\n Number of Quakes: 1.0,\n Magnitude of Quakes: 4.2"
          ],
          [
           -70.87,
           -27.21,
           "Ciudad: Caldera,\n Number of Quakes: 1.0,\n Magnitude of Quakes: 3.7"
          ],
          [
           -73.18,
           -37.4,
           "Ciudad: Curanilahue,\n Number of Quakes: 1.0,\n Magnitude of Quakes: 4.9"
          ],
          [
           -69.88,
           -22.08,
           "Ciudad: Tocopilla,\n Number of Quakes: 1.0,\n Magnitude of Quakes: 4.3"
          ],
          [
           -73.66,
           -41.44,
           "Ciudad: Los Muermos,\n Number of Quakes: 1.0,\n Magnitude of Quakes: 3.7"
          ],
          [
           -69.25,
           -19.61,
           "Ciudad: Huara,\n Number of Quakes: 1.0,\n Magnitude of Quakes: 5.1"
          ],
          [
           -69.67,
           -23.5,
           "Ciudad: Sierra Gorda,\n Number of Quakes: 1.0,\n Magnitude of Quakes: 5.2"
          ],
          [
           -73.9,
           -41.73,
           "Ciudad: Maullín,\n Number of Quakes: 1.0,\n Magnitude of Quakes: 3.9"
          ],
          [
           -71.38,
           -33.29,
           "Ciudad: Casablanca,\n Number of Quakes: 1.0,\n Magnitude of Quakes: 3.8"
          ],
          [
           -69.22,
           -20.17,
           "Ciudad: Pozo Almonte,\n Number of Quakes: 1.0,\n Magnitude of Quakes: 4.5"
          ],
          [
           -70.46,
           -23.46,
           "Ciudad: Antofagasta,\n Number of Quakes: 2.0,\n Magnitude of Quakes: 3.85"
          ],
          [
           -71.21,
           -30.18,
           "Ciudad: Andacollo,\n Number of Quakes: 2.0,\n Magnitude of Quakes: 3.85"
          ],
          [
           -70.4,
           -33.25,
           "Ciudad: Lo Barnechea,\n Number of Quakes: 1.0,\n Magnitude of Quakes: 4.6"
          ],
          [
           -69.23,
           -20.18,
           "Ciudad: Pozo Almonte,\n Number of Quakes: 1.0,\n Magnitude of Quakes: 4.2"
          ],
          [
           -71.34,
           -29.16,
           "Ciudad: La Higuera,\n Number of Quakes: 2.0,\n Magnitude of Quakes: 3.4"
          ],
          [
           -71.28,
           -28.85,
           "Ciudad: Freirina,\n Number of Quakes: 2.0,\n Magnitude of Quakes: 3.4"
          ],
          [
           -69.31,
           -20.46,
           "Ciudad: Pica,\n Number of Quakes: 1.0,\n Magnitude of Quakes: 5.2"
          ],
          [
           -71.05,
           -34.15,
           "Ciudad: Alhué,\n Number of Quakes: 1.0,\n Magnitude of Quakes: 3.4"
          ],
          [
           -70.87,
           -33.56,
           "Ciudad: La Esperanza,\n Number of Quakes: 1.0,\n Magnitude of Quakes: 4.1"
          ],
          [
           -71.22,
           -30.23,
           "Ciudad: Coquimbo,\n Number of Quakes: 1.0,\n Magnitude of Quakes: 3.9"
          ],
          [
           -69.43,
           -20.63,
           "Ciudad: Pica,\n Number of Quakes: 1.0,\n Magnitude of Quakes: 4.2"
          ],
          [
           -73.94,
           -41.64,
           "Ciudad: Maullín,\n Number of Quakes: 2.0,\n Magnitude of Quakes: 4.5"
          ],
          [
           -73.65,
           -43.77,
           "Ciudad: Guaitecas,\n Number of Quakes: 2.0,\n Magnitude of Quakes: 4.5"
          ],
          [
           -72.52,
           -36.37,
           "Ciudad: Ninhue,\n Number of Quakes: 1.0,\n Magnitude of Quakes: 4.8"
          ],
          [
           -71.26,
           -29.49,
           "Ciudad: La Higuera,\n Number of Quakes: 1.0,\n Magnitude of Quakes: 5.4"
          ],
          [
           -70.46,
           -32.75,
           "Ciudad: San Esteban,\n Number of Quakes: 1.0,\n Magnitude of Quakes: 4.6"
          ],
          [
           -71.38,
           -31.81,
           "Ciudad: Los Vilos,\n Number of Quakes: 1.0,\n Magnitude of Quakes: 4.0"
          ],
          [
           -69.16,
           -20.31,
           "Ciudad: Pica,\n Number of Quakes: 1.0,\n Magnitude of Quakes: 4.0"
          ],
          [
           -71.46,
           -30.34,
           "Ciudad: Coquimbo,\n Number of Quakes: 1.0,\n Magnitude of Quakes: 6.5"
          ],
          [
           -71.41,
           -30.35,
           "Ciudad: Coquimbo,\n Number of Quakes: 1.0,\n Magnitude of Quakes: 4.3"
          ],
          [
           -71.3,
           -33.93,
           "Ciudad: San Pedro,\n Number of Quakes: 1.0,\n Magnitude of Quakes: 4.2"
          ],
          [
           -71.15,
           -30.06,
           "Ciudad: Coquimbo,\n Number of Quakes: 1.0,\n Magnitude of Quakes: 4.4"
          ],
          [
           -68.74,
           -20.57,
           "Ciudad: Pica,\n Number of Quakes: 1.0,\n Magnitude of Quakes: 5.3"
          ],
          [
           -69.72,
           -19.93,
           "Ciudad: Huara,\n Number of Quakes: 1.0,\n Magnitude of Quakes: 3.4"
          ],
          [
           -69.12,
           -20.78,
           "Ciudad: Pozo Almonte,\n Number of Quakes: 1.0,\n Magnitude of Quakes: 4.4"
          ],
          [
           -71.3,
           -29.46,
           "Ciudad: La Higuera,\n Number of Quakes: 1.0,\n Magnitude of Quakes: 5.1"
          ],
          [
           -70.17,
           -25.01,
           "Ciudad: Taltal,\n Number of Quakes: 1.0,\n Magnitude of Quakes: 4.4"
          ],
          [
           -69.31,
           -19.78,
           "Ciudad: Huara,\n Number of Quakes: 2.0,\n Magnitude of Quakes: 4.1"
          ],
          [
           -70.05,
           -18.7,
           "Ciudad: Arica,\n Number of Quakes: 2.0,\n Magnitude of Quakes: 4.1"
          ],
          [
           -69.23,
           -20.2,
           "Ciudad: Pozo Almonte,\n Number of Quakes: 1.0,\n Magnitude of Quakes: 4.7"
          ],
          [
           -71.24,
           -28.62,
           "Ciudad: Freirina,\n Number of Quakes: 1.0,\n Magnitude of Quakes: 4.3"
          ],
          [
           -69.7,
           -21.24,
           "Ciudad: Pozo Almonte,\n Number of Quakes: 1.0,\n Magnitude of Quakes: 5.1"
          ],
          [
           -71.85,
           -34.67,
           "Ciudad: Paredones,\n Number of Quakes: 2.0,\n Magnitude of Quakes: 3.75"
          ],
          [
           -72.78,
           -36.95,
           "Ciudad: Hualqui,\n Number of Quakes: 2.0,\n Magnitude of Quakes: 3.75"
          ],
          [
           -71.25,
           -28.62,
           "Ciudad: Freirina,\n Number of Quakes: 1.0,\n Magnitude of Quakes: 4.1"
          ],
          [
           -66.39,
           -22.86,
           "Ciudad: Municipio de Abra Pampa,\n Number of Quakes: 1.0,\n Magnitude of Quakes: 6.4"
          ],
          [
           -69.4,
           -19.19,
           "Ciudad: Camiña,\n Number of Quakes: 1.0,\n Magnitude of Quakes: 4.8"
          ],
          [
           -72.33,
           -39.59,
           "Ciudad: Panguipulli,\n Number of Quakes: 1.0,\n Magnitude of Quakes: 4.5"
          ],
          [
           -67.23,
           -24.62,
           "Ciudad: Municipio de Tolar Grande,\n Number of Quakes: 1.0,\n Magnitude of Quakes: 5.3"
          ],
          [
           -71.14,
           -29.24,
           "Ciudad: Vallenar,\n Number of Quakes: 1.0,\n Magnitude of Quakes: 3.5"
          ],
          [
           -68.94,
           -20.4,
           "Ciudad: Pica,\n Number of Quakes: 1.0,\n Magnitude of Quakes: 4.4"
          ],
          [
           -71.18,
           -28.16,
           "Ciudad: Huasco,\n Number of Quakes: 2.0,\n Magnitude of Quakes: 3.85"
          ],
          [
           -71.33,
           -30.64,
           "Ciudad: Ovalle,\n Number of Quakes: 2.0,\n Magnitude of Quakes: 3.85"
          ],
          [
           -72.83,
           -36.91,
           "Ciudad: Florida,\n Number of Quakes: 1.0,\n Magnitude of Quakes: 4.1"
          ],
          [
           -69.37,
           -20.26,
           "Ciudad: Pica,\n Number of Quakes: 1.0,\n Magnitude of Quakes: 3.9"
          ],
          [
           -71.28,
           -29.28,
           "Ciudad: La Higuera,\n Number of Quakes: 1.0,\n Magnitude of Quakes: 3.8"
          ],
          [
           -70.34,
           -28.68,
           "Ciudad: Alto del Carmen,\n Number of Quakes: 2.0,\n Magnitude of Quakes: 4.8"
          ],
          [
           -70.33,
           -28.69,
           "Ciudad: Alto del Carmen,\n Number of Quakes: 2.0,\n Magnitude of Quakes: 4.8"
          ],
          [
           -68.95,
           -20.08,
           "Ciudad: Pica,\n Number of Quakes: 1.0,\n Magnitude of Quakes: 4.3"
          ],
          [
           -69.85,
           -21.9,
           "Ciudad: Tocopilla,\n Number of Quakes: 1.0,\n Magnitude of Quakes: 4.5"
          ],
          [
           -71.27,
           -30.01,
           "Ciudad: Coquimbo,\n Number of Quakes: 1.0,\n Magnitude of Quakes: 4.3"
          ],
          [
           -71.29,
           -31.03,
           "Ciudad: Punitaqui,\n Number of Quakes: 2.0,\n Magnitude of Quakes: 3.75"
          ],
          [
           -69.86,
           -28.61,
           "Ciudad: Tierra Amarilla,\n Number of Quakes: 2.0,\n Magnitude of Quakes: 3.75"
          ],
          [
           -71.62,
           -34.96,
           "Ciudad: Hualañé,\n Number of Quakes: 1.0,\n Magnitude of Quakes: 4.1"
          ],
          [
           -71.32,
           -29.66,
           "Ciudad: La Higuera,\n Number of Quakes: 1.0,\n Magnitude of Quakes: 3.9"
          ],
          [
           -70.06,
           -24.11,
           "Ciudad: Antofagasta,\n Number of Quakes: 1.0,\n Magnitude of Quakes: 4.3"
          ],
          [
           -70.89,
           -27.42,
           "Ciudad: Caldera,\n Number of Quakes: 1.0,\n Magnitude of Quakes: 3.7"
          ],
          [
           -69.29,
           -20.02,
           "Ciudad: Pozo Almonte,\n Number of Quakes: 1.0,\n Magnitude of Quakes: 4.2"
          ],
          [
           -71.39,
           -30.8,
           "Ciudad: Ovalle,\n Number of Quakes: 1.0,\n Magnitude of Quakes: 5.1"
          ],
          [
           -71.22,
           -30.22,
           "Ciudad: Coquimbo,\n Number of Quakes: 1.0,\n Magnitude of Quakes: 4.4"
          ],
          [
           -68.75,
           -21.94,
           "Ciudad: Calama,\n Number of Quakes: 1.0,\n Magnitude of Quakes: 5.3"
          ],
          [
           -71.51,
           -30.94,
           "Ciudad: Punitaqui,\n Number of Quakes: 2.0,\n Magnitude of Quakes: 4.45"
          ],
          [
           -70.12,
           -24.56,
           "Ciudad: Antofagasta,\n Number of Quakes: 2.0,\n Magnitude of Quakes: 4.45"
          ],
          [
           -71.45,
           -32.15,
           "Ciudad: Los Vilos,\n Number of Quakes: 1.0,\n Magnitude of Quakes: 4.7"
          ],
          [
           -69.14,
           -19.77,
           "Ciudad: Huara,\n Number of Quakes: 1.0,\n Magnitude of Quakes: 4.6"
          ],
          [
           -69.3,
           -19.23,
           "Ciudad: Camiña,\n Number of Quakes: 1.0,\n Magnitude of Quakes: 5.6"
          ],
          [
           -70.34,
           -24.43,
           "Ciudad: Antofagasta,\n Number of Quakes: 1.0,\n Magnitude of Quakes: 5.4"
          ],
          [
           -71.13,
           -29.83,
           "Ciudad: La Serena,\n Number of Quakes: 1.0,\n Magnitude of Quakes: 4.0"
          ],
          [
           -67.1,
           -24.2,
           "Ciudad: Municipio de San Antonio de los Cobres,\n Number of Quakes: 1.0,\n Magnitude of Quakes: 5.9"
          ],
          [
           -71.52,
           -31.67,
           "Ciudad: Canela,\n Number of Quakes: 1.0,\n Magnitude of Quakes: 3.9"
          ],
          [
           -71.36,
           -30.77,
           "Ciudad: Ovalle,\n Number of Quakes: 1.0,\n Magnitude of Quakes: 4.5"
          ],
          [
           -70.45,
           -28.8,
           "Ciudad: Alto del Carmen,\n Number of Quakes: 1.0,\n Magnitude of Quakes: 3.9"
          ],
          [
           -69.23,
           -20.21,
           "Ciudad: Pozo Almonte,\n Number of Quakes: 1.0,\n Magnitude of Quakes: 4.2"
          ],
          [
           -69.27,
           -18.26,
           "Ciudad: Putre,\n Number of Quakes: 1.0,\n Magnitude of Quakes: 5.2"
          ],
          [
           -70.61,
           -35.07,
           "Ciudad: Romeral,\n Number of Quakes: 1.0,\n Magnitude of Quakes: 2.6"
          ],
          [
           -71.39,
           -31.75,
           "Ciudad: Canela,\n Number of Quakes: 2.0,\n Magnitude of Quakes: 3.75"
          ],
          [
           -69.08,
           -26.29,
           "Ciudad: Diego de Almagro,\n Number of Quakes: 2.0,\n Magnitude of Quakes: 3.75"
          ],
          [
           -69.44,
           -20.67,
           "Ciudad: Pica,\n Number of Quakes: 1.0,\n Magnitude of Quakes: 4.8"
          ],
          [
           -68.77,
           -22.17,
           "Ciudad: Calama,\n Number of Quakes: 1.0,\n Magnitude of Quakes: 5.4"
          ],
          [
           -68.55,
           -21.84,
           "Ciudad: Calama,\n Number of Quakes: 1.0,\n Magnitude of Quakes: 5.0"
          ],
          [
           -71.46,
           -33.03,
           "Ciudad: Quilpué,\n Number of Quakes: 1.0,\n Magnitude of Quakes: 4.8"
          ],
          [
           -72.53,
           -39.67,
           "Ciudad: Panguipulli,\n Number of Quakes: 1.0,\n Magnitude of Quakes: 4.5"
          ],
          [
           -71.2,
           -32.12,
           "Ciudad: Los Vilos,\n Number of Quakes: 1.0,\n Magnitude of Quakes: 3.7"
          ],
          [
           -70.28,
           -18.27,
           "Ciudad: Tacna,\n Number of Quakes: 1.0,\n Magnitude of Quakes: 3.7"
          ],
          [
           -71.22,
           -32.92,
           "Ciudad: Quillota,\n Number of Quakes: 1.0,\n Magnitude of Quakes: 3.7"
          ],
          [
           -70.66,
           -32.74,
           "Ciudad: San Felipe,\n Number of Quakes: 1.0,\n Magnitude of Quakes: 5.0"
          ],
          [
           -69.62,
           -19.38,
           "Ciudad: Camiña,\n Number of Quakes: 1.0,\n Magnitude of Quakes: 4.7"
          ],
          [
           -69.17,
           -19.83,
           "Ciudad: Huara,\n Number of Quakes: 1.0,\n Magnitude of Quakes: 3.9"
          ],
          [
           -70.72,
           -29.78,
           "Ciudad: Vicuña,\n Number of Quakes: 1.0,\n Magnitude of Quakes: 3.8"
          ],
          [
           -69.62,
           -21,
           "Ciudad: Pozo Almonte,\n Number of Quakes: 1.0,\n Magnitude of Quakes: 3.9"
          ],
          [
           -71.44,
           -28.91,
           "Ciudad: Freirina,\n Number of Quakes: 1.0,\n Magnitude of Quakes: 5.8"
          ],
          [
           -70.64,
           -32.73,
           "Ciudad: Santa María,\n Number of Quakes: 1.0,\n Magnitude of Quakes: 4.2"
          ],
          [
           -69.73,
           -25.57,
           "Ciudad: Taltal,\n Number of Quakes: 1.0,\n Magnitude of Quakes: 4.3"
          ],
          [
           -71.21,
           -31.16,
           "Ciudad: Combarbalá,\n Number of Quakes: 1.0,\n Magnitude of Quakes: 3.8"
          ],
          [
           -71.06,
           -35.01,
           "Ciudad: Romeral,\n Number of Quakes: 1.0,\n Magnitude of Quakes: 4.0"
          ],
          [
           -69.23,
           -21.99,
           "Ciudad: María Elena,\n Number of Quakes: 1.0,\n Magnitude of Quakes: 4.7"
          ],
          [
           -71.46,
           -30.39,
           "Ciudad: Coquimbo,\n Number of Quakes: 1.0,\n Magnitude of Quakes: 4.4"
          ],
          [
           -71.09,
           -35.07,
           "Ciudad: Curicó,\n Number of Quakes: 1.0,\n Magnitude of Quakes: 3.8"
          ],
          [
           -71.23,
           -29.36,
           "Ciudad: La Higuera,\n Number of Quakes: 1.0,\n Magnitude of Quakes: 3.7"
          ],
          [
           -69.39,
           -19.19,
           "Ciudad: Camiña,\n Number of Quakes: 1.0,\n Magnitude of Quakes: 4.7"
          ],
          [
           -71.34,
           -29.99,
           "Ciudad: Coquimbo,\n Number of Quakes: 1.0,\n Magnitude of Quakes: 4.0"
          ],
          [
           -71.29,
           -29.23,
           "Ciudad: La Higuera,\n Number of Quakes: 1.0,\n Magnitude of Quakes: 4.6"
          ],
          [
           -71.52,
           -31.54,
           "Ciudad: Canela,\n Number of Quakes: 1.0,\n Magnitude of Quakes: 4.2"
          ],
          [
           -69.52,
           -18.68,
           "Ciudad: Arica,\n Number of Quakes: 1.0,\n Magnitude of Quakes: 5.1"
          ],
          [
           -69.25,
           -20.35,
           "Ciudad: Pica,\n Number of Quakes: 2.0,\n Magnitude of Quakes: 4.25"
          ],
          [
           -69.25,
           -20.72,
           "Ciudad: Pozo Almonte,\n Number of Quakes: 2.0,\n Magnitude of Quakes: 4.25"
          ],
          [
           -70.6,
           -28.38,
           "Ciudad: Vallenar,\n Number of Quakes: 1.0,\n Magnitude of Quakes: 3.8"
          ],
          [
           -70.08,
           -19.47,
           "Ciudad: Huara,\n Number of Quakes: 1.0,\n Magnitude of Quakes: 5.1"
          ],
          [
           -68.21,
           -23.54,
           "Ciudad: San Pedro de Atacama,\n Number of Quakes: 1.0,\n Magnitude of Quakes: 5.4"
          ],
          [
           -71.34,
           -31.05,
           "Ciudad: Punitaqui,\n Number of Quakes: 1.0,\n Magnitude of Quakes: 4.5"
          ],
          [
           -72.85,
           -36.97,
           "Ciudad: Hualqui,\n Number of Quakes: 1.0,\n Magnitude of Quakes: 5.4"
          ],
          [
           -69.61,
           -24.43,
           "Ciudad: Antofagasta,\n Number of Quakes: 1.0,\n Magnitude of Quakes: 5.2"
          ],
          [
           -69.95,
           -21.27,
           "Ciudad: Iquique,\n Number of Quakes: 2.0,\n Magnitude of Quakes: 4.6"
          ],
          [
           -69.43,
           -18.25,
           "Ciudad: Putre,\n Number of Quakes: 2.0,\n Magnitude of Quakes: 4.6"
          ],
          [
           -69.09,
           -20.39,
           "Ciudad: Pica,\n Number of Quakes: 1.0,\n Magnitude of Quakes: 4.0"
          ],
          [
           -72.07,
           -37.34,
           "Ciudad: Quilleco,\n Number of Quakes: 1.0,\n Magnitude of Quakes: 3.6"
          ],
          [
           -69.02,
           -21.45,
           "Ciudad: María Elena,\n Number of Quakes: 1.0,\n Magnitude of Quakes: 5.2"
          ],
          [
           -70.82,
           -33.68,
           "Ciudad: Talagante,\n Number of Quakes: 1.0,\n Magnitude of Quakes: 3.9"
          ],
          [
           -68.9,
           -20.82,
           "Ciudad: Pica,\n Number of Quakes: 1.0,\n Magnitude of Quakes: 4.7"
          ],
          [
           -70.76,
           -27.05,
           "Ciudad: Caldera,\n Number of Quakes: 1.0,\n Magnitude of Quakes: 3.3"
          ],
          [
           -71.49,
           -33,
           "Ciudad: Viña del Mar,\n Number of Quakes: 1.0,\n Magnitude of Quakes: 3.0"
          ],
          [
           -70.86,
           -32.91,
           "Ciudad: Llay-Llay,\n Number of Quakes: 1.0,\n Magnitude of Quakes: 4.4"
          ],
          [
           -69.37,
           -24.16,
           "Ciudad: Antofagasta,\n Number of Quakes: 1.0,\n Magnitude of Quakes: 5.2"
          ],
          [
           -68.95,
           -21.34,
           "Ciudad: María Elena,\n Number of Quakes: 1.0,\n Magnitude of Quakes: 5.3"
          ],
          [
           -71.18,
           -29.28,
           "Ciudad: La Higuera,\n Number of Quakes: 1.0,\n Magnitude of Quakes: 3.3"
          ],
          [
           -69.25,
           -20.55,
           "Ciudad: Pica,\n Number of Quakes: 1.0,\n Magnitude of Quakes: 4.7"
          ],
          [
           -69.44,
           -19.49,
           "Ciudad: Camiña,\n Number of Quakes: 1.0,\n Magnitude of Quakes: 5.0"
          ],
          [
           -70.32,
           -28.76,
           "Ciudad: Alto del Carmen,\n Number of Quakes: 1.0,\n Magnitude of Quakes: 4.0"
          ],
          [
           -71.25,
           -30.04,
           "Ciudad: Coquimbo,\n Number of Quakes: 1.0,\n Magnitude of Quakes: 4.5"
          ],
          [
           -70.99,
           -28.62,
           "Ciudad: Freirina,\n Number of Quakes: 1.0,\n Magnitude of Quakes: 3.7"
          ],
          [
           -71.52,
           -31.55,
           "Ciudad: Canela,\n Number of Quakes: 1.0,\n Magnitude of Quakes: 3.8"
          ],
          [
           -70.09,
           -24.61,
           "Ciudad: Antofagasta,\n Number of Quakes: 1.0,\n Magnitude of Quakes: 4.4"
          ],
          [
           -71.56,
           -31.02,
           "Ciudad: Ovalle,\n Number of Quakes: 1.0,\n Magnitude of Quakes: 4.6"
          ],
          [
           -70.25,
           -23.97,
           "Ciudad: Antofagasta,\n Number of Quakes: 1.0,\n Magnitude of Quakes: 5.0"
          ],
          [
           -69.17,
           -20.52,
           "Ciudad: Pica,\n Number of Quakes: 1.0,\n Magnitude of Quakes: 3.6"
          ],
          [
           -70.61,
           -28.85,
           "Ciudad: Vallenar,\n Number of Quakes: 1.0,\n Magnitude of Quakes: 4.2"
          ],
          [
           -68.97,
           -23.05,
           "Ciudad: Sierra Gorda,\n Number of Quakes: 1.0,\n Magnitude of Quakes: 5.5"
          ],
          [
           -73.52,
           -41.95,
           "Ciudad: Ancud,\n Number of Quakes: 1.0,\n Magnitude of Quakes: 4.2"
          ],
          [
           -69.74,
           -17.53,
           "Ciudad: Palca,\n Number of Quakes: 1.0,\n Magnitude of Quakes: 5.2"
          ],
          [
           -68.72,
           -21.19,
           "Ciudad: Calama,\n Number of Quakes: 1.0,\n Magnitude of Quakes: 4.5"
          ],
          [
           -68.07,
           -23.12,
           "Ciudad: San Pedro de Atacama,\n Number of Quakes: 1.0,\n Magnitude of Quakes: 7.4"
          ],
          [
           -71.47,
           -32.02,
           "Ciudad: Los Vilos,\n Number of Quakes: 2.0,\n Magnitude of Quakes: 3.85"
          ],
          [
           -71,
           -32.49,
           "Ciudad: Cabildo,\n Number of Quakes: 2.0,\n Magnitude of Quakes: 3.85"
          ],
          [
           -70.4,
           -25.8,
           "Ciudad: Taltal,\n Number of Quakes: 1.0,\n Magnitude of Quakes: 4.1"
          ],
          [
           -71.7,
           -33.1,
           "Ciudad: Valparaíso,\n Number of Quakes: 1.0,\n Magnitude of Quakes: 3.7"
          ],
          [
           -71.81,
           -35.92,
           "Ciudad: Retiro,\n Number of Quakes: 1.0,\n Magnitude of Quakes: 4.0"
          ],
          [
           -71.52,
           -30.77,
           "Ciudad: Ovalle,\n Number of Quakes: 1.0,\n Magnitude of Quakes: 5.1"
          ],
          [
           -69.62,
           -18.9,
           "Ciudad: Camarones,\n Number of Quakes: 1.0,\n Magnitude of Quakes: 4.6"
          ],
          [
           -71.5,
           -32.24,
           "Ciudad: Los Molles,\n Number of Quakes: 1.0,\n Magnitude of Quakes: 5.0"
          ],
          [
           -73.92,
           -44.87,
           "Ciudad: Cisnes,\n Number of Quakes: 1.0,\n Magnitude of Quakes: 5.1"
          ],
          [
           -69.83,
           -28.58,
           "Ciudad: Tierra Amarilla,\n Number of Quakes: 1.0,\n Magnitude of Quakes: 4.8"
          ],
          [
           -71.78,
           -36.02,
           "Ciudad: Retiro,\n Number of Quakes: 1.0,\n Magnitude of Quakes: 4.1"
          ],
          [
           -70.5,
           -34.12,
           "Ciudad: Machalí,\n Number of Quakes: 1.0,\n Magnitude of Quakes: 4.4"
          ],
          [
           -69.62,
           -18.2,
           "Ciudad: Putre,\n Number of Quakes: 1.0,\n Magnitude of Quakes: 4.4"
          ],
          [
           -71.19,
           -29.73,
           "Ciudad: La Serena,\n Number of Quakes: 1.0,\n Magnitude of Quakes: 5.5"
          ],
          [
           -70.6,
           -28.76,
           "Ciudad: Vallenar,\n Number of Quakes: 1.0,\n Magnitude of Quakes: 3.9"
          ],
          [
           -71.56,
           -34.43,
           "Ciudad: Peralillo,\n Number of Quakes: 1.0,\n Magnitude of Quakes: 3.9"
          ],
          [
           -72.64,
           -37.01,
           "Ciudad: Yumbel,\n Number of Quakes: 1.0,\n Magnitude of Quakes: 3.4"
          ],
          [
           -69.17,
           -26.27,
           "Ciudad: Diego de Almagro,\n Number of Quakes: 1.0,\n Magnitude of Quakes: 4.6"
          ],
          [
           -71.02,
           -29.16,
           "Ciudad: Vallenar,\n Number of Quakes: 1.0,\n Magnitude of Quakes: 4.6"
          ],
          [
           -71.17,
           -29.68,
           "Ciudad: La Serena,\n Number of Quakes: 1.0,\n Magnitude of Quakes: 4.8"
          ],
          [
           -69.88,
           -25.68,
           "Ciudad: Taltal,\n Number of Quakes: 1.0,\n Magnitude of Quakes: 3.9"
          ],
          [
           -71.26,
           -30.44,
           "Ciudad: Ovalle,\n Number of Quakes: 1.0,\n Magnitude of Quakes: 5.6"
          ],
          [
           -69.65,
           -18.38,
           "Ciudad: Putre,\n Number of Quakes: 1.0,\n Magnitude of Quakes: 4.6"
          ],
          [
           -70.87,
           -35.34,
           "Ciudad: Molina,\n Number of Quakes: 1.0,\n Magnitude of Quakes: 6.3"
          ],
          [
           -69.92,
           -26.14,
           "Ciudad: Diego de Almagro,\n Number of Quakes: 1.0,\n Magnitude of Quakes: 4.5"
          ],
          [
           -70.02,
           -20.16,
           "Ciudad: Alto Hospicio,\n Number of Quakes: 1.0,\n Magnitude of Quakes: 5.5"
          ],
          [
           -69.04,
           -21.73,
           "Ciudad: María Elena,\n Number of Quakes: 1.0,\n Magnitude of Quakes: 6.0"
          ],
          [
           -72.17,
           -35.15,
           "Ciudad: Constitución,\n Number of Quakes: 1.0,\n Magnitude of Quakes: 4.6"
          ],
          [
           -69.86,
           -18.17,
           "Ciudad: Tacna,\n Number of Quakes: 1.0,\n Magnitude of Quakes: 4.5"
          ],
          [
           -71.41,
           -30.74,
           "Ciudad: Ovalle,\n Number of Quakes: 1.0,\n Magnitude of Quakes: 5.1"
          ],
          [
           -69.56,
           -19.43,
           "Ciudad: Camiña,\n Number of Quakes: 1.0,\n Magnitude of Quakes: 4.6"
          ],
          [
           -70.15,
           -19.31,
           "Ciudad: Huara,\n Number of Quakes: 1.0,\n Magnitude of Quakes: 4.9"
          ],
          [
           -69.37,
           -19.69,
           "Ciudad: Huara,\n Number of Quakes: 1.0,\n Magnitude of Quakes: 5.0"
          ],
          [
           -71.44,
           -31.53,
           "Ciudad: Canela,\n Number of Quakes: 1.0,\n Magnitude of Quakes: 5.1"
          ],
          [
           -69.21,
           -23.33,
           "Ciudad: Sierra Gorda,\n Number of Quakes: 1.0,\n Magnitude of Quakes: 6.0"
          ],
          [
           -70.19,
           -18.15,
           "Ciudad: Tacna,\n Number of Quakes: 1.0,\n Magnitude of Quakes: 4.5"
          ],
          [
           -71.26,
           -30.06,
           "Ciudad: Coquimbo,\n Number of Quakes: 1.0,\n Magnitude of Quakes: 5.8"
          ],
          [
           -71.24,
           -29.73,
           "Ciudad: La Serena,\n Number of Quakes: 1.0,\n Magnitude of Quakes: 5.3"
          ],
          [
           -69.2,
           -20.25,
           "Ciudad: Pica,\n Number of Quakes: 1.0,\n Magnitude of Quakes: 5.6"
          ],
          [
           -69.93,
           -17.99,
           "Ciudad: Tacna,\n Number of Quakes: 2.0,\n Magnitude of Quakes: 5.0"
          ],
          [
           -68.56,
           -21.05,
           "Ciudad: Pica,\n Number of Quakes: 2.0,\n Magnitude of Quakes: 5.0"
          ],
          [
           -68.22,
           -23.47,
           "Ciudad: San Pedro de Atacama,\n Number of Quakes: 1.0,\n Magnitude of Quakes: 6.0"
          ],
          [
           -70.88,
           -31.89,
           "Ciudad: Salamanca,\n Number of Quakes: 1.0,\n Magnitude of Quakes: 5.1"
          ],
          [
           -72.28,
           -51.25,
           "Ciudad: Torres del Paine,\n Number of Quakes: 1.0,\n Magnitude of Quakes: 5.1"
          ],
          [
           -70.06,
           -21.6,
           "Ciudad: Tocopilla,\n Number of Quakes: 1.3,\n Magnitude of Quakes: 4.408499999999998"
          ],
          [
           -69.75,
           -25,
           "Ciudad: Taltal,\n Number of Quakes: 1.15,\n Magnitude of Quakes: 4.5905000000000005"
          ],
          [
           -70.58,
           -27.88,
           "Ciudad: Copiapó,\n Number of Quakes: 1.38,\n Magnitude of Quakes: 4.178666666666668"
          ],
          [
           -69.42,
           -23.74,
           "Ciudad: Antofagasta,\n Number of Quakes: 1.22,\n Magnitude of Quakes: 4.718500000000002"
          ],
          [
           -68.54,
           -21.83,
           "Ciudad: Calama,\n Number of Quakes: 1.29,\n Magnitude of Quakes: 4.926666666666669"
          ],
          [
           -71.23,
           -29.24,
           "Ciudad: La Higuera,\n Number of Quakes: 1.44,\n Magnitude of Quakes: 4.300500000000005"
          ],
          [
           -69.49,
           -21.51,
           "Ciudad: Pozo Almonte,\n Number of Quakes: 1.3,\n Magnitude of Quakes: 4.676500000000003"
          ],
          [
           -68.86,
           -22.28,
           "Ciudad: Calama,\n Number of Quakes: 1.2,\n Magnitude of Quakes: 4.989166666666668"
          ],
          [
           -69.25,
           -19.74,
           "Ciudad: Huara,\n Number of Quakes: 1.19,\n Magnitude of Quakes: 4.4375"
          ],
          [
           -70.24,
           -18.11,
           "Ciudad: Coronel Gregorio Albarracín Lanchipa,\n Number of Quakes: 1.39,\n Magnitude of Quakes: 4.643333333333336"
          ],
          [
           -69.33,
           -19.72,
           "Ciudad: Huara,\n Number of Quakes: 1.16,\n Magnitude of Quakes: 4.3820000000000014"
          ],
          [
           -69.03,
           -20.54,
           "Ciudad: Pica,\n Number of Quakes: 1.22,\n Magnitude of Quakes: 4.850000000000005"
          ],
          [
           -69.67,
           -20.81,
           "Ciudad: Pozo Almonte,\n Number of Quakes: 1.24,\n Magnitude of Quakes: 4.473500000000002"
          ],
          [
           -69.31,
           -20.12,
           "Ciudad: Pozo Almonte,\n Number of Quakes: 1.18,\n Magnitude of Quakes: 4.614000000000001"
          ],
          [
           -69.52,
           -19.37,
           "Ciudad: Camiña,\n Number of Quakes: 1.17,\n Magnitude of Quakes: 4.558000000000002"
          ],
          [
           -69.3,
           -19.62,
           "Ciudad: Huara,\n Number of Quakes: 1.14,\n Magnitude of Quakes: 4.5550000000000015"
          ],
          [
           -71.06,
           -33.05,
           "Ciudad: Olmué,\n Number of Quakes: 1.15,\n Magnitude of Quakes: 4.2444999999999995"
          ],
          [
           -70.65,
           -32.88,
           "Ciudad: Calle Larga,\n Number of Quakes: 1.11,\n Magnitude of Quakes: 4.2985"
          ],
          [
           -70.62,
           -32.87,
           "Ciudad: Los Andes,\n Number of Quakes: 1.12,\n Magnitude of Quakes: 4.327999999999999"
          ],
          [
           -71.39,
           -32.96,
           "Ciudad: Limache,\n Number of Quakes: 1.13,\n Magnitude of Quakes: 4.640500000000002"
          ],
          [
           -71.66,
           -34.77,
           "Ciudad: Lolol,\n Number of Quakes: 1.1,\n Magnitude of Quakes: 4.553"
          ],
          [
           -71.3,
           -32.67,
           "Ciudad: Nogales,\n Number of Quakes: 1.07,\n Magnitude of Quakes: 4.528500000000002"
          ],
          [
           -71.69,
           -34.71,
           "Ciudad: Lolol,\n Number of Quakes: 1.07,\n Magnitude of Quakes: 4.6655"
          ],
          [
           -71.15,
           -32.81,
           "Ciudad: Hijuelas,\n Number of Quakes: 1.1,\n Magnitude of Quakes: 4.608166666666669"
          ],
          [
           -73.83,
           -41.23,
           "Ciudad: Fresia,\n Number of Quakes: 1.16,\n Magnitude of Quakes: 4.196000000000001"
          ],
          [
           -73.13,
           -40.77,
           "Ciudad: Río Negro,\n Number of Quakes: 1.1,\n Magnitude of Quakes: 4.284000000000001"
          ],
          [
           -73.55,
           -41.93,
           "Ciudad: Ancud,\n Number of Quakes: 1.11,\n Magnitude of Quakes: 4.301000000000001"
          ],
          [
           -73.42,
           -38.82,
           "Ciudad: Saavedra,\n Number of Quakes: 1.06,\n Magnitude of Quakes: 4.619000000000002"
          ],
          [
           -73.99,
           -41.73,
           "Ciudad: Maullín,\n Number of Quakes: 1.1,\n Magnitude of Quakes: 4.565500000000002"
          ],
          [
           -73.6,
           -41.69,
           "Ciudad: Maullín,\n Number of Quakes: 1.05,\n Magnitude of Quakes: 4.634500000000002"
          ],
          [
           -73.38,
           -42.2,
           "Ciudad: Quemchi,\n Number of Quakes: 1.05,\n Magnitude of Quakes: 4.740500000000003"
          ],
          [
           -72.96,
           -40.36,
           "Ciudad: Río Bueno,\n Number of Quakes: 1.07,\n Magnitude of Quakes: 4.87716666666667"
          ]
         ],
         "geo": "geo",
         "hovertemplate": "text=%{customdata[2]}<extra></extra>",
         "lat": {
          "bdata": "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",
          "dtype": "f8"
         },
         "legendgroup": "",
         "lon": {
          "bdata": "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",
          "dtype": "f8"
         },
         "marker": {
          "color": [
           null,
           null,
           null,
           null,
           null,
           null,
           null,
           null,
           null,
           null,
           null,
           null,
           null,
           null,
           null,
           null,
           null,
           null,
           null,
           null,
           null,
           null,
           null,
           null,
           null,
           null,
           null,
           null,
           null,
           null,
           null,
           null,
           null,
           null,
           null,
           null,
           null,
           null,
           null,
           null,
           null,
           null,
           null,
           null,
           null,
           null,
           null,
           null,
           null,
           null,
           null,
           null,
           null,
           null,
           null,
           null,
           null,
           null,
           null,
           null,
           null,
           null,
           null,
           null,
           null,
           null,
           null,
           null,
           null,
           null,
           null,
           null,
           null,
           null,
           null,
           null,
           null,
           null,
           null,
           null,
           null,
           null,
           null,
           null,
           null,
           null,
           null,
           null,
           null,
           null,
           null,
           null,
           null,
           null,
           null,
           null,
           null,
           null,
           null,
           null,
           null,
           null,
           null,
           null,
           null,
           null,
           null,
           null,
           null,
           null,
           null,
           null,
           null,
           null,
           null,
           null,
           null,
           null,
           null,
           null,
           null,
           null,
           null,
           null,
           null,
           null,
           null,
           null,
           null,
           null,
           null,
           null,
           null,
           null,
           null,
           null,
           null,
           null,
           null,
           null,
           null,
           null,
           null,
           null,
           null,
           null,
           null,
           null,
           null,
           null,
           null,
           null,
           null,
           null,
           null,
           null,
           null,
           null,
           null,
           null,
           null,
           null,
           null,
           null,
           null,
           null,
           null,
           null,
           null,
           null,
           null,
           null,
           null,
           null,
           null,
           null,
           null,
           null,
           null,
           null,
           null,
           null,
           null,
           null,
           null,
           null,
           null,
           null,
           null,
           null,
           null,
           null,
           null,
           null,
           null,
           null,
           null,
           null,
           null,
           null,
           null,
           null,
           null,
           null,
           null,
           null,
           null,
           null,
           null,
           null,
           null,
           null,
           null,
           null,
           null,
           null,
           null,
           null,
           null,
           null,
           null,
           null,
           null,
           null,
           null,
           null,
           null,
           null,
           null,
           null,
           null,
           null,
           null,
           null,
           null,
           null,
           null,
           null,
           null,
           null,
           null,
           null,
           null,
           null,
           null,
           null,
           null,
           null,
           null,
           null,
           null,
           null,
           null,
           null,
           null,
           null,
           null,
           null,
           null,
           null,
           null,
           null,
           null,
           null,
           null,
           null,
           null,
           null,
           null,
           null,
           null,
           null,
           null,
           null,
           null,
           null,
           null,
           null,
           null,
           null,
           null,
           null,
           null,
           null,
           null,
           null,
           null,
           null,
           null,
           null,
           null,
           null,
           null,
           null,
           null,
           null,
           null,
           null,
           null,
           null,
           null,
           null,
           null,
           null,
           null,
           null,
           null,
           null,
           null,
           null,
           null,
           null,
           null,
           null,
           null,
           null,
           null,
           null,
           null,
           null,
           null,
           null,
           null,
           null,
           null,
           null,
           null,
           null,
           null,
           null,
           null,
           null,
           null,
           null,
           null,
           null,
           null,
           null,
           null,
           null,
           null,
           null,
           null,
           null,
           null,
           null,
           null,
           null,
           null,
           null,
           null,
           null,
           null,
           null,
           null,
           null,
           null,
           null,
           null,
           null,
           null,
           null,
           null,
           null,
           null,
           null,
           null,
           null,
           null,
           null,
           null,
           null,
           null,
           null,
           null,
           null,
           null,
           null,
           null,
           null,
           null,
           null,
           null,
           null,
           null,
           null,
           null,
           null,
           null,
           null,
           null,
           null,
           null,
           null,
           null,
           null,
           null,
           null,
           null,
           null,
           null,
           null,
           null,
           null,
           null,
           null,
           null,
           null,
           null,
           null,
           null,
           null,
           null,
           null,
           null,
           null,
           null,
           null,
           null,
           null,
           null,
           null,
           null,
           null,
           null,
           null,
           null,
           null,
           null,
           null,
           null,
           null,
           null,
           null,
           null,
           null,
           null,
           null,
           null,
           null,
           null,
           null,
           null,
           null,
           null,
           null,
           null,
           null,
           null,
           null,
           null,
           null,
           null,
           null,
           null,
           null,
           null,
           null,
           null,
           null,
           null,
           null,
           null,
           null,
           null,
           null,
           null,
           null,
           null,
           null,
           null,
           null,
           null,
           null,
           null,
           null,
           null,
           null,
           null,
           null,
           null,
           null,
           null,
           null,
           null,
           null,
           null,
           null,
           null,
           null,
           null,
           null,
           null,
           null,
           null,
           null,
           null,
           null,
           null,
           null,
           null,
           null,
           null,
           null,
           null,
           null,
           null,
           null,
           null,
           null,
           null,
           null,
           null,
           null,
           null,
           null,
           null,
           null,
           null,
           null,
           null,
           null,
           null,
           null,
           null,
           null,
           null,
           null,
           null,
           null,
           null,
           null,
           null,
           null,
           null,
           null,
           null,
           null,
           null,
           null,
           null,
           null,
           null,
           null,
           null,
           null,
           null,
           null,
           null,
           null,
           null,
           null,
           null,
           null,
           null,
           null,
           null,
           null,
           null,
           null,
           null,
           null,
           null,
           null,
           null,
           null,
           null,
           null,
           null,
           null,
           null,
           null,
           null,
           null,
           null,
           null,
           null,
           null,
           null,
           null,
           null,
           null,
           null,
           null,
           null,
           null,
           null,
           null,
           null,
           null,
           null,
           null,
           null,
           null,
           null,
           null,
           null,
           null,
           null,
           null,
           null,
           null,
           null,
           null,
           null,
           null,
           null,
           null,
           null,
           null,
           null,
           null,
           null,
           null,
           null,
           null,
           null,
           null,
           null,
           null,
           null,
           null,
           null,
           null,
           null,
           null,
           null,
           null,
           null,
           null,
           null,
           null,
           null,
           null,
           null,
           null,
           null,
           null,
           null,
           null,
           null,
           null,
           null,
           null,
           null,
           null,
           null,
           null,
           null,
           null,
           null,
           null,
           null,
           null,
           null,
           null,
           null,
           null,
           null,
           null,
           null,
           null,
           null,
           null,
           null,
           null,
           null,
           null,
           null,
           null,
           null,
           null,
           null,
           null,
           null,
           null,
           null,
           null,
           null,
           null,
           null,
           null,
           null,
           null,
           null,
           null,
           null,
           null,
           null,
           null,
           null,
           null,
           null,
           null,
           null,
           null,
           null,
           null,
           null,
           null,
           null,
           null,
           null,
           null,
           null,
           null,
           null,
           null,
           null,
           null,
           null,
           null,
           null,
           null,
           null,
           null,
           null,
           null,
           null,
           null,
           null,
           null,
           null,
           null,
           null,
           null,
           null,
           null,
           null,
           null,
           null,
           null,
           null,
           null,
           null,
           null,
           null,
           null,
           null,
           null,
           null,
           null,
           null,
           null,
           null,
           null,
           null,
           null,
           null,
           null,
           null,
           null,
           null,
           null,
           null,
           null,
           null,
           null,
           null,
           null,
           null,
           null,
           null,
           null,
           null,
           null,
           null,
           null,
           null,
           null,
           null,
           null,
           null,
           null,
           null,
           null,
           null,
           null,
           null,
           null,
           null,
           null,
           null,
           null,
           null,
           null,
           null,
           null,
           null,
           null,
           null,
           null,
           null,
           null,
           null,
           null,
           null,
           null,
           null,
           null,
           null,
           null,
           null,
           null,
           null,
           null,
           null,
           null,
           null,
           null,
           null,
           null,
           null,
           null,
           null,
           null,
           null,
           null,
           null,
           null,
           null,
           null,
           null,
           null,
           null,
           null,
           null,
           null,
           null,
           null,
           null,
           null,
           null,
           null,
           null,
           null,
           null,
           null,
           null,
           null,
           null,
           null,
           null,
           null,
           null,
           null,
           null,
           null,
           null,
           null,
           null,
           null,
           null,
           null,
           null,
           null,
           null,
           null,
           null,
           null,
           null,
           null,
           null,
           null,
           null,
           null,
           null,
           null,
           null,
           null,
           null,
           null,
           null,
           null,
           null,
           null,
           null,
           null,
           null,
           null,
           null,
           null,
           null,
           null,
           null,
           null,
           null,
           null,
           null,
           null,
           null,
           null,
           null,
           null,
           null,
           null,
           null,
           null,
           null,
           null,
           null,
           null,
           null,
           null,
           null,
           null,
           null,
           null,
           null,
           null,
           null,
           null,
           null,
           null,
           null,
           null,
           null,
           null,
           null,
           null,
           null,
           null,
           null,
           null,
           null,
           null,
           null,
           null,
           null,
           null,
           null,
           null,
           null,
           null,
           null,
           null,
           null,
           null,
           null,
           null,
           null,
           null,
           null,
           null,
           null,
           null,
           null,
           null,
           null,
           null,
           null,
           null,
           null,
           null,
           null,
           null,
           null,
           null,
           null,
           null,
           null,
           null,
           null,
           null,
           null,
           null,
           null,
           null,
           null,
           null,
           null,
           null,
           null,
           null,
           null,
           null,
           null,
           null,
           null,
           null,
           null,
           null,
           null,
           null,
           null,
           null,
           null,
           null,
           null,
           null,
           null,
           null,
           null,
           null,
           null,
           null,
           null,
           null,
           null,
           null,
           null,
           null,
           null,
           null,
           null,
           null,
           null,
           null,
           null,
           null,
           null,
           null,
           null,
           null,
           null,
           null,
           null,
           null,
           null,
           null,
           null,
           null,
           null,
           null,
           null,
           null,
           null,
           null,
           null,
           null,
           null,
           null,
           null,
           null,
           null,
           null,
           null,
           null,
           null,
           null,
           null,
           null,
           null,
           null,
           null,
           null,
           null,
           null,
           null,
           null,
           null,
           null,
           null,
           null,
           null,
           null,
           null,
           null,
           null,
           null,
           null,
           null,
           null,
           null,
           null,
           null,
           null,
           null,
           null,
           null,
           null,
           null,
           null,
           null,
           null,
           null,
           null,
           null,
           null,
           null,
           null,
           null,
           null,
           null,
           null,
           null,
           null,
           null,
           null,
           null,
           null,
           null,
           null,
           null,
           null,
           null,
           null,
           null,
           null,
           null,
           null,
           null,
           null,
           null,
           null,
           null,
           null,
           null,
           null,
           null,
           null,
           null,
           null,
           null,
           null,
           null,
           null,
           null,
           null,
           null,
           null,
           null,
           null,
           null,
           null,
           null,
           null,
           null,
           null,
           null,
           null,
           null,
           null,
           null,
           null,
           null,
           null,
           null,
           null,
           null,
           null,
           null,
           null,
           null,
           null,
           null,
           null,
           null,
           null,
           null,
           null,
           null,
           null,
           null,
           null,
           null,
           null,
           null,
           null,
           null,
           null,
           null,
           null,
           null,
           null,
           null,
           null,
           null,
           null,
           null,
           null,
           null,
           null,
           null,
           null,
           null,
           null,
           null,
           null,
           null,
           null,
           null,
           null,
           null,
           null,
           null,
           null,
           null,
           null,
           null,
           null,
           null,
           null,
           null,
           null,
           null,
           null,
           null,
           null,
           null,
           null,
           null,
           null,
           null,
           null,
           null,
           null,
           null,
           null,
           null,
           null,
           null,
           null,
           null,
           null,
           null,
           null,
           null,
           null,
           null,
           null,
           null,
           null,
           null,
           null,
           null,
           null,
           null,
           null,
           null,
           null,
           null,
           null,
           null,
           null,
           null,
           null,
           null,
           null,
           null,
           null,
           null,
           null,
           null,
           null,
           null,
           null,
           null,
           null,
           null,
           null,
           null,
           null,
           null,
           null,
           null,
           null,
           null,
           null,
           null,
           null,
           null,
           null,
           null,
           null,
           null,
           null,
           null,
           null,
           null,
           null,
           null,
           null,
           null,
           null,
           null,
           null,
           null,
           null,
           null,
           null,
           null,
           null,
           null,
           null,
           null,
           null,
           null,
           null,
           null,
           null,
           null,
           null,
           null,
           null,
           null,
           null,
           null,
           null,
           null,
           null,
           null,
           null,
           null,
           null,
           null,
           null,
           null,
           null,
           null,
           null,
           null,
           null,
           null,
           null,
           null,
           null,
           null,
           null,
           null,
           null,
           null,
           null,
           null,
           null,
           null,
           null,
           null,
           null,
           null,
           null,
           null,
           null,
           null,
           null,
           null,
           null,
           null,
           null,
           null,
           null,
           null,
           null,
           null,
           null,
           null,
           null,
           null,
           null,
           null,
           null,
           null,
           null,
           null,
           null,
           null,
           null,
           null,
           null,
           null,
           null,
           null,
           null,
           null,
           null,
           null,
           null,
           null,
           null,
           null,
           null,
           null,
           null,
           null,
           null,
           null,
           null,
           null,
           null,
           null,
           null,
           null,
           null,
           null,
           null,
           null,
           null,
           null,
           null,
           null,
           null,
           null,
           null,
           null,
           null,
           null,
           null,
           null,
           null,
           null,
           null,
           null,
           null,
           null,
           null,
           null,
           null,
           null,
           null,
           null,
           null,
           null,
           null,
           null,
           null,
           null,
           null,
           null,
           null,
           null,
           null,
           null,
           null,
           null,
           null,
           null,
           null,
           null,
           null,
           null,
           null,
           null,
           null,
           null,
           null,
           null,
           null,
           null,
           null,
           null,
           null,
           null,
           null,
           null,
           null,
           null,
           null,
           null,
           null,
           null,
           null,
           null,
           null,
           null,
           null,
           null,
           null,
           null,
           null,
           null,
           null,
           null,
           null,
           null,
           null,
           null,
           null,
           null,
           null,
           null,
           null,
           null,
           null,
           null,
           null,
           null,
           null,
           null,
           null,
           null,
           null,
           null,
           null,
           null,
           null,
           null,
           null,
           null,
           null,
           null,
           null,
           null,
           null,
           null,
           null,
           null,
           null,
           null,
           null,
           null,
           null,
           null,
           null,
           null,
           null,
           null,
           null,
           null,
           null,
           null,
           null,
           null,
           null,
           null,
           null,
           null,
           null,
           null,
           null,
           null,
           null,
           null,
           null,
           null,
           null,
           null,
           null,
           null,
           null,
           null,
           null,
           null,
           null,
           null,
           null,
           null,
           null,
           null,
           null,
           null,
           null,
           null,
           null,
           null,
           null,
           null,
           null,
           null,
           null,
           null,
           null,
           null,
           null,
           null,
           null,
           null,
           null,
           null,
           null,
           null,
           null,
           null,
           null,
           null,
           null,
           null,
           null,
           null,
           null,
           null,
           null,
           null,
           null,
           null,
           null,
           null,
           null,
           null,
           null,
           null,
           null,
           null,
           null,
           null,
           null,
           null,
           null,
           null,
           null,
           null,
           null,
           null,
           null,
           null,
           null,
           null,
           null,
           null,
           null,
           null,
           null,
           null,
           null,
           null,
           null,
           null,
           null,
           null,
           null,
           null,
           null,
           null,
           null,
           null,
           null,
           null,
           null,
           null,
           null,
           null,
           null,
           null,
           null,
           null,
           null,
           null,
           null,
           null,
           null,
           null,
           null,
           null,
           null,
           null,
           null,
           null,
           null,
           null,
           null,
           null,
           null,
           null,
           null,
           null,
           null,
           null,
           null,
           null,
           null,
           null,
           null,
           null,
           null,
           null,
           null,
           null,
           null,
           null,
           null,
           null,
           null,
           null,
           null,
           null,
           null,
           null,
           null,
           null,
           null,
           null,
           null,
           null,
           null,
           null,
           null,
           null,
           null,
           null,
           null,
           null,
           null,
           null,
           null,
           null,
           null,
           null,
           null,
           null,
           null,
           null,
           null,
           null,
           null,
           null,
           null,
           null,
           null,
           null,
           null,
           null,
           null,
           null,
           null,
           null,
           null,
           null,
           null,
           null,
           null,
           null,
           null,
           null,
           null,
           null,
           null,
           null,
           null,
           null,
           null,
           null,
           null,
           null,
           null,
           null,
           null,
           null,
           null,
           null,
           null,
           null,
           null,
           null,
           null,
           null,
           null,
           null,
           null,
           null,
           null,
           null,
           null,
           null,
           null,
           null,
           null,
           null,
           null,
           null,
           null,
           null,
           null,
           null,
           null,
           null,
           null,
           null,
           null,
           null,
           null,
           null,
           null,
           null,
           null,
           null,
           null,
           null,
           null,
           null,
           null,
           null,
           null,
           null,
           null,
           null,
           null,
           null,
           null,
           null,
           null,
           null,
           null,
           null,
           null,
           null,
           null,
           null,
           null,
           null,
           null,
           null,
           null,
           null,
           null,
           null,
           null,
           null,
           null,
           null,
           null,
           null,
           null,
           null,
           null,
           null,
           null,
           null,
           null,
           null,
           null,
           null,
           null,
           null,
           null,
           null,
           null,
           null,
           null,
           null,
           null,
           null,
           null,
           null,
           null,
           null,
           null,
           null,
           null,
           null,
           null,
           null,
           null,
           null,
           null,
           null,
           null,
           null,
           null,
           null,
           null,
           null,
           null,
           null,
           null,
           null,
           null,
           null,
           null,
           null,
           null,
           null,
           null,
           null,
           null,
           null,
           null,
           null,
           null,
           null,
           null,
           null,
           null,
           null,
           null,
           null,
           null,
           null,
           null,
           null,
           null,
           null,
           null,
           null,
           null,
           null,
           null,
           null,
           null,
           null,
           null,
           null,
           null,
           null,
           null,
           null,
           null,
           null,
           null,
           null,
           null,
           null,
           null,
           null,
           null,
           null,
           null,
           null,
           null,
           null,
           null,
           null,
           null,
           null,
           null,
           null,
           null,
           null,
           null,
           null,
           null,
           null,
           null,
           null,
           null,
           null,
           null,
           null,
           null,
           null,
           null,
           null,
           null,
           null,
           null,
           null,
           null,
           null,
           null,
           null,
           null,
           null,
           null,
           null,
           null,
           null,
           null,
           null,
           null,
           null,
           null,
           null,
           null,
           null,
           null,
           null,
           null,
           null,
           null,
           null,
           null,
           null,
           null,
           null,
           null,
           null,
           null,
           null,
           null,
           null,
           null,
           null,
           null,
           null,
           null,
           null,
           null,
           null,
           null,
           null,
           null,
           null,
           null,
           null,
           null,
           null,
           null,
           null,
           null,
           null,
           null,
           null,
           null,
           null,
           null,
           null,
           null,
           null,
           null,
           null,
           null,
           null,
           null,
           null,
           null,
           null,
           null,
           null,
           null,
           null,
           null,
           null,
           null,
           null,
           null,
           null,
           null,
           null,
           null,
           null,
           null,
           null,
           null,
           null,
           null,
           null,
           null,
           null,
           null,
           null,
           null,
           null,
           null,
           null,
           null,
           null,
           null,
           null,
           null,
           null,
           null,
           null,
           null,
           null,
           null,
           null,
           null,
           null,
           null,
           null,
           null,
           null,
           null,
           null,
           null,
           null,
           null,
           null,
           null,
           null,
           null,
           null,
           null,
           null,
           null,
           null,
           null,
           null,
           null,
           null,
           null,
           null,
           null,
           null,
           null,
           null,
           null,
           null,
           null,
           null,
           null,
           null,
           null,
           null,
           null,
           null,
           null,
           null,
           null,
           null,
           null,
           null,
           null,
           null,
           null,
           null,
           null,
           null,
           null,
           null,
           null,
           null,
           null,
           null,
           null,
           null,
           null,
           null,
           null,
           null,
           null,
           null,
           null,
           null,
           null,
           null,
           null,
           null,
           null,
           null,
           null,
           null,
           null,
           null,
           null,
           null,
           null,
           null,
           null,
           null,
           null,
           null,
           null,
           null,
           null,
           null,
           null,
           null,
           null,
           null,
           null,
           null,
           null,
           null,
           null,
           null,
           null,
           null,
           null,
           null,
           null,
           null,
           null,
           null,
           null,
           null,
           null,
           null,
           null,
           null,
           null,
           null,
           null,
           null,
           null,
           null,
           null,
           null,
           null,
           null,
           null,
           null,
           null,
           null,
           null,
           null,
           null,
           null,
           null,
           null,
           null,
           null,
           null,
           null,
           null,
           null,
           null,
           null,
           null,
           null,
           null,
           null,
           null,
           null,
           null,
           null,
           null,
           null,
           null,
           null,
           null,
           null,
           null,
           null,
           null,
           null,
           null,
           null,
           null,
           null,
           null,
           null,
           null,
           null,
           null,
           null,
           null,
           null,
           null,
           null,
           null,
           null,
           null,
           null,
           null,
           null,
           null,
           null,
           null,
           null,
           null,
           null,
           null,
           null,
           null,
           null,
           null,
           null,
           null,
           null,
           null,
           null,
           null,
           null,
           null,
           null,
           null,
           null,
           null,
           null,
           null,
           null,
           null,
           null,
           null,
           null,
           null,
           null,
           null,
           null,
           null,
           null,
           null,
           null,
           null,
           null,
           null,
           null,
           null,
           null,
           null,
           null,
           null,
           null,
           null,
           null,
           null,
           null,
           null,
           null,
           null,
           null,
           null,
           null,
           null,
           null,
           null,
           null,
           null,
           null,
           null,
           null,
           null,
           null,
           null,
           null,
           null,
           null,
           null,
           null,
           null,
           null,
           null,
           null,
           null,
           null,
           null,
           null,
           null,
           null,
           null,
           null,
           null,
           null,
           "royalblue",
           "royalblue",
           "royalblue",
           "royalblue",
           "royalblue",
           "royalblue",
           "royalblue",
           "royalblue",
           "royalblue",
           "royalblue",
           "royalblue",
           "royalblue",
           "royalblue",
           "royalblue",
           "royalblue",
           "royalblue",
           "royalblue",
           "royalblue",
           "royalblue",
           "royalblue",
           "royalblue",
           "royalblue",
           "royalblue",
           "royalblue",
           "royalblue",
           "royalblue",
           "royalblue",
           "royalblue",
           "royalblue",
           "royalblue",
           "royalblue",
           "royalblue"
          ],
          "line": {
           "color": "gray",
           "width": 0.5
          },
          "opacity": 0.7,
          "size": {
           "bdata": "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",
           "dtype": "f8"
          },
          "sizeref": 1,
          "symbol": "circle"
         },
         "mode": "markers",
         "name": "",
         "showlegend": false,
         "type": "scattergeo"
        }
       ],
       "layout": {
        "geo": {
         "center": {},
         "coastlinecolor": "darkgray",
         "countrycolor": "gray",
         "domain": {
          "x": [
           0,
           1
          ],
          "y": [
           0,
           1
          ]
         },
         "landcolor": "lightgray",
         "lataxis": {
          "range": [
           -55,
           15
          ]
         },
         "lonaxis": {
          "range": [
           -90,
           -25
          ]
         },
         "oceancolor": "lightblue",
         "projection": {
          "type": "natural earth"
         },
         "scope": "south america",
         "showcoastlines": true,
         "showcountries": true,
         "showland": true,
         "showocean": true
        },
        "height": 600,
        "legend": {
         "tracegroupgap": 0
        },
        "margin": {
         "b": 0,
         "l": 0,
         "r": 0,
         "t": 40
        },
        "template": {
         "data": {
          "bar": [
           {
            "error_x": {
             "color": "#2a3f5f"
            },
            "error_y": {
             "color": "#2a3f5f"
            },
            "marker": {
             "line": {
              "color": "white",
              "width": 0.5
             },
             "pattern": {
              "fillmode": "overlay",
              "size": 10,
              "solidity": 0.2
             }
            },
            "type": "bar"
           }
          ],
          "barpolar": [
           {
            "marker": {
             "line": {
              "color": "white",
              "width": 0.5
             },
             "pattern": {
              "fillmode": "overlay",
              "size": 10,
              "solidity": 0.2
             }
            },
            "type": "barpolar"
           }
          ],
          "carpet": [
           {
            "aaxis": {
             "endlinecolor": "#2a3f5f",
             "gridcolor": "#C8D4E3",
             "linecolor": "#C8D4E3",
             "minorgridcolor": "#C8D4E3",
             "startlinecolor": "#2a3f5f"
            },
            "baxis": {
             "endlinecolor": "#2a3f5f",
             "gridcolor": "#C8D4E3",
             "linecolor": "#C8D4E3",
             "minorgridcolor": "#C8D4E3",
             "startlinecolor": "#2a3f5f"
            },
            "type": "carpet"
           }
          ],
          "choropleth": [
           {
            "colorbar": {
             "outlinewidth": 0,
             "ticks": ""
            },
            "type": "choropleth"
           }
          ],
          "contour": [
           {
            "colorbar": {
             "outlinewidth": 0,
             "ticks": ""
            },
            "colorscale": [
             [
              0,
              "#0d0887"
             ],
             [
              0.1111111111111111,
              "#46039f"
             ],
             [
              0.2222222222222222,
              "#7201a8"
             ],
             [
              0.3333333333333333,
              "#9c179e"
             ],
             [
              0.4444444444444444,
              "#bd3786"
             ],
             [
              0.5555555555555556,
              "#d8576b"
             ],
             [
              0.6666666666666666,
              "#ed7953"
             ],
             [
              0.7777777777777778,
              "#fb9f3a"
             ],
             [
              0.8888888888888888,
              "#fdca26"
             ],
             [
              1,
              "#f0f921"
             ]
            ],
            "type": "contour"
           }
          ],
          "contourcarpet": [
           {
            "colorbar": {
             "outlinewidth": 0,
             "ticks": ""
            },
            "type": "contourcarpet"
           }
          ],
          "heatmap": [
           {
            "colorbar": {
             "outlinewidth": 0,
             "ticks": ""
            },
            "colorscale": [
             [
              0,
              "#0d0887"
             ],
             [
              0.1111111111111111,
              "#46039f"
             ],
             [
              0.2222222222222222,
              "#7201a8"
             ],
             [
              0.3333333333333333,
              "#9c179e"
             ],
             [
              0.4444444444444444,
              "#bd3786"
             ],
             [
              0.5555555555555556,
              "#d8576b"
             ],
             [
              0.6666666666666666,
              "#ed7953"
             ],
             [
              0.7777777777777778,
              "#fb9f3a"
             ],
             [
              0.8888888888888888,
              "#fdca26"
             ],
             [
              1,
              "#f0f921"
             ]
            ],
            "type": "heatmap"
           }
          ],
          "histogram": [
           {
            "marker": {
             "pattern": {
              "fillmode": "overlay",
              "size": 10,
              "solidity": 0.2
             }
            },
            "type": "histogram"
           }
          ],
          "histogram2d": [
           {
            "colorbar": {
             "outlinewidth": 0,
             "ticks": ""
            },
            "colorscale": [
             [
              0,
              "#0d0887"
             ],
             [
              0.1111111111111111,
              "#46039f"
             ],
             [
              0.2222222222222222,
              "#7201a8"
             ],
             [
              0.3333333333333333,
              "#9c179e"
             ],
             [
              0.4444444444444444,
              "#bd3786"
             ],
             [
              0.5555555555555556,
              "#d8576b"
             ],
             [
              0.6666666666666666,
              "#ed7953"
             ],
             [
              0.7777777777777778,
              "#fb9f3a"
             ],
             [
              0.8888888888888888,
              "#fdca26"
             ],
             [
              1,
              "#f0f921"
             ]
            ],
            "type": "histogram2d"
           }
          ],
          "histogram2dcontour": [
           {
            "colorbar": {
             "outlinewidth": 0,
             "ticks": ""
            },
            "colorscale": [
             [
              0,
              "#0d0887"
             ],
             [
              0.1111111111111111,
              "#46039f"
             ],
             [
              0.2222222222222222,
              "#7201a8"
             ],
             [
              0.3333333333333333,
              "#9c179e"
             ],
             [
              0.4444444444444444,
              "#bd3786"
             ],
             [
              0.5555555555555556,
              "#d8576b"
             ],
             [
              0.6666666666666666,
              "#ed7953"
             ],
             [
              0.7777777777777778,
              "#fb9f3a"
             ],
             [
              0.8888888888888888,
              "#fdca26"
             ],
             [
              1,
              "#f0f921"
             ]
            ],
            "type": "histogram2dcontour"
           }
          ],
          "mesh3d": [
           {
            "colorbar": {
             "outlinewidth": 0,
             "ticks": ""
            },
            "type": "mesh3d"
           }
          ],
          "parcoords": [
           {
            "line": {
             "colorbar": {
              "outlinewidth": 0,
              "ticks": ""
             }
            },
            "type": "parcoords"
           }
          ],
          "pie": [
           {
            "automargin": true,
            "type": "pie"
           }
          ],
          "scatter": [
           {
            "fillpattern": {
             "fillmode": "overlay",
             "size": 10,
             "solidity": 0.2
            },
            "type": "scatter"
           }
          ],
          "scatter3d": [
           {
            "line": {
             "colorbar": {
              "outlinewidth": 0,
              "ticks": ""
             }
            },
            "marker": {
             "colorbar": {
              "outlinewidth": 0,
              "ticks": ""
             }
            },
            "type": "scatter3d"
           }
          ],
          "scattercarpet": [
           {
            "marker": {
             "colorbar": {
              "outlinewidth": 0,
              "ticks": ""
             }
            },
            "type": "scattercarpet"
           }
          ],
          "scattergeo": [
           {
            "marker": {
             "colorbar": {
              "outlinewidth": 0,
              "ticks": ""
             }
            },
            "type": "scattergeo"
           }
          ],
          "scattergl": [
           {
            "marker": {
             "colorbar": {
              "outlinewidth": 0,
              "ticks": ""
             }
            },
            "type": "scattergl"
           }
          ],
          "scattermap": [
           {
            "marker": {
             "colorbar": {
              "outlinewidth": 0,
              "ticks": ""
             }
            },
            "type": "scattermap"
           }
          ],
          "scattermapbox": [
           {
            "marker": {
             "colorbar": {
              "outlinewidth": 0,
              "ticks": ""
             }
            },
            "type": "scattermapbox"
           }
          ],
          "scatterpolar": [
           {
            "marker": {
             "colorbar": {
              "outlinewidth": 0,
              "ticks": ""
             }
            },
            "type": "scatterpolar"
           }
          ],
          "scatterpolargl": [
           {
            "marker": {
             "colorbar": {
              "outlinewidth": 0,
              "ticks": ""
             }
            },
            "type": "scatterpolargl"
           }
          ],
          "scatterternary": [
           {
            "marker": {
             "colorbar": {
              "outlinewidth": 0,
              "ticks": ""
             }
            },
            "type": "scatterternary"
           }
          ],
          "surface": [
           {
            "colorbar": {
             "outlinewidth": 0,
             "ticks": ""
            },
            "colorscale": [
             [
              0,
              "#0d0887"
             ],
             [
              0.1111111111111111,
              "#46039f"
             ],
             [
              0.2222222222222222,
              "#7201a8"
             ],
             [
              0.3333333333333333,
              "#9c179e"
             ],
             [
              0.4444444444444444,
              "#bd3786"
             ],
             [
              0.5555555555555556,
              "#d8576b"
             ],
             [
              0.6666666666666666,
              "#ed7953"
             ],
             [
              0.7777777777777778,
              "#fb9f3a"
             ],
             [
              0.8888888888888888,
              "#fdca26"
             ],
             [
              1,
              "#f0f921"
             ]
            ],
            "type": "surface"
           }
          ],
          "table": [
           {
            "cells": {
             "fill": {
              "color": "#EBF0F8"
             },
             "line": {
              "color": "white"
             }
            },
            "header": {
             "fill": {
              "color": "#C8D4E3"
             },
             "line": {
              "color": "white"
             }
            },
            "type": "table"
           }
          ]
         },
         "layout": {
          "annotationdefaults": {
           "arrowcolor": "#2a3f5f",
           "arrowhead": 0,
           "arrowwidth": 1
          },
          "autotypenumbers": "strict",
          "coloraxis": {
           "colorbar": {
            "outlinewidth": 0,
            "ticks": ""
           }
          },
          "colorscale": {
           "diverging": [
            [
             0,
             "#8e0152"
            ],
            [
             0.1,
             "#c51b7d"
            ],
            [
             0.2,
             "#de77ae"
            ],
            [
             0.3,
             "#f1b6da"
            ],
            [
             0.4,
             "#fde0ef"
            ],
            [
             0.5,
             "#f7f7f7"
            ],
            [
             0.6,
             "#e6f5d0"
            ],
            [
             0.7,
             "#b8e186"
            ],
            [
             0.8,
             "#7fbc41"
            ],
            [
             0.9,
             "#4d9221"
            ],
            [
             1,
             "#276419"
            ]
           ],
           "sequential": [
            [
             0,
             "#0d0887"
            ],
            [
             0.1111111111111111,
             "#46039f"
            ],
            [
             0.2222222222222222,
             "#7201a8"
            ],
            [
             0.3333333333333333,
             "#9c179e"
            ],
            [
             0.4444444444444444,
             "#bd3786"
            ],
            [
             0.5555555555555556,
             "#d8576b"
            ],
            [
             0.6666666666666666,
             "#ed7953"
            ],
            [
             0.7777777777777778,
             "#fb9f3a"
            ],
            [
             0.8888888888888888,
             "#fdca26"
            ],
            [
             1,
             "#f0f921"
            ]
           ],
           "sequentialminus": [
            [
             0,
             "#0d0887"
            ],
            [
             0.1111111111111111,
             "#46039f"
            ],
            [
             0.2222222222222222,
             "#7201a8"
            ],
            [
             0.3333333333333333,
             "#9c179e"
            ],
            [
             0.4444444444444444,
             "#bd3786"
            ],
            [
             0.5555555555555556,
             "#d8576b"
            ],
            [
             0.6666666666666666,
             "#ed7953"
            ],
            [
             0.7777777777777778,
             "#fb9f3a"
            ],
            [
             0.8888888888888888,
             "#fdca26"
            ],
            [
             1,
             "#f0f921"
            ]
           ]
          },
          "colorway": [
           "#636efa",
           "#EF553B",
           "#00cc96",
           "#ab63fa",
           "#FFA15A",
           "#19d3f3",
           "#FF6692",
           "#B6E880",
           "#FF97FF",
           "#FECB52"
          ],
          "font": {
           "color": "#2a3f5f"
          },
          "geo": {
           "bgcolor": "white",
           "lakecolor": "white",
           "landcolor": "white",
           "showlakes": true,
           "showland": true,
           "subunitcolor": "#C8D4E3"
          },
          "hoverlabel": {
           "align": "left"
          },
          "hovermode": "closest",
          "mapbox": {
           "style": "light"
          },
          "paper_bgcolor": "white",
          "plot_bgcolor": "white",
          "polar": {
           "angularaxis": {
            "gridcolor": "#EBF0F8",
            "linecolor": "#EBF0F8",
            "ticks": ""
           },
           "bgcolor": "white",
           "radialaxis": {
            "gridcolor": "#EBF0F8",
            "linecolor": "#EBF0F8",
            "ticks": ""
           }
          },
          "scene": {
           "xaxis": {
            "backgroundcolor": "white",
            "gridcolor": "#DFE8F3",
            "gridwidth": 2,
            "linecolor": "#EBF0F8",
            "showbackground": true,
            "ticks": "",
            "zerolinecolor": "#EBF0F8"
           },
           "yaxis": {
            "backgroundcolor": "white",
            "gridcolor": "#DFE8F3",
            "gridwidth": 2,
            "linecolor": "#EBF0F8",
            "showbackground": true,
            "ticks": "",
            "zerolinecolor": "#EBF0F8"
           },
           "zaxis": {
            "backgroundcolor": "white",
            "gridcolor": "#DFE8F3",
            "gridwidth": 2,
            "linecolor": "#EBF0F8",
            "showbackground": true,
            "ticks": "",
            "zerolinecolor": "#EBF0F8"
           }
          },
          "shapedefaults": {
           "line": {
            "color": "#2a3f5f"
           }
          },
          "ternary": {
           "aaxis": {
            "gridcolor": "#DFE8F3",
            "linecolor": "#A2B1C6",
            "ticks": ""
           },
           "baxis": {
            "gridcolor": "#DFE8F3",
            "linecolor": "#A2B1C6",
            "ticks": ""
           },
           "bgcolor": "white",
           "caxis": {
            "gridcolor": "#DFE8F3",
            "linecolor": "#A2B1C6",
            "ticks": ""
           }
          },
          "title": {
           "x": 0.05
          },
          "xaxis": {
           "automargin": true,
           "gridcolor": "#EBF0F8",
           "linecolor": "#EBF0F8",
           "ticks": "",
           "title": {
            "standoff": 15
           },
           "zerolinecolor": "#EBF0F8",
           "zerolinewidth": 2
          },
          "yaxis": {
           "automargin": true,
           "gridcolor": "#EBF0F8",
           "linecolor": "#EBF0F8",
           "ticks": "",
           "title": {
            "standoff": 15
           },
           "zerolinecolor": "#EBF0F8",
           "zerolinewidth": 2
          }
         }
        },
        "title": {
         "font": {
          "size": 20
         },
         "text": "Chilean Earthquakes",
         "x": 0.5,
         "xanchor": "center"
        }
       }
      }
     },
     "metadata": {},
     "output_type": "display_data"
    }
   ],
   "source": [
    "import plotly.express as px\n",
    "import pandas as pd\n",
    "\n",
    "df = pd.read_csv('Result.csv')\n",
    "#scale = 2\n",
    "df['text'] = 'Ciudad: ' + df['City'] + ',\\n Number of Quakes: ' + (df['Count_Quakes']).astype(str) + ',\\n Magnitude of Quakes: ' + (df['Magnitude_Mean']).astype(str)\n",
    "# Assuming df has columns: Longitude, Latitude\n",
    "fig = px.scatter_geo(df,\n",
    "    lon=\"Longitude\",\n",
    "    lat=\"Latitude\",\n",
    "    scope=\"south america\",  # sets projection region\n",
    "    projection=\"natural earth\",\n",
    "    hover_data={'Longitude':False,'Latitude':False,'text':True}\n",
    ")\n",
    "# Style the markers\n",
    "fig.update_traces(\n",
    "    marker=dict(size=df['Magnitude_Mean'], color=df[\"IsPrediction\"], \n",
    "                opacity=0.7, line=dict(width=0.5, color=\"gray\"))\n",
    ")\n",
    "\n",
    "# Map aesthetics\n",
    "fig.update_geos(\n",
    "    showcountries=True, countrycolor=\"gray\",\n",
    "    showland=True, landcolor=\"lightgray\",\n",
    "    showocean=True, oceancolor=\"lightblue\",\n",
    "    showcoastlines=True, coastlinecolor=\"darkgray\",\n",
    "    lataxis=dict(range=[-55, 15]),\n",
    "    lonaxis=dict(range=[-90, -25]),\n",
    ")\n",
    "\n",
    "# Layout polish\n",
    "fig.update_layout(\n",
    "    title=dict(\n",
    "        text=\"Chilean Earthquakes\",\n",
    "        x=0.5, xanchor=\"center\",\n",
    "        font=dict(size=20)\n",
    "    ),\n",
    "    margin=dict(l=0, r=0, t=40, b=0),\n",
    "    height=600,\n",
    "    template=\"plotly_white\"\n",
    ")\n",
    "\n",
    "fig.show()"
   ]
  },
  {
   "cell_type": "code",
   "execution_count": null,
   "id": "62bf62ba",
   "metadata": {},
   "outputs": [],
   "source": [
    "\n"
   ]
  }
 ],
 "metadata": {
  "kernelspec": {
   "display_name": "dash1",
   "language": "python",
   "name": "python3"
  },
  "language_info": {
   "codemirror_mode": {
    "name": "ipython",
    "version": 3
   },
   "file_extension": ".py",
   "mimetype": "text/x-python",
   "name": "python",
   "nbconvert_exporter": "python",
   "pygments_lexer": "ipython3",
   "version": "3.12.7"
  }
 },
 "nbformat": 4,
 "nbformat_minor": 5
}
